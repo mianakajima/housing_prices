{
 "cells": [
  {
   "cell_type": "markdown",
   "id": "deb9c79f-9f4e-4039-907f-91550cc6a182",
   "metadata": {},
   "source": [
    "# 08_Modeling: Tune the Random Forest Model after Feature Engineering, try XGBoost and Neural Networks\n",
    "\n",
    "Date: 2022-06-14"
   ]
  },
  {
   "cell_type": "markdown",
   "id": "29caaec5-8c21-49f7-bd20-9c33c6304675",
   "metadata": {},
   "source": [
    "## Prep Data"
   ]
  },
  {
   "cell_type": "code",
   "execution_count": 227,
   "id": "26acb3cb-f372-4111-af9e-4d6f11af81c9",
   "metadata": {},
   "outputs": [],
   "source": [
    "import os\n",
    "#os.chdir('..')\n",
    "import pandas as pd\n",
    "import numpy as np\n",
    "from sklearn.metrics import mean_squared_error\n",
    "import plotly.express as px\n",
    "import joblib\n",
    "import matplotlib.pyplot as plt\n",
    "import time"
   ]
  },
  {
   "cell_type": "code",
   "execution_count": 26,
   "id": "419e5e76-ea84-46e2-a8c4-d5dc84c2afab",
   "metadata": {},
   "outputs": [],
   "source": [
    "# set seed \n",
    "np.random.seed(42)\n",
    "\n",
    "# read in data sets\n",
    "training_cleaned = pd.read_pickle('cleaned_data/training_cleaned.pkl')\n",
    "training_prices = pd.read_pickle('cleaned_data/training_prices.pkl')\n",
    "test_orig = pd.read_csv('data/test.csv')\n",
    "test = pd.read_pickle('cleaned_data/test_cleaned.pkl')"
   ]
  },
  {
   "cell_type": "code",
   "execution_count": 27,
   "id": "3e84ae0b-6686-462d-ba32-f1749f795c41",
   "metadata": {},
   "outputs": [],
   "source": [
    "X = training_cleaned.copy()\n",
    "\n",
    "#log transform the prices\n",
    "y = np.log10(training_prices)"
   ]
  },
  {
   "cell_type": "code",
   "execution_count": 28,
   "id": "da7b208f-40a9-4629-b6ef-0b6792b8c5ac",
   "metadata": {},
   "outputs": [
    {
     "data": {
      "text/plain": [
       "(1460, 303)"
      ]
     },
     "execution_count": 28,
     "metadata": {},
     "output_type": "execute_result"
    }
   ],
   "source": [
    "X.shape"
   ]
  },
  {
   "cell_type": "markdown",
   "id": "77a288ab-c348-4ba8-a8f5-374a7541d163",
   "metadata": {},
   "source": [
    "## Random Forest Regression"
   ]
  },
  {
   "cell_type": "code",
   "execution_count": 29,
   "id": "e13894f3-1522-4cb6-a49e-37363a6a85d6",
   "metadata": {},
   "outputs": [],
   "source": [
    "from sklearn.model_selection import GridSearchCV\n",
    "from sklearn.ensemble import RandomForestRegressor\n",
    "from sklearn.model_selection import cross_val_score"
   ]
  },
  {
   "cell_type": "code",
   "execution_count": 30,
   "id": "7c31cacf-d597-4d12-ae22-1152b4837482",
   "metadata": {},
   "outputs": [
    {
     "data": {
      "text/plain": [
       "['Results/models/rf_baseline_feng.sav']"
      ]
     },
     "execution_count": 30,
     "metadata": {},
     "output_type": "execute_result"
    }
   ],
   "source": [
    "# create baseline model \n",
    "forest_reg = RandomForestRegressor(random_state = 42)\n",
    "# cross validation \n",
    "scores = cross_val_score(forest_reg, X, y, scoring = \"neg_mean_squared_error\", cv = 3)\n",
    "rf_rmse_scores = np.sqrt(-scores)\n",
    "baseline_rmse = rf_rmse_scores.mean()\n",
    "baseline_rmse\n",
    "\n",
    "#save model \n",
    "joblib.dump(forest_reg, 'Results/models/rf_baseline_feng.sav')"
   ]
  },
  {
   "cell_type": "code",
   "execution_count": 31,
   "id": "97104b74-c320-4621-847f-1416482e877e",
   "metadata": {},
   "outputs": [
    {
     "data": {
      "text/plain": [
       "0.061669998364828706"
      ]
     },
     "execution_count": 31,
     "metadata": {},
     "output_type": "execute_result"
    }
   ],
   "source": [
    "baseline_rmse"
   ]
  },
  {
   "cell_type": "code",
   "execution_count": 32,
   "id": "53126cb6-618b-47ac-9116-53a0f9245eaf",
   "metadata": {},
   "outputs": [
    {
     "data": {
      "text/plain": [
       "{'bootstrap': True,\n",
       " 'ccp_alpha': 0.0,\n",
       " 'criterion': 'mse',\n",
       " 'max_depth': None,\n",
       " 'max_features': 'auto',\n",
       " 'max_leaf_nodes': None,\n",
       " 'max_samples': None,\n",
       " 'min_impurity_decrease': 0.0,\n",
       " 'min_impurity_split': None,\n",
       " 'min_samples_leaf': 1,\n",
       " 'min_samples_split': 2,\n",
       " 'min_weight_fraction_leaf': 0.0,\n",
       " 'n_estimators': 100,\n",
       " 'n_jobs': None,\n",
       " 'oob_score': False,\n",
       " 'random_state': 42,\n",
       " 'verbose': 0,\n",
       " 'warm_start': False}"
      ]
     },
     "execution_count": 32,
     "metadata": {},
     "output_type": "execute_result"
    }
   ],
   "source": [
    "# see what are default parameters\n",
    "forest_reg.get_params()"
   ]
  },
  {
   "cell_type": "code",
   "execution_count": 33,
   "id": "ff419469-1385-480b-b9fe-32da5908cc96",
   "metadata": {},
   "outputs": [
    {
     "name": "stdout",
     "output_type": "stream",
     "text": [
      "Fitting 3 folds for each of 72 candidates, totalling 216 fits\n",
      "[CV 1/3] END bootstrap=True, max_features=5, min_samples_split=2, n_estimators=5;, score=(train=-0.002, test=-0.007) total time=   0.0s\n",
      "[CV 2/3] END bootstrap=True, max_features=5, min_samples_split=2, n_estimators=5;, score=(train=-0.002, test=-0.008) total time=   0.1s\n",
      "[CV 3/3] END bootstrap=True, max_features=5, min_samples_split=2, n_estimators=5;, score=(train=-0.002, test=-0.007) total time=   0.0s\n",
      "[CV 1/3] END bootstrap=True, max_features=5, min_samples_split=2, n_estimators=10;, score=(train=-0.001, test=-0.005) total time=   0.0s\n",
      "[CV 2/3] END bootstrap=True, max_features=5, min_samples_split=2, n_estimators=10;, score=(train=-0.001, test=-0.007) total time=   0.0s\n",
      "[CV 3/3] END bootstrap=True, max_features=5, min_samples_split=2, n_estimators=10;, score=(train=-0.001, test=-0.006) total time=   0.1s\n",
      "[CV 1/3] END bootstrap=True, max_features=5, min_samples_split=2, n_estimators=100;, score=(train=-0.001, test=-0.004) total time=   0.3s\n",
      "[CV 2/3] END bootstrap=True, max_features=5, min_samples_split=2, n_estimators=100;, score=(train=-0.001, test=-0.006) total time=   0.3s\n",
      "[CV 3/3] END bootstrap=True, max_features=5, min_samples_split=2, n_estimators=100;, score=(train=-0.001, test=-0.004) total time=   0.3s\n",
      "[CV 1/3] END bootstrap=True, max_features=5, min_samples_split=2, n_estimators=400;, score=(train=-0.001, test=-0.004) total time=   1.0s\n",
      "[CV 2/3] END bootstrap=True, max_features=5, min_samples_split=2, n_estimators=400;, score=(train=-0.001, test=-0.006) total time=   1.0s\n",
      "[CV 3/3] END bootstrap=True, max_features=5, min_samples_split=2, n_estimators=400;, score=(train=-0.001, test=-0.004) total time=   1.0s\n",
      "[CV 1/3] END bootstrap=True, max_features=5, min_samples_split=5, n_estimators=5;, score=(train=-0.003, test=-0.007) total time=   0.0s\n",
      "[CV 2/3] END bootstrap=True, max_features=5, min_samples_split=5, n_estimators=5;, score=(train=-0.003, test=-0.008) total time=   0.0s\n",
      "[CV 3/3] END bootstrap=True, max_features=5, min_samples_split=5, n_estimators=5;, score=(train=-0.003, test=-0.007) total time=   0.0s\n",
      "[CV 1/3] END bootstrap=True, max_features=5, min_samples_split=5, n_estimators=10;, score=(train=-0.002, test=-0.006) total time=   0.0s\n",
      "[CV 2/3] END bootstrap=True, max_features=5, min_samples_split=5, n_estimators=10;, score=(train=-0.002, test=-0.007) total time=   0.0s\n",
      "[CV 3/3] END bootstrap=True, max_features=5, min_samples_split=5, n_estimators=10;, score=(train=-0.003, test=-0.005) total time=   0.0s\n",
      "[CV 1/3] END bootstrap=True, max_features=5, min_samples_split=5, n_estimators=100;, score=(train=-0.002, test=-0.005) total time=   0.2s\n",
      "[CV 2/3] END bootstrap=True, max_features=5, min_samples_split=5, n_estimators=100;, score=(train=-0.002, test=-0.006) total time=   0.2s\n",
      "[CV 3/3] END bootstrap=True, max_features=5, min_samples_split=5, n_estimators=100;, score=(train=-0.002, test=-0.004) total time=   0.2s\n",
      "[CV 1/3] END bootstrap=True, max_features=5, min_samples_split=5, n_estimators=400;, score=(train=-0.002, test=-0.004) total time=   0.8s\n",
      "[CV 2/3] END bootstrap=True, max_features=5, min_samples_split=5, n_estimators=400;, score=(train=-0.002, test=-0.006) total time=   0.8s\n",
      "[CV 3/3] END bootstrap=True, max_features=5, min_samples_split=5, n_estimators=400;, score=(train=-0.002, test=-0.004) total time=   0.8s\n",
      "[CV 1/3] END bootstrap=True, max_features=5, min_samples_split=8, n_estimators=5;, score=(train=-0.004, test=-0.007) total time=   0.0s\n",
      "[CV 2/3] END bootstrap=True, max_features=5, min_samples_split=8, n_estimators=5;, score=(train=-0.003, test=-0.008) total time=   0.0s\n",
      "[CV 3/3] END bootstrap=True, max_features=5, min_samples_split=8, n_estimators=5;, score=(train=-0.004, test=-0.007) total time=   0.0s\n",
      "[CV 1/3] END bootstrap=True, max_features=5, min_samples_split=8, n_estimators=10;, score=(train=-0.003, test=-0.006) total time=   0.0s\n",
      "[CV 2/3] END bootstrap=True, max_features=5, min_samples_split=8, n_estimators=10;, score=(train=-0.003, test=-0.007) total time=   0.0s\n",
      "[CV 3/3] END bootstrap=True, max_features=5, min_samples_split=8, n_estimators=10;, score=(train=-0.003, test=-0.006) total time=   0.0s\n",
      "[CV 1/3] END bootstrap=True, max_features=5, min_samples_split=8, n_estimators=100;, score=(train=-0.003, test=-0.005) total time=   0.2s\n",
      "[CV 2/3] END bootstrap=True, max_features=5, min_samples_split=8, n_estimators=100;, score=(train=-0.002, test=-0.006) total time=   0.2s\n",
      "[CV 3/3] END bootstrap=True, max_features=5, min_samples_split=8, n_estimators=100;, score=(train=-0.003, test=-0.004) total time=   0.2s\n",
      "[CV 1/3] END bootstrap=True, max_features=5, min_samples_split=8, n_estimators=400;, score=(train=-0.002, test=-0.005) total time=   0.8s\n",
      "[CV 2/3] END bootstrap=True, max_features=5, min_samples_split=8, n_estimators=400;, score=(train=-0.002, test=-0.006) total time=   0.7s\n",
      "[CV 3/3] END bootstrap=True, max_features=5, min_samples_split=8, n_estimators=400;, score=(train=-0.002, test=-0.004) total time=   0.8s\n",
      "[CV 1/3] END bootstrap=True, max_features=20, min_samples_split=2, n_estimators=5;, score=(train=-0.002, test=-0.005) total time=   0.0s\n",
      "[CV 2/3] END bootstrap=True, max_features=20, min_samples_split=2, n_estimators=5;, score=(train=-0.001, test=-0.006) total time=   0.0s\n",
      "[CV 3/3] END bootstrap=True, max_features=20, min_samples_split=2, n_estimators=5;, score=(train=-0.002, test=-0.005) total time=   0.0s\n",
      "[CV 1/3] END bootstrap=True, max_features=20, min_samples_split=2, n_estimators=10;, score=(train=-0.001, test=-0.004) total time=   0.0s\n",
      "[CV 2/3] END bootstrap=True, max_features=20, min_samples_split=2, n_estimators=10;, score=(train=-0.001, test=-0.005) total time=   0.0s\n",
      "[CV 3/3] END bootstrap=True, max_features=20, min_samples_split=2, n_estimators=10;, score=(train=-0.001, test=-0.004) total time=   0.1s\n",
      "[CV 1/3] END bootstrap=True, max_features=20, min_samples_split=2, n_estimators=100;, score=(train=-0.001, test=-0.003) total time=   0.3s\n",
      "[CV 2/3] END bootstrap=True, max_features=20, min_samples_split=2, n_estimators=100;, score=(train=-0.001, test=-0.005) total time=   0.3s\n",
      "[CV 3/3] END bootstrap=True, max_features=20, min_samples_split=2, n_estimators=100;, score=(train=-0.001, test=-0.003) total time=   0.4s\n",
      "[CV 1/3] END bootstrap=True, max_features=20, min_samples_split=2, n_estimators=400;, score=(train=-0.001, test=-0.003) total time=   1.4s\n",
      "[CV 2/3] END bootstrap=True, max_features=20, min_samples_split=2, n_estimators=400;, score=(train=-0.000, test=-0.005) total time=   1.3s\n",
      "[CV 3/3] END bootstrap=True, max_features=20, min_samples_split=2, n_estimators=400;, score=(train=-0.001, test=-0.003) total time=   1.4s\n",
      "[CV 1/3] END bootstrap=True, max_features=20, min_samples_split=5, n_estimators=5;, score=(train=-0.002, test=-0.005) total time=   0.0s\n",
      "[CV 2/3] END bootstrap=True, max_features=20, min_samples_split=5, n_estimators=5;, score=(train=-0.002, test=-0.006) total time=   0.0s\n",
      "[CV 3/3] END bootstrap=True, max_features=20, min_samples_split=5, n_estimators=5;, score=(train=-0.002, test=-0.005) total time=   0.0s\n",
      "[CV 1/3] END bootstrap=True, max_features=20, min_samples_split=5, n_estimators=10;, score=(train=-0.001, test=-0.004) total time=   0.0s\n",
      "[CV 2/3] END bootstrap=True, max_features=20, min_samples_split=5, n_estimators=10;, score=(train=-0.001, test=-0.005) total time=   0.0s\n",
      "[CV 3/3] END bootstrap=True, max_features=20, min_samples_split=5, n_estimators=10;, score=(train=-0.001, test=-0.004) total time=   0.0s\n",
      "[CV 1/3] END bootstrap=True, max_features=20, min_samples_split=5, n_estimators=100;, score=(train=-0.001, test=-0.003) total time=   0.3s\n",
      "[CV 2/3] END bootstrap=True, max_features=20, min_samples_split=5, n_estimators=100;, score=(train=-0.001, test=-0.005) total time=   0.3s\n",
      "[CV 3/3] END bootstrap=True, max_features=20, min_samples_split=5, n_estimators=100;, score=(train=-0.001, test=-0.003) total time=   0.3s\n",
      "[CV 1/3] END bootstrap=True, max_features=20, min_samples_split=5, n_estimators=400;, score=(train=-0.001, test=-0.003) total time=   1.3s\n",
      "[CV 2/3] END bootstrap=True, max_features=20, min_samples_split=5, n_estimators=400;, score=(train=-0.001, test=-0.005) total time=   1.3s\n",
      "[CV 3/3] END bootstrap=True, max_features=20, min_samples_split=5, n_estimators=400;, score=(train=-0.001, test=-0.003) total time=   1.2s\n",
      "[CV 1/3] END bootstrap=True, max_features=20, min_samples_split=8, n_estimators=5;, score=(train=-0.002, test=-0.005) total time=   0.0s\n",
      "[CV 2/3] END bootstrap=True, max_features=20, min_samples_split=8, n_estimators=5;, score=(train=-0.002, test=-0.006) total time=   0.0s\n",
      "[CV 3/3] END bootstrap=True, max_features=20, min_samples_split=8, n_estimators=5;, score=(train=-0.002, test=-0.005) total time=   0.0s\n",
      "[CV 1/3] END bootstrap=True, max_features=20, min_samples_split=8, n_estimators=10;, score=(train=-0.002, test=-0.004) total time=   0.0s\n",
      "[CV 2/3] END bootstrap=True, max_features=20, min_samples_split=8, n_estimators=10;, score=(train=-0.002, test=-0.005) total time=   0.1s\n",
      "[CV 3/3] END bootstrap=True, max_features=20, min_samples_split=8, n_estimators=10;, score=(train=-0.002, test=-0.004) total time=   0.0s\n",
      "[CV 1/3] END bootstrap=True, max_features=20, min_samples_split=8, n_estimators=100;, score=(train=-0.001, test=-0.003) total time=   0.3s\n",
      "[CV 2/3] END bootstrap=True, max_features=20, min_samples_split=8, n_estimators=100;, score=(train=-0.001, test=-0.005) total time=   0.3s\n",
      "[CV 3/3] END bootstrap=True, max_features=20, min_samples_split=8, n_estimators=100;, score=(train=-0.001, test=-0.003) total time=   0.4s\n",
      "[CV 1/3] END bootstrap=True, max_features=20, min_samples_split=8, n_estimators=400;, score=(train=-0.001, test=-0.003) total time=   1.1s\n",
      "[CV 2/3] END bootstrap=True, max_features=20, min_samples_split=8, n_estimators=400;, score=(train=-0.001, test=-0.005) total time=   1.2s\n",
      "[CV 3/3] END bootstrap=True, max_features=20, min_samples_split=8, n_estimators=400;, score=(train=-0.001, test=-0.003) total time=   1.1s\n",
      "[CV 1/3] END bootstrap=True, max_features=auto, min_samples_split=2, n_estimators=5;, score=(train=-0.001, test=-0.004) total time=   0.1s\n",
      "[CV 2/3] END bootstrap=True, max_features=auto, min_samples_split=2, n_estimators=5;, score=(train=-0.001, test=-0.005) total time=   0.1s\n",
      "[CV 3/3] END bootstrap=True, max_features=auto, min_samples_split=2, n_estimators=5;, score=(train=-0.001, test=-0.004) total time=   0.1s\n",
      "[CV 1/3] END bootstrap=True, max_features=auto, min_samples_split=2, n_estimators=10;, score=(train=-0.001, test=-0.004) total time=   0.2s\n",
      "[CV 2/3] END bootstrap=True, max_features=auto, min_samples_split=2, n_estimators=10;, score=(train=-0.001, test=-0.005) total time=   0.2s\n",
      "[CV 3/3] END bootstrap=True, max_features=auto, min_samples_split=2, n_estimators=10;, score=(train=-0.001, test=-0.004) total time=   0.2s\n",
      "[CV 1/3] END bootstrap=True, max_features=auto, min_samples_split=2, n_estimators=100;, score=(train=-0.001, test=-0.004) total time=   1.9s\n",
      "[CV 2/3] END bootstrap=True, max_features=auto, min_samples_split=2, n_estimators=100;, score=(train=-0.001, test=-0.004) total time=   1.8s\n",
      "[CV 3/3] END bootstrap=True, max_features=auto, min_samples_split=2, n_estimators=100;, score=(train=-0.001, test=-0.003) total time=   1.9s\n",
      "[CV 1/3] END bootstrap=True, max_features=auto, min_samples_split=2, n_estimators=400;, score=(train=-0.001, test=-0.004) total time=   7.3s\n",
      "[CV 2/3] END bootstrap=True, max_features=auto, min_samples_split=2, n_estimators=400;, score=(train=-0.000, test=-0.004) total time=   7.4s\n",
      "[CV 3/3] END bootstrap=True, max_features=auto, min_samples_split=2, n_estimators=400;, score=(train=-0.001, test=-0.003) total time=   7.3s\n",
      "[CV 1/3] END bootstrap=True, max_features=auto, min_samples_split=5, n_estimators=5;, score=(train=-0.001, test=-0.004) total time=   0.1s\n",
      "[CV 2/3] END bootstrap=True, max_features=auto, min_samples_split=5, n_estimators=5;, score=(train=-0.001, test=-0.006) total time=   0.1s\n",
      "[CV 3/3] END bootstrap=True, max_features=auto, min_samples_split=5, n_estimators=5;, score=(train=-0.001, test=-0.005) total time=   0.1s\n",
      "[CV 1/3] END bootstrap=True, max_features=auto, min_samples_split=5, n_estimators=10;, score=(train=-0.001, test=-0.004) total time=   0.2s\n",
      "[CV 2/3] END bootstrap=True, max_features=auto, min_samples_split=5, n_estimators=10;, score=(train=-0.001, test=-0.005) total time=   0.2s\n",
      "[CV 3/3] END bootstrap=True, max_features=auto, min_samples_split=5, n_estimators=10;, score=(train=-0.001, test=-0.004) total time=   0.2s\n",
      "[CV 1/3] END bootstrap=True, max_features=auto, min_samples_split=5, n_estimators=100;, score=(train=-0.001, test=-0.004) total time=   1.6s\n",
      "[CV 2/3] END bootstrap=True, max_features=auto, min_samples_split=5, n_estimators=100;, score=(train=-0.001, test=-0.004) total time=   1.5s\n",
      "[CV 3/3] END bootstrap=True, max_features=auto, min_samples_split=5, n_estimators=100;, score=(train=-0.001, test=-0.003) total time=   1.6s\n",
      "[CV 1/3] END bootstrap=True, max_features=auto, min_samples_split=5, n_estimators=400;, score=(train=-0.001, test=-0.004) total time=   6.3s\n",
      "[CV 2/3] END bootstrap=True, max_features=auto, min_samples_split=5, n_estimators=400;, score=(train=-0.001, test=-0.004) total time=   6.3s\n",
      "[CV 3/3] END bootstrap=True, max_features=auto, min_samples_split=5, n_estimators=400;, score=(train=-0.001, test=-0.003) total time=   6.2s\n",
      "[CV 1/3] END bootstrap=True, max_features=auto, min_samples_split=8, n_estimators=5;, score=(train=-0.002, test=-0.004) total time=   0.1s\n",
      "[CV 2/3] END bootstrap=True, max_features=auto, min_samples_split=8, n_estimators=5;, score=(train=-0.001, test=-0.005) total time=   0.1s\n",
      "[CV 3/3] END bootstrap=True, max_features=auto, min_samples_split=8, n_estimators=5;, score=(train=-0.002, test=-0.004) total time=   0.1s\n",
      "[CV 1/3] END bootstrap=True, max_features=auto, min_samples_split=8, n_estimators=10;, score=(train=-0.001, test=-0.004) total time=   0.1s\n",
      "[CV 2/3] END bootstrap=True, max_features=auto, min_samples_split=8, n_estimators=10;, score=(train=-0.001, test=-0.005) total time=   0.2s\n",
      "[CV 3/3] END bootstrap=True, max_features=auto, min_samples_split=8, n_estimators=10;, score=(train=-0.001, test=-0.004) total time=   0.2s\n",
      "[CV 1/3] END bootstrap=True, max_features=auto, min_samples_split=8, n_estimators=100;, score=(train=-0.001, test=-0.004) total time=   1.5s\n",
      "[CV 2/3] END bootstrap=True, max_features=auto, min_samples_split=8, n_estimators=100;, score=(train=-0.001, test=-0.004) total time=   1.5s\n",
      "[CV 3/3] END bootstrap=True, max_features=auto, min_samples_split=8, n_estimators=100;, score=(train=-0.001, test=-0.003) total time=   1.5s\n",
      "[CV 1/3] END bootstrap=True, max_features=auto, min_samples_split=8, n_estimators=400;, score=(train=-0.001, test=-0.004) total time=   6.0s\n",
      "[CV 2/3] END bootstrap=True, max_features=auto, min_samples_split=8, n_estimators=400;, score=(train=-0.001, test=-0.004) total time=   5.9s\n",
      "[CV 3/3] END bootstrap=True, max_features=auto, min_samples_split=8, n_estimators=400;, score=(train=-0.001, test=-0.003) total time=   5.7s\n",
      "[CV 1/3] END bootstrap=False, max_features=5, min_samples_split=2, n_estimators=5;, score=(train=-0.000, test=-0.006) total time=   0.0s\n",
      "[CV 2/3] END bootstrap=False, max_features=5, min_samples_split=2, n_estimators=5;, score=(train=-0.000, test=-0.007) total time=   0.0s\n",
      "[CV 3/3] END bootstrap=False, max_features=5, min_samples_split=2, n_estimators=5;, score=(train=-0.000, test=-0.006) total time=   0.0s\n",
      "[CV 1/3] END bootstrap=False, max_features=5, min_samples_split=2, n_estimators=10;, score=(train=-0.000, test=-0.005) total time=   0.0s\n",
      "[CV 2/3] END bootstrap=False, max_features=5, min_samples_split=2, n_estimators=10;, score=(train=-0.000, test=-0.006) total time=   0.0s\n",
      "[CV 3/3] END bootstrap=False, max_features=5, min_samples_split=2, n_estimators=10;, score=(train=-0.000, test=-0.005) total time=   0.0s\n",
      "[CV 1/3] END bootstrap=False, max_features=5, min_samples_split=2, n_estimators=100;, score=(train=-0.000, test=-0.004) total time=   0.3s\n",
      "[CV 2/3] END bootstrap=False, max_features=5, min_samples_split=2, n_estimators=100;, score=(train=-0.000, test=-0.005) total time=   0.3s\n",
      "[CV 3/3] END bootstrap=False, max_features=5, min_samples_split=2, n_estimators=100;, score=(train=-0.000, test=-0.004) total time=   0.3s\n",
      "[CV 1/3] END bootstrap=False, max_features=5, min_samples_split=2, n_estimators=400;, score=(train=-0.000, test=-0.004) total time=   1.0s\n",
      "[CV 2/3] END bootstrap=False, max_features=5, min_samples_split=2, n_estimators=400;, score=(train=-0.000, test=-0.005) total time=   1.0s\n",
      "[CV 3/3] END bootstrap=False, max_features=5, min_samples_split=2, n_estimators=400;, score=(train=-0.000, test=-0.004) total time=   1.0s\n",
      "[CV 1/3] END bootstrap=False, max_features=5, min_samples_split=5, n_estimators=5;, score=(train=-0.001, test=-0.005) total time=   0.0s\n",
      "[CV 2/3] END bootstrap=False, max_features=5, min_samples_split=5, n_estimators=5;, score=(train=-0.001, test=-0.007) total time=   0.0s\n",
      "[CV 3/3] END bootstrap=False, max_features=5, min_samples_split=5, n_estimators=5;, score=(train=-0.001, test=-0.006) total time=   0.0s\n",
      "[CV 1/3] END bootstrap=False, max_features=5, min_samples_split=5, n_estimators=10;, score=(train=-0.001, test=-0.004) total time=   0.0s\n",
      "[CV 2/3] END bootstrap=False, max_features=5, min_samples_split=5, n_estimators=10;, score=(train=-0.001, test=-0.006) total time=   0.0s\n",
      "[CV 3/3] END bootstrap=False, max_features=5, min_samples_split=5, n_estimators=10;, score=(train=-0.001, test=-0.005) total time=   0.0s\n",
      "[CV 1/3] END bootstrap=False, max_features=5, min_samples_split=5, n_estimators=100;, score=(train=-0.001, test=-0.004) total time=   0.2s\n",
      "[CV 2/3] END bootstrap=False, max_features=5, min_samples_split=5, n_estimators=100;, score=(train=-0.001, test=-0.006) total time=   0.3s\n",
      "[CV 3/3] END bootstrap=False, max_features=5, min_samples_split=5, n_estimators=100;, score=(train=-0.001, test=-0.004) total time=   0.3s\n",
      "[CV 1/3] END bootstrap=False, max_features=5, min_samples_split=5, n_estimators=400;, score=(train=-0.001, test=-0.004) total time=   0.8s\n",
      "[CV 2/3] END bootstrap=False, max_features=5, min_samples_split=5, n_estimators=400;, score=(train=-0.000, test=-0.006) total time=   0.8s\n",
      "[CV 3/3] END bootstrap=False, max_features=5, min_samples_split=5, n_estimators=400;, score=(train=-0.001, test=-0.004) total time=   0.8s\n",
      "[CV 1/3] END bootstrap=False, max_features=5, min_samples_split=8, n_estimators=5;, score=(train=-0.002, test=-0.006) total time=   0.0s\n",
      "[CV 2/3] END bootstrap=False, max_features=5, min_samples_split=8, n_estimators=5;, score=(train=-0.002, test=-0.007) total time=   0.0s\n",
      "[CV 3/3] END bootstrap=False, max_features=5, min_samples_split=8, n_estimators=5;, score=(train=-0.002, test=-0.006) total time=   0.0s\n",
      "[CV 1/3] END bootstrap=False, max_features=5, min_samples_split=8, n_estimators=10;, score=(train=-0.001, test=-0.005) total time=   0.0s\n",
      "[CV 2/3] END bootstrap=False, max_features=5, min_samples_split=8, n_estimators=10;, score=(train=-0.001, test=-0.006) total time=   0.0s\n",
      "[CV 3/3] END bootstrap=False, max_features=5, min_samples_split=8, n_estimators=10;, score=(train=-0.002, test=-0.005) total time=   0.0s\n",
      "[CV 1/3] END bootstrap=False, max_features=5, min_samples_split=8, n_estimators=100;, score=(train=-0.001, test=-0.004) total time=   0.2s\n",
      "[CV 2/3] END bootstrap=False, max_features=5, min_samples_split=8, n_estimators=100;, score=(train=-0.001, test=-0.006) total time=   0.2s\n",
      "[CV 3/3] END bootstrap=False, max_features=5, min_samples_split=8, n_estimators=100;, score=(train=-0.001, test=-0.004) total time=   0.2s\n",
      "[CV 1/3] END bootstrap=False, max_features=5, min_samples_split=8, n_estimators=400;, score=(train=-0.001, test=-0.004) total time=   0.8s\n",
      "[CV 2/3] END bootstrap=False, max_features=5, min_samples_split=8, n_estimators=400;, score=(train=-0.001, test=-0.006) total time=   0.7s\n",
      "[CV 3/3] END bootstrap=False, max_features=5, min_samples_split=8, n_estimators=400;, score=(train=-0.001, test=-0.004) total time=   0.8s\n",
      "[CV 1/3] END bootstrap=False, max_features=20, min_samples_split=2, n_estimators=5;, score=(train=-0.000, test=-0.005) total time=   0.0s\n",
      "[CV 2/3] END bootstrap=False, max_features=20, min_samples_split=2, n_estimators=5;, score=(train=-0.000, test=-0.005) total time=   0.0s\n",
      "[CV 3/3] END bootstrap=False, max_features=20, min_samples_split=2, n_estimators=5;, score=(train=-0.000, test=-0.005) total time=   0.0s\n",
      "[CV 1/3] END bootstrap=False, max_features=20, min_samples_split=2, n_estimators=10;, score=(train=-0.000, test=-0.004) total time=   0.1s\n",
      "[CV 2/3] END bootstrap=False, max_features=20, min_samples_split=2, n_estimators=10;, score=(train=-0.000, test=-0.005) total time=   0.1s\n",
      "[CV 3/3] END bootstrap=False, max_features=20, min_samples_split=2, n_estimators=10;, score=(train=-0.000, test=-0.004) total time=   0.1s\n",
      "[CV 1/3] END bootstrap=False, max_features=20, min_samples_split=2, n_estimators=100;, score=(train=-0.000, test=-0.003) total time=   0.4s\n",
      "[CV 2/3] END bootstrap=False, max_features=20, min_samples_split=2, n_estimators=100;, score=(train=-0.000, test=-0.005) total time=   0.4s\n",
      "[CV 3/3] END bootstrap=False, max_features=20, min_samples_split=2, n_estimators=100;, score=(train=-0.000, test=-0.003) total time=   0.5s\n",
      "[CV 1/3] END bootstrap=False, max_features=20, min_samples_split=2, n_estimators=400;, score=(train=-0.000, test=-0.003) total time=   1.8s\n",
      "[CV 2/3] END bootstrap=False, max_features=20, min_samples_split=2, n_estimators=400;, score=(train=-0.000, test=-0.004) total time=   1.6s\n",
      "[CV 3/3] END bootstrap=False, max_features=20, min_samples_split=2, n_estimators=400;, score=(train=-0.000, test=-0.003) total time=   1.7s\n",
      "[CV 1/3] END bootstrap=False, max_features=20, min_samples_split=5, n_estimators=5;, score=(train=-0.000, test=-0.005) total time=   0.0s\n",
      "[CV 2/3] END bootstrap=False, max_features=20, min_samples_split=5, n_estimators=5;, score=(train=-0.000, test=-0.006) total time=   0.0s\n",
      "[CV 3/3] END bootstrap=False, max_features=20, min_samples_split=5, n_estimators=5;, score=(train=-0.000, test=-0.004) total time=   0.0s\n",
      "[CV 1/3] END bootstrap=False, max_features=20, min_samples_split=5, n_estimators=10;, score=(train=-0.000, test=-0.004) total time=   0.0s\n",
      "[CV 2/3] END bootstrap=False, max_features=20, min_samples_split=5, n_estimators=10;, score=(train=-0.000, test=-0.005) total time=   0.1s\n",
      "[CV 3/3] END bootstrap=False, max_features=20, min_samples_split=5, n_estimators=10;, score=(train=-0.000, test=-0.004) total time=   0.0s\n",
      "[CV 1/3] END bootstrap=False, max_features=20, min_samples_split=5, n_estimators=100;, score=(train=-0.000, test=-0.003) total time=   0.4s\n",
      "[CV 2/3] END bootstrap=False, max_features=20, min_samples_split=5, n_estimators=100;, score=(train=-0.000, test=-0.004) total time=   0.3s\n",
      "[CV 3/3] END bootstrap=False, max_features=20, min_samples_split=5, n_estimators=100;, score=(train=-0.000, test=-0.003) total time=   0.4s\n",
      "[CV 1/3] END bootstrap=False, max_features=20, min_samples_split=5, n_estimators=400;, score=(train=-0.000, test=-0.003) total time=   1.3s\n",
      "[CV 2/3] END bootstrap=False, max_features=20, min_samples_split=5, n_estimators=400;, score=(train=-0.000, test=-0.004) total time=   1.4s\n",
      "[CV 3/3] END bootstrap=False, max_features=20, min_samples_split=5, n_estimators=400;, score=(train=-0.000, test=-0.003) total time=   1.4s\n",
      "[CV 1/3] END bootstrap=False, max_features=20, min_samples_split=8, n_estimators=5;, score=(train=-0.001, test=-0.005) total time=   0.0s\n",
      "[CV 2/3] END bootstrap=False, max_features=20, min_samples_split=8, n_estimators=5;, score=(train=-0.001, test=-0.006) total time=   0.0s\n",
      "[CV 3/3] END bootstrap=False, max_features=20, min_samples_split=8, n_estimators=5;, score=(train=-0.001, test=-0.004) total time=   0.0s\n",
      "[CV 1/3] END bootstrap=False, max_features=20, min_samples_split=8, n_estimators=10;, score=(train=-0.001, test=-0.004) total time=   0.0s\n",
      "[CV 2/3] END bootstrap=False, max_features=20, min_samples_split=8, n_estimators=10;, score=(train=-0.000, test=-0.005) total time=   0.0s\n",
      "[CV 3/3] END bootstrap=False, max_features=20, min_samples_split=8, n_estimators=10;, score=(train=-0.001, test=-0.004) total time=   0.1s\n",
      "[CV 1/3] END bootstrap=False, max_features=20, min_samples_split=8, n_estimators=100;, score=(train=-0.000, test=-0.003) total time=   0.3s\n",
      "[CV 2/3] END bootstrap=False, max_features=20, min_samples_split=8, n_estimators=100;, score=(train=-0.000, test=-0.004) total time=   0.3s\n",
      "[CV 3/3] END bootstrap=False, max_features=20, min_samples_split=8, n_estimators=100;, score=(train=-0.000, test=-0.003) total time=   0.3s\n",
      "[CV 1/3] END bootstrap=False, max_features=20, min_samples_split=8, n_estimators=400;, score=(train=-0.000, test=-0.003) total time=   1.3s\n",
      "[CV 2/3] END bootstrap=False, max_features=20, min_samples_split=8, n_estimators=400;, score=(train=-0.000, test=-0.005) total time=   1.2s\n",
      "[CV 3/3] END bootstrap=False, max_features=20, min_samples_split=8, n_estimators=400;, score=(train=-0.000, test=-0.003) total time=   1.3s\n",
      "[CV 1/3] END bootstrap=False, max_features=auto, min_samples_split=2, n_estimators=5;, score=(train=-0.000, test=-0.007) total time=   0.2s\n",
      "[CV 2/3] END bootstrap=False, max_features=auto, min_samples_split=2, n_estimators=5;, score=(train=-0.000, test=-0.007) total time=   0.2s\n",
      "[CV 3/3] END bootstrap=False, max_features=auto, min_samples_split=2, n_estimators=5;, score=(train=-0.000, test=-0.007) total time=   0.1s\n",
      "[CV 1/3] END bootstrap=False, max_features=auto, min_samples_split=2, n_estimators=10;, score=(train=-0.000, test=-0.007) total time=   0.3s\n",
      "[CV 2/3] END bootstrap=False, max_features=auto, min_samples_split=2, n_estimators=10;, score=(train=-0.000, test=-0.007) total time=   0.3s\n",
      "[CV 3/3] END bootstrap=False, max_features=auto, min_samples_split=2, n_estimators=10;, score=(train=-0.000, test=-0.007) total time=   0.3s\n",
      "[CV 1/3] END bootstrap=False, max_features=auto, min_samples_split=2, n_estimators=100;, score=(train=-0.000, test=-0.007) total time=   2.9s\n",
      "[CV 2/3] END bootstrap=False, max_features=auto, min_samples_split=2, n_estimators=100;, score=(train=-0.000, test=-0.007) total time=   2.8s\n",
      "[CV 3/3] END bootstrap=False, max_features=auto, min_samples_split=2, n_estimators=100;, score=(train=-0.000, test=-0.007) total time=   2.8s\n",
      "[CV 1/3] END bootstrap=False, max_features=auto, min_samples_split=2, n_estimators=400;, score=(train=-0.000, test=-0.007) total time=  11.7s\n",
      "[CV 2/3] END bootstrap=False, max_features=auto, min_samples_split=2, n_estimators=400;, score=(train=-0.000, test=-0.007) total time=  11.3s\n",
      "[CV 3/3] END bootstrap=False, max_features=auto, min_samples_split=2, n_estimators=400;, score=(train=-0.000, test=-0.007) total time=  11.7s\n",
      "[CV 1/3] END bootstrap=False, max_features=auto, min_samples_split=5, n_estimators=5;, score=(train=-0.000, test=-0.006) total time=   0.1s\n",
      "[CV 2/3] END bootstrap=False, max_features=auto, min_samples_split=5, n_estimators=5;, score=(train=-0.000, test=-0.007) total time=   0.1s\n",
      "[CV 3/3] END bootstrap=False, max_features=auto, min_samples_split=5, n_estimators=5;, score=(train=-0.000, test=-0.007) total time=   0.1s\n",
      "[CV 1/3] END bootstrap=False, max_features=auto, min_samples_split=5, n_estimators=10;, score=(train=-0.000, test=-0.006) total time=   0.2s\n",
      "[CV 2/3] END bootstrap=False, max_features=auto, min_samples_split=5, n_estimators=10;, score=(train=-0.000, test=-0.007) total time=   0.2s\n",
      "[CV 3/3] END bootstrap=False, max_features=auto, min_samples_split=5, n_estimators=10;, score=(train=-0.000, test=-0.007) total time=   0.3s\n",
      "[CV 1/3] END bootstrap=False, max_features=auto, min_samples_split=5, n_estimators=100;, score=(train=-0.000, test=-0.007) total time=   2.4s\n",
      "[CV 2/3] END bootstrap=False, max_features=auto, min_samples_split=5, n_estimators=100;, score=(train=-0.000, test=-0.007) total time=   2.3s\n",
      "[CV 3/3] END bootstrap=False, max_features=auto, min_samples_split=5, n_estimators=100;, score=(train=-0.000, test=-0.007) total time=   2.5s\n",
      "[CV 1/3] END bootstrap=False, max_features=auto, min_samples_split=5, n_estimators=400;, score=(train=-0.000, test=-0.007) total time=   9.6s\n",
      "[CV 2/3] END bootstrap=False, max_features=auto, min_samples_split=5, n_estimators=400;, score=(train=-0.000, test=-0.007) total time=  10.3s\n",
      "[CV 3/3] END bootstrap=False, max_features=auto, min_samples_split=5, n_estimators=400;, score=(train=-0.000, test=-0.007) total time=  11.5s\n",
      "[CV 1/3] END bootstrap=False, max_features=auto, min_samples_split=8, n_estimators=5;, score=(train=-0.001, test=-0.007) total time=   0.1s\n",
      "[CV 2/3] END bootstrap=False, max_features=auto, min_samples_split=8, n_estimators=5;, score=(train=-0.001, test=-0.007) total time=   0.1s\n",
      "[CV 3/3] END bootstrap=False, max_features=auto, min_samples_split=8, n_estimators=5;, score=(train=-0.001, test=-0.007) total time=   0.1s\n",
      "[CV 1/3] END bootstrap=False, max_features=auto, min_samples_split=8, n_estimators=10;, score=(train=-0.001, test=-0.007) total time=   0.3s\n",
      "[CV 2/3] END bootstrap=False, max_features=auto, min_samples_split=8, n_estimators=10;, score=(train=-0.001, test=-0.007) total time=   0.2s\n",
      "[CV 3/3] END bootstrap=False, max_features=auto, min_samples_split=8, n_estimators=10;, score=(train=-0.001, test=-0.007) total time=   0.3s\n",
      "[CV 1/3] END bootstrap=False, max_features=auto, min_samples_split=8, n_estimators=100;, score=(train=-0.001, test=-0.007) total time=   2.5s\n",
      "[CV 2/3] END bootstrap=False, max_features=auto, min_samples_split=8, n_estimators=100;, score=(train=-0.001, test=-0.007) total time=   2.3s\n",
      "[CV 3/3] END bootstrap=False, max_features=auto, min_samples_split=8, n_estimators=100;, score=(train=-0.001, test=-0.007) total time=   2.3s\n",
      "[CV 1/3] END bootstrap=False, max_features=auto, min_samples_split=8, n_estimators=400;, score=(train=-0.001, test=-0.007) total time=  11.9s\n",
      "[CV 2/3] END bootstrap=False, max_features=auto, min_samples_split=8, n_estimators=400;, score=(train=-0.001, test=-0.007) total time=   8.8s\n",
      "[CV 3/3] END bootstrap=False, max_features=auto, min_samples_split=8, n_estimators=400;, score=(train=-0.001, test=-0.007) total time=   9.1s\n"
     ]
    },
    {
     "data": {
      "text/plain": [
       "GridSearchCV(cv=3, estimator=RandomForestRegressor(random_state=42),\n",
       "             param_grid=[{'bootstrap': [True, False],\n",
       "                          'max_features': [5, 20, 'auto'],\n",
       "                          'min_samples_split': [2, 5, 8],\n",
       "                          'n_estimators': [5, 10, 100, 400]}],\n",
       "             return_train_score=True, scoring='neg_mean_squared_error',\n",
       "             verbose=3)"
      ]
     },
     "execution_count": 33,
     "metadata": {},
     "output_type": "execute_result"
    }
   ],
   "source": [
    "# create grid \n",
    "param_grid = [\n",
    "    {'n_estimators': [5, 10, 100, 400],\n",
    "     'max_features': [5, 20, 'auto'],\n",
    "     'bootstrap': [True, False], \n",
    "     'min_samples_split': [2, 5, 8]}] \n",
    "grid_search = GridSearchCV(forest_reg, param_grid, cv = 3, scoring = 'neg_mean_squared_error', return_train_score = True, verbose = 3)\n",
    "grid_search.fit(X, y)"
   ]
  },
  {
   "cell_type": "code",
   "execution_count": 34,
   "id": "4aca8d5b-b553-49da-9431-d437e02a5113",
   "metadata": {},
   "outputs": [
    {
     "data": {
      "text/plain": [
       "RandomForestRegressor(bootstrap=False, max_features=20, min_samples_split=5,\n",
       "                      random_state=42)"
      ]
     },
     "execution_count": 34,
     "metadata": {},
     "output_type": "execute_result"
    }
   ],
   "source": [
    "# get best estimator\n",
    "grid_search.best_estimator_"
   ]
  },
  {
   "cell_type": "code",
   "execution_count": 35,
   "id": "466db571-99dd-48c9-ad4b-a5bcd05b6cf4",
   "metadata": {},
   "outputs": [],
   "source": [
    "cvres = grid_search.cv_results_"
   ]
  },
  {
   "cell_type": "code",
   "execution_count": 36,
   "id": "b90b4cf1-14e4-48f8-ac21-8ba1e81a1845",
   "metadata": {},
   "outputs": [],
   "source": [
    "# get parameters and results\n",
    "test_rmse = np.sqrt(-cvres['mean_test_score'])\n",
    "train_rmse = np.sqrt(-cvres['mean_train_score'])\n",
    "parameters = cvres['params']\n",
    "bootstrap = [parameters[i]['bootstrap'] for i in range(len(parameters))]\n",
    "max_features = [parameters[i]['max_features'] for i in range(len(parameters))]\n",
    "n_estimators = [parameters[i]['n_estimators'] for i in range(len(parameters))]\n",
    "min_samples_split = [parameters[i]['min_samples_split'] for i in range(len(parameters))]\n",
    "per_improv = [(baseline_rmse-test)/baseline_rmse for test in test_rmse]\n",
    "\n",
    "# combine into dataframe\n",
    "\n",
    "cvrse_df = pd.DataFrame({'test_rmse': test_rmse, \n",
    "                        'train_rmse': train_rmse, \n",
    "                        'percent_improvement': per_improv, \n",
    "                        'bootstrap': bootstrap, \n",
    "                        'max_features': max_features, \n",
    "                        'n_estimators': n_estimators,\n",
    "                        'min_samples_split': min_samples_split})"
   ]
  },
  {
   "cell_type": "code",
   "execution_count": 37,
   "id": "eb64427a-3abf-4061-934f-19d63f21259f",
   "metadata": {},
   "outputs": [
    {
     "data": {
      "text/html": [
       "<div>\n",
       "<style scoped>\n",
       "    .dataframe tbody tr th:only-of-type {\n",
       "        vertical-align: middle;\n",
       "    }\n",
       "\n",
       "    .dataframe tbody tr th {\n",
       "        vertical-align: top;\n",
       "    }\n",
       "\n",
       "    .dataframe thead th {\n",
       "        text-align: right;\n",
       "    }\n",
       "</style>\n",
       "<table border=\"1\" class=\"dataframe\">\n",
       "  <thead>\n",
       "    <tr style=\"text-align: right;\">\n",
       "      <th></th>\n",
       "      <th>test_rmse</th>\n",
       "      <th>train_rmse</th>\n",
       "      <th>percent_improvement</th>\n",
       "      <th>bootstrap</th>\n",
       "      <th>max_features</th>\n",
       "      <th>n_estimators</th>\n",
       "      <th>min_samples_split</th>\n",
       "    </tr>\n",
       "  </thead>\n",
       "  <tbody>\n",
       "    <tr>\n",
       "      <th>54</th>\n",
       "      <td>0.059496</td>\n",
       "      <td>1.177300e-02</td>\n",
       "      <td>0.035249</td>\n",
       "      <td>False</td>\n",
       "      <td>20</td>\n",
       "      <td>100</td>\n",
       "      <td>5</td>\n",
       "    </tr>\n",
       "    <tr>\n",
       "      <th>51</th>\n",
       "      <td>0.059683</td>\n",
       "      <td>3.093359e-14</td>\n",
       "      <td>0.032227</td>\n",
       "      <td>False</td>\n",
       "      <td>20</td>\n",
       "      <td>400</td>\n",
       "      <td>2</td>\n",
       "    </tr>\n",
       "    <tr>\n",
       "      <th>55</th>\n",
       "      <td>0.059712</td>\n",
       "      <td>1.157963e-02</td>\n",
       "      <td>0.031751</td>\n",
       "      <td>False</td>\n",
       "      <td>20</td>\n",
       "      <td>400</td>\n",
       "      <td>5</td>\n",
       "    </tr>\n",
       "    <tr>\n",
       "      <th>50</th>\n",
       "      <td>0.060093</td>\n",
       "      <td>7.795554e-15</td>\n",
       "      <td>0.025564</td>\n",
       "      <td>False</td>\n",
       "      <td>20</td>\n",
       "      <td>100</td>\n",
       "      <td>2</td>\n",
       "    </tr>\n",
       "    <tr>\n",
       "      <th>59</th>\n",
       "      <td>0.060265</td>\n",
       "      <td>1.937858e-02</td>\n",
       "      <td>0.022787</td>\n",
       "      <td>False</td>\n",
       "      <td>20</td>\n",
       "      <td>400</td>\n",
       "      <td>8</td>\n",
       "    </tr>\n",
       "    <tr>\n",
       "      <th>58</th>\n",
       "      <td>0.060332</td>\n",
       "      <td>1.953616e-02</td>\n",
       "      <td>0.021690</td>\n",
       "      <td>False</td>\n",
       "      <td>20</td>\n",
       "      <td>100</td>\n",
       "      <td>8</td>\n",
       "    </tr>\n",
       "    <tr>\n",
       "      <th>27</th>\n",
       "      <td>0.061407</td>\n",
       "      <td>2.315355e-02</td>\n",
       "      <td>0.004264</td>\n",
       "      <td>True</td>\n",
       "      <td>auto</td>\n",
       "      <td>400</td>\n",
       "      <td>2</td>\n",
       "    </tr>\n",
       "    <tr>\n",
       "      <th>31</th>\n",
       "      <td>0.061467</td>\n",
       "      <td>2.644959e-02</td>\n",
       "      <td>0.003287</td>\n",
       "      <td>True</td>\n",
       "      <td>auto</td>\n",
       "      <td>400</td>\n",
       "      <td>5</td>\n",
       "    </tr>\n",
       "    <tr>\n",
       "      <th>35</th>\n",
       "      <td>0.061593</td>\n",
       "      <td>2.991963e-02</td>\n",
       "      <td>0.001242</td>\n",
       "      <td>True</td>\n",
       "      <td>auto</td>\n",
       "      <td>400</td>\n",
       "      <td>8</td>\n",
       "    </tr>\n",
       "    <tr>\n",
       "      <th>15</th>\n",
       "      <td>0.061649</td>\n",
       "      <td>2.312809e-02</td>\n",
       "      <td>0.000344</td>\n",
       "      <td>True</td>\n",
       "      <td>20</td>\n",
       "      <td>400</td>\n",
       "      <td>2</td>\n",
       "    </tr>\n",
       "  </tbody>\n",
       "</table>\n",
       "</div>"
      ],
      "text/plain": [
       "    test_rmse    train_rmse  percent_improvement  bootstrap max_features  \\\n",
       "54   0.059496  1.177300e-02             0.035249      False           20   \n",
       "51   0.059683  3.093359e-14             0.032227      False           20   \n",
       "55   0.059712  1.157963e-02             0.031751      False           20   \n",
       "50   0.060093  7.795554e-15             0.025564      False           20   \n",
       "59   0.060265  1.937858e-02             0.022787      False           20   \n",
       "58   0.060332  1.953616e-02             0.021690      False           20   \n",
       "27   0.061407  2.315355e-02             0.004264       True         auto   \n",
       "31   0.061467  2.644959e-02             0.003287       True         auto   \n",
       "35   0.061593  2.991963e-02             0.001242       True         auto   \n",
       "15   0.061649  2.312809e-02             0.000344       True           20   \n",
       "\n",
       "    n_estimators  min_samples_split  \n",
       "54           100                  5  \n",
       "51           400                  2  \n",
       "55           400                  5  \n",
       "50           100                  2  \n",
       "59           400                  8  \n",
       "58           100                  8  \n",
       "27           400                  2  \n",
       "31           400                  5  \n",
       "35           400                  8  \n",
       "15           400                  2  "
      ]
     },
     "execution_count": 37,
     "metadata": {},
     "output_type": "execute_result"
    }
   ],
   "source": [
    "cvrse_df.sort_values(by = 'percent_improvement', ascending = False).head(10)"
   ]
  },
  {
   "cell_type": "markdown",
   "id": "64677037-7071-4e06-a9f0-007a464fead0",
   "metadata": {},
   "source": [
    "We are back to having very small training error and much larger test error, overfitting! "
   ]
  },
  {
   "cell_type": "markdown",
   "id": "0c4f7143-19ce-47c0-a585-19d870c292e6",
   "metadata": {},
   "source": [
    "### Parallel Coordinates Plot of Hyperparameters"
   ]
  },
  {
   "cell_type": "code",
   "execution_count": 38,
   "id": "156288f7-91fd-4fab-bc44-ffb66089bc6d",
   "metadata": {},
   "outputs": [
    {
     "data": {
      "application/vnd.plotly.v1+json": {
       "config": {
        "plotlyServerURL": "https://plot.ly"
       },
       "data": [
        {
         "dimensions": [
          {
           "label": "RMSE",
           "values": [
            0.08425680309322829,
            0.07744148496966025,
            0.06934420271861061,
            0.0687338686069152,
            0.0855104354776622,
            0.0771442170019922,
            0.07102086414771554,
            0.07025619064708497,
            0.08471423670568007,
            0.07726399743214465,
            0.07139218770952221,
            0.0715655031162825,
            0.074247686335899,
            0.06741032598082031,
            0.06220723494371139,
            0.061648770804955476,
            0.07257894748665697,
            0.06697622351237469,
            0.0623880534817061,
            0.061719964948706185,
            0.07252862529406923,
            0.06589132362910456,
            0.06266578882649437,
            0.062359575546472694,
            0.06834934715928587,
            0.06439836459101332,
            0.061747469386379886,
            0.061407024022870425,
            0.0691984328050449,
            0.06559862905302989,
            0.06182101772955981,
            0.06146727311524409,
            0.06771460344221436,
            0.06454265275902467,
            0.06194163591835254,
            0.06159339128537253,
            0.08014243864530517,
            0.07417647623982758,
            0.06627466173972088,
            0.06644323469744945,
            0.07962443913184049,
            0.07276381091815785,
            0.06787057948685818,
            0.06742537240297056,
            0.08076642001166356,
            0.07357079825443164,
            0.06855101158845965,
            0.06866259677036003,
            0.07028353594881293,
            0.0645750604789774,
            0.06009345026290198,
            0.05968254893651053,
            0.07030997785059516,
            0.06416974167203801,
            0.05949621016142183,
            0.05971192105683375,
            0.06978987819619382,
            0.06511361571728279,
            0.06033239421117955,
            0.060264749028917194,
            0.08343153420545385,
            0.08269509984487315,
            0.08227969089072366,
            0.08223956764843963,
            0.08178728280702743,
            0.08144022282031875,
            0.08155052641606862,
            0.08148659451434109,
            0.08198887827346832,
            0.08166569416063053,
            0.08136975299731156,
            0.08137359394103079
           ]
          },
          {
           "label": "Train RMSE",
           "values": [
            0.04290378751938295,
            0.034568400150559515,
            0.02619317287176742,
            0.02570259492410126,
            0.05604004794759354,
            0.048127698787450414,
            0.04182931010523285,
            0.04122554518616229,
            0.06033266768890556,
            0.05462612737998557,
            0.04908344582805645,
            0.04885056766783048,
            0.03840127655481102,
            0.030924381179706983,
            0.023755910138022602,
            0.02312808674920701,
            0.04230432258456279,
            0.03616407999035337,
            0.030680307914383066,
            0.030332741471467233,
            0.04617965610010639,
            0.04032741322470708,
            0.03614035752543101,
            0.03592477024152527,
            0.03426205387154881,
            0.02870131936335156,
            0.023581216412852855,
            0.023153547143738084,
            0.03626015786592101,
            0.03116973805967237,
            0.02679245070292947,
            0.026449587714533953,
            0.038801637558115186,
            0.0341540910278967,
            0.030166306767236577,
            0.029919625907802404,
            0,
            6.615581152768209e-16,
            7.795554281031053e-15,
            3.0933593256517735e-14,
            0.030620510633097592,
            0.026685098623130458,
            0.02342457519914755,
            0.023161061364621194,
            0.04152875859677145,
            0.03739328347947543,
            0.0336339003562094,
            0.03350570892093727,
            0,
            6.615581152768209e-16,
            7.795554281031053e-15,
            3.0933593256517735e-14,
            0.016470986526965093,
            0.014301550812938681,
            0.011772998591098253,
            0.011579633225473517,
            0.025418045764064673,
            0.022429125992614485,
            0.019536159104576487,
            0.019378583523166442,
            0,
            6.615581152768209e-16,
            7.795554281031053e-15,
            3.0933593256517735e-14,
            0.017357495854135988,
            0.017354720865202775,
            0.017354791400565926,
            0.017355392968478604,
            0.025730965420813094,
            0.025730965420813094,
            0.025730953789947122,
            0.025730953426482475
           ]
          },
          {
           "label": "Bootstrap",
           "values": [
            1,
            1,
            1,
            1,
            1,
            1,
            1,
            1,
            1,
            1,
            1,
            1,
            1,
            1,
            1,
            1,
            1,
            1,
            1,
            1,
            1,
            1,
            1,
            1,
            1,
            1,
            1,
            1,
            1,
            1,
            1,
            1,
            1,
            1,
            1,
            1,
            0,
            0,
            0,
            0,
            0,
            0,
            0,
            0,
            0,
            0,
            0,
            0,
            0,
            0,
            0,
            0,
            0,
            0,
            0,
            0,
            0,
            0,
            0,
            0,
            0,
            0,
            0,
            0,
            0,
            0,
            0,
            0,
            0,
            0,
            0,
            0
           ]
          },
          {
           "label": "Max Features",
           "values": [
            5,
            5,
            5,
            5,
            5,
            5,
            5,
            5,
            5,
            5,
            5,
            5,
            20,
            20,
            20,
            20,
            20,
            20,
            20,
            20,
            20,
            20,
            20,
            20,
            43,
            43,
            43,
            43,
            43,
            43,
            43,
            43,
            43,
            43,
            43,
            43,
            5,
            5,
            5,
            5,
            5,
            5,
            5,
            5,
            5,
            5,
            5,
            5,
            20,
            20,
            20,
            20,
            20,
            20,
            20,
            20,
            20,
            20,
            20,
            20,
            43,
            43,
            43,
            43,
            43,
            43,
            43,
            43,
            43,
            43,
            43,
            43
           ]
          },
          {
           "label": "Estimators",
           "values": [
            5,
            10,
            100,
            400,
            5,
            10,
            100,
            400,
            5,
            10,
            100,
            400,
            5,
            10,
            100,
            400,
            5,
            10,
            100,
            400,
            5,
            10,
            100,
            400,
            5,
            10,
            100,
            400,
            5,
            10,
            100,
            400,
            5,
            10,
            100,
            400,
            5,
            10,
            100,
            400,
            5,
            10,
            100,
            400,
            5,
            10,
            100,
            400,
            5,
            10,
            100,
            400,
            5,
            10,
            100,
            400,
            5,
            10,
            100,
            400,
            5,
            10,
            100,
            400,
            5,
            10,
            100,
            400,
            5,
            10,
            100,
            400
           ]
          },
          {
           "label": "Minimum Split",
           "values": [
            2,
            2,
            2,
            2,
            5,
            5,
            5,
            5,
            8,
            8,
            8,
            8,
            2,
            2,
            2,
            2,
            5,
            5,
            5,
            5,
            8,
            8,
            8,
            8,
            2,
            2,
            2,
            2,
            5,
            5,
            5,
            5,
            8,
            8,
            8,
            8,
            2,
            2,
            2,
            2,
            5,
            5,
            5,
            5,
            8,
            8,
            8,
            8,
            2,
            2,
            2,
            2,
            5,
            5,
            5,
            5,
            8,
            8,
            8,
            8,
            2,
            2,
            2,
            2,
            5,
            5,
            5,
            5,
            8,
            8,
            8,
            8
           ]
          }
         ],
         "domain": {
          "x": [
           0,
           1
          ],
          "y": [
           0,
           1
          ]
         },
         "line": {
          "color": [
           0.08425680309322829,
           0.07744148496966025,
           0.06934420271861061,
           0.0687338686069152,
           0.0855104354776622,
           0.0771442170019922,
           0.07102086414771554,
           0.07025619064708497,
           0.08471423670568007,
           0.07726399743214465,
           0.07139218770952221,
           0.0715655031162825,
           0.074247686335899,
           0.06741032598082031,
           0.06220723494371139,
           0.061648770804955476,
           0.07257894748665697,
           0.06697622351237469,
           0.0623880534817061,
           0.061719964948706185,
           0.07252862529406923,
           0.06589132362910456,
           0.06266578882649437,
           0.062359575546472694,
           0.06834934715928587,
           0.06439836459101332,
           0.061747469386379886,
           0.061407024022870425,
           0.0691984328050449,
           0.06559862905302989,
           0.06182101772955981,
           0.06146727311524409,
           0.06771460344221436,
           0.06454265275902467,
           0.06194163591835254,
           0.06159339128537253,
           0.08014243864530517,
           0.07417647623982758,
           0.06627466173972088,
           0.06644323469744945,
           0.07962443913184049,
           0.07276381091815785,
           0.06787057948685818,
           0.06742537240297056,
           0.08076642001166356,
           0.07357079825443164,
           0.06855101158845965,
           0.06866259677036003,
           0.07028353594881293,
           0.0645750604789774,
           0.06009345026290198,
           0.05968254893651053,
           0.07030997785059516,
           0.06416974167203801,
           0.05949621016142183,
           0.05971192105683375,
           0.06978987819619382,
           0.06511361571728279,
           0.06033239421117955,
           0.060264749028917194,
           0.08343153420545385,
           0.08269509984487315,
           0.08227969089072366,
           0.08223956764843963,
           0.08178728280702743,
           0.08144022282031875,
           0.08155052641606862,
           0.08148659451434109,
           0.08198887827346832,
           0.08166569416063053,
           0.08136975299731156,
           0.08137359394103079
          ],
          "coloraxis": "coloraxis"
         },
         "name": "",
         "type": "parcoords"
        }
       ],
       "layout": {
        "autosize": true,
        "coloraxis": {
         "colorbar": {
          "title": {
           "text": "RMSE"
          }
         },
         "colorscale": [
          [
           0,
           "rgb(0, 147, 146)"
          ],
          [
           0.16666666666666666,
           "rgb(114, 170, 161)"
          ],
          [
           0.3333333333333333,
           "rgb(177, 199, 179)"
          ],
          [
           0.5,
           "rgb(241, 234, 200)"
          ],
          [
           0.6666666666666666,
           "rgb(229, 185, 173)"
          ],
          [
           0.8333333333333334,
           "rgb(217, 137, 148)"
          ],
          [
           1,
           "rgb(208, 88, 126)"
          ]
         ]
        },
        "legend": {
         "tracegroupgap": 0
        },
        "margin": {
         "t": 60
        },
        "template": {
         "data": {
          "bar": [
           {
            "error_x": {
             "color": "#2a3f5f"
            },
            "error_y": {
             "color": "#2a3f5f"
            },
            "marker": {
             "line": {
              "color": "#E5ECF6",
              "width": 0.5
             },
             "pattern": {
              "fillmode": "overlay",
              "size": 10,
              "solidity": 0.2
             }
            },
            "type": "bar"
           }
          ],
          "barpolar": [
           {
            "marker": {
             "line": {
              "color": "#E5ECF6",
              "width": 0.5
             },
             "pattern": {
              "fillmode": "overlay",
              "size": 10,
              "solidity": 0.2
             }
            },
            "type": "barpolar"
           }
          ],
          "carpet": [
           {
            "aaxis": {
             "endlinecolor": "#2a3f5f",
             "gridcolor": "white",
             "linecolor": "white",
             "minorgridcolor": "white",
             "startlinecolor": "#2a3f5f"
            },
            "baxis": {
             "endlinecolor": "#2a3f5f",
             "gridcolor": "white",
             "linecolor": "white",
             "minorgridcolor": "white",
             "startlinecolor": "#2a3f5f"
            },
            "type": "carpet"
           }
          ],
          "choropleth": [
           {
            "colorbar": {
             "outlinewidth": 0,
             "ticks": ""
            },
            "type": "choropleth"
           }
          ],
          "contour": [
           {
            "colorbar": {
             "outlinewidth": 0,
             "ticks": ""
            },
            "colorscale": [
             [
              0,
              "#0d0887"
             ],
             [
              0.1111111111111111,
              "#46039f"
             ],
             [
              0.2222222222222222,
              "#7201a8"
             ],
             [
              0.3333333333333333,
              "#9c179e"
             ],
             [
              0.4444444444444444,
              "#bd3786"
             ],
             [
              0.5555555555555556,
              "#d8576b"
             ],
             [
              0.6666666666666666,
              "#ed7953"
             ],
             [
              0.7777777777777778,
              "#fb9f3a"
             ],
             [
              0.8888888888888888,
              "#fdca26"
             ],
             [
              1,
              "#f0f921"
             ]
            ],
            "type": "contour"
           }
          ],
          "contourcarpet": [
           {
            "colorbar": {
             "outlinewidth": 0,
             "ticks": ""
            },
            "type": "contourcarpet"
           }
          ],
          "heatmap": [
           {
            "colorbar": {
             "outlinewidth": 0,
             "ticks": ""
            },
            "colorscale": [
             [
              0,
              "#0d0887"
             ],
             [
              0.1111111111111111,
              "#46039f"
             ],
             [
              0.2222222222222222,
              "#7201a8"
             ],
             [
              0.3333333333333333,
              "#9c179e"
             ],
             [
              0.4444444444444444,
              "#bd3786"
             ],
             [
              0.5555555555555556,
              "#d8576b"
             ],
             [
              0.6666666666666666,
              "#ed7953"
             ],
             [
              0.7777777777777778,
              "#fb9f3a"
             ],
             [
              0.8888888888888888,
              "#fdca26"
             ],
             [
              1,
              "#f0f921"
             ]
            ],
            "type": "heatmap"
           }
          ],
          "heatmapgl": [
           {
            "colorbar": {
             "outlinewidth": 0,
             "ticks": ""
            },
            "colorscale": [
             [
              0,
              "#0d0887"
             ],
             [
              0.1111111111111111,
              "#46039f"
             ],
             [
              0.2222222222222222,
              "#7201a8"
             ],
             [
              0.3333333333333333,
              "#9c179e"
             ],
             [
              0.4444444444444444,
              "#bd3786"
             ],
             [
              0.5555555555555556,
              "#d8576b"
             ],
             [
              0.6666666666666666,
              "#ed7953"
             ],
             [
              0.7777777777777778,
              "#fb9f3a"
             ],
             [
              0.8888888888888888,
              "#fdca26"
             ],
             [
              1,
              "#f0f921"
             ]
            ],
            "type": "heatmapgl"
           }
          ],
          "histogram": [
           {
            "marker": {
             "pattern": {
              "fillmode": "overlay",
              "size": 10,
              "solidity": 0.2
             }
            },
            "type": "histogram"
           }
          ],
          "histogram2d": [
           {
            "colorbar": {
             "outlinewidth": 0,
             "ticks": ""
            },
            "colorscale": [
             [
              0,
              "#0d0887"
             ],
             [
              0.1111111111111111,
              "#46039f"
             ],
             [
              0.2222222222222222,
              "#7201a8"
             ],
             [
              0.3333333333333333,
              "#9c179e"
             ],
             [
              0.4444444444444444,
              "#bd3786"
             ],
             [
              0.5555555555555556,
              "#d8576b"
             ],
             [
              0.6666666666666666,
              "#ed7953"
             ],
             [
              0.7777777777777778,
              "#fb9f3a"
             ],
             [
              0.8888888888888888,
              "#fdca26"
             ],
             [
              1,
              "#f0f921"
             ]
            ],
            "type": "histogram2d"
           }
          ],
          "histogram2dcontour": [
           {
            "colorbar": {
             "outlinewidth": 0,
             "ticks": ""
            },
            "colorscale": [
             [
              0,
              "#0d0887"
             ],
             [
              0.1111111111111111,
              "#46039f"
             ],
             [
              0.2222222222222222,
              "#7201a8"
             ],
             [
              0.3333333333333333,
              "#9c179e"
             ],
             [
              0.4444444444444444,
              "#bd3786"
             ],
             [
              0.5555555555555556,
              "#d8576b"
             ],
             [
              0.6666666666666666,
              "#ed7953"
             ],
             [
              0.7777777777777778,
              "#fb9f3a"
             ],
             [
              0.8888888888888888,
              "#fdca26"
             ],
             [
              1,
              "#f0f921"
             ]
            ],
            "type": "histogram2dcontour"
           }
          ],
          "mesh3d": [
           {
            "colorbar": {
             "outlinewidth": 0,
             "ticks": ""
            },
            "type": "mesh3d"
           }
          ],
          "parcoords": [
           {
            "line": {
             "colorbar": {
              "outlinewidth": 0,
              "ticks": ""
             }
            },
            "type": "parcoords"
           }
          ],
          "pie": [
           {
            "automargin": true,
            "type": "pie"
           }
          ],
          "scatter": [
           {
            "fillpattern": {
             "fillmode": "overlay",
             "size": 10,
             "solidity": 0.2
            },
            "type": "scatter"
           }
          ],
          "scatter3d": [
           {
            "line": {
             "colorbar": {
              "outlinewidth": 0,
              "ticks": ""
             }
            },
            "marker": {
             "colorbar": {
              "outlinewidth": 0,
              "ticks": ""
             }
            },
            "type": "scatter3d"
           }
          ],
          "scattercarpet": [
           {
            "marker": {
             "colorbar": {
              "outlinewidth": 0,
              "ticks": ""
             }
            },
            "type": "scattercarpet"
           }
          ],
          "scattergeo": [
           {
            "marker": {
             "colorbar": {
              "outlinewidth": 0,
              "ticks": ""
             }
            },
            "type": "scattergeo"
           }
          ],
          "scattergl": [
           {
            "marker": {
             "colorbar": {
              "outlinewidth": 0,
              "ticks": ""
             }
            },
            "type": "scattergl"
           }
          ],
          "scattermapbox": [
           {
            "marker": {
             "colorbar": {
              "outlinewidth": 0,
              "ticks": ""
             }
            },
            "type": "scattermapbox"
           }
          ],
          "scatterpolar": [
           {
            "marker": {
             "colorbar": {
              "outlinewidth": 0,
              "ticks": ""
             }
            },
            "type": "scatterpolar"
           }
          ],
          "scatterpolargl": [
           {
            "marker": {
             "colorbar": {
              "outlinewidth": 0,
              "ticks": ""
             }
            },
            "type": "scatterpolargl"
           }
          ],
          "scatterternary": [
           {
            "marker": {
             "colorbar": {
              "outlinewidth": 0,
              "ticks": ""
             }
            },
            "type": "scatterternary"
           }
          ],
          "surface": [
           {
            "colorbar": {
             "outlinewidth": 0,
             "ticks": ""
            },
            "colorscale": [
             [
              0,
              "#0d0887"
             ],
             [
              0.1111111111111111,
              "#46039f"
             ],
             [
              0.2222222222222222,
              "#7201a8"
             ],
             [
              0.3333333333333333,
              "#9c179e"
             ],
             [
              0.4444444444444444,
              "#bd3786"
             ],
             [
              0.5555555555555556,
              "#d8576b"
             ],
             [
              0.6666666666666666,
              "#ed7953"
             ],
             [
              0.7777777777777778,
              "#fb9f3a"
             ],
             [
              0.8888888888888888,
              "#fdca26"
             ],
             [
              1,
              "#f0f921"
             ]
            ],
            "type": "surface"
           }
          ],
          "table": [
           {
            "cells": {
             "fill": {
              "color": "#EBF0F8"
             },
             "line": {
              "color": "white"
             }
            },
            "header": {
             "fill": {
              "color": "#C8D4E3"
             },
             "line": {
              "color": "white"
             }
            },
            "type": "table"
           }
          ]
         },
         "layout": {
          "annotationdefaults": {
           "arrowcolor": "#2a3f5f",
           "arrowhead": 0,
           "arrowwidth": 1
          },
          "autotypenumbers": "strict",
          "coloraxis": {
           "colorbar": {
            "outlinewidth": 0,
            "ticks": ""
           }
          },
          "colorscale": {
           "diverging": [
            [
             0,
             "#8e0152"
            ],
            [
             0.1,
             "#c51b7d"
            ],
            [
             0.2,
             "#de77ae"
            ],
            [
             0.3,
             "#f1b6da"
            ],
            [
             0.4,
             "#fde0ef"
            ],
            [
             0.5,
             "#f7f7f7"
            ],
            [
             0.6,
             "#e6f5d0"
            ],
            [
             0.7,
             "#b8e186"
            ],
            [
             0.8,
             "#7fbc41"
            ],
            [
             0.9,
             "#4d9221"
            ],
            [
             1,
             "#276419"
            ]
           ],
           "sequential": [
            [
             0,
             "#0d0887"
            ],
            [
             0.1111111111111111,
             "#46039f"
            ],
            [
             0.2222222222222222,
             "#7201a8"
            ],
            [
             0.3333333333333333,
             "#9c179e"
            ],
            [
             0.4444444444444444,
             "#bd3786"
            ],
            [
             0.5555555555555556,
             "#d8576b"
            ],
            [
             0.6666666666666666,
             "#ed7953"
            ],
            [
             0.7777777777777778,
             "#fb9f3a"
            ],
            [
             0.8888888888888888,
             "#fdca26"
            ],
            [
             1,
             "#f0f921"
            ]
           ],
           "sequentialminus": [
            [
             0,
             "#0d0887"
            ],
            [
             0.1111111111111111,
             "#46039f"
            ],
            [
             0.2222222222222222,
             "#7201a8"
            ],
            [
             0.3333333333333333,
             "#9c179e"
            ],
            [
             0.4444444444444444,
             "#bd3786"
            ],
            [
             0.5555555555555556,
             "#d8576b"
            ],
            [
             0.6666666666666666,
             "#ed7953"
            ],
            [
             0.7777777777777778,
             "#fb9f3a"
            ],
            [
             0.8888888888888888,
             "#fdca26"
            ],
            [
             1,
             "#f0f921"
            ]
           ]
          },
          "colorway": [
           "#636efa",
           "#EF553B",
           "#00cc96",
           "#ab63fa",
           "#FFA15A",
           "#19d3f3",
           "#FF6692",
           "#B6E880",
           "#FF97FF",
           "#FECB52"
          ],
          "font": {
           "color": "#2a3f5f"
          },
          "geo": {
           "bgcolor": "white",
           "lakecolor": "white",
           "landcolor": "#E5ECF6",
           "showlakes": true,
           "showland": true,
           "subunitcolor": "white"
          },
          "hoverlabel": {
           "align": "left"
          },
          "hovermode": "closest",
          "mapbox": {
           "style": "light"
          },
          "paper_bgcolor": "white",
          "plot_bgcolor": "#E5ECF6",
          "polar": {
           "angularaxis": {
            "gridcolor": "white",
            "linecolor": "white",
            "ticks": ""
           },
           "bgcolor": "#E5ECF6",
           "radialaxis": {
            "gridcolor": "white",
            "linecolor": "white",
            "ticks": ""
           }
          },
          "scene": {
           "xaxis": {
            "backgroundcolor": "#E5ECF6",
            "gridcolor": "white",
            "gridwidth": 2,
            "linecolor": "white",
            "showbackground": true,
            "ticks": "",
            "zerolinecolor": "white"
           },
           "yaxis": {
            "backgroundcolor": "#E5ECF6",
            "gridcolor": "white",
            "gridwidth": 2,
            "linecolor": "white",
            "showbackground": true,
            "ticks": "",
            "zerolinecolor": "white"
           },
           "zaxis": {
            "backgroundcolor": "#E5ECF6",
            "gridcolor": "white",
            "gridwidth": 2,
            "linecolor": "white",
            "showbackground": true,
            "ticks": "",
            "zerolinecolor": "white"
           }
          },
          "shapedefaults": {
           "line": {
            "color": "#2a3f5f"
           }
          },
          "ternary": {
           "aaxis": {
            "gridcolor": "white",
            "linecolor": "white",
            "ticks": ""
           },
           "baxis": {
            "gridcolor": "white",
            "linecolor": "white",
            "ticks": ""
           },
           "bgcolor": "#E5ECF6",
           "caxis": {
            "gridcolor": "white",
            "linecolor": "white",
            "ticks": ""
           }
          },
          "title": {
           "x": 0.05
          },
          "xaxis": {
           "automargin": true,
           "gridcolor": "white",
           "linecolor": "white",
           "ticks": "",
           "title": {
            "standoff": 15
           },
           "zerolinecolor": "white",
           "zerolinewidth": 2
          },
          "yaxis": {
           "automargin": true,
           "gridcolor": "white",
           "linecolor": "white",
           "ticks": "",
           "title": {
            "standoff": 15
           },
           "zerolinecolor": "white",
           "zerolinewidth": 2
          }
         }
        }
       }
      },
      "image/png": "[encoded data removed]",
      "text/html": [
       "<div>                            <div id=\"6648fb42-04cb-4aac-9782-58565f15114e\" class=\"plotly-graph-div\" style=\"height:525px; width:100%;\"></div>            <script type=\"text/javascript\">                require([\"plotly\"], function(Plotly) {                    window.PLOTLYENV=window.PLOTLYENV || {};                                    if (document.getElementById(\"6648fb42-04cb-4aac-9782-58565f15114e\")) {                    Plotly.newPlot(                        \"6648fb42-04cb-4aac-9782-58565f15114e\",                        [{\"dimensions\":[{\"label\":\"RMSE\",\"values\":[0.08425680309322829,0.07744148496966025,0.06934420271861061,0.0687338686069152,0.0855104354776622,0.0771442170019922,0.07102086414771554,0.07025619064708497,0.08471423670568007,0.07726399743214465,0.07139218770952221,0.0715655031162825,0.074247686335899,0.06741032598082031,0.06220723494371139,0.061648770804955476,0.07257894748665697,0.06697622351237469,0.0623880534817061,0.061719964948706185,0.07252862529406923,0.06589132362910456,0.06266578882649437,0.062359575546472694,0.06834934715928587,0.06439836459101332,0.061747469386379886,0.061407024022870425,0.0691984328050449,0.06559862905302989,0.06182101772955981,0.06146727311524409,0.06771460344221436,0.06454265275902467,0.06194163591835254,0.06159339128537253,0.08014243864530517,0.07417647623982758,0.06627466173972088,0.06644323469744945,0.07962443913184049,0.07276381091815785,0.06787057948685818,0.06742537240297056,0.08076642001166356,0.07357079825443164,0.06855101158845965,0.06866259677036003,0.07028353594881293,0.0645750604789774,0.06009345026290198,0.05968254893651053,0.07030997785059516,0.06416974167203801,0.05949621016142183,0.05971192105683375,0.06978987819619382,0.06511361571728279,0.06033239421117955,0.060264749028917194,0.08343153420545385,0.08269509984487315,0.08227969089072366,0.08223956764843963,0.08178728280702743,0.08144022282031875,0.08155052641606862,0.08148659451434109,0.08198887827346832,0.08166569416063053,0.08136975299731156,0.08137359394103079]},{\"label\":\"Train RMSE\",\"values\":[0.04290378751938295,0.034568400150559515,0.02619317287176742,0.02570259492410126,0.05604004794759354,0.048127698787450414,0.04182931010523285,0.04122554518616229,0.06033266768890556,0.05462612737998557,0.04908344582805645,0.04885056766783048,0.03840127655481102,0.030924381179706983,0.023755910138022602,0.02312808674920701,0.04230432258456279,0.03616407999035337,0.030680307914383066,0.030332741471467233,0.04617965610010639,0.04032741322470708,0.03614035752543101,0.03592477024152527,0.03426205387154881,0.02870131936335156,0.023581216412852855,0.023153547143738084,0.03626015786592101,0.03116973805967237,0.02679245070292947,0.026449587714533953,0.038801637558115186,0.0341540910278967,0.030166306767236577,0.029919625907802404,-0.0,6.615581152768209e-16,7.795554281031053e-15,3.0933593256517735e-14,0.030620510633097592,0.026685098623130458,0.02342457519914755,0.023161061364621194,0.04152875859677145,0.03739328347947543,0.0336339003562094,0.03350570892093727,-0.0,6.615581152768209e-16,7.795554281031053e-15,3.0933593256517735e-14,0.016470986526965093,0.014301550812938681,0.011772998591098253,0.011579633225473517,0.025418045764064673,0.022429125992614485,0.019536159104576487,0.019378583523166442,-0.0,6.615581152768209e-16,7.795554281031053e-15,3.0933593256517735e-14,0.017357495854135988,0.017354720865202775,0.017354791400565926,0.017355392968478604,0.025730965420813094,0.025730965420813094,0.025730953789947122,0.025730953426482475]},{\"label\":\"Bootstrap\",\"values\":[1,1,1,1,1,1,1,1,1,1,1,1,1,1,1,1,1,1,1,1,1,1,1,1,1,1,1,1,1,1,1,1,1,1,1,1,0,0,0,0,0,0,0,0,0,0,0,0,0,0,0,0,0,0,0,0,0,0,0,0,0,0,0,0,0,0,0,0,0,0,0,0]},{\"label\":\"Max Features\",\"values\":[5,5,5,5,5,5,5,5,5,5,5,5,20,20,20,20,20,20,20,20,20,20,20,20,43,43,43,43,43,43,43,43,43,43,43,43,5,5,5,5,5,5,5,5,5,5,5,5,20,20,20,20,20,20,20,20,20,20,20,20,43,43,43,43,43,43,43,43,43,43,43,43]},{\"label\":\"Estimators\",\"values\":[5,10,100,400,5,10,100,400,5,10,100,400,5,10,100,400,5,10,100,400,5,10,100,400,5,10,100,400,5,10,100,400,5,10,100,400,5,10,100,400,5,10,100,400,5,10,100,400,5,10,100,400,5,10,100,400,5,10,100,400,5,10,100,400,5,10,100,400,5,10,100,400]},{\"label\":\"Minimum Split\",\"values\":[2,2,2,2,5,5,5,5,8,8,8,8,2,2,2,2,5,5,5,5,8,8,8,8,2,2,2,2,5,5,5,5,8,8,8,8,2,2,2,2,5,5,5,5,8,8,8,8,2,2,2,2,5,5,5,5,8,8,8,8,2,2,2,2,5,5,5,5,8,8,8,8]}],\"domain\":{\"x\":[0.0,1.0],\"y\":[0.0,1.0]},\"line\":{\"color\":[0.08425680309322829,0.07744148496966025,0.06934420271861061,0.0687338686069152,0.0855104354776622,0.0771442170019922,0.07102086414771554,0.07025619064708497,0.08471423670568007,0.07726399743214465,0.07139218770952221,0.0715655031162825,0.074247686335899,0.06741032598082031,0.06220723494371139,0.061648770804955476,0.07257894748665697,0.06697622351237469,0.0623880534817061,0.061719964948706185,0.07252862529406923,0.06589132362910456,0.06266578882649437,0.062359575546472694,0.06834934715928587,0.06439836459101332,0.061747469386379886,0.061407024022870425,0.0691984328050449,0.06559862905302989,0.06182101772955981,0.06146727311524409,0.06771460344221436,0.06454265275902467,0.06194163591835254,0.06159339128537253,0.08014243864530517,0.07417647623982758,0.06627466173972088,0.06644323469744945,0.07962443913184049,0.07276381091815785,0.06787057948685818,0.06742537240297056,0.08076642001166356,0.07357079825443164,0.06855101158845965,0.06866259677036003,0.07028353594881293,0.0645750604789774,0.06009345026290198,0.05968254893651053,0.07030997785059516,0.06416974167203801,0.05949621016142183,0.05971192105683375,0.06978987819619382,0.06511361571728279,0.06033239421117955,0.060264749028917194,0.08343153420545385,0.08269509984487315,0.08227969089072366,0.08223956764843963,0.08178728280702743,0.08144022282031875,0.08155052641606862,0.08148659451434109,0.08198887827346832,0.08166569416063053,0.08136975299731156,0.08137359394103079],\"coloraxis\":\"coloraxis\"},\"name\":\"\",\"type\":\"parcoords\"}],                        {\"template\":{\"data\":{\"histogram2dcontour\":[{\"type\":\"histogram2dcontour\",\"colorbar\":{\"outlinewidth\":0,\"ticks\":\"\"},\"colorscale\":[[0.0,\"#0d0887\"],[0.1111111111111111,\"#46039f\"],[0.2222222222222222,\"#7201a8\"],[0.3333333333333333,\"#9c179e\"],[0.4444444444444444,\"#bd3786\"],[0.5555555555555556,\"#d8576b\"],[0.6666666666666666,\"#ed7953\"],[0.7777777777777778,\"#fb9f3a\"],[0.8888888888888888,\"#fdca26\"],[1.0,\"#f0f921\"]]}],\"choropleth\":[{\"type\":\"choropleth\",\"colorbar\":{\"outlinewidth\":0,\"ticks\":\"\"}}],\"histogram2d\":[{\"type\":\"histogram2d\",\"colorbar\":{\"outlinewidth\":0,\"ticks\":\"\"},\"colorscale\":[[0.0,\"#0d0887\"],[0.1111111111111111,\"#46039f\"],[0.2222222222222222,\"#7201a8\"],[0.3333333333333333,\"#9c179e\"],[0.4444444444444444,\"#bd3786\"],[0.5555555555555556,\"#d8576b\"],[0.6666666666666666,\"#ed7953\"],[0.7777777777777778,\"#fb9f3a\"],[0.8888888888888888,\"#fdca26\"],[1.0,\"#f0f921\"]]}],\"heatmap\":[{\"type\":\"heatmap\",\"colorbar\":{\"outlinewidth\":0,\"ticks\":\"\"},\"colorscale\":[[0.0,\"#0d0887\"],[0.1111111111111111,\"#46039f\"],[0.2222222222222222,\"#7201a8\"],[0.3333333333333333,\"#9c179e\"],[0.4444444444444444,\"#bd3786\"],[0.5555555555555556,\"#d8576b\"],[0.6666666666666666,\"#ed7953\"],[0.7777777777777778,\"#fb9f3a\"],[0.8888888888888888,\"#fdca26\"],[1.0,\"#f0f921\"]]}],\"heatmapgl\":[{\"type\":\"heatmapgl\",\"colorbar\":{\"outlinewidth\":0,\"ticks\":\"\"},\"colorscale\":[[0.0,\"#0d0887\"],[0.1111111111111111,\"#46039f\"],[0.2222222222222222,\"#7201a8\"],[0.3333333333333333,\"#9c179e\"],[0.4444444444444444,\"#bd3786\"],[0.5555555555555556,\"#d8576b\"],[0.6666666666666666,\"#ed7953\"],[0.7777777777777778,\"#fb9f3a\"],[0.8888888888888888,\"#fdca26\"],[1.0,\"#f0f921\"]]}],\"contourcarpet\":[{\"type\":\"contourcarpet\",\"colorbar\":{\"outlinewidth\":0,\"ticks\":\"\"}}],\"contour\":[{\"type\":\"contour\",\"colorbar\":{\"outlinewidth\":0,\"ticks\":\"\"},\"colorscale\":[[0.0,\"#0d0887\"],[0.1111111111111111,\"#46039f\"],[0.2222222222222222,\"#7201a8\"],[0.3333333333333333,\"#9c179e\"],[0.4444444444444444,\"#bd3786\"],[0.5555555555555556,\"#d8576b\"],[0.6666666666666666,\"#ed7953\"],[0.7777777777777778,\"#fb9f3a\"],[0.8888888888888888,\"#fdca26\"],[1.0,\"#f0f921\"]]}],\"surface\":[{\"type\":\"surface\",\"colorbar\":{\"outlinewidth\":0,\"ticks\":\"\"},\"colorscale\":[[0.0,\"#0d0887\"],[0.1111111111111111,\"#46039f\"],[0.2222222222222222,\"#7201a8\"],[0.3333333333333333,\"#9c179e\"],[0.4444444444444444,\"#bd3786\"],[0.5555555555555556,\"#d8576b\"],[0.6666666666666666,\"#ed7953\"],[0.7777777777777778,\"#fb9f3a\"],[0.8888888888888888,\"#fdca26\"],[1.0,\"#f0f921\"]]}],\"mesh3d\":[{\"type\":\"mesh3d\",\"colorbar\":{\"outlinewidth\":0,\"ticks\":\"\"}}],\"scatter\":[{\"fillpattern\":{\"fillmode\":\"overlay\",\"size\":10,\"solidity\":0.2},\"type\":\"scatter\"}],\"parcoords\":[{\"type\":\"parcoords\",\"line\":{\"colorbar\":{\"outlinewidth\":0,\"ticks\":\"\"}}}],\"scatterpolargl\":[{\"type\":\"scatterpolargl\",\"marker\":{\"colorbar\":{\"outlinewidth\":0,\"ticks\":\"\"}}}],\"bar\":[{\"error_x\":{\"color\":\"#2a3f5f\"},\"error_y\":{\"color\":\"#2a3f5f\"},\"marker\":{\"line\":{\"color\":\"#E5ECF6\",\"width\":0.5},\"pattern\":{\"fillmode\":\"overlay\",\"size\":10,\"solidity\":0.2}},\"type\":\"bar\"}],\"scattergeo\":[{\"type\":\"scattergeo\",\"marker\":{\"colorbar\":{\"outlinewidth\":0,\"ticks\":\"\"}}}],\"scatterpolar\":[{\"type\":\"scatterpolar\",\"marker\":{\"colorbar\":{\"outlinewidth\":0,\"ticks\":\"\"}}}],\"histogram\":[{\"marker\":{\"pattern\":{\"fillmode\":\"overlay\",\"size\":10,\"solidity\":0.2}},\"type\":\"histogram\"}],\"scattergl\":[{\"type\":\"scattergl\",\"marker\":{\"colorbar\":{\"outlinewidth\":0,\"ticks\":\"\"}}}],\"scatter3d\":[{\"type\":\"scatter3d\",\"line\":{\"colorbar\":{\"outlinewidth\":0,\"ticks\":\"\"}},\"marker\":{\"colorbar\":{\"outlinewidth\":0,\"ticks\":\"\"}}}],\"scattermapbox\":[{\"type\":\"scattermapbox\",\"marker\":{\"colorbar\":{\"outlinewidth\":0,\"ticks\":\"\"}}}],\"scatterternary\":[{\"type\":\"scatterternary\",\"marker\":{\"colorbar\":{\"outlinewidth\":0,\"ticks\":\"\"}}}],\"scattercarpet\":[{\"type\":\"scattercarpet\",\"marker\":{\"colorbar\":{\"outlinewidth\":0,\"ticks\":\"\"}}}],\"carpet\":[{\"aaxis\":{\"endlinecolor\":\"#2a3f5f\",\"gridcolor\":\"white\",\"linecolor\":\"white\",\"minorgridcolor\":\"white\",\"startlinecolor\":\"#2a3f5f\"},\"baxis\":{\"endlinecolor\":\"#2a3f5f\",\"gridcolor\":\"white\",\"linecolor\":\"white\",\"minorgridcolor\":\"white\",\"startlinecolor\":\"#2a3f5f\"},\"type\":\"carpet\"}],\"table\":[{\"cells\":{\"fill\":{\"color\":\"#EBF0F8\"},\"line\":{\"color\":\"white\"}},\"header\":{\"fill\":{\"color\":\"#C8D4E3\"},\"line\":{\"color\":\"white\"}},\"type\":\"table\"}],\"barpolar\":[{\"marker\":{\"line\":{\"color\":\"#E5ECF6\",\"width\":0.5},\"pattern\":{\"fillmode\":\"overlay\",\"size\":10,\"solidity\":0.2}},\"type\":\"barpolar\"}],\"pie\":[{\"automargin\":true,\"type\":\"pie\"}]},\"layout\":{\"autotypenumbers\":\"strict\",\"colorway\":[\"#636efa\",\"#EF553B\",\"#00cc96\",\"#ab63fa\",\"#FFA15A\",\"#19d3f3\",\"#FF6692\",\"#B6E880\",\"#FF97FF\",\"#FECB52\"],\"font\":{\"color\":\"#2a3f5f\"},\"hovermode\":\"closest\",\"hoverlabel\":{\"align\":\"left\"},\"paper_bgcolor\":\"white\",\"plot_bgcolor\":\"#E5ECF6\",\"polar\":{\"bgcolor\":\"#E5ECF6\",\"angularaxis\":{\"gridcolor\":\"white\",\"linecolor\":\"white\",\"ticks\":\"\"},\"radialaxis\":{\"gridcolor\":\"white\",\"linecolor\":\"white\",\"ticks\":\"\"}},\"ternary\":{\"bgcolor\":\"#E5ECF6\",\"aaxis\":{\"gridcolor\":\"white\",\"linecolor\":\"white\",\"ticks\":\"\"},\"baxis\":{\"gridcolor\":\"white\",\"linecolor\":\"white\",\"ticks\":\"\"},\"caxis\":{\"gridcolor\":\"white\",\"linecolor\":\"white\",\"ticks\":\"\"}},\"coloraxis\":{\"colorbar\":{\"outlinewidth\":0,\"ticks\":\"\"}},\"colorscale\":{\"sequential\":[[0.0,\"#0d0887\"],[0.1111111111111111,\"#46039f\"],[0.2222222222222222,\"#7201a8\"],[0.3333333333333333,\"#9c179e\"],[0.4444444444444444,\"#bd3786\"],[0.5555555555555556,\"#d8576b\"],[0.6666666666666666,\"#ed7953\"],[0.7777777777777778,\"#fb9f3a\"],[0.8888888888888888,\"#fdca26\"],[1.0,\"#f0f921\"]],\"sequentialminus\":[[0.0,\"#0d0887\"],[0.1111111111111111,\"#46039f\"],[0.2222222222222222,\"#7201a8\"],[0.3333333333333333,\"#9c179e\"],[0.4444444444444444,\"#bd3786\"],[0.5555555555555556,\"#d8576b\"],[0.6666666666666666,\"#ed7953\"],[0.7777777777777778,\"#fb9f3a\"],[0.8888888888888888,\"#fdca26\"],[1.0,\"#f0f921\"]],\"diverging\":[[0,\"#8e0152\"],[0.1,\"#c51b7d\"],[0.2,\"#de77ae\"],[0.3,\"#f1b6da\"],[0.4,\"#fde0ef\"],[0.5,\"#f7f7f7\"],[0.6,\"#e6f5d0\"],[0.7,\"#b8e186\"],[0.8,\"#7fbc41\"],[0.9,\"#4d9221\"],[1,\"#276419\"]]},\"xaxis\":{\"gridcolor\":\"white\",\"linecolor\":\"white\",\"ticks\":\"\",\"title\":{\"standoff\":15},\"zerolinecolor\":\"white\",\"automargin\":true,\"zerolinewidth\":2},\"yaxis\":{\"gridcolor\":\"white\",\"linecolor\":\"white\",\"ticks\":\"\",\"title\":{\"standoff\":15},\"zerolinecolor\":\"white\",\"automargin\":true,\"zerolinewidth\":2},\"scene\":{\"xaxis\":{\"backgroundcolor\":\"#E5ECF6\",\"gridcolor\":\"white\",\"linecolor\":\"white\",\"showbackground\":true,\"ticks\":\"\",\"zerolinecolor\":\"white\",\"gridwidth\":2},\"yaxis\":{\"backgroundcolor\":\"#E5ECF6\",\"gridcolor\":\"white\",\"linecolor\":\"white\",\"showbackground\":true,\"ticks\":\"\",\"zerolinecolor\":\"white\",\"gridwidth\":2},\"zaxis\":{\"backgroundcolor\":\"#E5ECF6\",\"gridcolor\":\"white\",\"linecolor\":\"white\",\"showbackground\":true,\"ticks\":\"\",\"zerolinecolor\":\"white\",\"gridwidth\":2}},\"shapedefaults\":{\"line\":{\"color\":\"#2a3f5f\"}},\"annotationdefaults\":{\"arrowcolor\":\"#2a3f5f\",\"arrowhead\":0,\"arrowwidth\":1},\"geo\":{\"bgcolor\":\"white\",\"landcolor\":\"#E5ECF6\",\"subunitcolor\":\"white\",\"showland\":true,\"showlakes\":true,\"lakecolor\":\"white\"},\"title\":{\"x\":0.05},\"mapbox\":{\"style\":\"light\"}}},\"coloraxis\":{\"colorbar\":{\"title\":{\"text\":\"RMSE\"}},\"colorscale\":[[0.0,\"rgb(0, 147, 146)\"],[0.16666666666666666,\"rgb(114, 170, 161)\"],[0.3333333333333333,\"rgb(177, 199, 179)\"],[0.5,\"rgb(241, 234, 200)\"],[0.6666666666666666,\"rgb(229, 185, 173)\"],[0.8333333333333334,\"rgb(217, 137, 148)\"],[1.0,\"rgb(208, 88, 126)\"]]},\"legend\":{\"tracegroupgap\":0},\"margin\":{\"t\":60}},                        {\"responsive\": true}                    ).then(function(){\n",
       "                            \n",
       "var gd = document.getElementById('6648fb42-04cb-4aac-9782-58565f15114e');\n",
       "var x = new MutationObserver(function (mutations, observer) {{\n",
       "        var display = window.getComputedStyle(gd).display;\n",
       "        if (!display || display === 'none') {{\n",
       "            console.log([gd, 'removed!']);\n",
       "            Plotly.purge(gd);\n",
       "            observer.disconnect();\n",
       "        }}\n",
       "}});\n",
       "\n",
       "// Listen for the removal of the full notebook cells\n",
       "var notebookContainer = gd.closest('#notebook-container');\n",
       "if (notebookContainer) {{\n",
       "    x.observe(notebookContainer, {childList: true});\n",
       "}}\n",
       "\n",
       "// Listen for the clearing of the current output cell\n",
       "var outputEl = gd.closest('.output');\n",
       "if (outputEl) {{\n",
       "    x.observe(outputEl, {childList: true});\n",
       "}}\n",
       "\n",
       "                        })                };                });            </script>        </div>"
      ]
     },
     "metadata": {},
     "output_type": "display_data"
    }
   ],
   "source": [
    "# had to 'pip install \"notebook>=5.3\" \"ipywidgets>=7.2\"' for this to show up.\n",
    "fit_plot = cvrse_df[['test_rmse', 'train_rmse', 'bootstrap', 'max_features', 'n_estimators', 'min_samples_split']].copy()\n",
    "fit_plot['bootstrap'] = [1 if i else 0 for i in fit_plot['bootstrap']]\n",
    "fit_plot['max_features'] = [43 if i == 'auto' else i for i in fit_plot['max_features']]\n",
    "fig = px.parallel_coordinates(fit_plot, color = 'test_rmse', \n",
    "                              labels = {'test_rmse': 'RMSE', \n",
    "                                        'train_rmse': 'Train RMSE', \n",
    "                                        'bootstrap': 'Bootstrap', \n",
    "                                        'max_features': 'Max Features', \n",
    "                                        'n_estimators': 'Estimators',\n",
    "                                        'min_samples_split': 'Minimum Split'}, \n",
    "                              color_continuous_scale = px.colors.diverging.Tealrose)\n",
    "fig.show()"
   ]
  },
  {
   "cell_type": "code",
   "execution_count": 39,
   "id": "b659a717-9b78-404f-81c6-147614334673",
   "metadata": {},
   "outputs": [],
   "source": [
    "# Apply best estimator on test set\n",
    "\n",
    "model_hp = grid_search.best_estimator_\n",
    "predictions = model_hp.predict(test)\n",
    "\n",
    "# function to put predicted data in submission format \n",
    "def submission_format(predictions, test_orig):\n",
    "    \"\"\"\n",
    "    predictions: output of predict() from running model \n",
    "    test_orig: original test data to get ID \n",
    "    \n",
    "    returns: predictions with ID and applied exponential to undo log transform\n",
    "    \"\"\"\n",
    "    # create data frame with id\n",
    "    predictions_df = pd.DataFrame({'Id': test_orig['Id'], \n",
    "                               'SalePrice': predictions.tolist()})\n",
    "    # log transform back the sale price\n",
    "    predictions_df['SalePrice'] = 10**predictions_df['SalePrice']\n",
    "    \n",
    "    return predictions_df\n",
    "\n",
    "predictions_df = submission_format(predictions, test_orig)\n",
    "predictions_df.head()\n",
    "\n",
    "predictions_df.to_csv('results/prediction_rf_hp_feng.csv', index = False)"
   ]
  },
  {
   "cell_type": "code",
   "execution_count": 40,
   "id": "c4c91249-a4a1-4fcd-b6c5-7a18dcc7a29b",
   "metadata": {},
   "outputs": [
    {
     "data": {
      "text/plain": [
       "['Results/models/rf_hp_tuned_3.sav']"
      ]
     },
     "execution_count": 40,
     "metadata": {},
     "output_type": "execute_result"
    }
   ],
   "source": [
    "#save model \n",
    "joblib.dump(model_hp, 'Results/models/rf_hp_tuned_3.sav')"
   ]
  },
  {
   "cell_type": "markdown",
   "id": "d1973852-d8d0-422b-8bb5-a06cab84638e",
   "metadata": {},
   "source": [
    "## Gradient Boosted Decision Trees"
   ]
  },
  {
   "cell_type": "code",
   "execution_count": 49,
   "id": "bb7f064e-bc85-434f-b91f-8b6c3980f686",
   "metadata": {},
   "outputs": [],
   "source": [
    "import xgboost as xgb\n",
    "from sklearn.model_selection import train_test_split"
   ]
  },
  {
   "cell_type": "markdown",
   "id": "ab98f5f6-2762-4e66-836c-be81dc239a1f",
   "metadata": {},
   "source": [
    "### Create baseline model "
   ]
  },
  {
   "cell_type": "code",
   "execution_count": 78,
   "id": "00c8abf4-088f-4606-b11f-35128d18c82f",
   "metadata": {},
   "outputs": [],
   "source": [
    "data_dmatrix = xgb.DMatrix(data = X, label = y)\n",
    "X_train, X_test, y_train, y_test = train_test_split(X, y, test_size = 0.2, random_state = 22)"
   ]
  },
  {
   "cell_type": "code",
   "execution_count": 80,
   "id": "dbd24fac-a913-4e92-9f0c-408e2aaeef20",
   "metadata": {},
   "outputs": [],
   "source": [
    "xg_reg = xgb.XGBRegressor(objective = 'reg:squarederror', seed = 22)\n",
    "xg_reg.fit(X_train, y_train)\n",
    "preds = xg_reg.predict(X_test) "
   ]
  },
  {
   "cell_type": "code",
   "execution_count": 58,
   "id": "a3687f13-668b-4d1d-a8a4-34cbe9b25403",
   "metadata": {},
   "outputs": [
    {
     "name": "stdout",
     "output_type": "stream",
     "text": [
      "0.05772145490232267\n"
     ]
    }
   ],
   "source": [
    "rmse = np.sqrt(mean_squared_error(y_test, preds))\n",
    "print(rmse)"
   ]
  },
  {
   "cell_type": "markdown",
   "id": "c3d9752b-a25a-4f71-8196-1ef043fe56b5",
   "metadata": {},
   "source": [
    "Baseline model seems more promising than random forest regression"
   ]
  },
  {
   "cell_type": "markdown",
   "id": "7a338b8a-fa71-48f0-bee0-e5ccf6ae2378",
   "metadata": {},
   "source": [
    "### Hyperparameter tuning"
   ]
  },
  {
   "cell_type": "code",
   "execution_count": 89,
   "id": "9471456d-f7dc-4544-a2a8-d7b85a94f93c",
   "metadata": {},
   "outputs": [
    {
     "name": "stdout",
     "output_type": "stream",
     "text": [
      "Fitting 3 folds for each of 54 candidates, totalling 162 fits\n",
      "[CV 1/3] END colsample_bytree=0.3, learning_rate=0.05, max_depth=3, n_estimators=400;, score=(train=-0.001, test=-0.002) total time=   0.9s\n",
      "[CV 2/3] END colsample_bytree=0.3, learning_rate=0.05, max_depth=3, n_estimators=400;, score=(train=-0.001, test=-0.004) total time=   0.8s\n",
      "[CV 3/3] END colsample_bytree=0.3, learning_rate=0.05, max_depth=3, n_estimators=400;, score=(train=-0.001, test=-0.002) total time=   0.8s\n",
      "[CV 1/3] END colsample_bytree=0.3, learning_rate=0.05, max_depth=3, n_estimators=800;, score=(train=-0.000, test=-0.002) total time=   1.7s\n",
      "[CV 2/3] END colsample_bytree=0.3, learning_rate=0.05, max_depth=3, n_estimators=800;, score=(train=-0.000, test=-0.004) total time=   1.5s\n",
      "[CV 3/3] END colsample_bytree=0.3, learning_rate=0.05, max_depth=3, n_estimators=800;, score=(train=-0.000, test=-0.002) total time=   1.6s\n",
      "[CV 1/3] END colsample_bytree=0.3, learning_rate=0.05, max_depth=3, n_estimators=1500;, score=(train=-0.000, test=-0.002) total time=   2.9s\n",
      "[CV 2/3] END colsample_bytree=0.3, learning_rate=0.05, max_depth=3, n_estimators=1500;, score=(train=-0.000, test=-0.004) total time=   3.2s\n",
      "[CV 3/3] END colsample_bytree=0.3, learning_rate=0.05, max_depth=3, n_estimators=1500;, score=(train=-0.000, test=-0.002) total time=   3.1s\n",
      "[CV 1/3] END colsample_bytree=0.3, learning_rate=0.05, max_depth=5, n_estimators=400;, score=(train=-0.000, test=-0.002) total time=   1.0s\n",
      "[CV 2/3] END colsample_bytree=0.3, learning_rate=0.05, max_depth=5, n_estimators=400;, score=(train=-0.000, test=-0.004) total time=   1.1s\n",
      "[CV 3/3] END colsample_bytree=0.3, learning_rate=0.05, max_depth=5, n_estimators=400;, score=(train=-0.000, test=-0.002) total time=   1.1s\n",
      "[CV 1/3] END colsample_bytree=0.3, learning_rate=0.05, max_depth=5, n_estimators=800;, score=(train=-0.000, test=-0.002) total time=   2.0s\n",
      "[CV 2/3] END colsample_bytree=0.3, learning_rate=0.05, max_depth=5, n_estimators=800;, score=(train=-0.000, test=-0.004) total time=   2.0s\n",
      "[CV 3/3] END colsample_bytree=0.3, learning_rate=0.05, max_depth=5, n_estimators=800;, score=(train=-0.000, test=-0.002) total time=   2.1s\n",
      "[CV 1/3] END colsample_bytree=0.3, learning_rate=0.05, max_depth=5, n_estimators=1500;, score=(train=-0.000, test=-0.002) total time=   3.7s\n",
      "[CV 2/3] END colsample_bytree=0.3, learning_rate=0.05, max_depth=5, n_estimators=1500;, score=(train=-0.000, test=-0.004) total time=   3.9s\n",
      "[CV 3/3] END colsample_bytree=0.3, learning_rate=0.05, max_depth=5, n_estimators=1500;, score=(train=-0.000, test=-0.002) total time=   3.9s\n",
      "[CV 1/3] END colsample_bytree=0.3, learning_rate=0.1, max_depth=3, n_estimators=400;, score=(train=-0.000, test=-0.002) total time=   0.8s\n",
      "[CV 2/3] END colsample_bytree=0.3, learning_rate=0.1, max_depth=3, n_estimators=400;, score=(train=-0.000, test=-0.004) total time=   0.9s\n",
      "[CV 3/3] END colsample_bytree=0.3, learning_rate=0.1, max_depth=3, n_estimators=400;, score=(train=-0.000, test=-0.003) total time=   0.8s\n",
      "[CV 1/3] END colsample_bytree=0.3, learning_rate=0.1, max_depth=3, n_estimators=800;, score=(train=-0.000, test=-0.002) total time=   1.6s\n",
      "[CV 2/3] END colsample_bytree=0.3, learning_rate=0.1, max_depth=3, n_estimators=800;, score=(train=-0.000, test=-0.004) total time=   1.7s\n",
      "[CV 3/3] END colsample_bytree=0.3, learning_rate=0.1, max_depth=3, n_estimators=800;, score=(train=-0.000, test=-0.002) total time=   1.7s\n",
      "[CV 1/3] END colsample_bytree=0.3, learning_rate=0.1, max_depth=3, n_estimators=1500;, score=(train=-0.000, test=-0.002) total time=   3.5s\n",
      "[CV 2/3] END colsample_bytree=0.3, learning_rate=0.1, max_depth=3, n_estimators=1500;, score=(train=-0.000, test=-0.004) total time=   4.5s\n",
      "[CV 3/3] END colsample_bytree=0.3, learning_rate=0.1, max_depth=3, n_estimators=1500;, score=(train=-0.000, test=-0.002) total time=   4.2s\n",
      "[CV 1/3] END colsample_bytree=0.3, learning_rate=0.1, max_depth=5, n_estimators=400;, score=(train=-0.000, test=-0.002) total time=   1.4s\n",
      "[CV 2/3] END colsample_bytree=0.3, learning_rate=0.1, max_depth=5, n_estimators=400;, score=(train=-0.000, test=-0.004) total time=   1.4s\n",
      "[CV 3/3] END colsample_bytree=0.3, learning_rate=0.1, max_depth=5, n_estimators=400;, score=(train=-0.000, test=-0.003) total time=   1.3s\n",
      "[CV 1/3] END colsample_bytree=0.3, learning_rate=0.1, max_depth=5, n_estimators=800;, score=(train=-0.000, test=-0.002) total time=   3.0s\n",
      "[CV 2/3] END colsample_bytree=0.3, learning_rate=0.1, max_depth=5, n_estimators=800;, score=(train=-0.000, test=-0.004) total time=   2.6s\n",
      "[CV 3/3] END colsample_bytree=0.3, learning_rate=0.1, max_depth=5, n_estimators=800;, score=(train=-0.000, test=-0.003) total time=   2.7s\n",
      "[CV 1/3] END colsample_bytree=0.3, learning_rate=0.1, max_depth=5, n_estimators=1500;, score=(train=-0.000, test=-0.002) total time=   4.0s\n",
      "[CV 2/3] END colsample_bytree=0.3, learning_rate=0.1, max_depth=5, n_estimators=1500;, score=(train=-0.000, test=-0.004) total time=   4.1s\n",
      "[CV 3/3] END colsample_bytree=0.3, learning_rate=0.1, max_depth=5, n_estimators=1500;, score=(train=-0.000, test=-0.003) total time=   3.8s\n",
      "[CV 1/3] END colsample_bytree=0.3, learning_rate=0.3, max_depth=3, n_estimators=400;, score=(train=-0.000, test=-0.003) total time=   1.0s\n",
      "[CV 2/3] END colsample_bytree=0.3, learning_rate=0.3, max_depth=3, n_estimators=400;, score=(train=-0.000, test=-0.004) total time=   1.0s\n",
      "[CV 3/3] END colsample_bytree=0.3, learning_rate=0.3, max_depth=3, n_estimators=400;, score=(train=-0.000, test=-0.003) total time=   1.0s\n",
      "[CV 1/3] END colsample_bytree=0.3, learning_rate=0.3, max_depth=3, n_estimators=800;, score=(train=-0.000, test=-0.003) total time=   1.9s\n",
      "[CV 2/3] END colsample_bytree=0.3, learning_rate=0.3, max_depth=3, n_estimators=800;, score=(train=-0.000, test=-0.004) total time=   2.0s\n",
      "[CV 3/3] END colsample_bytree=0.3, learning_rate=0.3, max_depth=3, n_estimators=800;, score=(train=-0.000, test=-0.003) total time=   2.3s\n",
      "[CV 1/3] END colsample_bytree=0.3, learning_rate=0.3, max_depth=3, n_estimators=1500;, score=(train=-0.000, test=-0.003) total time=   4.4s\n",
      "[CV 2/3] END colsample_bytree=0.3, learning_rate=0.3, max_depth=3, n_estimators=1500;, score=(train=-0.000, test=-0.004) total time=   4.8s\n",
      "[CV 3/3] END colsample_bytree=0.3, learning_rate=0.3, max_depth=3, n_estimators=1500;, score=(train=-0.000, test=-0.003) total time=   4.3s\n",
      "[CV 1/3] END colsample_bytree=0.3, learning_rate=0.3, max_depth=5, n_estimators=400;, score=(train=-0.000, test=-0.003) total time=   1.4s\n",
      "[CV 2/3] END colsample_bytree=0.3, learning_rate=0.3, max_depth=5, n_estimators=400;, score=(train=-0.000, test=-0.004) total time=   1.5s\n",
      "[CV 3/3] END colsample_bytree=0.3, learning_rate=0.3, max_depth=5, n_estimators=400;, score=(train=-0.000, test=-0.003) total time=   1.2s\n",
      "[CV 1/3] END colsample_bytree=0.3, learning_rate=0.3, max_depth=5, n_estimators=800;, score=(train=-0.000, test=-0.003) total time=   2.0s\n",
      "[CV 2/3] END colsample_bytree=0.3, learning_rate=0.3, max_depth=5, n_estimators=800;, score=(train=-0.000, test=-0.004) total time=   2.2s\n",
      "[CV 3/3] END colsample_bytree=0.3, learning_rate=0.3, max_depth=5, n_estimators=800;, score=(train=-0.000, test=-0.003) total time=   2.1s\n",
      "[CV 1/3] END colsample_bytree=0.3, learning_rate=0.3, max_depth=5, n_estimators=1500;, score=(train=-0.000, test=-0.003) total time=   3.4s\n",
      "[CV 2/3] END colsample_bytree=0.3, learning_rate=0.3, max_depth=5, n_estimators=1500;, score=(train=-0.000, test=-0.004) total time=   3.1s\n",
      "[CV 3/3] END colsample_bytree=0.3, learning_rate=0.3, max_depth=5, n_estimators=1500;, score=(train=-0.000, test=-0.003) total time=   3.2s\n",
      "[CV 1/3] END colsample_bytree=0.5, learning_rate=0.05, max_depth=3, n_estimators=400;, score=(train=-0.001, test=-0.002) total time=   1.3s\n",
      "[CV 2/3] END colsample_bytree=0.5, learning_rate=0.05, max_depth=3, n_estimators=400;, score=(train=-0.001, test=-0.004) total time=   1.3s\n",
      "[CV 3/3] END colsample_bytree=0.5, learning_rate=0.05, max_depth=3, n_estimators=400;, score=(train=-0.001, test=-0.003) total time=   1.3s\n",
      "[CV 1/3] END colsample_bytree=0.5, learning_rate=0.05, max_depth=3, n_estimators=800;, score=(train=-0.000, test=-0.002) total time=   2.6s\n",
      "[CV 2/3] END colsample_bytree=0.5, learning_rate=0.05, max_depth=3, n_estimators=800;, score=(train=-0.000, test=-0.004) total time=   2.7s\n",
      "[CV 3/3] END colsample_bytree=0.5, learning_rate=0.05, max_depth=3, n_estimators=800;, score=(train=-0.000, test=-0.002) total time=   2.7s\n",
      "[CV 1/3] END colsample_bytree=0.5, learning_rate=0.05, max_depth=3, n_estimators=1500;, score=(train=-0.000, test=-0.002) total time=   4.8s\n",
      "[CV 2/3] END colsample_bytree=0.5, learning_rate=0.05, max_depth=3, n_estimators=1500;, score=(train=-0.000, test=-0.004) total time=   4.7s\n",
      "[CV 3/3] END colsample_bytree=0.5, learning_rate=0.05, max_depth=3, n_estimators=1500;, score=(train=-0.000, test=-0.002) total time=   4.7s\n",
      "[CV 1/3] END colsample_bytree=0.5, learning_rate=0.05, max_depth=5, n_estimators=400;, score=(train=-0.000, test=-0.002) total time=   1.7s\n",
      "[CV 2/3] END colsample_bytree=0.5, learning_rate=0.05, max_depth=5, n_estimators=400;, score=(train=-0.000, test=-0.004) total time=   1.8s\n",
      "[CV 3/3] END colsample_bytree=0.5, learning_rate=0.05, max_depth=5, n_estimators=400;, score=(train=-0.000, test=-0.002) total time=   1.6s\n",
      "[CV 1/3] END colsample_bytree=0.5, learning_rate=0.05, max_depth=5, n_estimators=800;, score=(train=-0.000, test=-0.002) total time=   3.4s\n",
      "[CV 2/3] END colsample_bytree=0.5, learning_rate=0.05, max_depth=5, n_estimators=800;, score=(train=-0.000, test=-0.004) total time=   3.6s\n",
      "[CV 3/3] END colsample_bytree=0.5, learning_rate=0.05, max_depth=5, n_estimators=800;, score=(train=-0.000, test=-0.002) total time=   3.5s\n",
      "[CV 1/3] END colsample_bytree=0.5, learning_rate=0.05, max_depth=5, n_estimators=1500;, score=(train=-0.000, test=-0.002) total time=   6.3s\n",
      "[CV 2/3] END colsample_bytree=0.5, learning_rate=0.05, max_depth=5, n_estimators=1500;, score=(train=-0.000, test=-0.004) total time=   6.6s\n",
      "[CV 3/3] END colsample_bytree=0.5, learning_rate=0.05, max_depth=5, n_estimators=1500;, score=(train=-0.000, test=-0.002) total time=   6.4s\n",
      "[CV 1/3] END colsample_bytree=0.5, learning_rate=0.1, max_depth=3, n_estimators=400;, score=(train=-0.000, test=-0.002) total time=   1.4s\n",
      "[CV 2/3] END colsample_bytree=0.5, learning_rate=0.1, max_depth=3, n_estimators=400;, score=(train=-0.000, test=-0.004) total time=   1.3s\n",
      "[CV 3/3] END colsample_bytree=0.5, learning_rate=0.1, max_depth=3, n_estimators=400;, score=(train=-0.000, test=-0.003) total time=   1.3s\n",
      "[CV 1/3] END colsample_bytree=0.5, learning_rate=0.1, max_depth=3, n_estimators=800;, score=(train=-0.000, test=-0.002) total time=   2.4s\n",
      "[CV 2/3] END colsample_bytree=0.5, learning_rate=0.1, max_depth=3, n_estimators=800;, score=(train=-0.000, test=-0.004) total time=   2.7s\n",
      "[CV 3/3] END colsample_bytree=0.5, learning_rate=0.1, max_depth=3, n_estimators=800;, score=(train=-0.000, test=-0.003) total time=   2.5s\n",
      "[CV 1/3] END colsample_bytree=0.5, learning_rate=0.1, max_depth=3, n_estimators=1500;, score=(train=-0.000, test=-0.002) total time=   5.0s\n",
      "[CV 2/3] END colsample_bytree=0.5, learning_rate=0.1, max_depth=3, n_estimators=1500;, score=(train=-0.000, test=-0.004) total time=   5.0s\n",
      "[CV 3/3] END colsample_bytree=0.5, learning_rate=0.1, max_depth=3, n_estimators=1500;, score=(train=-0.000, test=-0.003) total time=   5.0s\n",
      "[CV 1/3] END colsample_bytree=0.5, learning_rate=0.1, max_depth=5, n_estimators=400;, score=(train=-0.000, test=-0.002) total time=   1.9s\n",
      "[CV 2/3] END colsample_bytree=0.5, learning_rate=0.1, max_depth=5, n_estimators=400;, score=(train=-0.000, test=-0.003) total time=   1.8s\n",
      "[CV 3/3] END colsample_bytree=0.5, learning_rate=0.1, max_depth=5, n_estimators=400;, score=(train=-0.000, test=-0.003) total time=   1.8s\n",
      "[CV 1/3] END colsample_bytree=0.5, learning_rate=0.1, max_depth=5, n_estimators=800;, score=(train=-0.000, test=-0.003) total time=   3.1s\n",
      "[CV 2/3] END colsample_bytree=0.5, learning_rate=0.1, max_depth=5, n_estimators=800;, score=(train=-0.000, test=-0.003) total time=   3.2s\n",
      "[CV 3/3] END colsample_bytree=0.5, learning_rate=0.1, max_depth=5, n_estimators=800;, score=(train=-0.000, test=-0.003) total time=   3.4s\n",
      "[CV 1/3] END colsample_bytree=0.5, learning_rate=0.1, max_depth=5, n_estimators=1500;, score=(train=-0.000, test=-0.003) total time=   4.7s\n",
      "[CV 2/3] END colsample_bytree=0.5, learning_rate=0.1, max_depth=5, n_estimators=1500;, score=(train=-0.000, test=-0.003) total time=   4.9s\n",
      "[CV 3/3] END colsample_bytree=0.5, learning_rate=0.1, max_depth=5, n_estimators=1500;, score=(train=-0.000, test=-0.003) total time=   5.7s\n",
      "[CV 1/3] END colsample_bytree=0.5, learning_rate=0.3, max_depth=3, n_estimators=400;, score=(train=-0.000, test=-0.003) total time=   1.3s\n",
      "[CV 2/3] END colsample_bytree=0.5, learning_rate=0.3, max_depth=3, n_estimators=400;, score=(train=-0.000, test=-0.004) total time=   1.3s\n",
      "[CV 3/3] END colsample_bytree=0.5, learning_rate=0.3, max_depth=3, n_estimators=400;, score=(train=-0.000, test=-0.003) total time=   1.3s\n",
      "[CV 1/3] END colsample_bytree=0.5, learning_rate=0.3, max_depth=3, n_estimators=800;, score=(train=-0.000, test=-0.003) total time=   2.4s\n",
      "[CV 2/3] END colsample_bytree=0.5, learning_rate=0.3, max_depth=3, n_estimators=800;, score=(train=-0.000, test=-0.004) total time=   2.6s\n",
      "[CV 3/3] END colsample_bytree=0.5, learning_rate=0.3, max_depth=3, n_estimators=800;, score=(train=-0.000, test=-0.003) total time=   2.6s\n",
      "[CV 1/3] END colsample_bytree=0.5, learning_rate=0.3, max_depth=3, n_estimators=1500;, score=(train=-0.000, test=-0.003) total time=   3.9s\n",
      "[CV 2/3] END colsample_bytree=0.5, learning_rate=0.3, max_depth=3, n_estimators=1500;, score=(train=-0.000, test=-0.004) total time=   4.0s\n",
      "[CV 3/3] END colsample_bytree=0.5, learning_rate=0.3, max_depth=3, n_estimators=1500;, score=(train=-0.000, test=-0.003) total time=   4.3s\n",
      "[CV 1/3] END colsample_bytree=0.5, learning_rate=0.3, max_depth=5, n_estimators=400;, score=(train=-0.000, test=-0.003) total time=   1.5s\n",
      "[CV 2/3] END colsample_bytree=0.5, learning_rate=0.3, max_depth=5, n_estimators=400;, score=(train=-0.000, test=-0.004) total time=   1.7s\n",
      "[CV 3/3] END colsample_bytree=0.5, learning_rate=0.3, max_depth=5, n_estimators=400;, score=(train=-0.000, test=-0.003) total time=   1.9s\n",
      "[CV 1/3] END colsample_bytree=0.5, learning_rate=0.3, max_depth=5, n_estimators=800;, score=(train=-0.000, test=-0.003) total time=   2.3s\n",
      "[CV 2/3] END colsample_bytree=0.5, learning_rate=0.3, max_depth=5, n_estimators=800;, score=(train=-0.000, test=-0.004) total time=   2.2s\n",
      "[CV 3/3] END colsample_bytree=0.5, learning_rate=0.3, max_depth=5, n_estimators=800;, score=(train=-0.000, test=-0.003) total time=   2.3s\n",
      "[CV 1/3] END colsample_bytree=0.5, learning_rate=0.3, max_depth=5, n_estimators=1500;, score=(train=-0.000, test=-0.003) total time=   3.5s\n",
      "[CV 2/3] END colsample_bytree=0.5, learning_rate=0.3, max_depth=5, n_estimators=1500;, score=(train=-0.000, test=-0.004) total time=   3.5s\n",
      "[CV 3/3] END colsample_bytree=0.5, learning_rate=0.3, max_depth=5, n_estimators=1500;, score=(train=-0.000, test=-0.003) total time=   3.6s\n",
      "[CV 1/3] END colsample_bytree=0.7, learning_rate=0.05, max_depth=3, n_estimators=400;, score=(train=-0.001, test=-0.002) total time=   1.5s\n",
      "[CV 2/3] END colsample_bytree=0.7, learning_rate=0.05, max_depth=3, n_estimators=400;, score=(train=-0.001, test=-0.004) total time=   1.5s\n",
      "[CV 3/3] END colsample_bytree=0.7, learning_rate=0.05, max_depth=3, n_estimators=400;, score=(train=-0.001, test=-0.003) total time=   1.5s\n",
      "[CV 1/3] END colsample_bytree=0.7, learning_rate=0.05, max_depth=3, n_estimators=800;, score=(train=-0.000, test=-0.002) total time=   3.0s\n",
      "[CV 2/3] END colsample_bytree=0.7, learning_rate=0.05, max_depth=3, n_estimators=800;, score=(train=-0.000, test=-0.003) total time=   3.2s\n",
      "[CV 3/3] END colsample_bytree=0.7, learning_rate=0.05, max_depth=3, n_estimators=800;, score=(train=-0.000, test=-0.002) total time=   4.0s\n",
      "[CV 1/3] END colsample_bytree=0.7, learning_rate=0.05, max_depth=3, n_estimators=1500;, score=(train=-0.000, test=-0.002) total time=   7.4s\n",
      "[CV 2/3] END colsample_bytree=0.7, learning_rate=0.05, max_depth=3, n_estimators=1500;, score=(train=-0.000, test=-0.003) total time=   6.7s\n",
      "[CV 3/3] END colsample_bytree=0.7, learning_rate=0.05, max_depth=3, n_estimators=1500;, score=(train=-0.000, test=-0.002) total time=   5.4s\n",
      "[CV 1/3] END colsample_bytree=0.7, learning_rate=0.05, max_depth=5, n_estimators=400;, score=(train=-0.000, test=-0.002) total time=   2.0s\n",
      "[CV 2/3] END colsample_bytree=0.7, learning_rate=0.05, max_depth=5, n_estimators=400;, score=(train=-0.000, test=-0.004) total time=   2.2s\n",
      "[CV 3/3] END colsample_bytree=0.7, learning_rate=0.05, max_depth=5, n_estimators=400;, score=(train=-0.000, test=-0.002) total time=   2.1s\n",
      "[CV 1/3] END colsample_bytree=0.7, learning_rate=0.05, max_depth=5, n_estimators=800;, score=(train=-0.000, test=-0.002) total time=   4.4s\n",
      "[CV 2/3] END colsample_bytree=0.7, learning_rate=0.05, max_depth=5, n_estimators=800;, score=(train=-0.000, test=-0.004) total time=   6.8s\n",
      "[CV 3/3] END colsample_bytree=0.7, learning_rate=0.05, max_depth=5, n_estimators=800;, score=(train=-0.000, test=-0.002) total time=   5.6s\n",
      "[CV 1/3] END colsample_bytree=0.7, learning_rate=0.05, max_depth=5, n_estimators=1500;, score=(train=-0.000, test=-0.002) total time=  10.9s\n",
      "[CV 2/3] END colsample_bytree=0.7, learning_rate=0.05, max_depth=5, n_estimators=1500;, score=(train=-0.000, test=-0.004) total time=   9.9s\n",
      "[CV 3/3] END colsample_bytree=0.7, learning_rate=0.05, max_depth=5, n_estimators=1500;, score=(train=-0.000, test=-0.002) total time=  11.4s\n",
      "[CV 1/3] END colsample_bytree=0.7, learning_rate=0.1, max_depth=3, n_estimators=400;, score=(train=-0.000, test=-0.002) total time=   2.3s\n",
      "[CV 2/3] END colsample_bytree=0.7, learning_rate=0.1, max_depth=3, n_estimators=400;, score=(train=-0.000, test=-0.004) total time=   1.8s\n",
      "[CV 3/3] END colsample_bytree=0.7, learning_rate=0.1, max_depth=3, n_estimators=400;, score=(train=-0.000, test=-0.002) total time=   1.6s\n",
      "[CV 1/3] END colsample_bytree=0.7, learning_rate=0.1, max_depth=3, n_estimators=800;, score=(train=-0.000, test=-0.002) total time=   3.2s\n",
      "[CV 2/3] END colsample_bytree=0.7, learning_rate=0.1, max_depth=3, n_estimators=800;, score=(train=-0.000, test=-0.004) total time=   4.6s\n",
      "[CV 3/3] END colsample_bytree=0.7, learning_rate=0.1, max_depth=3, n_estimators=800;, score=(train=-0.000, test=-0.002) total time=   3.1s\n",
      "[CV 1/3] END colsample_bytree=0.7, learning_rate=0.1, max_depth=3, n_estimators=1500;, score=(train=-0.000, test=-0.002) total time=   6.6s\n",
      "[CV 2/3] END colsample_bytree=0.7, learning_rate=0.1, max_depth=3, n_estimators=1500;, score=(train=-0.000, test=-0.004) total time=   6.8s\n",
      "[CV 3/3] END colsample_bytree=0.7, learning_rate=0.1, max_depth=3, n_estimators=1500;, score=(train=-0.000, test=-0.003) total time=   6.5s\n",
      "[CV 1/3] END colsample_bytree=0.7, learning_rate=0.1, max_depth=5, n_estimators=400;, score=(train=-0.000, test=-0.002) total time=   2.5s\n",
      "[CV 2/3] END colsample_bytree=0.7, learning_rate=0.1, max_depth=5, n_estimators=400;, score=(train=-0.000, test=-0.004) total time=   2.3s\n",
      "[CV 3/3] END colsample_bytree=0.7, learning_rate=0.1, max_depth=5, n_estimators=400;, score=(train=-0.000, test=-0.002) total time=   2.2s\n",
      "[CV 1/3] END colsample_bytree=0.7, learning_rate=0.1, max_depth=5, n_estimators=800;, score=(train=-0.000, test=-0.002) total time=   3.7s\n",
      "[CV 2/3] END colsample_bytree=0.7, learning_rate=0.1, max_depth=5, n_estimators=800;, score=(train=-0.000, test=-0.004) total time=   4.3s\n",
      "[CV 3/3] END colsample_bytree=0.7, learning_rate=0.1, max_depth=5, n_estimators=800;, score=(train=-0.000, test=-0.002) total time=   4.2s\n",
      "[CV 1/3] END colsample_bytree=0.7, learning_rate=0.1, max_depth=5, n_estimators=1500;, score=(train=-0.000, test=-0.002) total time=   5.5s\n",
      "[CV 2/3] END colsample_bytree=0.7, learning_rate=0.1, max_depth=5, n_estimators=1500;, score=(train=-0.000, test=-0.004) total time=   5.5s\n",
      "[CV 3/3] END colsample_bytree=0.7, learning_rate=0.1, max_depth=5, n_estimators=1500;, score=(train=-0.000, test=-0.002) total time=   6.9s\n",
      "[CV 1/3] END colsample_bytree=0.7, learning_rate=0.3, max_depth=3, n_estimators=400;, score=(train=-0.000, test=-0.003) total time=   1.6s\n",
      "[CV 2/3] END colsample_bytree=0.7, learning_rate=0.3, max_depth=3, n_estimators=400;, score=(train=-0.000, test=-0.004) total time=   1.8s\n",
      "[CV 3/3] END colsample_bytree=0.7, learning_rate=0.3, max_depth=3, n_estimators=400;, score=(train=-0.000, test=-0.003) total time=   2.5s\n",
      "[CV 1/3] END colsample_bytree=0.7, learning_rate=0.3, max_depth=3, n_estimators=800;, score=(train=-0.000, test=-0.003) total time=   3.5s\n",
      "[CV 2/3] END colsample_bytree=0.7, learning_rate=0.3, max_depth=3, n_estimators=800;, score=(train=-0.000, test=-0.004) total time=   3.1s\n",
      "[CV 3/3] END colsample_bytree=0.7, learning_rate=0.3, max_depth=3, n_estimators=800;, score=(train=-0.000, test=-0.003) total time=   3.6s\n",
      "[CV 1/3] END colsample_bytree=0.7, learning_rate=0.3, max_depth=3, n_estimators=1500;, score=(train=-0.000, test=-0.003) total time=   5.2s\n",
      "[CV 2/3] END colsample_bytree=0.7, learning_rate=0.3, max_depth=3, n_estimators=1500;, score=(train=-0.000, test=-0.004) total time=   7.1s\n",
      "[CV 3/3] END colsample_bytree=0.7, learning_rate=0.3, max_depth=3, n_estimators=1500;, score=(train=-0.000, test=-0.003) total time=   6.6s\n",
      "[CV 1/3] END colsample_bytree=0.7, learning_rate=0.3, max_depth=5, n_estimators=400;, score=(train=-0.000, test=-0.003) total time=   2.0s\n",
      "[CV 2/3] END colsample_bytree=0.7, learning_rate=0.3, max_depth=5, n_estimators=400;, score=(train=-0.000, test=-0.004) total time=   1.6s\n",
      "[CV 3/3] END colsample_bytree=0.7, learning_rate=0.3, max_depth=5, n_estimators=400;, score=(train=-0.000, test=-0.003) total time=   1.8s\n",
      "[CV 1/3] END colsample_bytree=0.7, learning_rate=0.3, max_depth=5, n_estimators=800;, score=(train=-0.000, test=-0.003) total time=   2.6s\n",
      "[CV 2/3] END colsample_bytree=0.7, learning_rate=0.3, max_depth=5, n_estimators=800;, score=(train=-0.000, test=-0.004) total time=   2.5s\n",
      "[CV 3/3] END colsample_bytree=0.7, learning_rate=0.3, max_depth=5, n_estimators=800;, score=(train=-0.000, test=-0.003) total time=   2.7s\n",
      "[CV 1/3] END colsample_bytree=0.7, learning_rate=0.3, max_depth=5, n_estimators=1500;, score=(train=-0.000, test=-0.003) total time=   4.5s\n",
      "[CV 2/3] END colsample_bytree=0.7, learning_rate=0.3, max_depth=5, n_estimators=1500;, score=(train=-0.000, test=-0.004) total time=   5.0s\n",
      "[CV 3/3] END colsample_bytree=0.7, learning_rate=0.3, max_depth=5, n_estimators=1500;, score=(train=-0.000, test=-0.003) total time=   4.7s\n"
     ]
    },
    {
     "data": {
      "text/plain": [
       "GridSearchCV(cv=3,\n",
       "             estimator=XGBRegressor(base_score=0.5, booster='gbtree',\n",
       "                                    callbacks=None, colsample_bylevel=1,\n",
       "                                    colsample_bynode=1, colsample_bytree=1,\n",
       "                                    early_stopping_rounds=None,\n",
       "                                    enable_categorical=False, eval_metric=None,\n",
       "                                    gamma=0, gpu_id=-1, grow_policy='depthwise',\n",
       "                                    importance_type=None,\n",
       "                                    interaction_constraints='',\n",
       "                                    learning_rate=0.300000012, max_bin=256,\n",
       "                                    max_cat...\n",
       "                                    min_child_weight=1, missing=nan,\n",
       "                                    monotone_constraints='()', n_estimators=100,\n",
       "                                    n_jobs=0, num_parallel_tree=1,\n",
       "                                    predictor='auto', random_state=22,\n",
       "                                    reg_alpha=0, reg_lambda=1, ...),\n",
       "             param_grid={'colsample_bytree': [0.3, 0.5, 0.7],\n",
       "                         'learning_rate': [0.05, 0.1, 0.3], 'max_depth': [3, 5],\n",
       "                         'n_estimators': [400, 800, 1500]},\n",
       "             return_train_score=True, scoring='neg_mean_squared_error',\n",
       "             verbose=3)"
      ]
     },
     "execution_count": 89,
     "metadata": {},
     "output_type": "execute_result"
    }
   ],
   "source": [
    "params = {'max_depth': [3, 5],\n",
    "          'learning_rate': [0.05, 0.1, 0.3], \n",
    "          'n_estimators': [400, 800, 1500], \n",
    "          'colsample_bytree': [0.3, 0.5, 0.7]}\n",
    "\n",
    "grid_search_gbm = GridSearchCV(xg_reg, params, cv = 3, scoring = 'neg_mean_squared_error', return_train_score = True, verbose = 3)\n",
    "grid_search_gbm.fit(X, y)"
   ]
  },
  {
   "cell_type": "code",
   "execution_count": 90,
   "id": "820509a0-a874-4758-a108-8f18900a0b5c",
   "metadata": {},
   "outputs": [
    {
     "data": {
      "text/plain": [
       "XGBRegressor(base_score=0.5, booster='gbtree', callbacks=None,\n",
       "             colsample_bylevel=1, colsample_bynode=1, colsample_bytree=0.5,\n",
       "             early_stopping_rounds=None, enable_categorical=False,\n",
       "             eval_metric=None, gamma=0, gpu_id=-1, grow_policy='depthwise',\n",
       "             importance_type=None, interaction_constraints='',\n",
       "             learning_rate=0.05, max_bin=256, max_cat_to_onehot=4,\n",
       "             max_delta_step=0, max_depth=5, max_leaves=0, min_child_weight=1,\n",
       "             missing=nan, monotone_constraints='()', n_estimators=1500,\n",
       "             n_jobs=0, num_parallel_tree=1, predictor='auto', random_state=22,\n",
       "             reg_alpha=0, reg_lambda=1, ...)"
      ]
     },
     "execution_count": 90,
     "metadata": {},
     "output_type": "execute_result"
    }
   ],
   "source": [
    "grid_search_gbm.best_estimator_"
   ]
  },
  {
   "cell_type": "code",
   "execution_count": 91,
   "id": "68485d5b-8555-4f77-b173-0546cf21eb97",
   "metadata": {},
   "outputs": [],
   "source": [
    "cvres_gbm = grid_search_gbm.cv_results_"
   ]
  },
  {
   "cell_type": "code",
   "execution_count": 93,
   "id": "b70bd2df-c456-4580-b87e-6c14448d640a",
   "metadata": {},
   "outputs": [],
   "source": [
    "cvres_df = pd.DataFrame(cvres_gbm)\n",
    "# get parameters and results\n",
    "test_rmse = np.sqrt(-cvres_df['mean_test_score'])\n",
    "train_rmse = np.sqrt(-cvres_df['mean_train_score'])\n",
    "parameters = cvres_df['params']\n",
    "max_depth = [parameters[i]['max_depth'] for i in range(len(parameters))]\n",
    "learning_rate = [parameters[i]['learning_rate'] for i in range(len(parameters))]\n",
    "n_estimators = [parameters[i]['n_estimators'] for i in range(len(parameters))]\n",
    "colsample_by_tree = [parameters[i]['colsample_bytree'] for i in range(len(parameters))]\n",
    "#alpha =  [parameters[i]['alpha'] for i in range(len(parameters))]\n",
    "per_improv = [(baseline_rmse-test)/baseline_rmse for test in test_rmse]\n",
    "\n",
    "# combine into dataframe\n",
    "\n",
    "cvrse_df = pd.DataFrame({'test_rmse': test_rmse, \n",
    "                        'train_rmse': train_rmse, \n",
    "                        'percent_improvement': per_improv, \n",
    "                        'max_depth': max_depth, \n",
    "                        'learning_rate': learning_rate, \n",
    "                      #  'alpha': alpha, \n",
    "                        'n_estimators': n_estimators,\n",
    "                        'colsample_by_tree': colsample_by_tree})"
   ]
  },
  {
   "cell_type": "code",
   "execution_count": 94,
   "id": "a5e44ff6-e1de-46b9-8180-15ee6aa32eba",
   "metadata": {},
   "outputs": [
    {
     "data": {
      "text/html": [
       "<div>\n",
       "<style scoped>\n",
       "    .dataframe tbody tr th:only-of-type {\n",
       "        vertical-align: middle;\n",
       "    }\n",
       "\n",
       "    .dataframe tbody tr th {\n",
       "        vertical-align: top;\n",
       "    }\n",
       "\n",
       "    .dataframe thead th {\n",
       "        text-align: right;\n",
       "    }\n",
       "</style>\n",
       "<table border=\"1\" class=\"dataframe\">\n",
       "  <thead>\n",
       "    <tr style=\"text-align: right;\">\n",
       "      <th></th>\n",
       "      <th>test_rmse</th>\n",
       "      <th>train_rmse</th>\n",
       "      <th>percent_improvement</th>\n",
       "      <th>max_depth</th>\n",
       "      <th>learning_rate</th>\n",
       "      <th>n_estimators</th>\n",
       "      <th>colsample_by_tree</th>\n",
       "    </tr>\n",
       "  </thead>\n",
       "  <tbody>\n",
       "    <tr>\n",
       "      <th>23</th>\n",
       "      <td>0.052431</td>\n",
       "      <td>0.001538</td>\n",
       "      <td>0.149815</td>\n",
       "      <td>5</td>\n",
       "      <td>0.05</td>\n",
       "      <td>1500</td>\n",
       "      <td>0.5</td>\n",
       "    </tr>\n",
       "    <tr>\n",
       "      <th>22</th>\n",
       "      <td>0.052434</td>\n",
       "      <td>0.005005</td>\n",
       "      <td>0.149766</td>\n",
       "      <td>5</td>\n",
       "      <td>0.05</td>\n",
       "      <td>800</td>\n",
       "      <td>0.5</td>\n",
       "    </tr>\n",
       "    <tr>\n",
       "      <th>38</th>\n",
       "      <td>0.052527</td>\n",
       "      <td>0.010196</td>\n",
       "      <td>0.148249</td>\n",
       "      <td>3</td>\n",
       "      <td>0.05</td>\n",
       "      <td>1500</td>\n",
       "      <td>0.7</td>\n",
       "    </tr>\n",
       "    <tr>\n",
       "      <th>37</th>\n",
       "      <td>0.052578</td>\n",
       "      <td>0.018224</td>\n",
       "      <td>0.147438</td>\n",
       "      <td>3</td>\n",
       "      <td>0.05</td>\n",
       "      <td>800</td>\n",
       "      <td>0.7</td>\n",
       "    </tr>\n",
       "    <tr>\n",
       "      <th>21</th>\n",
       "      <td>0.052612</td>\n",
       "      <td>0.012870</td>\n",
       "      <td>0.146873</td>\n",
       "      <td>5</td>\n",
       "      <td>0.05</td>\n",
       "      <td>400</td>\n",
       "      <td>0.5</td>\n",
       "    </tr>\n",
       "    <tr>\n",
       "      <th>19</th>\n",
       "      <td>0.052641</td>\n",
       "      <td>0.018665</td>\n",
       "      <td>0.146415</td>\n",
       "      <td>3</td>\n",
       "      <td>0.05</td>\n",
       "      <td>800</td>\n",
       "      <td>0.5</td>\n",
       "    </tr>\n",
       "    <tr>\n",
       "      <th>20</th>\n",
       "      <td>0.052656</td>\n",
       "      <td>0.010827</td>\n",
       "      <td>0.146168</td>\n",
       "      <td>3</td>\n",
       "      <td>0.05</td>\n",
       "      <td>1500</td>\n",
       "      <td>0.5</td>\n",
       "    </tr>\n",
       "    <tr>\n",
       "      <th>2</th>\n",
       "      <td>0.052699</td>\n",
       "      <td>0.011618</td>\n",
       "      <td>0.145461</td>\n",
       "      <td>3</td>\n",
       "      <td>0.05</td>\n",
       "      <td>1500</td>\n",
       "      <td>0.3</td>\n",
       "    </tr>\n",
       "    <tr>\n",
       "      <th>42</th>\n",
       "      <td>0.052825</td>\n",
       "      <td>0.017731</td>\n",
       "      <td>0.143430</td>\n",
       "      <td>3</td>\n",
       "      <td>0.10</td>\n",
       "      <td>400</td>\n",
       "      <td>0.7</td>\n",
       "    </tr>\n",
       "    <tr>\n",
       "      <th>1</th>\n",
       "      <td>0.052832</td>\n",
       "      <td>0.019597</td>\n",
       "      <td>0.143304</td>\n",
       "      <td>3</td>\n",
       "      <td>0.05</td>\n",
       "      <td>800</td>\n",
       "      <td>0.3</td>\n",
       "    </tr>\n",
       "  </tbody>\n",
       "</table>\n",
       "</div>"
      ],
      "text/plain": [
       "    test_rmse  train_rmse  percent_improvement  max_depth  learning_rate  \\\n",
       "23   0.052431    0.001538             0.149815          5           0.05   \n",
       "22   0.052434    0.005005             0.149766          5           0.05   \n",
       "38   0.052527    0.010196             0.148249          3           0.05   \n",
       "37   0.052578    0.018224             0.147438          3           0.05   \n",
       "21   0.052612    0.012870             0.146873          5           0.05   \n",
       "19   0.052641    0.018665             0.146415          3           0.05   \n",
       "20   0.052656    0.010827             0.146168          3           0.05   \n",
       "2    0.052699    0.011618             0.145461          3           0.05   \n",
       "42   0.052825    0.017731             0.143430          3           0.10   \n",
       "1    0.052832    0.019597             0.143304          3           0.05   \n",
       "\n",
       "    n_estimators  colsample_by_tree  \n",
       "23          1500                0.5  \n",
       "22           800                0.5  \n",
       "38          1500                0.7  \n",
       "37           800                0.7  \n",
       "21           400                0.5  \n",
       "19           800                0.5  \n",
       "20          1500                0.5  \n",
       "2           1500                0.3  \n",
       "42           400                0.7  \n",
       "1            800                0.3  "
      ]
     },
     "execution_count": 94,
     "metadata": {},
     "output_type": "execute_result"
    }
   ],
   "source": [
    "cvrse_df.sort_values(by = 'percent_improvement', ascending = False).head(10)"
   ]
  },
  {
   "cell_type": "code",
   "execution_count": 95,
   "id": "3ef970f3-9be0-424b-9de0-a4e125581302",
   "metadata": {},
   "outputs": [
    {
     "data": {
      "application/vnd.plotly.v1+json": {
       "config": {
        "plotlyServerURL": "https://plot.ly"
       },
       "data": [
        {
         "dimensions": [
          {
           "label": "RMSE",
           "values": [
            0.05318865826328977,
            0.052832421907847316,
            0.05269942365516164,
            0.053267568141768,
            0.053096455301045474,
            0.053103655265976824,
            0.053233183334392066,
            0.05336060653857283,
            0.053584265403236325,
            0.05403759204193397,
            0.054059423209067245,
            0.054059423209067245,
            0.05685301190584759,
            0.056976802348221424,
            0.05697597170416776,
            0.0585436413141962,
            0.0585436413141962,
            0.0585436413141962,
            0.053174875686864215,
            0.052640577228360616,
            0.052655806463799484,
            0.052612357899137895,
            0.05243393161750847,
            0.05243091953575205,
            0.05347070593768536,
            0.053379984106974934,
            0.05354617426056501,
            0.05324382158147346,
            0.053286486465798685,
            0.053286486465798685,
            0.056531857386725407,
            0.05677050644646691,
            0.05677050644646691,
            0.0583727839902247,
            0.0583727839902247,
            0.0583727839902247,
            0.05336052215582786,
            0.05257752335384181,
            0.05252747430296081,
            0.05310566112604853,
            0.05288260541799184,
            0.05293587128301308,
            0.05282468060774143,
            0.052906190404993565,
            0.05310112305081162,
            0.05303801901590429,
            0.0530285672103807,
            0.0530285672103807,
            0.0559460914832742,
            0.05599185102018955,
            0.05599185102018955,
            0.057261418065318065,
            0.057261418065318065,
            0.057261418065318065
           ]
          },
          {
           "label": "Train RMSE",
           "values": [
            0.02800928161124487,
            0.019596524967706596,
            0.011618323338332077,
            0.013518358524810814,
            0.005423757019437802,
            0.0015642769588066381,
            0.019461374695887736,
            0.010634835286830522,
            0.00429037568002129,
            0.0051037262312460694,
            0.0014347138120744654,
            0.0014347138120744654,
            0.006001425649513523,
            0.0014823086614852794,
            0.001475385615097664,
            0.0011341988718656024,
            0.0011341988718656024,
            0.0011341988718656024,
            0.026879698127826923,
            0.018664707350419186,
            0.0108266502997176,
            0.012869885243673058,
            0.005004940572410241,
            0.0015375265797578934,
            0.018179764910905356,
            0.009586268715662408,
            0.003715131149938543,
            0.004870235061827941,
            0.0014144377261698234,
            0.0014144377261698234,
            0.005318253147130437,
            0.0014937975312590544,
            0.0014937975312590544,
            0.0010630716842890968,
            0.0010630716842890968,
            0.0010630716842890968,
            0.0265680761136586,
            0.01822416722146631,
            0.010195614114195896,
            0.012494278422485197,
            0.004774316076428404,
            0.0015231978556597726,
            0.017731233855858012,
            0.009039341846810194,
            0.003466342942861106,
            0.0044185185609886355,
            0.0013847322970577075,
            0.0013847322970577075,
            0.004664954686309971,
            0.0014935408982352711,
            0.0014935408982352711,
            0.0010759734140901507,
            0.0010759734140901507,
            0.0010759734140901507
           ]
          },
          {
           "label": "max_depth",
           "values": [
            3,
            3,
            3,
            5,
            5,
            5,
            3,
            3,
            3,
            5,
            5,
            5,
            3,
            3,
            3,
            5,
            5,
            5,
            3,
            3,
            3,
            5,
            5,
            5,
            3,
            3,
            3,
            5,
            5,
            5,
            3,
            3,
            3,
            5,
            5,
            5,
            3,
            3,
            3,
            5,
            5,
            5,
            3,
            3,
            3,
            5,
            5,
            5,
            3,
            3,
            3,
            5,
            5,
            5
           ]
          },
          {
           "label": "learning_rate",
           "values": [
            0.05,
            0.05,
            0.05,
            0.05,
            0.05,
            0.05,
            0.1,
            0.1,
            0.1,
            0.1,
            0.1,
            0.1,
            0.3,
            0.3,
            0.3,
            0.3,
            0.3,
            0.3,
            0.05,
            0.05,
            0.05,
            0.05,
            0.05,
            0.05,
            0.1,
            0.1,
            0.1,
            0.1,
            0.1,
            0.1,
            0.3,
            0.3,
            0.3,
            0.3,
            0.3,
            0.3,
            0.05,
            0.05,
            0.05,
            0.05,
            0.05,
            0.05,
            0.1,
            0.1,
            0.1,
            0.1,
            0.1,
            0.1,
            0.3,
            0.3,
            0.3,
            0.3,
            0.3,
            0.3
           ]
          },
          {
           "label": "Estimators",
           "values": [
            400,
            800,
            1500,
            400,
            800,
            1500,
            400,
            800,
            1500,
            400,
            800,
            1500,
            400,
            800,
            1500,
            400,
            800,
            1500,
            400,
            800,
            1500,
            400,
            800,
            1500,
            400,
            800,
            1500,
            400,
            800,
            1500,
            400,
            800,
            1500,
            400,
            800,
            1500,
            400,
            800,
            1500,
            400,
            800,
            1500,
            400,
            800,
            1500,
            400,
            800,
            1500,
            400,
            800,
            1500,
            400,
            800,
            1500
           ]
          },
          {
           "label": "colsample_by_tree",
           "values": [
            0.3,
            0.3,
            0.3,
            0.3,
            0.3,
            0.3,
            0.3,
            0.3,
            0.3,
            0.3,
            0.3,
            0.3,
            0.3,
            0.3,
            0.3,
            0.3,
            0.3,
            0.3,
            0.5,
            0.5,
            0.5,
            0.5,
            0.5,
            0.5,
            0.5,
            0.5,
            0.5,
            0.5,
            0.5,
            0.5,
            0.5,
            0.5,
            0.5,
            0.5,
            0.5,
            0.5,
            0.7,
            0.7,
            0.7,
            0.7,
            0.7,
            0.7,
            0.7,
            0.7,
            0.7,
            0.7,
            0.7,
            0.7,
            0.7,
            0.7,
            0.7,
            0.7,
            0.7,
            0.7
           ]
          }
         ],
         "domain": {
          "x": [
           0,
           1
          ],
          "y": [
           0,
           1
          ]
         },
         "line": {
          "color": [
           0.05318865826328977,
           0.052832421907847316,
           0.05269942365516164,
           0.053267568141768,
           0.053096455301045474,
           0.053103655265976824,
           0.053233183334392066,
           0.05336060653857283,
           0.053584265403236325,
           0.05403759204193397,
           0.054059423209067245,
           0.054059423209067245,
           0.05685301190584759,
           0.056976802348221424,
           0.05697597170416776,
           0.0585436413141962,
           0.0585436413141962,
           0.0585436413141962,
           0.053174875686864215,
           0.052640577228360616,
           0.052655806463799484,
           0.052612357899137895,
           0.05243393161750847,
           0.05243091953575205,
           0.05347070593768536,
           0.053379984106974934,
           0.05354617426056501,
           0.05324382158147346,
           0.053286486465798685,
           0.053286486465798685,
           0.056531857386725407,
           0.05677050644646691,
           0.05677050644646691,
           0.0583727839902247,
           0.0583727839902247,
           0.0583727839902247,
           0.05336052215582786,
           0.05257752335384181,
           0.05252747430296081,
           0.05310566112604853,
           0.05288260541799184,
           0.05293587128301308,
           0.05282468060774143,
           0.052906190404993565,
           0.05310112305081162,
           0.05303801901590429,
           0.0530285672103807,
           0.0530285672103807,
           0.0559460914832742,
           0.05599185102018955,
           0.05599185102018955,
           0.057261418065318065,
           0.057261418065318065,
           0.057261418065318065
          ],
          "coloraxis": "coloraxis"
         },
         "name": "",
         "type": "parcoords"
        }
       ],
       "layout": {
        "autosize": true,
        "coloraxis": {
         "colorbar": {
          "title": {
           "text": "RMSE"
          }
         },
         "colorscale": [
          [
           0,
           "rgb(0, 147, 146)"
          ],
          [
           0.16666666666666666,
           "rgb(114, 170, 161)"
          ],
          [
           0.3333333333333333,
           "rgb(177, 199, 179)"
          ],
          [
           0.5,
           "rgb(241, 234, 200)"
          ],
          [
           0.6666666666666666,
           "rgb(229, 185, 173)"
          ],
          [
           0.8333333333333334,
           "rgb(217, 137, 148)"
          ],
          [
           1,
           "rgb(208, 88, 126)"
          ]
         ]
        },
        "legend": {
         "tracegroupgap": 0
        },
        "margin": {
         "t": 60
        },
        "template": {
         "data": {
          "bar": [
           {
            "error_x": {
             "color": "#2a3f5f"
            },
            "error_y": {
             "color": "#2a3f5f"
            },
            "marker": {
             "line": {
              "color": "#E5ECF6",
              "width": 0.5
             },
             "pattern": {
              "fillmode": "overlay",
              "size": 10,
              "solidity": 0.2
             }
            },
            "type": "bar"
           }
          ],
          "barpolar": [
           {
            "marker": {
             "line": {
              "color": "#E5ECF6",
              "width": 0.5
             },
             "pattern": {
              "fillmode": "overlay",
              "size": 10,
              "solidity": 0.2
             }
            },
            "type": "barpolar"
           }
          ],
          "carpet": [
           {
            "aaxis": {
             "endlinecolor": "#2a3f5f",
             "gridcolor": "white",
             "linecolor": "white",
             "minorgridcolor": "white",
             "startlinecolor": "#2a3f5f"
            },
            "baxis": {
             "endlinecolor": "#2a3f5f",
             "gridcolor": "white",
             "linecolor": "white",
             "minorgridcolor": "white",
             "startlinecolor": "#2a3f5f"
            },
            "type": "carpet"
           }
          ],
          "choropleth": [
           {
            "colorbar": {
             "outlinewidth": 0,
             "ticks": ""
            },
            "type": "choropleth"
           }
          ],
          "contour": [
           {
            "colorbar": {
             "outlinewidth": 0,
             "ticks": ""
            },
            "colorscale": [
             [
              0,
              "#0d0887"
             ],
             [
              0.1111111111111111,
              "#46039f"
             ],
             [
              0.2222222222222222,
              "#7201a8"
             ],
             [
              0.3333333333333333,
              "#9c179e"
             ],
             [
              0.4444444444444444,
              "#bd3786"
             ],
             [
              0.5555555555555556,
              "#d8576b"
             ],
             [
              0.6666666666666666,
              "#ed7953"
             ],
             [
              0.7777777777777778,
              "#fb9f3a"
             ],
             [
              0.8888888888888888,
              "#fdca26"
             ],
             [
              1,
              "#f0f921"
             ]
            ],
            "type": "contour"
           }
          ],
          "contourcarpet": [
           {
            "colorbar": {
             "outlinewidth": 0,
             "ticks": ""
            },
            "type": "contourcarpet"
           }
          ],
          "heatmap": [
           {
            "colorbar": {
             "outlinewidth": 0,
             "ticks": ""
            },
            "colorscale": [
             [
              0,
              "#0d0887"
             ],
             [
              0.1111111111111111,
              "#46039f"
             ],
             [
              0.2222222222222222,
              "#7201a8"
             ],
             [
              0.3333333333333333,
              "#9c179e"
             ],
             [
              0.4444444444444444,
              "#bd3786"
             ],
             [
              0.5555555555555556,
              "#d8576b"
             ],
             [
              0.6666666666666666,
              "#ed7953"
             ],
             [
              0.7777777777777778,
              "#fb9f3a"
             ],
             [
              0.8888888888888888,
              "#fdca26"
             ],
             [
              1,
              "#f0f921"
             ]
            ],
            "type": "heatmap"
           }
          ],
          "heatmapgl": [
           {
            "colorbar": {
             "outlinewidth": 0,
             "ticks": ""
            },
            "colorscale": [
             [
              0,
              "#0d0887"
             ],
             [
              0.1111111111111111,
              "#46039f"
             ],
             [
              0.2222222222222222,
              "#7201a8"
             ],
             [
              0.3333333333333333,
              "#9c179e"
             ],
             [
              0.4444444444444444,
              "#bd3786"
             ],
             [
              0.5555555555555556,
              "#d8576b"
             ],
             [
              0.6666666666666666,
              "#ed7953"
             ],
             [
              0.7777777777777778,
              "#fb9f3a"
             ],
             [
              0.8888888888888888,
              "#fdca26"
             ],
             [
              1,
              "#f0f921"
             ]
            ],
            "type": "heatmapgl"
           }
          ],
          "histogram": [
           {
            "marker": {
             "pattern": {
              "fillmode": "overlay",
              "size": 10,
              "solidity": 0.2
             }
            },
            "type": "histogram"
           }
          ],
          "histogram2d": [
           {
            "colorbar": {
             "outlinewidth": 0,
             "ticks": ""
            },
            "colorscale": [
             [
              0,
              "#0d0887"
             ],
             [
              0.1111111111111111,
              "#46039f"
             ],
             [
              0.2222222222222222,
              "#7201a8"
             ],
             [
              0.3333333333333333,
              "#9c179e"
             ],
             [
              0.4444444444444444,
              "#bd3786"
             ],
             [
              0.5555555555555556,
              "#d8576b"
             ],
             [
              0.6666666666666666,
              "#ed7953"
             ],
             [
              0.7777777777777778,
              "#fb9f3a"
             ],
             [
              0.8888888888888888,
              "#fdca26"
             ],
             [
              1,
              "#f0f921"
             ]
            ],
            "type": "histogram2d"
           }
          ],
          "histogram2dcontour": [
           {
            "colorbar": {
             "outlinewidth": 0,
             "ticks": ""
            },
            "colorscale": [
             [
              0,
              "#0d0887"
             ],
             [
              0.1111111111111111,
              "#46039f"
             ],
             [
              0.2222222222222222,
              "#7201a8"
             ],
             [
              0.3333333333333333,
              "#9c179e"
             ],
             [
              0.4444444444444444,
              "#bd3786"
             ],
             [
              0.5555555555555556,
              "#d8576b"
             ],
             [
              0.6666666666666666,
              "#ed7953"
             ],
             [
              0.7777777777777778,
              "#fb9f3a"
             ],
             [
              0.8888888888888888,
              "#fdca26"
             ],
             [
              1,
              "#f0f921"
             ]
            ],
            "type": "histogram2dcontour"
           }
          ],
          "mesh3d": [
           {
            "colorbar": {
             "outlinewidth": 0,
             "ticks": ""
            },
            "type": "mesh3d"
           }
          ],
          "parcoords": [
           {
            "line": {
             "colorbar": {
              "outlinewidth": 0,
              "ticks": ""
             }
            },
            "type": "parcoords"
           }
          ],
          "pie": [
           {
            "automargin": true,
            "type": "pie"
           }
          ],
          "scatter": [
           {
            "fillpattern": {
             "fillmode": "overlay",
             "size": 10,
             "solidity": 0.2
            },
            "type": "scatter"
           }
          ],
          "scatter3d": [
           {
            "line": {
             "colorbar": {
              "outlinewidth": 0,
              "ticks": ""
             }
            },
            "marker": {
             "colorbar": {
              "outlinewidth": 0,
              "ticks": ""
             }
            },
            "type": "scatter3d"
           }
          ],
          "scattercarpet": [
           {
            "marker": {
             "colorbar": {
              "outlinewidth": 0,
              "ticks": ""
             }
            },
            "type": "scattercarpet"
           }
          ],
          "scattergeo": [
           {
            "marker": {
             "colorbar": {
              "outlinewidth": 0,
              "ticks": ""
             }
            },
            "type": "scattergeo"
           }
          ],
          "scattergl": [
           {
            "marker": {
             "colorbar": {
              "outlinewidth": 0,
              "ticks": ""
             }
            },
            "type": "scattergl"
           }
          ],
          "scattermapbox": [
           {
            "marker": {
             "colorbar": {
              "outlinewidth": 0,
              "ticks": ""
             }
            },
            "type": "scattermapbox"
           }
          ],
          "scatterpolar": [
           {
            "marker": {
             "colorbar": {
              "outlinewidth": 0,
              "ticks": ""
             }
            },
            "type": "scatterpolar"
           }
          ],
          "scatterpolargl": [
           {
            "marker": {
             "colorbar": {
              "outlinewidth": 0,
              "ticks": ""
             }
            },
            "type": "scatterpolargl"
           }
          ],
          "scatterternary": [
           {
            "marker": {
             "colorbar": {
              "outlinewidth": 0,
              "ticks": ""
             }
            },
            "type": "scatterternary"
           }
          ],
          "surface": [
           {
            "colorbar": {
             "outlinewidth": 0,
             "ticks": ""
            },
            "colorscale": [
             [
              0,
              "#0d0887"
             ],
             [
              0.1111111111111111,
              "#46039f"
             ],
             [
              0.2222222222222222,
              "#7201a8"
             ],
             [
              0.3333333333333333,
              "#9c179e"
             ],
             [
              0.4444444444444444,
              "#bd3786"
             ],
             [
              0.5555555555555556,
              "#d8576b"
             ],
             [
              0.6666666666666666,
              "#ed7953"
             ],
             [
              0.7777777777777778,
              "#fb9f3a"
             ],
             [
              0.8888888888888888,
              "#fdca26"
             ],
             [
              1,
              "#f0f921"
             ]
            ],
            "type": "surface"
           }
          ],
          "table": [
           {
            "cells": {
             "fill": {
              "color": "#EBF0F8"
             },
             "line": {
              "color": "white"
             }
            },
            "header": {
             "fill": {
              "color": "#C8D4E3"
             },
             "line": {
              "color": "white"
             }
            },
            "type": "table"
           }
          ]
         },
         "layout": {
          "annotationdefaults": {
           "arrowcolor": "#2a3f5f",
           "arrowhead": 0,
           "arrowwidth": 1
          },
          "autotypenumbers": "strict",
          "coloraxis": {
           "colorbar": {
            "outlinewidth": 0,
            "ticks": ""
           }
          },
          "colorscale": {
           "diverging": [
            [
             0,
             "#8e0152"
            ],
            [
             0.1,
             "#c51b7d"
            ],
            [
             0.2,
             "#de77ae"
            ],
            [
             0.3,
             "#f1b6da"
            ],
            [
             0.4,
             "#fde0ef"
            ],
            [
             0.5,
             "#f7f7f7"
            ],
            [
             0.6,
             "#e6f5d0"
            ],
            [
             0.7,
             "#b8e186"
            ],
            [
             0.8,
             "#7fbc41"
            ],
            [
             0.9,
             "#4d9221"
            ],
            [
             1,
             "#276419"
            ]
           ],
           "sequential": [
            [
             0,
             "#0d0887"
            ],
            [
             0.1111111111111111,
             "#46039f"
            ],
            [
             0.2222222222222222,
             "#7201a8"
            ],
            [
             0.3333333333333333,
             "#9c179e"
            ],
            [
             0.4444444444444444,
             "#bd3786"
            ],
            [
             0.5555555555555556,
             "#d8576b"
            ],
            [
             0.6666666666666666,
             "#ed7953"
            ],
            [
             0.7777777777777778,
             "#fb9f3a"
            ],
            [
             0.8888888888888888,
             "#fdca26"
            ],
            [
             1,
             "#f0f921"
            ]
           ],
           "sequentialminus": [
            [
             0,
             "#0d0887"
            ],
            [
             0.1111111111111111,
             "#46039f"
            ],
            [
             0.2222222222222222,
             "#7201a8"
            ],
            [
             0.3333333333333333,
             "#9c179e"
            ],
            [
             0.4444444444444444,
             "#bd3786"
            ],
            [
             0.5555555555555556,
             "#d8576b"
            ],
            [
             0.6666666666666666,
             "#ed7953"
            ],
            [
             0.7777777777777778,
             "#fb9f3a"
            ],
            [
             0.8888888888888888,
             "#fdca26"
            ],
            [
             1,
             "#f0f921"
            ]
           ]
          },
          "colorway": [
           "#636efa",
           "#EF553B",
           "#00cc96",
           "#ab63fa",
           "#FFA15A",
           "#19d3f3",
           "#FF6692",
           "#B6E880",
           "#FF97FF",
           "#FECB52"
          ],
          "font": {
           "color": "#2a3f5f"
          },
          "geo": {
           "bgcolor": "white",
           "lakecolor": "white",
           "landcolor": "#E5ECF6",
           "showlakes": true,
           "showland": true,
           "subunitcolor": "white"
          },
          "hoverlabel": {
           "align": "left"
          },
          "hovermode": "closest",
          "mapbox": {
           "style": "light"
          },
          "paper_bgcolor": "white",
          "plot_bgcolor": "#E5ECF6",
          "polar": {
           "angularaxis": {
            "gridcolor": "white",
            "linecolor": "white",
            "ticks": ""
           },
           "bgcolor": "#E5ECF6",
           "radialaxis": {
            "gridcolor": "white",
            "linecolor": "white",
            "ticks": ""
           }
          },
          "scene": {
           "xaxis": {
            "backgroundcolor": "#E5ECF6",
            "gridcolor": "white",
            "gridwidth": 2,
            "linecolor": "white",
            "showbackground": true,
            "ticks": "",
            "zerolinecolor": "white"
           },
           "yaxis": {
            "backgroundcolor": "#E5ECF6",
            "gridcolor": "white",
            "gridwidth": 2,
            "linecolor": "white",
            "showbackground": true,
            "ticks": "",
            "zerolinecolor": "white"
           },
           "zaxis": {
            "backgroundcolor": "#E5ECF6",
            "gridcolor": "white",
            "gridwidth": 2,
            "linecolor": "white",
            "showbackground": true,
            "ticks": "",
            "zerolinecolor": "white"
           }
          },
          "shapedefaults": {
           "line": {
            "color": "#2a3f5f"
           }
          },
          "ternary": {
           "aaxis": {
            "gridcolor": "white",
            "linecolor": "white",
            "ticks": ""
           },
           "baxis": {
            "gridcolor": "white",
            "linecolor": "white",
            "ticks": ""
           },
           "bgcolor": "#E5ECF6",
           "caxis": {
            "gridcolor": "white",
            "linecolor": "white",
            "ticks": ""
           }
          },
          "title": {
           "x": 0.05
          },
          "xaxis": {
           "automargin": true,
           "gridcolor": "white",
           "linecolor": "white",
           "ticks": "",
           "title": {
            "standoff": 15
           },
           "zerolinecolor": "white",
           "zerolinewidth": 2
          },
          "yaxis": {
           "automargin": true,
           "gridcolor": "white",
           "linecolor": "white",
           "ticks": "",
           "title": {
            "standoff": 15
           },
           "zerolinecolor": "white",
           "zerolinewidth": 2
          }
         }
        }
       }
      },
      "image/png": "[encoded data removed]",
      "text/html": [
       "<div>                            <div id=\"7f6a55cf-6874-42ac-9112-47d55d0e61f8\" class=\"plotly-graph-div\" style=\"height:525px; width:100%;\"></div>            <script type=\"text/javascript\">                require([\"plotly\"], function(Plotly) {                    window.PLOTLYENV=window.PLOTLYENV || {};                                    if (document.getElementById(\"7f6a55cf-6874-42ac-9112-47d55d0e61f8\")) {                    Plotly.newPlot(                        \"7f6a55cf-6874-42ac-9112-47d55d0e61f8\",                        [{\"dimensions\":[{\"label\":\"RMSE\",\"values\":[0.05318865826328977,0.052832421907847316,0.05269942365516164,0.053267568141768,0.053096455301045474,0.053103655265976824,0.053233183334392066,0.05336060653857283,0.053584265403236325,0.05403759204193397,0.054059423209067245,0.054059423209067245,0.05685301190584759,0.056976802348221424,0.05697597170416776,0.0585436413141962,0.0585436413141962,0.0585436413141962,0.053174875686864215,0.052640577228360616,0.052655806463799484,0.052612357899137895,0.05243393161750847,0.05243091953575205,0.05347070593768536,0.053379984106974934,0.05354617426056501,0.05324382158147346,0.053286486465798685,0.053286486465798685,0.056531857386725407,0.05677050644646691,0.05677050644646691,0.0583727839902247,0.0583727839902247,0.0583727839902247,0.05336052215582786,0.05257752335384181,0.05252747430296081,0.05310566112604853,0.05288260541799184,0.05293587128301308,0.05282468060774143,0.052906190404993565,0.05310112305081162,0.05303801901590429,0.0530285672103807,0.0530285672103807,0.0559460914832742,0.05599185102018955,0.05599185102018955,0.057261418065318065,0.057261418065318065,0.057261418065318065]},{\"label\":\"Train RMSE\",\"values\":[0.02800928161124487,0.019596524967706596,0.011618323338332077,0.013518358524810814,0.005423757019437802,0.0015642769588066381,0.019461374695887736,0.010634835286830522,0.00429037568002129,0.0051037262312460694,0.0014347138120744654,0.0014347138120744654,0.006001425649513523,0.0014823086614852794,0.001475385615097664,0.0011341988718656024,0.0011341988718656024,0.0011341988718656024,0.026879698127826923,0.018664707350419186,0.0108266502997176,0.012869885243673058,0.005004940572410241,0.0015375265797578934,0.018179764910905356,0.009586268715662408,0.003715131149938543,0.004870235061827941,0.0014144377261698234,0.0014144377261698234,0.005318253147130437,0.0014937975312590544,0.0014937975312590544,0.0010630716842890968,0.0010630716842890968,0.0010630716842890968,0.0265680761136586,0.01822416722146631,0.010195614114195896,0.012494278422485197,0.004774316076428404,0.0015231978556597726,0.017731233855858012,0.009039341846810194,0.003466342942861106,0.0044185185609886355,0.0013847322970577075,0.0013847322970577075,0.004664954686309971,0.0014935408982352711,0.0014935408982352711,0.0010759734140901507,0.0010759734140901507,0.0010759734140901507]},{\"label\":\"max_depth\",\"values\":[3,3,3,5,5,5,3,3,3,5,5,5,3,3,3,5,5,5,3,3,3,5,5,5,3,3,3,5,5,5,3,3,3,5,5,5,3,3,3,5,5,5,3,3,3,5,5,5,3,3,3,5,5,5]},{\"label\":\"learning_rate\",\"values\":[0.05,0.05,0.05,0.05,0.05,0.05,0.1,0.1,0.1,0.1,0.1,0.1,0.3,0.3,0.3,0.3,0.3,0.3,0.05,0.05,0.05,0.05,0.05,0.05,0.1,0.1,0.1,0.1,0.1,0.1,0.3,0.3,0.3,0.3,0.3,0.3,0.05,0.05,0.05,0.05,0.05,0.05,0.1,0.1,0.1,0.1,0.1,0.1,0.3,0.3,0.3,0.3,0.3,0.3]},{\"label\":\"Estimators\",\"values\":[400,800,1500,400,800,1500,400,800,1500,400,800,1500,400,800,1500,400,800,1500,400,800,1500,400,800,1500,400,800,1500,400,800,1500,400,800,1500,400,800,1500,400,800,1500,400,800,1500,400,800,1500,400,800,1500,400,800,1500,400,800,1500]},{\"label\":\"colsample_by_tree\",\"values\":[0.3,0.3,0.3,0.3,0.3,0.3,0.3,0.3,0.3,0.3,0.3,0.3,0.3,0.3,0.3,0.3,0.3,0.3,0.5,0.5,0.5,0.5,0.5,0.5,0.5,0.5,0.5,0.5,0.5,0.5,0.5,0.5,0.5,0.5,0.5,0.5,0.7,0.7,0.7,0.7,0.7,0.7,0.7,0.7,0.7,0.7,0.7,0.7,0.7,0.7,0.7,0.7,0.7,0.7]}],\"domain\":{\"x\":[0.0,1.0],\"y\":[0.0,1.0]},\"line\":{\"color\":[0.05318865826328977,0.052832421907847316,0.05269942365516164,0.053267568141768,0.053096455301045474,0.053103655265976824,0.053233183334392066,0.05336060653857283,0.053584265403236325,0.05403759204193397,0.054059423209067245,0.054059423209067245,0.05685301190584759,0.056976802348221424,0.05697597170416776,0.0585436413141962,0.0585436413141962,0.0585436413141962,0.053174875686864215,0.052640577228360616,0.052655806463799484,0.052612357899137895,0.05243393161750847,0.05243091953575205,0.05347070593768536,0.053379984106974934,0.05354617426056501,0.05324382158147346,0.053286486465798685,0.053286486465798685,0.056531857386725407,0.05677050644646691,0.05677050644646691,0.0583727839902247,0.0583727839902247,0.0583727839902247,0.05336052215582786,0.05257752335384181,0.05252747430296081,0.05310566112604853,0.05288260541799184,0.05293587128301308,0.05282468060774143,0.052906190404993565,0.05310112305081162,0.05303801901590429,0.0530285672103807,0.0530285672103807,0.0559460914832742,0.05599185102018955,0.05599185102018955,0.057261418065318065,0.057261418065318065,0.057261418065318065],\"coloraxis\":\"coloraxis\"},\"name\":\"\",\"type\":\"parcoords\"}],                        {\"template\":{\"data\":{\"histogram2dcontour\":[{\"type\":\"histogram2dcontour\",\"colorbar\":{\"outlinewidth\":0,\"ticks\":\"\"},\"colorscale\":[[0.0,\"#0d0887\"],[0.1111111111111111,\"#46039f\"],[0.2222222222222222,\"#7201a8\"],[0.3333333333333333,\"#9c179e\"],[0.4444444444444444,\"#bd3786\"],[0.5555555555555556,\"#d8576b\"],[0.6666666666666666,\"#ed7953\"],[0.7777777777777778,\"#fb9f3a\"],[0.8888888888888888,\"#fdca26\"],[1.0,\"#f0f921\"]]}],\"choropleth\":[{\"type\":\"choropleth\",\"colorbar\":{\"outlinewidth\":0,\"ticks\":\"\"}}],\"histogram2d\":[{\"type\":\"histogram2d\",\"colorbar\":{\"outlinewidth\":0,\"ticks\":\"\"},\"colorscale\":[[0.0,\"#0d0887\"],[0.1111111111111111,\"#46039f\"],[0.2222222222222222,\"#7201a8\"],[0.3333333333333333,\"#9c179e\"],[0.4444444444444444,\"#bd3786\"],[0.5555555555555556,\"#d8576b\"],[0.6666666666666666,\"#ed7953\"],[0.7777777777777778,\"#fb9f3a\"],[0.8888888888888888,\"#fdca26\"],[1.0,\"#f0f921\"]]}],\"heatmap\":[{\"type\":\"heatmap\",\"colorbar\":{\"outlinewidth\":0,\"ticks\":\"\"},\"colorscale\":[[0.0,\"#0d0887\"],[0.1111111111111111,\"#46039f\"],[0.2222222222222222,\"#7201a8\"],[0.3333333333333333,\"#9c179e\"],[0.4444444444444444,\"#bd3786\"],[0.5555555555555556,\"#d8576b\"],[0.6666666666666666,\"#ed7953\"],[0.7777777777777778,\"#fb9f3a\"],[0.8888888888888888,\"#fdca26\"],[1.0,\"#f0f921\"]]}],\"heatmapgl\":[{\"type\":\"heatmapgl\",\"colorbar\":{\"outlinewidth\":0,\"ticks\":\"\"},\"colorscale\":[[0.0,\"#0d0887\"],[0.1111111111111111,\"#46039f\"],[0.2222222222222222,\"#7201a8\"],[0.3333333333333333,\"#9c179e\"],[0.4444444444444444,\"#bd3786\"],[0.5555555555555556,\"#d8576b\"],[0.6666666666666666,\"#ed7953\"],[0.7777777777777778,\"#fb9f3a\"],[0.8888888888888888,\"#fdca26\"],[1.0,\"#f0f921\"]]}],\"contourcarpet\":[{\"type\":\"contourcarpet\",\"colorbar\":{\"outlinewidth\":0,\"ticks\":\"\"}}],\"contour\":[{\"type\":\"contour\",\"colorbar\":{\"outlinewidth\":0,\"ticks\":\"\"},\"colorscale\":[[0.0,\"#0d0887\"],[0.1111111111111111,\"#46039f\"],[0.2222222222222222,\"#7201a8\"],[0.3333333333333333,\"#9c179e\"],[0.4444444444444444,\"#bd3786\"],[0.5555555555555556,\"#d8576b\"],[0.6666666666666666,\"#ed7953\"],[0.7777777777777778,\"#fb9f3a\"],[0.8888888888888888,\"#fdca26\"],[1.0,\"#f0f921\"]]}],\"surface\":[{\"type\":\"surface\",\"colorbar\":{\"outlinewidth\":0,\"ticks\":\"\"},\"colorscale\":[[0.0,\"#0d0887\"],[0.1111111111111111,\"#46039f\"],[0.2222222222222222,\"#7201a8\"],[0.3333333333333333,\"#9c179e\"],[0.4444444444444444,\"#bd3786\"],[0.5555555555555556,\"#d8576b\"],[0.6666666666666666,\"#ed7953\"],[0.7777777777777778,\"#fb9f3a\"],[0.8888888888888888,\"#fdca26\"],[1.0,\"#f0f921\"]]}],\"mesh3d\":[{\"type\":\"mesh3d\",\"colorbar\":{\"outlinewidth\":0,\"ticks\":\"\"}}],\"scatter\":[{\"fillpattern\":{\"fillmode\":\"overlay\",\"size\":10,\"solidity\":0.2},\"type\":\"scatter\"}],\"parcoords\":[{\"type\":\"parcoords\",\"line\":{\"colorbar\":{\"outlinewidth\":0,\"ticks\":\"\"}}}],\"scatterpolargl\":[{\"type\":\"scatterpolargl\",\"marker\":{\"colorbar\":{\"outlinewidth\":0,\"ticks\":\"\"}}}],\"bar\":[{\"error_x\":{\"color\":\"#2a3f5f\"},\"error_y\":{\"color\":\"#2a3f5f\"},\"marker\":{\"line\":{\"color\":\"#E5ECF6\",\"width\":0.5},\"pattern\":{\"fillmode\":\"overlay\",\"size\":10,\"solidity\":0.2}},\"type\":\"bar\"}],\"scattergeo\":[{\"type\":\"scattergeo\",\"marker\":{\"colorbar\":{\"outlinewidth\":0,\"ticks\":\"\"}}}],\"scatterpolar\":[{\"type\":\"scatterpolar\",\"marker\":{\"colorbar\":{\"outlinewidth\":0,\"ticks\":\"\"}}}],\"histogram\":[{\"marker\":{\"pattern\":{\"fillmode\":\"overlay\",\"size\":10,\"solidity\":0.2}},\"type\":\"histogram\"}],\"scattergl\":[{\"type\":\"scattergl\",\"marker\":{\"colorbar\":{\"outlinewidth\":0,\"ticks\":\"\"}}}],\"scatter3d\":[{\"type\":\"scatter3d\",\"line\":{\"colorbar\":{\"outlinewidth\":0,\"ticks\":\"\"}},\"marker\":{\"colorbar\":{\"outlinewidth\":0,\"ticks\":\"\"}}}],\"scattermapbox\":[{\"type\":\"scattermapbox\",\"marker\":{\"colorbar\":{\"outlinewidth\":0,\"ticks\":\"\"}}}],\"scatterternary\":[{\"type\":\"scatterternary\",\"marker\":{\"colorbar\":{\"outlinewidth\":0,\"ticks\":\"\"}}}],\"scattercarpet\":[{\"type\":\"scattercarpet\",\"marker\":{\"colorbar\":{\"outlinewidth\":0,\"ticks\":\"\"}}}],\"carpet\":[{\"aaxis\":{\"endlinecolor\":\"#2a3f5f\",\"gridcolor\":\"white\",\"linecolor\":\"white\",\"minorgridcolor\":\"white\",\"startlinecolor\":\"#2a3f5f\"},\"baxis\":{\"endlinecolor\":\"#2a3f5f\",\"gridcolor\":\"white\",\"linecolor\":\"white\",\"minorgridcolor\":\"white\",\"startlinecolor\":\"#2a3f5f\"},\"type\":\"carpet\"}],\"table\":[{\"cells\":{\"fill\":{\"color\":\"#EBF0F8\"},\"line\":{\"color\":\"white\"}},\"header\":{\"fill\":{\"color\":\"#C8D4E3\"},\"line\":{\"color\":\"white\"}},\"type\":\"table\"}],\"barpolar\":[{\"marker\":{\"line\":{\"color\":\"#E5ECF6\",\"width\":0.5},\"pattern\":{\"fillmode\":\"overlay\",\"size\":10,\"solidity\":0.2}},\"type\":\"barpolar\"}],\"pie\":[{\"automargin\":true,\"type\":\"pie\"}]},\"layout\":{\"autotypenumbers\":\"strict\",\"colorway\":[\"#636efa\",\"#EF553B\",\"#00cc96\",\"#ab63fa\",\"#FFA15A\",\"#19d3f3\",\"#FF6692\",\"#B6E880\",\"#FF97FF\",\"#FECB52\"],\"font\":{\"color\":\"#2a3f5f\"},\"hovermode\":\"closest\",\"hoverlabel\":{\"align\":\"left\"},\"paper_bgcolor\":\"white\",\"plot_bgcolor\":\"#E5ECF6\",\"polar\":{\"bgcolor\":\"#E5ECF6\",\"angularaxis\":{\"gridcolor\":\"white\",\"linecolor\":\"white\",\"ticks\":\"\"},\"radialaxis\":{\"gridcolor\":\"white\",\"linecolor\":\"white\",\"ticks\":\"\"}},\"ternary\":{\"bgcolor\":\"#E5ECF6\",\"aaxis\":{\"gridcolor\":\"white\",\"linecolor\":\"white\",\"ticks\":\"\"},\"baxis\":{\"gridcolor\":\"white\",\"linecolor\":\"white\",\"ticks\":\"\"},\"caxis\":{\"gridcolor\":\"white\",\"linecolor\":\"white\",\"ticks\":\"\"}},\"coloraxis\":{\"colorbar\":{\"outlinewidth\":0,\"ticks\":\"\"}},\"colorscale\":{\"sequential\":[[0.0,\"#0d0887\"],[0.1111111111111111,\"#46039f\"],[0.2222222222222222,\"#7201a8\"],[0.3333333333333333,\"#9c179e\"],[0.4444444444444444,\"#bd3786\"],[0.5555555555555556,\"#d8576b\"],[0.6666666666666666,\"#ed7953\"],[0.7777777777777778,\"#fb9f3a\"],[0.8888888888888888,\"#fdca26\"],[1.0,\"#f0f921\"]],\"sequentialminus\":[[0.0,\"#0d0887\"],[0.1111111111111111,\"#46039f\"],[0.2222222222222222,\"#7201a8\"],[0.3333333333333333,\"#9c179e\"],[0.4444444444444444,\"#bd3786\"],[0.5555555555555556,\"#d8576b\"],[0.6666666666666666,\"#ed7953\"],[0.7777777777777778,\"#fb9f3a\"],[0.8888888888888888,\"#fdca26\"],[1.0,\"#f0f921\"]],\"diverging\":[[0,\"#8e0152\"],[0.1,\"#c51b7d\"],[0.2,\"#de77ae\"],[0.3,\"#f1b6da\"],[0.4,\"#fde0ef\"],[0.5,\"#f7f7f7\"],[0.6,\"#e6f5d0\"],[0.7,\"#b8e186\"],[0.8,\"#7fbc41\"],[0.9,\"#4d9221\"],[1,\"#276419\"]]},\"xaxis\":{\"gridcolor\":\"white\",\"linecolor\":\"white\",\"ticks\":\"\",\"title\":{\"standoff\":15},\"zerolinecolor\":\"white\",\"automargin\":true,\"zerolinewidth\":2},\"yaxis\":{\"gridcolor\":\"white\",\"linecolor\":\"white\",\"ticks\":\"\",\"title\":{\"standoff\":15},\"zerolinecolor\":\"white\",\"automargin\":true,\"zerolinewidth\":2},\"scene\":{\"xaxis\":{\"backgroundcolor\":\"#E5ECF6\",\"gridcolor\":\"white\",\"linecolor\":\"white\",\"showbackground\":true,\"ticks\":\"\",\"zerolinecolor\":\"white\",\"gridwidth\":2},\"yaxis\":{\"backgroundcolor\":\"#E5ECF6\",\"gridcolor\":\"white\",\"linecolor\":\"white\",\"showbackground\":true,\"ticks\":\"\",\"zerolinecolor\":\"white\",\"gridwidth\":2},\"zaxis\":{\"backgroundcolor\":\"#E5ECF6\",\"gridcolor\":\"white\",\"linecolor\":\"white\",\"showbackground\":true,\"ticks\":\"\",\"zerolinecolor\":\"white\",\"gridwidth\":2}},\"shapedefaults\":{\"line\":{\"color\":\"#2a3f5f\"}},\"annotationdefaults\":{\"arrowcolor\":\"#2a3f5f\",\"arrowhead\":0,\"arrowwidth\":1},\"geo\":{\"bgcolor\":\"white\",\"landcolor\":\"#E5ECF6\",\"subunitcolor\":\"white\",\"showland\":true,\"showlakes\":true,\"lakecolor\":\"white\"},\"title\":{\"x\":0.05},\"mapbox\":{\"style\":\"light\"}}},\"coloraxis\":{\"colorbar\":{\"title\":{\"text\":\"RMSE\"}},\"colorscale\":[[0.0,\"rgb(0, 147, 146)\"],[0.16666666666666666,\"rgb(114, 170, 161)\"],[0.3333333333333333,\"rgb(177, 199, 179)\"],[0.5,\"rgb(241, 234, 200)\"],[0.6666666666666666,\"rgb(229, 185, 173)\"],[0.8333333333333334,\"rgb(217, 137, 148)\"],[1.0,\"rgb(208, 88, 126)\"]]},\"legend\":{\"tracegroupgap\":0},\"margin\":{\"t\":60}},                        {\"responsive\": true}                    ).then(function(){\n",
       "                            \n",
       "var gd = document.getElementById('7f6a55cf-6874-42ac-9112-47d55d0e61f8');\n",
       "var x = new MutationObserver(function (mutations, observer) {{\n",
       "        var display = window.getComputedStyle(gd).display;\n",
       "        if (!display || display === 'none') {{\n",
       "            console.log([gd, 'removed!']);\n",
       "            Plotly.purge(gd);\n",
       "            observer.disconnect();\n",
       "        }}\n",
       "}});\n",
       "\n",
       "// Listen for the removal of the full notebook cells\n",
       "var notebookContainer = gd.closest('#notebook-container');\n",
       "if (notebookContainer) {{\n",
       "    x.observe(notebookContainer, {childList: true});\n",
       "}}\n",
       "\n",
       "// Listen for the clearing of the current output cell\n",
       "var outputEl = gd.closest('.output');\n",
       "if (outputEl) {{\n",
       "    x.observe(outputEl, {childList: true});\n",
       "}}\n",
       "\n",
       "                        })                };                });            </script>        </div>"
      ]
     },
     "metadata": {},
     "output_type": "display_data"
    }
   ],
   "source": [
    "# had to 'pip install \"notebook>=5.3\" \"ipywidgets>=7.2\"' for this to show up.\n",
    "fit_plot = cvrse_df[['test_rmse', 'train_rmse', 'max_depth', 'learning_rate', 'n_estimators', 'colsample_by_tree']].copy()\n",
    "#fit_plot['bootstrap'] = [1 if i else 0 for i in fit_plot['bootstrap']]\n",
    "#fit_plot['max_features'] = [43 if i == 'auto' else i for i in fit_plot['max_features']]\n",
    "fig = px.parallel_coordinates(fit_plot, color = 'test_rmse', \n",
    "                              labels = {'test_rmse': 'RMSE', \n",
    "                                        'train_rmse': 'Train RMSE', \n",
    "                                        'bootstrap': 'Bootstrap', \n",
    "                                        'max_features': 'Max Features', \n",
    "                                        'n_estimators': 'Estimators',\n",
    "                                        'min_samples_split': 'Minimum Split',\n",
    "                                        'alpha': 'alpha'}, \n",
    "                              color_continuous_scale = px.colors.diverging.Tealrose)\n",
    "fig.show()"
   ]
  },
  {
   "cell_type": "code",
   "execution_count": 96,
   "id": "68fb4c5d-e12e-4ad3-815d-847612cd2a11",
   "metadata": {},
   "outputs": [],
   "source": [
    "# Apply best estimator on test set\n",
    "\n",
    "model_hp = grid_search_gbm.best_estimator_\n",
    "predictions = model_hp.predict(test)\n",
    "predictions_df = submission_format(predictions, test_orig)\n",
    "predictions_df.head()\n",
    "\n",
    "predictions_df.to_csv('results/prediction_gbm.csv', index = False)"
   ]
  },
  {
   "cell_type": "code",
   "execution_count": 97,
   "id": "9c9a6917-82dc-4dcc-9ee2-518e75e6d6aa",
   "metadata": {},
   "outputs": [
    {
     "data": {
      "text/plain": [
       "['results/models/gbm.sav']"
      ]
     },
     "execution_count": 97,
     "metadata": {},
     "output_type": "execute_result"
    }
   ],
   "source": [
    "joblib.dump(model_hp, 'results/models/gbm.sav')"
   ]
  },
  {
   "cell_type": "markdown",
   "id": "e342307d-ee45-44a7-b8fd-cafdecd31a90",
   "metadata": {},
   "source": [
    "This gets 0.12614 on Kaggle! "
   ]
  },
  {
   "cell_type": "markdown",
   "id": "6f20f362-9598-46bc-ba55-7faefa65d6c4",
   "metadata": {},
   "source": [
    "## Practicing Neural Network "
   ]
  },
  {
   "cell_type": "code",
   "execution_count": 101,
   "id": "66af3e97-6c44-46d3-b2e7-65ccc0f7dfbe",
   "metadata": {},
   "outputs": [],
   "source": [
    "import torch\n",
    "import torch.nn as nn\n",
    "from torch.utils.data import TensorDataset\n",
    "from torch.utils.data import DataLoader"
   ]
  },
  {
   "cell_type": "code",
   "execution_count": 108,
   "id": "b8f58359-c89c-4ba3-be4b-99563e0a1a14",
   "metadata": {},
   "outputs": [],
   "source": [
    "X_train_torch = torch.from_numpy(X_train.to_numpy()).float()\n",
    "y_train_torch = torch.from_numpy(y_train.to_numpy()).float()"
   ]
  },
  {
   "cell_type": "code",
   "execution_count": 201,
   "id": "93e2626e-b31e-4d94-9ceb-4e1b7d72aa11",
   "metadata": {},
   "outputs": [],
   "source": [
    "dataset = TensorDataset(X_train_torch, y_train_torch)"
   ]
  },
  {
   "cell_type": "code",
   "execution_count": 202,
   "id": "1d93fcb7-36be-4ce9-9fa2-0c7bc7a86ae5",
   "metadata": {},
   "outputs": [],
   "source": [
    "#set seed\n",
    "torch.manual_seed(1)\n",
    "batch_size = 1\n",
    "dataloader = DataLoader(dataset, batch_size, shuffle = True)"
   ]
  },
  {
   "cell_type": "code",
   "execution_count": 224,
   "id": "a8dd68c8-6e4e-477e-b0b0-7745ac38785a",
   "metadata": {},
   "outputs": [],
   "source": [
    "class Model(nn.Module): \n",
    "    def __init__(self, input_size, hidden_size1, hidden_size2, output_size): \n",
    "        super().__init__()\n",
    "        self.layer1 = nn.Linear(input_size, hidden_size1)\n",
    "        self.layer2 = nn.Linear(hidden_size1, hidden_size2)\n",
    "        self.layer3 = nn.Linear(hidden_size2, output_size) \n",
    "    \n",
    "    def forward(self, x): \n",
    "        x = self.layer1(x)\n",
    "        x = nn.ReLU()(x)\n",
    "        x = self.layer2(x)\n",
    "        x = nn.ReLU()(x)\n",
    "        x = self.layer3(x)\n",
    "        return x"
   ]
  },
  {
   "cell_type": "code",
   "execution_count": 225,
   "id": "5d8fc361-e1a1-40b9-be1f-c4c63e478ace",
   "metadata": {},
   "outputs": [],
   "source": [
    "input_size = X_train_torch.shape[1]\n",
    "hidden_size1 = 16\n",
    "hidden_size2 = 16\n",
    "output_size = 1\n",
    "\n",
    "model = Model(input_size, hidden_size1, hidden_size2, output_size)"
   ]
  },
  {
   "cell_type": "code",
   "execution_count": 226,
   "id": "54848d5a-87d9-42ae-9e7e-910de5afd7ad",
   "metadata": {},
   "outputs": [],
   "source": [
    "learning_rate = 0.001\n",
    "loss_fn = nn.MSELoss()\n",
    "optimizer = torch.optim.Adam(model.parameters(), lr = learning_rate)"
   ]
  },
  {
   "cell_type": "code",
   "execution_count": 228,
   "id": "674e54ee-f488-49cb-b227-c72d73315441",
   "metadata": {},
   "outputs": [
    {
     "name": "stdout",
     "output_type": "stream",
     "text": [
      "Epoch:  0\n"
     ]
    },
    {
     "name": "stderr",
     "output_type": "stream",
     "text": [
      "/Users/mnakajim/.pyenv/versions/3.9.1/lib/python3.9/site-packages/torch/nn/modules/loss.py:530: UserWarning:\n",
      "\n",
      "Using a target size (torch.Size([1])) that is different to the input size (torch.Size([])). This will likely lead to incorrect results due to broadcasting. Please ensure they have the same size.\n",
      "\n"
     ]
    },
    {
     "name": "stdout",
     "output_type": "stream",
     "text": [
      "Epoch:  10\n",
      "Epoch:  20\n",
      "Epoch:  30\n",
      "Epoch:  40\n",
      "Epoch:  50\n",
      "Epoch:  60\n",
      "Epoch:  70\n",
      "Epoch:  80\n",
      "Epoch:  90\n",
      "Epoch:  100\n",
      "Epoch:  110\n",
      "Epoch:  120\n",
      "Epoch:  130\n",
      "Epoch:  140\n",
      "Epoch:  150\n",
      "Epoch:  160\n",
      "Epoch:  170\n",
      "Epoch:  180\n",
      "Epoch:  190\n"
     ]
    }
   ],
   "source": [
    "# initialization\n",
    "start_time = time.time()\n",
    "num_epochs = 200\n",
    "loss_hist = [0] * num_epochs\n",
    "\n",
    "# train!\n",
    "for epoch in range(num_epochs):\n",
    "    if epoch % 10 == 0: \n",
    "        print('Epoch: ', epoch)\n",
    "    for x_batch, y_batch in dataloader:\n",
    "        pred = model(x_batch)\n",
    "        loss = loss_fn(torch.squeeze(pred), y_batch)\n",
    "        loss.backward()\n",
    "        optimizer.step()\n",
    "        optimizer.zero_grad()\n",
    "        loss_hist[epoch] += loss.item() \n",
    "    loss_hist[epoch] = (loss_hist[epoch]/len(dataloader.dataset))**0.5\n",
    "\n",
    "end_time = time.time()"
   ]
  },
  {
   "cell_type": "code",
   "execution_count": 229,
   "id": "08858913-27eb-4a20-9812-efb65b1d19b6",
   "metadata": {},
   "outputs": [
    {
     "data": {
      "text/plain": [
       "213.51418900489807"
      ]
     },
     "execution_count": 229,
     "metadata": {},
     "output_type": "execute_result"
    }
   ],
   "source": [
    "end_time - start_time"
   ]
  },
  {
   "cell_type": "code",
   "execution_count": 217,
   "id": "ac90b92d-eb82-425e-8e46-e17c9fa2c01e",
   "metadata": {},
   "outputs": [
    {
     "data": {
      "image/png": "[encoded data removed]",
      "text/plain": [
       "<Figure size 864x360 with 1 Axes>"
      ]
     },
     "metadata": {
      "needs_background": "light"
     },
     "output_type": "display_data"
    }
   ],
   "source": [
    "fig = plt.figure(figsize = (12, 5))\n",
    "ax = fig.add_subplot(1, 2, 1)\n",
    "ax.plot(loss_hist, lw = 3)\n",
    "ax.set_title(\"Training loss (RMSE)\", size = 15)\n",
    "ax.set_xlabel('Epoch', size = 15)\n",
    "ax.tick_params(axis = 'both', which = 'major', labelsize = 15)\n",
    "plt.show()"
   ]
  },
  {
   "cell_type": "code",
   "execution_count": 218,
   "id": "b4a4efa3-821d-4f97-857d-a107168d172c",
   "metadata": {},
   "outputs": [],
   "source": [
    "# Try model on test set \n",
    "X_test_torch = torch.from_numpy(X_test.to_numpy()).float()\n",
    "pred_test = model(X_test_torch)"
   ]
  },
  {
   "cell_type": "code",
   "execution_count": 219,
   "id": "984d7f51-7220-4659-8ad4-71dbd2a4c24b",
   "metadata": {},
   "outputs": [],
   "source": [
    "rmse = torch.sqrt(torch.mean((torch.squeeze(pred_test) - torch.from_numpy(y_test.to_numpy()))**2))"
   ]
  },
  {
   "cell_type": "code",
   "execution_count": 220,
   "id": "17335e5e-df2a-48da-9d44-9013cf545710",
   "metadata": {},
   "outputs": [
    {
     "data": {
      "text/plain": [
       "tensor(0.0764, dtype=torch.float64, grad_fn=<SqrtBackward0>)"
      ]
     },
     "execution_count": 220,
     "metadata": {},
     "output_type": "execute_result"
    }
   ],
   "source": [
    "rmse"
   ]
  },
  {
   "cell_type": "markdown",
   "id": "27aa147f-f5f2-4850-bbc4-9d351f9285eb",
   "metadata": {},
   "source": [
    "This is not bad RMSE (but worse than default RF and GBM) and the test RMSE is pretty close to the training RMSE. I think the NN architecture would have to be thought about a bit and hyperparameter tuned to make better. "
   ]
  },
  {
   "cell_type": "code",
   "execution_count": 221,
   "id": "b8690576-5422-479f-941f-37f6dfac8be2",
   "metadata": {},
   "outputs": [],
   "source": [
    "# Try model on submission set\n",
    "pred_submission = model(torch.from_numpy(test.to_numpy()).float())"
   ]
  },
  {
   "cell_type": "code",
   "execution_count": 222,
   "id": "4cbf12cc-4ef5-48f1-aacc-d63d89c0cb25",
   "metadata": {},
   "outputs": [
    {
     "data": {
      "text/html": [
       "<div>\n",
       "<style scoped>\n",
       "    .dataframe tbody tr th:only-of-type {\n",
       "        vertical-align: middle;\n",
       "    }\n",
       "\n",
       "    .dataframe tbody tr th {\n",
       "        vertical-align: top;\n",
       "    }\n",
       "\n",
       "    .dataframe thead th {\n",
       "        text-align: right;\n",
       "    }\n",
       "</style>\n",
       "<table border=\"1\" class=\"dataframe\">\n",
       "  <thead>\n",
       "    <tr style=\"text-align: right;\">\n",
       "      <th></th>\n",
       "      <th>Id</th>\n",
       "      <th>SalePrice</th>\n",
       "    </tr>\n",
       "  </thead>\n",
       "  <tbody>\n",
       "    <tr>\n",
       "      <th>0</th>\n",
       "      <td>1461</td>\n",
       "      <td>130935.761136</td>\n",
       "    </tr>\n",
       "    <tr>\n",
       "      <th>1</th>\n",
       "      <td>1462</td>\n",
       "      <td>150165.421225</td>\n",
       "    </tr>\n",
       "    <tr>\n",
       "      <th>2</th>\n",
       "      <td>1463</td>\n",
       "      <td>185925.145896</td>\n",
       "    </tr>\n",
       "    <tr>\n",
       "      <th>3</th>\n",
       "      <td>1464</td>\n",
       "      <td>201304.071167</td>\n",
       "    </tr>\n",
       "    <tr>\n",
       "      <th>4</th>\n",
       "      <td>1465</td>\n",
       "      <td>193330.626890</td>\n",
       "    </tr>\n",
       "  </tbody>\n",
       "</table>\n",
       "</div>"
      ],
      "text/plain": [
       "     Id      SalePrice\n",
       "0  1461  130935.761136\n",
       "1  1462  150165.421225\n",
       "2  1463  185925.145896\n",
       "3  1464  201304.071167\n",
       "4  1465  193330.626890"
      ]
     },
     "execution_count": 222,
     "metadata": {},
     "output_type": "execute_result"
    }
   ],
   "source": [
    "predictions = torch.squeeze(pred_submission).detach().numpy()\n",
    "predictions_df = submission_format(predictions, test_orig)\n",
    "predictions_df.head()"
   ]
  },
  {
   "cell_type": "code",
   "execution_count": 223,
   "id": "0f2b1a14-3895-4a20-8daa-410a1388167a",
   "metadata": {},
   "outputs": [],
   "source": [
    "predictions_df.to_csv('results/prediction_nn.csv', index = False)"
   ]
  },
  {
   "cell_type": "code",
   "execution_count": null,
   "id": "092ef1dd-bcf4-4c2b-81d5-e90052a999f5",
   "metadata": {},
   "outputs": [],
   "source": []
  }
 ],
 "metadata": {
  "kernelspec": {
   "display_name": "venv",
   "language": "python",
   "name": "venv"
  },
  "language_info": {
   "codemirror_mode": {
    "name": "ipython",
    "version": 3
   },
   "file_extension": ".py",
   "mimetype": "text/x-python",
   "name": "python",
   "nbconvert_exporter": "python",
   "pygments_lexer": "ipython3",
   "version": "3.9.1"
  }
 },
 "nbformat": 4,
 "nbformat_minor": 5
}
