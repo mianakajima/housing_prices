{
 "cells": [
  {
   "cell_type": "markdown",
   "id": "514ed57e-74df-4ff5-b412-0af15fde8302",
   "metadata": {},
   "source": [
    "# 03_model_exploration: Try different ML models on data\n",
    "\n",
    "Date: 2022-06-13\n",
    "\n"
   ]
  },
  {
   "cell_type": "markdown",
   "id": "cf3b1f4a-ae9a-4125-a753-fc95901fc42f",
   "metadata": {},
   "source": [
    "## Load Packages and Data"
   ]
  },
  {
   "cell_type": "code",
   "execution_count": 37,
   "id": "3ec2aa30-7028-44aa-8994-c547a6223046",
   "metadata": {},
   "outputs": [],
   "source": [
    "import os\n",
    "#os.chdir('..')\n",
    "import pandas as pd\n",
    "import numpy as np\n",
    "from sklearn.metrics import mean_squared_error\n",
    "from sklearn.model_selection import cross_val_score"
   ]
  },
  {
   "cell_type": "code",
   "execution_count": 74,
   "id": "754012a2-0a20-460a-a441-6c46bb0bb00b",
   "metadata": {},
   "outputs": [],
   "source": [
    "# read in data sets\n",
    "training_cleaned = pd.read_pickle('cleaned_data/training_cleaned.pkl')\n",
    "training_prices = pd.read_pickle('cleaned_data/training_prices.pkl')\n",
    "test_orig = pd.read_csv('data/test.csv')\n",
    "test = pd.read_pickle('cleaned_data/test_cleaned.pkl')"
   ]
  },
  {
   "cell_type": "code",
   "execution_count": 13,
   "id": "771cb78a-48fa-45e7-b4cc-89fed0d3da96",
   "metadata": {},
   "outputs": [
    {
     "data": {
      "text/html": [
       "<div>\n",
       "<style scoped>\n",
       "    .dataframe tbody tr th:only-of-type {\n",
       "        vertical-align: middle;\n",
       "    }\n",
       "\n",
       "    .dataframe tbody tr th {\n",
       "        vertical-align: top;\n",
       "    }\n",
       "\n",
       "    .dataframe thead th {\n",
       "        text-align: right;\n",
       "    }\n",
       "</style>\n",
       "<table border=\"1\" class=\"dataframe\">\n",
       "  <thead>\n",
       "    <tr style=\"text-align: right;\">\n",
       "      <th></th>\n",
       "      <th>x0_120</th>\n",
       "      <th>x0_160</th>\n",
       "      <th>x0_180</th>\n",
       "      <th>x0_190</th>\n",
       "      <th>x0_20</th>\n",
       "      <th>x0_30</th>\n",
       "      <th>x0_40</th>\n",
       "      <th>x0_45</th>\n",
       "      <th>x0_50</th>\n",
       "      <th>x0_60</th>\n",
       "      <th>...</th>\n",
       "      <th>WoodDeckSF</th>\n",
       "      <th>OpenPorchSF</th>\n",
       "      <th>EnclosedPorch</th>\n",
       "      <th>3SsnPorch</th>\n",
       "      <th>ScreenPorch</th>\n",
       "      <th>PoolArea</th>\n",
       "      <th>MiscVal</th>\n",
       "      <th>MoSold</th>\n",
       "      <th>YrSold</th>\n",
       "      <th>Remodeled</th>\n",
       "    </tr>\n",
       "  </thead>\n",
       "  <tbody>\n",
       "    <tr>\n",
       "      <th>0</th>\n",
       "      <td>0.0</td>\n",
       "      <td>0.0</td>\n",
       "      <td>0.0</td>\n",
       "      <td>0.0</td>\n",
       "      <td>0.0</td>\n",
       "      <td>0.0</td>\n",
       "      <td>0.0</td>\n",
       "      <td>0.0</td>\n",
       "      <td>0.0</td>\n",
       "      <td>1.0</td>\n",
       "      <td>...</td>\n",
       "      <td>0.000000</td>\n",
       "      <td>0.111517</td>\n",
       "      <td>0.000000</td>\n",
       "      <td>0.0</td>\n",
       "      <td>0.0</td>\n",
       "      <td>0.0</td>\n",
       "      <td>0.0</td>\n",
       "      <td>0.090909</td>\n",
       "      <td>0.50</td>\n",
       "      <td>0.0</td>\n",
       "    </tr>\n",
       "    <tr>\n",
       "      <th>1</th>\n",
       "      <td>0.0</td>\n",
       "      <td>0.0</td>\n",
       "      <td>0.0</td>\n",
       "      <td>0.0</td>\n",
       "      <td>1.0</td>\n",
       "      <td>0.0</td>\n",
       "      <td>0.0</td>\n",
       "      <td>0.0</td>\n",
       "      <td>0.0</td>\n",
       "      <td>0.0</td>\n",
       "      <td>...</td>\n",
       "      <td>0.347725</td>\n",
       "      <td>0.000000</td>\n",
       "      <td>0.000000</td>\n",
       "      <td>0.0</td>\n",
       "      <td>0.0</td>\n",
       "      <td>0.0</td>\n",
       "      <td>0.0</td>\n",
       "      <td>0.363636</td>\n",
       "      <td>0.25</td>\n",
       "      <td>0.0</td>\n",
       "    </tr>\n",
       "    <tr>\n",
       "      <th>2</th>\n",
       "      <td>0.0</td>\n",
       "      <td>0.0</td>\n",
       "      <td>0.0</td>\n",
       "      <td>0.0</td>\n",
       "      <td>0.0</td>\n",
       "      <td>0.0</td>\n",
       "      <td>0.0</td>\n",
       "      <td>0.0</td>\n",
       "      <td>0.0</td>\n",
       "      <td>1.0</td>\n",
       "      <td>...</td>\n",
       "      <td>0.000000</td>\n",
       "      <td>0.076782</td>\n",
       "      <td>0.000000</td>\n",
       "      <td>0.0</td>\n",
       "      <td>0.0</td>\n",
       "      <td>0.0</td>\n",
       "      <td>0.0</td>\n",
       "      <td>0.727273</td>\n",
       "      <td>0.50</td>\n",
       "      <td>1.0</td>\n",
       "    </tr>\n",
       "    <tr>\n",
       "      <th>3</th>\n",
       "      <td>0.0</td>\n",
       "      <td>0.0</td>\n",
       "      <td>0.0</td>\n",
       "      <td>0.0</td>\n",
       "      <td>0.0</td>\n",
       "      <td>0.0</td>\n",
       "      <td>0.0</td>\n",
       "      <td>0.0</td>\n",
       "      <td>0.0</td>\n",
       "      <td>0.0</td>\n",
       "      <td>...</td>\n",
       "      <td>0.000000</td>\n",
       "      <td>0.063985</td>\n",
       "      <td>0.492754</td>\n",
       "      <td>0.0</td>\n",
       "      <td>0.0</td>\n",
       "      <td>0.0</td>\n",
       "      <td>0.0</td>\n",
       "      <td>0.090909</td>\n",
       "      <td>0.00</td>\n",
       "      <td>1.0</td>\n",
       "    </tr>\n",
       "    <tr>\n",
       "      <th>4</th>\n",
       "      <td>0.0</td>\n",
       "      <td>0.0</td>\n",
       "      <td>0.0</td>\n",
       "      <td>0.0</td>\n",
       "      <td>0.0</td>\n",
       "      <td>0.0</td>\n",
       "      <td>0.0</td>\n",
       "      <td>0.0</td>\n",
       "      <td>0.0</td>\n",
       "      <td>1.0</td>\n",
       "      <td>...</td>\n",
       "      <td>0.224037</td>\n",
       "      <td>0.153565</td>\n",
       "      <td>0.000000</td>\n",
       "      <td>0.0</td>\n",
       "      <td>0.0</td>\n",
       "      <td>0.0</td>\n",
       "      <td>0.0</td>\n",
       "      <td>1.000000</td>\n",
       "      <td>0.50</td>\n",
       "      <td>0.0</td>\n",
       "    </tr>\n",
       "  </tbody>\n",
       "</table>\n",
       "<p>5 rows × 317 columns</p>\n",
       "</div>"
      ],
      "text/plain": [
       "   x0_120  x0_160  x0_180  x0_190  x0_20  x0_30  x0_40  x0_45  x0_50  x0_60  \\\n",
       "0     0.0     0.0     0.0     0.0    0.0    0.0    0.0    0.0    0.0    1.0   \n",
       "1     0.0     0.0     0.0     0.0    1.0    0.0    0.0    0.0    0.0    0.0   \n",
       "2     0.0     0.0     0.0     0.0    0.0    0.0    0.0    0.0    0.0    1.0   \n",
       "3     0.0     0.0     0.0     0.0    0.0    0.0    0.0    0.0    0.0    0.0   \n",
       "4     0.0     0.0     0.0     0.0    0.0    0.0    0.0    0.0    0.0    1.0   \n",
       "\n",
       "   ...  WoodDeckSF  OpenPorchSF  EnclosedPorch  3SsnPorch  ScreenPorch  \\\n",
       "0  ...    0.000000     0.111517       0.000000        0.0          0.0   \n",
       "1  ...    0.347725     0.000000       0.000000        0.0          0.0   \n",
       "2  ...    0.000000     0.076782       0.000000        0.0          0.0   \n",
       "3  ...    0.000000     0.063985       0.492754        0.0          0.0   \n",
       "4  ...    0.224037     0.153565       0.000000        0.0          0.0   \n",
       "\n",
       "   PoolArea  MiscVal    MoSold  YrSold  Remodeled  \n",
       "0       0.0      0.0  0.090909    0.50        0.0  \n",
       "1       0.0      0.0  0.363636    0.25        0.0  \n",
       "2       0.0      0.0  0.727273    0.50        1.0  \n",
       "3       0.0      0.0  0.090909    0.00        1.0  \n",
       "4       0.0      0.0  1.000000    0.50        0.0  \n",
       "\n",
       "[5 rows x 317 columns]"
      ]
     },
     "execution_count": 13,
     "metadata": {},
     "output_type": "execute_result"
    }
   ],
   "source": [
    "training_cleaned.head()"
   ]
  },
  {
   "cell_type": "code",
   "execution_count": 14,
   "id": "8c533e61-61e6-4316-af6b-3da77d38df35",
   "metadata": {},
   "outputs": [
    {
     "data": {
      "text/plain": [
       "0    208500\n",
       "1    181500\n",
       "2    223500\n",
       "3    140000\n",
       "4    250000\n",
       "Name: SalePrice, dtype: int64"
      ]
     },
     "execution_count": 14,
     "metadata": {},
     "output_type": "execute_result"
    }
   ],
   "source": [
    "training_prices.head()"
   ]
  },
  {
   "cell_type": "code",
   "execution_count": 43,
   "id": "2b8fc0c6-3c27-4456-9302-9afff76005ba",
   "metadata": {},
   "outputs": [
    {
     "data": {
      "text/plain": [
       "(1460, 317)"
      ]
     },
     "execution_count": 43,
     "metadata": {},
     "output_type": "execute_result"
    }
   ],
   "source": [
    "training_cleaned.shape"
   ]
  },
  {
   "cell_type": "code",
   "execution_count": 44,
   "id": "2e6ae177-1c05-4554-9869-9dc52d9eec80",
   "metadata": {},
   "outputs": [],
   "source": [
    "X = training_cleaned.to_numpy()\n",
    "\n",
    "#log transform the prices\n",
    "y = np.log10(training_prices)"
   ]
  },
  {
   "cell_type": "markdown",
   "id": "2af3e775-a83b-4a3e-a369-e70aa0d1136b",
   "metadata": {},
   "source": [
    "## Try a couple of machine learning models "
   ]
  },
  {
   "cell_type": "markdown",
   "id": "645b07e7-c7e3-4c83-b572-342ad0aeedd0",
   "metadata": {},
   "source": [
    "### Decision Tree "
   ]
  },
  {
   "cell_type": "code",
   "execution_count": 17,
   "id": "6420b8e9-468b-4513-9275-33956942ed6e",
   "metadata": {},
   "outputs": [],
   "source": [
    "from sklearn.tree import DecisionTreeRegressor\n",
    "from sklearn.tree import export_graphviz"
   ]
  },
  {
   "cell_type": "code",
   "execution_count": 85,
   "id": "aedf8796-3123-40ba-94ca-7a8c805edd27",
   "metadata": {},
   "outputs": [
    {
     "data": {
      "text/plain": [
       "DecisionTreeRegressor()"
      ]
     },
     "execution_count": 85,
     "metadata": {},
     "output_type": "execute_result"
    }
   ],
   "source": [
    "tree_reg = DecisionTreeRegressor()\n",
    "tree_reg.fit(X, y)"
   ]
  },
  {
   "cell_type": "code",
   "execution_count": 86,
   "id": "742faa53-099b-47fa-96db-1605e61c2814",
   "metadata": {},
   "outputs": [
    {
     "data": {
      "text/plain": [
       "0.0"
      ]
     },
     "execution_count": 86,
     "metadata": {},
     "output_type": "execute_result"
    }
   ],
   "source": [
    "housing_predictions = tree_reg.predict(X)\n",
    "tree_mse = mean_squared_error(y, housing_predictions) \n",
    "tree_rmse = np.sqrt(tree_mse) \n",
    "tree_rmse"
   ]
  },
  {
   "cell_type": "markdown",
   "id": "94f50186-66ea-4e09-8f98-d414719ee504",
   "metadata": {},
   "source": [
    "At a maximum depth of 30, the RMSE goes to 0. At 20, it is still non-zero. "
   ]
  },
  {
   "cell_type": "code",
   "execution_count": 87,
   "id": "ffd9384c-230e-4d40-a0de-14e1d9913ddf",
   "metadata": {},
   "outputs": [],
   "source": [
    "# Try cross validation \n",
    "scores = cross_val_score(tree_reg, X, y, scoring = \"neg_mean_squared_error\", cv = 3)\n",
    "tree_rmse_scores = np.sqrt(-scores)"
   ]
  },
  {
   "cell_type": "code",
   "execution_count": 88,
   "id": "567ea027-1ac2-455e-82da-551b87362776",
   "metadata": {},
   "outputs": [
    {
     "data": {
      "text/plain": [
       "0.09031240435399633"
      ]
     },
     "execution_count": 88,
     "metadata": {},
     "output_type": "execute_result"
    }
   ],
   "source": [
    "tree_rmse_scores.mean()"
   ]
  },
  {
   "cell_type": "code",
   "execution_count": 89,
   "id": "e884d36c-29c3-4a9c-a5ff-9d3b6f4aae49",
   "metadata": {},
   "outputs": [
    {
     "data": {
      "text/plain": [
       "0.0015265919063526064"
      ]
     },
     "execution_count": 89,
     "metadata": {},
     "output_type": "execute_result"
    }
   ],
   "source": [
    "tree_rmse_scores.std()"
   ]
  },
  {
   "cell_type": "code",
   "execution_count": 75,
   "id": "cfef7964-9db9-4f13-8b4a-9ddb1c513569",
   "metadata": {},
   "outputs": [],
   "source": [
    "# predict on test data\n",
    "predictions = tree_reg.predict(test)"
   ]
  },
  {
   "cell_type": "code",
   "execution_count": 83,
   "id": "1edb23da-3aec-4b28-9dd5-f4631fb5c261",
   "metadata": {},
   "outputs": [],
   "source": [
    "# function to put predicted data in submission format \n",
    "def submission_format(predictions, test_orig):\n",
    "    \"\"\"\n",
    "    predictions: output of predict() from running model \n",
    "    test_orig: original test data to get ID \n",
    "    \n",
    "    returns: predictions with ID and applied exponential to undo log transform\n",
    "    \"\"\"\n",
    "    # create data frame with id\n",
    "    predictions_df = pd.DataFrame({'Id': test_orig['Id'], \n",
    "                               'SalePrice': predictions.tolist()})\n",
    "    # log transform back the sale price\n",
    "    predictions_df['SalePrice'] = 10**predictions_df['SalePrice']\n",
    "    \n",
    "    return predictions_df"
   ]
  },
  {
   "cell_type": "code",
   "execution_count": 84,
   "id": "9913cf7f-912b-453e-9426-e510dab1d7ff",
   "metadata": {},
   "outputs": [
    {
     "data": {
      "text/html": [
       "<div>\n",
       "<style scoped>\n",
       "    .dataframe tbody tr th:only-of-type {\n",
       "        vertical-align: middle;\n",
       "    }\n",
       "\n",
       "    .dataframe tbody tr th {\n",
       "        vertical-align: top;\n",
       "    }\n",
       "\n",
       "    .dataframe thead th {\n",
       "        text-align: right;\n",
       "    }\n",
       "</style>\n",
       "<table border=\"1\" class=\"dataframe\">\n",
       "  <thead>\n",
       "    <tr style=\"text-align: right;\">\n",
       "      <th></th>\n",
       "      <th>Id</th>\n",
       "      <th>SalePrice</th>\n",
       "    </tr>\n",
       "  </thead>\n",
       "  <tbody>\n",
       "    <tr>\n",
       "      <th>0</th>\n",
       "      <td>1461</td>\n",
       "      <td>128200.0</td>\n",
       "    </tr>\n",
       "    <tr>\n",
       "      <th>1</th>\n",
       "      <td>1462</td>\n",
       "      <td>155000.0</td>\n",
       "    </tr>\n",
       "    <tr>\n",
       "      <th>2</th>\n",
       "      <td>1463</td>\n",
       "      <td>190000.0</td>\n",
       "    </tr>\n",
       "    <tr>\n",
       "      <th>3</th>\n",
       "      <td>1464</td>\n",
       "      <td>175000.0</td>\n",
       "    </tr>\n",
       "    <tr>\n",
       "      <th>4</th>\n",
       "      <td>1465</td>\n",
       "      <td>184100.0</td>\n",
       "    </tr>\n",
       "  </tbody>\n",
       "</table>\n",
       "</div>"
      ],
      "text/plain": [
       "     Id  SalePrice\n",
       "0  1461   128200.0\n",
       "1  1462   155000.0\n",
       "2  1463   190000.0\n",
       "3  1464   175000.0\n",
       "4  1465   184100.0"
      ]
     },
     "execution_count": 84,
     "metadata": {},
     "output_type": "execute_result"
    }
   ],
   "source": [
    "predictions_df = submission_format(predictions, test_orig)\n",
    "predictions_df.head()"
   ]
  },
  {
   "cell_type": "code",
   "execution_count": 82,
   "id": "99f44bd5-1580-4329-a250-2223507bb665",
   "metadata": {},
   "outputs": [],
   "source": [
    "predictions_df.to_csv('results/prediction_dt.csv', index = False)"
   ]
  },
  {
   "cell_type": "markdown",
   "id": "39b69ba8-060c-42dc-8881-d6b66f0d3380",
   "metadata": {},
   "source": [
    "### Random Forest "
   ]
  },
  {
   "cell_type": "code",
   "execution_count": 90,
   "id": "6d11b810-043d-42f5-9b4b-145f30421675",
   "metadata": {},
   "outputs": [],
   "source": [
    "from sklearn.ensemble import RandomForestRegressor"
   ]
  },
  {
   "cell_type": "code",
   "execution_count": 92,
   "id": "bce1c50c-9289-41a6-8ae6-8cbeb165a1bc",
   "metadata": {},
   "outputs": [
    {
     "data": {
      "text/plain": [
       "RandomForestRegressor()"
      ]
     },
     "execution_count": 92,
     "metadata": {},
     "output_type": "execute_result"
    }
   ],
   "source": [
    "forest_reg = RandomForestRegressor()\n",
    "forest_reg.fit(X, y)"
   ]
  },
  {
   "cell_type": "code",
   "execution_count": 94,
   "id": "bf61dfc4-c3f2-482a-8207-6de6c6a9b7ca",
   "metadata": {},
   "outputs": [
    {
     "data": {
      "text/plain": [
       "0.0005255028133618755"
      ]
     },
     "execution_count": 94,
     "metadata": {},
     "output_type": "execute_result"
    }
   ],
   "source": [
    "rf_predictions = forest_reg.predict(X)\n",
    "rf_mse = mean_squared_error(y, rf_predictions)\n",
    "rf_rmse = np.sqrt(rf_mse)\n",
    "rf_mse"
   ]
  },
  {
   "cell_type": "code",
   "execution_count": 95,
   "id": "1d836713-5d60-4d36-9b26-16766e2b002a",
   "metadata": {},
   "outputs": [],
   "source": [
    "# Try cross validation \n",
    "scores = cross_val_score(forest_reg, X, y, scoring = \"neg_mean_squared_error\", cv = 3)\n",
    "rf_rmse_scores = np.sqrt(-scores)"
   ]
  },
  {
   "cell_type": "code",
   "execution_count": 96,
   "id": "f005fd1b-b8df-4a25-a9b9-377aed9d1018",
   "metadata": {},
   "outputs": [
    {
     "data": {
      "text/plain": [
       "0.0634144428784711"
      ]
     },
     "execution_count": 96,
     "metadata": {},
     "output_type": "execute_result"
    }
   ],
   "source": [
    "rf_rmse_scores.mean()"
   ]
  },
  {
   "cell_type": "code",
   "execution_count": 97,
   "id": "4ca1044d-1e6e-4d77-a55b-81fe615aee5e",
   "metadata": {},
   "outputs": [
    {
     "data": {
      "text/plain": [
       "0.003281452313616673"
      ]
     },
     "execution_count": 97,
     "metadata": {},
     "output_type": "execute_result"
    }
   ],
   "source": [
    "rf_rmse_scores.std()"
   ]
  },
  {
   "cell_type": "markdown",
   "id": "7b4d3000-4389-40cd-bf84-b03112f9ba32",
   "metadata": {},
   "source": [
    "### Gradient Boosted Decision Trees"
   ]
  },
  {
   "cell_type": "code",
   "execution_count": 113,
   "id": "612848a9-7704-4c5f-b051-186f2969a6dd",
   "metadata": {},
   "outputs": [],
   "source": [
    "import xgboost"
   ]
  },
  {
   "cell_type": "code",
   "execution_count": 114,
   "id": "61a77a40-a251-473c-a389-ec6a1b6377a1",
   "metadata": {},
   "outputs": [],
   "source": [
    "xgb_reg = xgboost.XGBRegressor()\n",
    "xgb_reg.fit(X, y)\n",
    "xgb_pred = xgb_reg.predict(X)"
   ]
  },
  {
   "cell_type": "code",
   "execution_count": 116,
   "id": "9211305f-4e37-49a1-a53a-25a3a35d9243",
   "metadata": {},
   "outputs": [
    {
     "data": {
      "text/plain": [
       "2.361433594508727e-05"
      ]
     },
     "execution_count": 116,
     "metadata": {},
     "output_type": "execute_result"
    }
   ],
   "source": [
    "xgb_mse = mean_squared_error(y, xgb_pred)\n",
    "xgb_mse"
   ]
  },
  {
   "cell_type": "code",
   "execution_count": 128,
   "id": "03deb3f0-b284-4599-a205-8bfb7d6afbb2",
   "metadata": {},
   "outputs": [
    {
     "data": {
      "text/html": [
       "<div>\n",
       "<style scoped>\n",
       "    .dataframe tbody tr th:only-of-type {\n",
       "        vertical-align: middle;\n",
       "    }\n",
       "\n",
       "    .dataframe tbody tr th {\n",
       "        vertical-align: top;\n",
       "    }\n",
       "\n",
       "    .dataframe thead th {\n",
       "        text-align: right;\n",
       "    }\n",
       "</style>\n",
       "<table border=\"1\" class=\"dataframe\">\n",
       "  <thead>\n",
       "    <tr style=\"text-align: right;\">\n",
       "      <th></th>\n",
       "      <th>train-rmse-mean</th>\n",
       "      <th>train-rmse-std</th>\n",
       "      <th>test-rmse-mean</th>\n",
       "      <th>test-rmse-std</th>\n",
       "    </tr>\n",
       "  </thead>\n",
       "  <tbody>\n",
       "    <tr>\n",
       "      <th>0</th>\n",
       "      <td>3.075875</td>\n",
       "      <td>0.000787</td>\n",
       "      <td>3.075875</td>\n",
       "      <td>0.002966</td>\n",
       "    </tr>\n",
       "    <tr>\n",
       "      <th>1</th>\n",
       "      <td>2.003899</td>\n",
       "      <td>0.000535</td>\n",
       "      <td>2.003892</td>\n",
       "      <td>0.002586</td>\n",
       "    </tr>\n",
       "    <tr>\n",
       "      <th>2</th>\n",
       "      <td>1.307182</td>\n",
       "      <td>0.000381</td>\n",
       "      <td>1.307180</td>\n",
       "      <td>0.002615</td>\n",
       "    </tr>\n",
       "    <tr>\n",
       "      <th>3</th>\n",
       "      <td>0.854576</td>\n",
       "      <td>0.000380</td>\n",
       "      <td>0.854306</td>\n",
       "      <td>0.002388</td>\n",
       "    </tr>\n",
       "    <tr>\n",
       "      <th>4</th>\n",
       "      <td>0.560424</td>\n",
       "      <td>0.000389</td>\n",
       "      <td>0.561125</td>\n",
       "      <td>0.002476</td>\n",
       "    </tr>\n",
       "    <tr>\n",
       "      <th>5</th>\n",
       "      <td>0.369562</td>\n",
       "      <td>0.000437</td>\n",
       "      <td>0.371688</td>\n",
       "      <td>0.002874</td>\n",
       "    </tr>\n",
       "    <tr>\n",
       "      <th>6</th>\n",
       "      <td>0.245772</td>\n",
       "      <td>0.000253</td>\n",
       "      <td>0.250402</td>\n",
       "      <td>0.002170</td>\n",
       "    </tr>\n",
       "    <tr>\n",
       "      <th>7</th>\n",
       "      <td>0.165401</td>\n",
       "      <td>0.000402</td>\n",
       "      <td>0.173218</td>\n",
       "      <td>0.001266</td>\n",
       "    </tr>\n",
       "    <tr>\n",
       "      <th>8</th>\n",
       "      <td>0.113128</td>\n",
       "      <td>0.000387</td>\n",
       "      <td>0.126364</td>\n",
       "      <td>0.000505</td>\n",
       "    </tr>\n",
       "    <tr>\n",
       "      <th>9</th>\n",
       "      <td>0.078627</td>\n",
       "      <td>0.000315</td>\n",
       "      <td>0.099266</td>\n",
       "      <td>0.002146</td>\n",
       "    </tr>\n",
       "  </tbody>\n",
       "</table>\n",
       "</div>"
      ],
      "text/plain": [
       "   train-rmse-mean  train-rmse-std  test-rmse-mean  test-rmse-std\n",
       "0         3.075875        0.000787        3.075875       0.002966\n",
       "1         2.003899        0.000535        2.003892       0.002586\n",
       "2         1.307182        0.000381        1.307180       0.002615\n",
       "3         0.854576        0.000380        0.854306       0.002388\n",
       "4         0.560424        0.000389        0.561125       0.002476\n",
       "5         0.369562        0.000437        0.371688       0.002874\n",
       "6         0.245772        0.000253        0.250402       0.002170\n",
       "7         0.165401        0.000402        0.173218       0.001266\n",
       "8         0.113128        0.000387        0.126364       0.000505\n",
       "9         0.078627        0.000315        0.099266       0.002146"
      ]
     },
     "execution_count": 128,
     "metadata": {},
     "output_type": "execute_result"
    }
   ],
   "source": [
    "# try cross validation \n",
    "data_dmatrix = xgboost.DMatrix(data = X, label = y)\n",
    "# many parameters: https://xgboost.readthedocs.io/en/stable/parameter.html#general-parameters \n",
    "param = {'max_depth':30, 'eta': 0.35, 'objective':'reg:squarederror'}\n",
    "xgboost.cv(param, dtrain = data_dmatrix, nfold = 3, metrics = 'rmse', seed = 42)"
   ]
  },
  {
   "cell_type": "markdown",
   "id": "09f55373-ceb5-4239-8208-c3a1b0825a5e",
   "metadata": {},
   "source": [
    "### Support Vector Machines"
   ]
  },
  {
   "cell_type": "code",
   "execution_count": 98,
   "id": "194bb936-4fbd-44ad-b754-f3c2b18d21e1",
   "metadata": {},
   "outputs": [],
   "source": [
    "from sklearn.svm import LinearSVR"
   ]
  },
  {
   "cell_type": "markdown",
   "id": "255f21ea-7681-421d-8441-c435cf3159d6",
   "metadata": {},
   "source": [
    "**Linear SVM**"
   ]
  },
  {
   "cell_type": "code",
   "execution_count": 101,
   "id": "8cf51b6c-ec24-4c8d-abc2-79db7c4c5cb0",
   "metadata": {},
   "outputs": [
    {
     "data": {
      "text/plain": [
       "LinearSVR(epsilon=1.5)"
      ]
     },
     "execution_count": 101,
     "metadata": {},
     "output_type": "execute_result"
    }
   ],
   "source": [
    "svm_reg = LinearSVR(epsilon = 1.5)\n",
    "svm_reg.fit(X, y)"
   ]
  },
  {
   "cell_type": "code",
   "execution_count": 102,
   "id": "7604f78f-7a3c-423e-91ab-dad8dd029a9d",
   "metadata": {},
   "outputs": [
    {
     "data": {
      "text/plain": [
       "1.0932808836333117"
      ]
     },
     "execution_count": 102,
     "metadata": {},
     "output_type": "execute_result"
    }
   ],
   "source": [
    "svm_predictions = svm_reg.predict(X)\n",
    "svm_mse = mean_squared_error(y, svm_predictions)\n",
    "svm_rmse = np.sqrt(svm_mse)\n",
    "svm_mse"
   ]
  },
  {
   "cell_type": "code",
   "execution_count": 103,
   "id": "ae887046-0179-44ba-84ad-92cea324879a",
   "metadata": {},
   "outputs": [],
   "source": [
    "# Try cross validation \n",
    "scores = cross_val_score(svm_reg, X, y, scoring = \"neg_mean_squared_error\", cv = 3)\n",
    "svm_rmse_scores = np.sqrt(-scores)"
   ]
  },
  {
   "cell_type": "code",
   "execution_count": 104,
   "id": "08719c27-7417-4678-ad1b-12aa3b7be7e6",
   "metadata": {},
   "outputs": [
    {
     "data": {
      "text/plain": [
       "1.0874242875562639"
      ]
     },
     "execution_count": 104,
     "metadata": {},
     "output_type": "execute_result"
    }
   ],
   "source": [
    "svm_rmse_scores.mean()"
   ]
  },
  {
   "cell_type": "code",
   "execution_count": 105,
   "id": "36af1660-458c-4df8-9ff6-9b59ddcaab09",
   "metadata": {},
   "outputs": [
    {
     "data": {
      "text/plain": [
       "0.013885973880016009"
      ]
     },
     "execution_count": 105,
     "metadata": {},
     "output_type": "execute_result"
    }
   ],
   "source": [
    "svm_rmse_scores.std()"
   ]
  },
  {
   "cell_type": "markdown",
   "id": "bb421d4b-9898-4a5b-be98-b1cede3649fe",
   "metadata": {},
   "source": [
    "**SVM Polynomial Kernel**"
   ]
  },
  {
   "cell_type": "code",
   "execution_count": 148,
   "id": "29c25df5-3510-4784-96e9-86eca9df3211",
   "metadata": {},
   "outputs": [
    {
     "data": {
      "text/plain": [
       "SVR(C=5, degree=5, epsilon=1, kernel='poly')"
      ]
     },
     "execution_count": 148,
     "metadata": {},
     "output_type": "execute_result"
    }
   ],
   "source": [
    "from sklearn.svm import SVR\n",
    "svm_reg = SVR(kernel = \"poly\", degree = 5, C = 5, epsilon = 1)\n",
    "svm_reg.fit(X, y)"
   ]
  },
  {
   "cell_type": "markdown",
   "id": "16c03831-9d93-4927-90c8-a75e8604456e",
   "metadata": {},
   "source": [
    "I tried updating the `degree`, `C`, and `epsilon` parameters but none seem to affect the model fit. I think I need to understand how SVM regression works better. "
   ]
  },
  {
   "cell_type": "code",
   "execution_count": 149,
   "id": "d99f2c31-7dbd-4bd4-8610-326b0306b102",
   "metadata": {},
   "outputs": [
    {
     "data": {
      "text/plain": [
       "0.03020900002987626"
      ]
     },
     "execution_count": 149,
     "metadata": {},
     "output_type": "execute_result"
    }
   ],
   "source": [
    "svm_predictions = svm_reg.predict(X)\n",
    "svm_mse = mean_squared_error(y, svm_predictions)\n",
    "svm_rmse = np.sqrt(svm_mse)\n",
    "svm_mse"
   ]
  },
  {
   "cell_type": "code",
   "execution_count": 141,
   "id": "eaa738ee-4afa-4414-bea4-f45e6d8ed50a",
   "metadata": {},
   "outputs": [],
   "source": [
    "# Try cross validation \n",
    "scores = cross_val_score(svm_reg, X, y, scoring = \"neg_mean_squared_error\", cv = 3)\n",
    "svm_rmse_scores = np.sqrt(-scores)"
   ]
  },
  {
   "cell_type": "code",
   "execution_count": 142,
   "id": "5435a6a2-de32-445d-af80-13f3139d432e",
   "metadata": {},
   "outputs": [
    {
     "data": {
      "text/plain": [
       "0.17391681799442305"
      ]
     },
     "execution_count": 142,
     "metadata": {},
     "output_type": "execute_result"
    }
   ],
   "source": [
    "svm_rmse_scores.mean()"
   ]
  },
  {
   "cell_type": "code",
   "execution_count": 143,
   "id": "9798cd04-4188-45e4-bd89-35829753d509",
   "metadata": {},
   "outputs": [
    {
     "data": {
      "text/plain": [
       "0.0046612603986081955"
      ]
     },
     "execution_count": 143,
     "metadata": {},
     "output_type": "execute_result"
    }
   ],
   "source": [
    "svm_rmse_scores.std()"
   ]
  },
  {
   "cell_type": "markdown",
   "id": "ea761db7-cbd7-4d37-8c01-49b30cb11f47",
   "metadata": {},
   "source": [
    "## Summary\n",
    "\n",
    "It looks like tree-based methods seem the most promising (random forest and GBM). So we will perform hyperparameter tuning on these next. "
   ]
  }
 ],
 "metadata": {
  "kernelspec": {
   "display_name": "venv",
   "language": "python",
   "name": "venv"
  },
  "language_info": {
   "codemirror_mode": {
    "name": "ipython",
    "version": 3
   },
   "file_extension": ".py",
   "mimetype": "text/x-python",
   "name": "python",
   "nbconvert_exporter": "python",
   "pygments_lexer": "ipython3",
   "version": "3.9.1"
  }
 },
 "nbformat": 4,
 "nbformat_minor": 5
}
