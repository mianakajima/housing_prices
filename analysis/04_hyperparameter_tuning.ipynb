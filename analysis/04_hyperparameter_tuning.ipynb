{
 "cells": [
  {
   "cell_type": "markdown",
   "id": "deb9c79f-9f4e-4039-907f-91550cc6a182",
   "metadata": {},
   "source": [
    "# 04_hyperparameter_tuning: Tune the RF and GBM Models\n",
    "\n",
    "Date: 2022-06-14"
   ]
  },
  {
   "cell_type": "code",
   "execution_count": null,
   "id": "26acb3cb-f372-4111-af9e-4d6f11af81c9",
   "metadata": {},
   "outputs": [],
   "source": []
  }
 ],
 "metadata": {
  "kernelspec": {
   "display_name": "venv",
   "language": "python",
   "name": "venv"
  },
  "language_info": {
   "codemirror_mode": {
    "name": "ipython",
    "version": 3
   },
   "file_extension": ".py",
   "mimetype": "text/x-python",
   "name": "python",
   "nbconvert_exporter": "python",
   "pygments_lexer": "ipython3",
   "version": "3.9.1"
  }
 },
 "nbformat": 4,
 "nbformat_minor": 5
}
