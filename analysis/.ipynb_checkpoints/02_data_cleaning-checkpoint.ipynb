{
 "cells": [
  {
   "cell_type": "markdown",
   "id": "984d3b46-9ef1-4050-beb6-1c58c255ad77",
   "metadata": {},
   "source": [
    "# 02_data_cleaning: Clean Data/Prep for ML\n",
    "Date: 2022-06-08"
   ]
  },
  {
   "cell_type": "markdown",
   "id": "9653c779-3159-4bdd-a7a9-f215672323c3",
   "metadata": {},
   "source": [
    "## Load Packages and Data"
   ]
  },
  {
   "cell_type": "code",
   "execution_count": 274,
   "id": "e7fe1533-82f2-467e-9edb-7ecdaa2e064a",
   "metadata": {},
   "outputs": [],
   "source": [
    "import os\n",
    "import numpy as np\n",
    "#os.chdir('..')\n",
    "import pandas as pd\n",
    "from sklearn.base import BaseEstimator, TransformerMixin\n",
    "from sklearn.impute import SimpleImputer\n",
    "from sklearn.preprocessing import OrdinalEncoder, MinMaxScaler, OneHotEncoder\n",
    "from sklearn.pipeline import Pipeline\n",
    "from sklearn.compose import ColumnTransformer"
   ]
  },
  {
   "cell_type": "code",
   "execution_count": 227,
   "id": "84d420c2-4505-41a6-a539-43d458c2c674",
   "metadata": {},
   "outputs": [],
   "source": [
    "#read in dataset\n",
    "data = pd.read_csv('data/train.csv')\n",
    "#separate predictors from target values \n",
    "training = data.drop('SalePrice', axis = 1) \n",
    "prices = data['SalePrice'].copy()"
   ]
  },
  {
   "cell_type": "markdown",
   "id": "64dfd252-66c3-4383-80d6-0c03f5f5e625",
   "metadata": {},
   "source": [
    "## Develop Cleaning Plan "
   ]
  },
  {
   "cell_type": "code",
   "execution_count": 200,
   "id": "2c49c7b4-f086-4b65-809c-2e85d493790c",
   "metadata": {},
   "outputs": [
    {
     "data": {
      "text/plain": [
       "LotFrontage     0.177397\n",
       "Alley           0.937671\n",
       "FireplaceQu     0.472603\n",
       "GarageType      0.055479\n",
       "GarageYrBlt     0.055479\n",
       "GarageFinish    0.055479\n",
       "GarageQual      0.055479\n",
       "GarageCond      0.055479\n",
       "PoolQC          0.995205\n",
       "Fence           0.807534\n",
       "MiscFeature     0.963014\n",
       "dtype: float64"
      ]
     },
     "execution_count": 200,
     "metadata": {},
     "output_type": "execute_result"
    }
   ],
   "source": [
    "# see percentage of missing values \n",
    "percent_null = training.isnull().mean()\n",
    "\n",
    "# see columns with more than 5% missing \n",
    "percent_null[percent_null > 0.05]"
   ]
  },
  {
   "cell_type": "markdown",
   "id": "88bc6727-285e-4946-bbcf-6f06ba6670b0",
   "metadata": {},
   "source": [
    "**Review how to process these columns:**\n",
    "\n",
    "Working with NA data: \n",
    "- Drop: \n",
    "    - `GarageYrBlt`: This variable is very correlated with `YearBuilt` and it doesn't make sense to impute NA values with anything. \n",
    "- Needs Imputation: \n",
    "    - `LotFrontage` since it seems like this might be correlated with price (but don't want to drop 18% of data) \n",
    "- Based on the data_description.txt file, it looks like many columns will be fixed if we change NA values to a category (not having that characteristic)\n",
    "    - Garage data sets NA when there is no garage, so we will want to treat NA as a flag for no garage. \n",
    "    - Similarly, `FireplaceQu` only applies for homes with a Fireplace. Add a flag for no fireplace. \n",
    "    - `Alley` - change to flag of no alley\n",
    "    - `Pool` - change to flag of No Pool \n",
    "    - `Fence` - change to flag of No Fence\n",
    "    - `MiscFeature` - Only One Hot Encode non-NA since it other categories indicate having features such as elevator, shed, etc. and NA means there are no extra features."
   ]
  },
  {
   "cell_type": "markdown",
   "id": "f0882da5-0538-4a7f-96df-4a6999c1a9db",
   "metadata": {},
   "source": [
    "Columns to One-Hot Encode that are currently numeric:\n",
    "- `MSSubClass`: Numbers refer to differnt types of construction and should be categorical. \n",
    "- `YearRemodAdd`: Change to Binary if there is a remodel or not. (Based on scatter plots from 01 notebook that if there is no remodel, it seems this is just the same age as the construction year). "
   ]
  },
  {
   "cell_type": "markdown",
   "id": "068f0d10-bff0-4225-91df-196e6ba4fcce",
   "metadata": {},
   "source": [
    "## Clean Data \n",
    "\n",
    "Numeric: \n",
    "- Create a custom transformer for the YearRemodAdd \n",
    "- Use `SimpleImputer()` to impute variables like LotFrontage. Use median (better against outliers). \n",
    "- Scale the data using `MinMaxScaler()` \n",
    "\n",
    "Categorical: \n",
    "- Change numeric variables to categorical where applicable (ie., MSSubClass)\n",
    "- Change NAs to a new category of not having the characteristic \n",
    "- One-hot encode the categorical variables\n",
    "\n",
    "### Numeric "
   ]
  },
  {
   "cell_type": "code",
   "execution_count": 228,
   "id": "4ac4ed5a-b65d-4be8-bc15-9853ce32a627",
   "metadata": {},
   "outputs": [],
   "source": [
    "#drop these columns from training set \n",
    "drop_columns = ['Id', 'GarageYrBlt'] \n",
    "training = training.drop(drop_columns, axis = 1)"
   ]
  },
  {
   "cell_type": "code",
   "execution_count": 229,
   "id": "dcbafdcd-b945-4862-bfc9-d76bbfa3394c",
   "metadata": {},
   "outputs": [],
   "source": [
    "# create transformer to get if there is a remodel or not \n",
    "class CleanRemodels(BaseEstimator, TransformerMixin):\n",
    "    \n",
    "    def fit(self, X, y = None): \n",
    "        return self \n",
    "    \n",
    "    def transform(self, X): \n",
    "        \n",
    "        year_built = X['YearBuilt'].tolist()\n",
    "        year_remodel = X['YearRemodAdd'].tolist()\n",
    "        \n",
    "        # If remodel year is after the built year, than the house was remodeled. \n",
    "        remodel = [1 if year_remodel[i] > year_built[i] else 0 for i in range(X.shape[0])]\n",
    "        \n",
    "        #Add the new binary column for whether there was a remodel, and remove the 'YearRemodAdd' column\n",
    "        X['Remodeled'] = remodel\n",
    "        X.drop('YearRemodAdd', axis = 1)\n",
    "        \n",
    "        return X\n",
    "    \n",
    "    def get_feature_names(self, X):\n",
    "        return X.columns\n",
    "    "
   ]
  },
  {
   "cell_type": "code",
   "execution_count": 234,
   "id": "fa8426e9-ec85-40c0-a2fb-39a598aef423",
   "metadata": {},
   "outputs": [],
   "source": [
    "# create Pipeline for numeric variables \n",
    "# Note: since transfomer function returns array instead of dataframe, had to make CleanRemodel() function run first. \n",
    "\n",
    "numeric_pipeline = Pipeline(steps = [\n",
    "    ('postprocess', CleanRemodels()),\n",
    "    ('impute', SimpleImputer(strategy = 'median')),\n",
    "    ('scale', MinMaxScaler())\n",
    "])\n",
    "\n",
    "# test the pipeline \n",
    "\n",
    "# get only numeric variables (and omit the MSSubClass variable since we'll make it categorical and Id since it's irrelevant)\n",
    "train_num = training.select_dtypes(include = 'number').drop(['MSSubClass'], axis = 1)\n",
    "\n"
   ]
  },
  {
   "cell_type": "code",
   "execution_count": 235,
   "id": "2dc42746-7674-4fa2-990f-b116d87e4ff7",
   "metadata": {},
   "outputs": [
    {
     "data": {
      "text/html": [
       "<div>\n",
       "<style scoped>\n",
       "    .dataframe tbody tr th:only-of-type {\n",
       "        vertical-align: middle;\n",
       "    }\n",
       "\n",
       "    .dataframe tbody tr th {\n",
       "        vertical-align: top;\n",
       "    }\n",
       "\n",
       "    .dataframe thead th {\n",
       "        text-align: right;\n",
       "    }\n",
       "</style>\n",
       "<table border=\"1\" class=\"dataframe\">\n",
       "  <thead>\n",
       "    <tr style=\"text-align: right;\">\n",
       "      <th></th>\n",
       "      <th>LotFrontage</th>\n",
       "      <th>LotArea</th>\n",
       "      <th>OverallQual</th>\n",
       "      <th>OverallCond</th>\n",
       "      <th>YearBuilt</th>\n",
       "      <th>YearRemodAdd</th>\n",
       "      <th>MasVnrArea</th>\n",
       "      <th>BsmtFinSF1</th>\n",
       "      <th>BsmtFinSF2</th>\n",
       "      <th>BsmtUnfSF</th>\n",
       "      <th>...</th>\n",
       "      <th>GarageArea</th>\n",
       "      <th>WoodDeckSF</th>\n",
       "      <th>OpenPorchSF</th>\n",
       "      <th>EnclosedPorch</th>\n",
       "      <th>3SsnPorch</th>\n",
       "      <th>ScreenPorch</th>\n",
       "      <th>PoolArea</th>\n",
       "      <th>MiscVal</th>\n",
       "      <th>MoSold</th>\n",
       "      <th>YrSold</th>\n",
       "    </tr>\n",
       "  </thead>\n",
       "  <tbody>\n",
       "    <tr>\n",
       "      <th>0</th>\n",
       "      <td>65.0</td>\n",
       "      <td>8450</td>\n",
       "      <td>7</td>\n",
       "      <td>5</td>\n",
       "      <td>2003</td>\n",
       "      <td>2003</td>\n",
       "      <td>196.0</td>\n",
       "      <td>706</td>\n",
       "      <td>0</td>\n",
       "      <td>150</td>\n",
       "      <td>...</td>\n",
       "      <td>548</td>\n",
       "      <td>0</td>\n",
       "      <td>61</td>\n",
       "      <td>0</td>\n",
       "      <td>0</td>\n",
       "      <td>0</td>\n",
       "      <td>0</td>\n",
       "      <td>0</td>\n",
       "      <td>2</td>\n",
       "      <td>2008</td>\n",
       "    </tr>\n",
       "    <tr>\n",
       "      <th>1</th>\n",
       "      <td>80.0</td>\n",
       "      <td>9600</td>\n",
       "      <td>6</td>\n",
       "      <td>8</td>\n",
       "      <td>1976</td>\n",
       "      <td>1976</td>\n",
       "      <td>0.0</td>\n",
       "      <td>978</td>\n",
       "      <td>0</td>\n",
       "      <td>284</td>\n",
       "      <td>...</td>\n",
       "      <td>460</td>\n",
       "      <td>298</td>\n",
       "      <td>0</td>\n",
       "      <td>0</td>\n",
       "      <td>0</td>\n",
       "      <td>0</td>\n",
       "      <td>0</td>\n",
       "      <td>0</td>\n",
       "      <td>5</td>\n",
       "      <td>2007</td>\n",
       "    </tr>\n",
       "    <tr>\n",
       "      <th>2</th>\n",
       "      <td>68.0</td>\n",
       "      <td>11250</td>\n",
       "      <td>7</td>\n",
       "      <td>5</td>\n",
       "      <td>2001</td>\n",
       "      <td>2002</td>\n",
       "      <td>162.0</td>\n",
       "      <td>486</td>\n",
       "      <td>0</td>\n",
       "      <td>434</td>\n",
       "      <td>...</td>\n",
       "      <td>608</td>\n",
       "      <td>0</td>\n",
       "      <td>42</td>\n",
       "      <td>0</td>\n",
       "      <td>0</td>\n",
       "      <td>0</td>\n",
       "      <td>0</td>\n",
       "      <td>0</td>\n",
       "      <td>9</td>\n",
       "      <td>2008</td>\n",
       "    </tr>\n",
       "    <tr>\n",
       "      <th>3</th>\n",
       "      <td>60.0</td>\n",
       "      <td>9550</td>\n",
       "      <td>7</td>\n",
       "      <td>5</td>\n",
       "      <td>1915</td>\n",
       "      <td>1970</td>\n",
       "      <td>0.0</td>\n",
       "      <td>216</td>\n",
       "      <td>0</td>\n",
       "      <td>540</td>\n",
       "      <td>...</td>\n",
       "      <td>642</td>\n",
       "      <td>0</td>\n",
       "      <td>35</td>\n",
       "      <td>272</td>\n",
       "      <td>0</td>\n",
       "      <td>0</td>\n",
       "      <td>0</td>\n",
       "      <td>0</td>\n",
       "      <td>2</td>\n",
       "      <td>2006</td>\n",
       "    </tr>\n",
       "    <tr>\n",
       "      <th>4</th>\n",
       "      <td>84.0</td>\n",
       "      <td>14260</td>\n",
       "      <td>8</td>\n",
       "      <td>5</td>\n",
       "      <td>2000</td>\n",
       "      <td>2000</td>\n",
       "      <td>350.0</td>\n",
       "      <td>655</td>\n",
       "      <td>0</td>\n",
       "      <td>490</td>\n",
       "      <td>...</td>\n",
       "      <td>836</td>\n",
       "      <td>192</td>\n",
       "      <td>84</td>\n",
       "      <td>0</td>\n",
       "      <td>0</td>\n",
       "      <td>0</td>\n",
       "      <td>0</td>\n",
       "      <td>0</td>\n",
       "      <td>12</td>\n",
       "      <td>2008</td>\n",
       "    </tr>\n",
       "  </tbody>\n",
       "</table>\n",
       "<p>5 rows × 34 columns</p>\n",
       "</div>"
      ],
      "text/plain": [
       "   LotFrontage  LotArea  OverallQual  OverallCond  YearBuilt  YearRemodAdd  \\\n",
       "0         65.0     8450            7            5       2003          2003   \n",
       "1         80.0     9600            6            8       1976          1976   \n",
       "2         68.0    11250            7            5       2001          2002   \n",
       "3         60.0     9550            7            5       1915          1970   \n",
       "4         84.0    14260            8            5       2000          2000   \n",
       "\n",
       "   MasVnrArea  BsmtFinSF1  BsmtFinSF2  BsmtUnfSF  ...  GarageArea  WoodDeckSF  \\\n",
       "0       196.0         706           0        150  ...         548           0   \n",
       "1         0.0         978           0        284  ...         460         298   \n",
       "2       162.0         486           0        434  ...         608           0   \n",
       "3         0.0         216           0        540  ...         642           0   \n",
       "4       350.0         655           0        490  ...         836         192   \n",
       "\n",
       "   OpenPorchSF  EnclosedPorch  3SsnPorch  ScreenPorch  PoolArea  MiscVal  \\\n",
       "0           61              0          0            0         0        0   \n",
       "1            0              0          0            0         0        0   \n",
       "2           42              0          0            0         0        0   \n",
       "3           35            272          0            0         0        0   \n",
       "4           84              0          0            0         0        0   \n",
       "\n",
       "   MoSold  YrSold  \n",
       "0       2    2008  \n",
       "1       5    2007  \n",
       "2       9    2008  \n",
       "3       2    2006  \n",
       "4      12    2008  \n",
       "\n",
       "[5 rows x 34 columns]"
      ]
     },
     "execution_count": 235,
     "metadata": {},
     "output_type": "execute_result"
    }
   ],
   "source": [
    "train_num.head()"
   ]
  },
  {
   "cell_type": "code",
   "execution_count": 236,
   "id": "54ad8666-aab3-4324-b8d3-87f06e40a606",
   "metadata": {},
   "outputs": [
    {
     "data": {
      "text/plain": [
       "array([[0.15068493, 0.0334198 , 0.66666667, 0.5       , 0.94927536,\n",
       "        0.88333333, 0.1225    , 0.12508859, 0.        , 0.06421233,\n",
       "        0.1400982 , 0.11977972, 0.41355932, 0.        , 0.25923135,\n",
       "        0.33333333, 0.        , 0.66666667, 0.5       , 0.375     ,\n",
       "        0.33333333, 0.5       , 0.        , 0.5       , 0.3864598 ,\n",
       "        0.        , 0.11151737, 0.        , 0.        , 0.        ,\n",
       "        0.        , 0.        , 0.09090909, 0.5       , 0.        ],\n",
       "       [0.20205479, 0.03879502, 0.55555556, 0.875     , 0.75362319,\n",
       "        0.43333333, 0.        , 0.17328136, 0.        , 0.12157534,\n",
       "        0.20654664, 0.21294172, 0.        , 0.        , 0.17483044,\n",
       "        0.        , 0.5       , 0.66666667, 0.        , 0.375     ,\n",
       "        0.33333333, 0.33333333, 0.33333333, 0.5       , 0.32440056,\n",
       "        0.34772462, 0.        , 0.        , 0.        , 0.        ,\n",
       "        0.        , 0.        , 0.36363636, 0.25      , 0.        ]])"
      ]
     },
     "execution_count": 236,
     "metadata": {},
     "output_type": "execute_result"
    }
   ],
   "source": [
    "housing_num = numeric_pipeline.fit_transform(train_num.copy())\n",
    "housing_num[:2]"
   ]
  },
  {
   "cell_type": "markdown",
   "id": "9943bdc0-25e8-4736-b91e-6ec7c7450f49",
   "metadata": {},
   "source": [
    "### Categorical"
   ]
  },
  {
   "cell_type": "code",
   "execution_count": 242,
   "id": "438e8bad-c8d3-4458-91d8-08b99b1e13ec",
   "metadata": {},
   "outputs": [],
   "source": [
    "# get all categorical variables \n",
    "num_columns = train_num.columns.to_list()\n",
    "train_cat = training.drop(num_columns, axis = 1)\n",
    "\n",
    "# change MSSubClass to categorical from numeric\n",
    "train_cat['MSSubClass'] = train_cat['MSSubClass'].apply(str) \n",
    "\n",
    "# change NA values to 'None' for each of columns below\n",
    "columns_to_change_null_values = ['GarageType', 'GarageFinish', 'GarageQual', 'GarageCond', \n",
    "                                 'PoolQC', 'Fence', 'MiscFeature', 'Alley', 'FireplaceQu',\n",
    "                                'MasVnrType', 'BsmtQual', 'BsmtCond', 'BsmtExposure', 'BsmtFinType1',\n",
    "                                'BsmtFinType2', 'Electrical']\n",
    "\n",
    "for column in columns_to_change_null_values: \n",
    "    train_cat.loc[train_cat[column].isnull(), column] = 'None'\n"
   ]
  },
  {
   "cell_type": "code",
   "execution_count": 214,
   "id": "65cf7cdf-49cf-446d-851e-1130ad20287e",
   "metadata": {},
   "outputs": [
    {
     "name": "stdout",
     "output_type": "stream",
     "text": [
      "GarageType\n",
      "['Attchd' 'Detchd' 'BuiltIn' 'CarPort' 'None' 'Basment' '2Types']\n",
      "GarageFinish\n",
      "['RFn' 'Unf' 'Fin' 'None']\n",
      "GarageQual\n",
      "['TA' 'Fa' 'Gd' 'None' 'Ex' 'Po']\n",
      "GarageCond\n",
      "['TA' 'Fa' 'None' 'Gd' 'Po' 'Ex']\n",
      "PoolQC\n",
      "['None' 'Ex' 'Fa' 'Gd']\n",
      "Fence\n",
      "['None' 'MnPrv' 'GdWo' 'GdPrv' 'MnWw']\n",
      "MiscFeature\n",
      "['None' 'Shed' 'Gar2' 'Othr' 'TenC']\n",
      "Alley\n",
      "['None' 'Grvl' 'Pave']\n",
      "FireplaceQu\n",
      "['None' 'TA' 'Gd' 'Fa' 'Ex' 'Po']\n",
      "MasVnrType\n",
      "['BrkFace' 'None' 'Stone' 'BrkCmn']\n",
      "BsmtQual\n",
      "['Gd' 'TA' 'Ex' 'None' 'Fa']\n",
      "BsmtCond\n",
      "['TA' 'Gd' 'None' 'Fa' 'Po']\n",
      "BsmtExposure\n",
      "['No' 'Gd' 'Mn' 'Av' 'None']\n",
      "BsmtFinType1\n",
      "['GLQ' 'ALQ' 'Unf' 'Rec' 'BLQ' 'None' 'LwQ']\n",
      "BsmtFinType2\n",
      "['Unf' 'BLQ' 'None' 'ALQ' 'Rec' 'LwQ' 'GLQ']\n",
      "Electrical\n",
      "['SBrkr' 'FuseF' 'FuseA' 'FuseP' 'Mix' 'None']\n"
     ]
    }
   ],
   "source": [
    "# check that NA values are gone \n",
    "for column in columns_to_change_null_values: \n",
    "    print(column)\n",
    "    print(train_cat[column].unique())"
   ]
  },
  {
   "cell_type": "code",
   "execution_count": 215,
   "id": "32c96e5c-1760-4db6-bb5d-6d4b5f203e48",
   "metadata": {},
   "outputs": [
    {
     "data": {
      "text/plain": [
       "True"
      ]
     },
     "execution_count": 215,
     "metadata": {},
     "output_type": "execute_result"
    }
   ],
   "source": [
    "#check that there are now no null values\n",
    "all(train_cat.isnull().mean() == 0)"
   ]
  },
  {
   "cell_type": "code",
   "execution_count": 179,
   "id": "98aa629a-3818-4585-978f-e9ad17a521ec",
   "metadata": {},
   "outputs": [],
   "source": [
    "# create a transfomer for the categorical variables \n",
    "\n",
    "class clean_categorical(BaseEstimator, TransformerMixin):\n",
    "    \n",
    "    def fit(self, X, y = None): \n",
    "        return self\n",
    "    \n",
    "    def transform(self, X): \n",
    "        \n",
    "        # change MSSubClass to categorical from numeric\n",
    "        X['MSSubClass'] = X['MSSubClass'].apply(str) \n",
    "\n",
    "        # change NA values to 'None' for each of columns below\n",
    "        columns_to_change_null_values = ['GarageType', 'GarageFinish', 'GarageQual', 'GarageCond', \n",
    "                                 'PoolQC', 'Fence', 'MiscFeature', 'Alley', 'FireplaceQu',\n",
    "                                'MasVnrType', 'BsmtQual', 'BsmtCond', 'BsmtExposure', 'BsmtFinType1',\n",
    "                                'BsmtFinType2', 'Electrical']\n",
    "\n",
    "        for column in columns_to_change_null_values: \n",
    "            X.loc[X[column].isnull(), column] = 'None'\n",
    "        \n",
    "        return X\n",
    "            "
   ]
  },
  {
   "cell_type": "markdown",
   "id": "f2e07fef-ca74-49e3-b689-bc04619712e1",
   "metadata": {},
   "source": [
    "#### See how OneHotEncoder works"
   ]
  },
  {
   "cell_type": "code",
   "execution_count": 216,
   "id": "8b31dc5e-7e38-49b9-89ac-cfe92f1e4788",
   "metadata": {},
   "outputs": [],
   "source": [
    "# test OneHotEncoder()\n",
    "enc = OneHotEncoder(handle_unknown = 'ignore')\n",
    "garage_1hot = enc.fit_transform(train_cat[['GarageType']])\n",
    "\n",
    "pd_1hot = pd.DataFrame(garage_1hot.todense())\n",
    "compare_to_original = pd.concat([train_cat[['GarageType']], pd_1hot], axis = 1)"
   ]
  },
  {
   "cell_type": "code",
   "execution_count": 217,
   "id": "117cf5f7-e6e3-41f1-bd87-e7be1cac84a5",
   "metadata": {},
   "outputs": [
    {
     "data": {
      "text/html": [
       "<div>\n",
       "<style scoped>\n",
       "    .dataframe tbody tr th:only-of-type {\n",
       "        vertical-align: middle;\n",
       "    }\n",
       "\n",
       "    .dataframe tbody tr th {\n",
       "        vertical-align: top;\n",
       "    }\n",
       "\n",
       "    .dataframe thead th {\n",
       "        text-align: right;\n",
       "    }\n",
       "</style>\n",
       "<table border=\"1\" class=\"dataframe\">\n",
       "  <thead>\n",
       "    <tr style=\"text-align: right;\">\n",
       "      <th></th>\n",
       "      <th>GarageType</th>\n",
       "      <th>0</th>\n",
       "      <th>1</th>\n",
       "      <th>2</th>\n",
       "      <th>3</th>\n",
       "      <th>4</th>\n",
       "      <th>5</th>\n",
       "      <th>6</th>\n",
       "    </tr>\n",
       "  </thead>\n",
       "  <tbody>\n",
       "    <tr>\n",
       "      <th>0</th>\n",
       "      <td>Attchd</td>\n",
       "      <td>0.0</td>\n",
       "      <td>1.0</td>\n",
       "      <td>0.0</td>\n",
       "      <td>0.0</td>\n",
       "      <td>0.0</td>\n",
       "      <td>0.0</td>\n",
       "      <td>0.0</td>\n",
       "    </tr>\n",
       "    <tr>\n",
       "      <th>3</th>\n",
       "      <td>Detchd</td>\n",
       "      <td>0.0</td>\n",
       "      <td>0.0</td>\n",
       "      <td>0.0</td>\n",
       "      <td>0.0</td>\n",
       "      <td>0.0</td>\n",
       "      <td>1.0</td>\n",
       "      <td>0.0</td>\n",
       "    </tr>\n",
       "    <tr>\n",
       "      <th>11</th>\n",
       "      <td>BuiltIn</td>\n",
       "      <td>0.0</td>\n",
       "      <td>0.0</td>\n",
       "      <td>0.0</td>\n",
       "      <td>1.0</td>\n",
       "      <td>0.0</td>\n",
       "      <td>0.0</td>\n",
       "      <td>0.0</td>\n",
       "    </tr>\n",
       "    <tr>\n",
       "      <th>17</th>\n",
       "      <td>CarPort</td>\n",
       "      <td>0.0</td>\n",
       "      <td>0.0</td>\n",
       "      <td>0.0</td>\n",
       "      <td>0.0</td>\n",
       "      <td>1.0</td>\n",
       "      <td>0.0</td>\n",
       "      <td>0.0</td>\n",
       "    </tr>\n",
       "    <tr>\n",
       "      <th>39</th>\n",
       "      <td>None</td>\n",
       "      <td>0.0</td>\n",
       "      <td>0.0</td>\n",
       "      <td>0.0</td>\n",
       "      <td>0.0</td>\n",
       "      <td>0.0</td>\n",
       "      <td>0.0</td>\n",
       "      <td>1.0</td>\n",
       "    </tr>\n",
       "    <tr>\n",
       "      <th>98</th>\n",
       "      <td>Basment</td>\n",
       "      <td>0.0</td>\n",
       "      <td>0.0</td>\n",
       "      <td>1.0</td>\n",
       "      <td>0.0</td>\n",
       "      <td>0.0</td>\n",
       "      <td>0.0</td>\n",
       "      <td>0.0</td>\n",
       "    </tr>\n",
       "    <tr>\n",
       "      <th>129</th>\n",
       "      <td>2Types</td>\n",
       "      <td>1.0</td>\n",
       "      <td>0.0</td>\n",
       "      <td>0.0</td>\n",
       "      <td>0.0</td>\n",
       "      <td>0.0</td>\n",
       "      <td>0.0</td>\n",
       "      <td>0.0</td>\n",
       "    </tr>\n",
       "  </tbody>\n",
       "</table>\n",
       "</div>"
      ],
      "text/plain": [
       "    GarageType    0    1    2    3    4    5    6\n",
       "0       Attchd  0.0  1.0  0.0  0.0  0.0  0.0  0.0\n",
       "3       Detchd  0.0  0.0  0.0  0.0  0.0  1.0  0.0\n",
       "11     BuiltIn  0.0  0.0  0.0  1.0  0.0  0.0  0.0\n",
       "17     CarPort  0.0  0.0  0.0  0.0  1.0  0.0  0.0\n",
       "39        None  0.0  0.0  0.0  0.0  0.0  0.0  1.0\n",
       "98     Basment  0.0  0.0  1.0  0.0  0.0  0.0  0.0\n",
       "129     2Types  1.0  0.0  0.0  0.0  0.0  0.0  0.0"
      ]
     },
     "execution_count": 217,
     "metadata": {},
     "output_type": "execute_result"
    }
   ],
   "source": [
    "# see how one hot encoding worked \n",
    "compare_to_original.drop_duplicates()"
   ]
  },
  {
   "cell_type": "code",
   "execution_count": 255,
   "id": "dd755154-0fb3-45da-8ba6-ecc19fa62ba0",
   "metadata": {},
   "outputs": [
    {
     "data": {
      "text/plain": [
       "array(['x0_2Types', 'x0_Attchd', 'x0_Basment', 'x0_BuiltIn', 'x0_CarPort',\n",
       "       'x0_Detchd', 'x0_None'], dtype=object)"
      ]
     },
     "execution_count": 255,
     "metadata": {},
     "output_type": "execute_result"
    }
   ],
   "source": [
    "enc.get_feature_names()"
   ]
  },
  {
   "cell_type": "markdown",
   "id": "d5aeb586-7df8-4de8-b711-e8d18a080c37",
   "metadata": {},
   "source": [
    "### Categorical Transformer"
   ]
  },
  {
   "cell_type": "code",
   "execution_count": 243,
   "id": "200d3ce2-79d7-4995-81df-bfdbc097392c",
   "metadata": {},
   "outputs": [],
   "source": [
    "cat_pipeline = Pipeline(steps = [\n",
    "    ('postprocess', clean_categorical()),\n",
    "    ('onehot', OneHotEncoder(handle_unknown = 'ignore'))\n",
    "])"
   ]
  },
  {
   "cell_type": "markdown",
   "id": "df062a74-f5bc-45e2-8b7c-81918cd61c39",
   "metadata": {},
   "source": [
    "### Full Pipeline"
   ]
  },
  {
   "cell_type": "code",
   "execution_count": 244,
   "id": "0e56d9e7-040b-4b99-90de-5e66d681b1fc",
   "metadata": {},
   "outputs": [],
   "source": [
    "num_columns = train_num.columns.to_list()\n",
    "cat_columns = train_cat.columns.to_list()\n",
    "\n",
    "#create full pipeline for numeric and categorical\n",
    "full_pipeline = ColumnTransformer([\n",
    "    (\"cat\", cat_pipeline, cat_columns),\n",
    "    (\"num\", numeric_pipeline, num_columns)\n",
    "])"
   ]
  },
  {
   "cell_type": "code",
   "execution_count": 245,
   "id": "49a88db1-56db-4ced-86da-3df223b13cf7",
   "metadata": {},
   "outputs": [
    {
     "data": {
      "text/plain": [
       "<2x317 sparse matrix of type '<class 'numpy.float64'>'\n",
       "\twith 134 stored elements in Compressed Sparse Row format>"
      ]
     },
     "execution_count": 245,
     "metadata": {},
     "output_type": "execute_result"
    }
   ],
   "source": [
    "housing_prepared = full_pipeline.fit_transform(training)\n",
    "#print out first 2 rows\n",
    "housing_prepared[:2]"
   ]
  },
  {
   "cell_type": "code",
   "execution_count": 276,
   "id": "66521ae4-55f8-48ec-a2f6-e9cac41b0118",
   "metadata": {},
   "outputs": [],
   "source": [
    "#https://stackoverflow.com/questions/54646709/sklearn-pipeline-get-feature-names-after-onehotencode-in-columntransformer\n",
    "colnames_after_one_hot = full_pipeline.transformers_[0][1].named_steps['onehot'].get_feature_names().tolist()"
   ]
  },
  {
   "cell_type": "code",
   "execution_count": 282,
   "id": "f003e8e7-f927-4591-97e0-bdbdf17cad78",
   "metadata": {},
   "outputs": [
    {
     "ename": "AttributeError",
     "evalue": "'MinMaxScaler' object has no attribute 'get_feature_names'",
     "output_type": "error",
     "traceback": [
      "\u001b[0;31m---------------------------------------------------------------------------\u001b[0m",
      "\u001b[0;31mAttributeError\u001b[0m                            Traceback (most recent call last)",
      "\u001b[0;32m/var/folders/kt/y6jd1htj2bb5l1rlx1p8gd1m0000gp/T/ipykernel_23917/1531097340.py\u001b[0m in \u001b[0;36m<module>\u001b[0;34m\u001b[0m\n\u001b[0;32m----> 1\u001b[0;31m \u001b[0mfull_pipeline\u001b[0m\u001b[0;34m.\u001b[0m\u001b[0mtransformers_\u001b[0m\u001b[0;34m[\u001b[0m\u001b[0;36m1\u001b[0m\u001b[0;34m]\u001b[0m\u001b[0;34m[\u001b[0m\u001b[0;36m1\u001b[0m\u001b[0;34m]\u001b[0m\u001b[0;34m.\u001b[0m\u001b[0mnamed_steps\u001b[0m\u001b[0;34m[\u001b[0m\u001b[0;34m'scale'\u001b[0m\u001b[0;34m]\u001b[0m\u001b[0;34m.\u001b[0m\u001b[0mget_feature_names\u001b[0m\u001b[0;34m(\u001b[0m\u001b[0;34m)\u001b[0m\u001b[0;34m\u001b[0m\u001b[0;34m\u001b[0m\u001b[0m\n\u001b[0m",
      "\u001b[0;31mAttributeError\u001b[0m: 'MinMaxScaler' object has no attribute 'get_feature_names'"
     ]
    }
   ],
   "source": [
    "full_pipeline.transformers_[1][1].named_steps['scale'].get_feature_names()"
   ]
  },
  {
   "cell_type": "code",
   "execution_count": 277,
   "id": "549c45f1-f5bb-4a33-9167-e816298c6f36",
   "metadata": {},
   "outputs": [],
   "source": [
    "all_columns = colnames_after_one_hot + num_columns"
   ]
  },
  {
   "cell_type": "code",
   "execution_count": 279,
   "id": "5ba287cc-6905-4b25-8397-83c092d6338b",
   "metadata": {},
   "outputs": [
    {
     "data": {
      "text/plain": [
       "316"
      ]
     },
     "execution_count": 279,
     "metadata": {},
     "output_type": "execute_result"
    }
   ],
   "source": [
    "len(all_columns)"
   ]
  },
  {
   "cell_type": "code",
   "execution_count": 280,
   "id": "51324eef-f058-4549-8dd7-98c0a0d5d819",
   "metadata": {},
   "outputs": [
    {
     "data": {
      "text/plain": [
       "(1460, 317)"
      ]
     },
     "execution_count": 280,
     "metadata": {},
     "output_type": "execute_result"
    }
   ],
   "source": [
    "housing_prepared.shape"
   ]
  },
  {
   "cell_type": "code",
   "execution_count": 195,
   "id": "f4f9ed63-8500-471a-96a7-f5c817551666",
   "metadata": {},
   "outputs": [
    {
     "data": {
      "text/html": [
       "<div>\n",
       "<style scoped>\n",
       "    .dataframe tbody tr th:only-of-type {\n",
       "        vertical-align: middle;\n",
       "    }\n",
       "\n",
       "    .dataframe tbody tr th {\n",
       "        vertical-align: top;\n",
       "    }\n",
       "\n",
       "    .dataframe thead th {\n",
       "        text-align: right;\n",
       "    }\n",
       "</style>\n",
       "<table border=\"1\" class=\"dataframe\">\n",
       "  <thead>\n",
       "    <tr style=\"text-align: right;\">\n",
       "      <th></th>\n",
       "      <th>MSSubClass</th>\n",
       "      <th>MSZoning</th>\n",
       "      <th>Street</th>\n",
       "      <th>Alley</th>\n",
       "      <th>LotShape</th>\n",
       "      <th>LandContour</th>\n",
       "      <th>Utilities</th>\n",
       "      <th>LotConfig</th>\n",
       "      <th>LandSlope</th>\n",
       "      <th>Neighborhood</th>\n",
       "      <th>...</th>\n",
       "      <th>OpenPorchSF</th>\n",
       "      <th>EnclosedPorch</th>\n",
       "      <th>3SsnPorch</th>\n",
       "      <th>ScreenPorch</th>\n",
       "      <th>PoolArea</th>\n",
       "      <th>MiscVal</th>\n",
       "      <th>MoSold</th>\n",
       "      <th>YrSold</th>\n",
       "      <th>random_int</th>\n",
       "      <th>Remodeled</th>\n",
       "    </tr>\n",
       "  </thead>\n",
       "  <tbody>\n",
       "    <tr>\n",
       "      <th>0</th>\n",
       "      <td>60</td>\n",
       "      <td>RL</td>\n",
       "      <td>Pave</td>\n",
       "      <td>None</td>\n",
       "      <td>Reg</td>\n",
       "      <td>Lvl</td>\n",
       "      <td>AllPub</td>\n",
       "      <td>Inside</td>\n",
       "      <td>Gtl</td>\n",
       "      <td>CollgCr</td>\n",
       "      <td>...</td>\n",
       "      <td>0.111517</td>\n",
       "      <td>0.0</td>\n",
       "      <td>0.0</td>\n",
       "      <td>0.0</td>\n",
       "      <td>0.0</td>\n",
       "      <td>0.0</td>\n",
       "      <td>0.090909</td>\n",
       "      <td>0.5</td>\n",
       "      <td>0.555556</td>\n",
       "      <td>0.0</td>\n",
       "    </tr>\n",
       "    <tr>\n",
       "      <th>1</th>\n",
       "      <td>20</td>\n",
       "      <td>RL</td>\n",
       "      <td>Pave</td>\n",
       "      <td>None</td>\n",
       "      <td>Reg</td>\n",
       "      <td>Lvl</td>\n",
       "      <td>AllPub</td>\n",
       "      <td>FR2</td>\n",
       "      <td>Gtl</td>\n",
       "      <td>Veenker</td>\n",
       "      <td>...</td>\n",
       "      <td>0.0</td>\n",
       "      <td>0.0</td>\n",
       "      <td>0.0</td>\n",
       "      <td>0.0</td>\n",
       "      <td>0.0</td>\n",
       "      <td>0.0</td>\n",
       "      <td>0.363636</td>\n",
       "      <td>0.25</td>\n",
       "      <td>0.666667</td>\n",
       "      <td>0.0</td>\n",
       "    </tr>\n",
       "    <tr>\n",
       "      <th>2</th>\n",
       "      <td>60</td>\n",
       "      <td>RL</td>\n",
       "      <td>Pave</td>\n",
       "      <td>None</td>\n",
       "      <td>IR1</td>\n",
       "      <td>Lvl</td>\n",
       "      <td>AllPub</td>\n",
       "      <td>Inside</td>\n",
       "      <td>Gtl</td>\n",
       "      <td>CollgCr</td>\n",
       "      <td>...</td>\n",
       "      <td>0.076782</td>\n",
       "      <td>0.0</td>\n",
       "      <td>0.0</td>\n",
       "      <td>0.0</td>\n",
       "      <td>0.0</td>\n",
       "      <td>0.0</td>\n",
       "      <td>0.727273</td>\n",
       "      <td>0.5</td>\n",
       "      <td>0.777778</td>\n",
       "      <td>1.0</td>\n",
       "    </tr>\n",
       "    <tr>\n",
       "      <th>3</th>\n",
       "      <td>70</td>\n",
       "      <td>RL</td>\n",
       "      <td>Pave</td>\n",
       "      <td>None</td>\n",
       "      <td>IR1</td>\n",
       "      <td>Lvl</td>\n",
       "      <td>AllPub</td>\n",
       "      <td>Corner</td>\n",
       "      <td>Gtl</td>\n",
       "      <td>Crawfor</td>\n",
       "      <td>...</td>\n",
       "      <td>0.063985</td>\n",
       "      <td>0.492754</td>\n",
       "      <td>0.0</td>\n",
       "      <td>0.0</td>\n",
       "      <td>0.0</td>\n",
       "      <td>0.0</td>\n",
       "      <td>0.090909</td>\n",
       "      <td>0.0</td>\n",
       "      <td>0.0</td>\n",
       "      <td>1.0</td>\n",
       "    </tr>\n",
       "    <tr>\n",
       "      <th>4</th>\n",
       "      <td>60</td>\n",
       "      <td>RL</td>\n",
       "      <td>Pave</td>\n",
       "      <td>None</td>\n",
       "      <td>IR1</td>\n",
       "      <td>Lvl</td>\n",
       "      <td>AllPub</td>\n",
       "      <td>FR2</td>\n",
       "      <td>Gtl</td>\n",
       "      <td>NoRidge</td>\n",
       "      <td>...</td>\n",
       "      <td>0.153565</td>\n",
       "      <td>0.0</td>\n",
       "      <td>0.0</td>\n",
       "      <td>0.0</td>\n",
       "      <td>0.0</td>\n",
       "      <td>0.0</td>\n",
       "      <td>1.0</td>\n",
       "      <td>0.5</td>\n",
       "      <td>0.666667</td>\n",
       "      <td>0.0</td>\n",
       "    </tr>\n",
       "  </tbody>\n",
       "</table>\n",
       "<p>5 rows × 80 columns</p>\n",
       "</div>"
      ],
      "text/plain": [
       "  MSSubClass MSZoning Street Alley LotShape LandContour Utilities LotConfig  \\\n",
       "0         60       RL   Pave  None      Reg         Lvl    AllPub    Inside   \n",
       "1         20       RL   Pave  None      Reg         Lvl    AllPub       FR2   \n",
       "2         60       RL   Pave  None      IR1         Lvl    AllPub    Inside   \n",
       "3         70       RL   Pave  None      IR1         Lvl    AllPub    Corner   \n",
       "4         60       RL   Pave  None      IR1         Lvl    AllPub       FR2   \n",
       "\n",
       "  LandSlope Neighborhood  ... OpenPorchSF EnclosedPorch 3SsnPorch ScreenPorch  \\\n",
       "0       Gtl      CollgCr  ...    0.111517           0.0       0.0         0.0   \n",
       "1       Gtl      Veenker  ...         0.0           0.0       0.0         0.0   \n",
       "2       Gtl      CollgCr  ...    0.076782           0.0       0.0         0.0   \n",
       "3       Gtl      Crawfor  ...    0.063985      0.492754       0.0         0.0   \n",
       "4       Gtl      NoRidge  ...    0.153565           0.0       0.0         0.0   \n",
       "\n",
       "  PoolArea MiscVal    MoSold YrSold random_int Remodeled  \n",
       "0      0.0     0.0  0.090909    0.5   0.555556       0.0  \n",
       "1      0.0     0.0  0.363636   0.25   0.666667       0.0  \n",
       "2      0.0     0.0  0.727273    0.5   0.777778       1.0  \n",
       "3      0.0     0.0  0.090909    0.0        0.0       1.0  \n",
       "4      0.0     0.0       1.0    0.5   0.666667       0.0  \n",
       "\n",
       "[5 rows x 80 columns]"
      ]
     },
     "execution_count": 195,
     "metadata": {},
     "output_type": "execute_result"
    }
   ],
   "source": [
    "# add back column names and change into dataframe\n",
    "housing_df = pd.DataFrame(housing_prepared, columns = all_columns)\n",
    "housing_df.head()"
   ]
  },
  {
   "cell_type": "code",
   "execution_count": 196,
   "id": "9d569f62-30b0-47b7-aa4c-7649bc77838c",
   "metadata": {},
   "outputs": [],
   "source": [
    "#save data\n",
    "housing_df.to_pickle('cleaned_data/training_cleaned.pkl')\n",
    "housing_df.to_csv('cleaned_data/training_cleaned.csv')"
   ]
  },
  {
   "cell_type": "code",
   "execution_count": 198,
   "id": "ac45adda-8f22-4ecd-aa29-2a21f4d25662",
   "metadata": {},
   "outputs": [],
   "source": [
    "prices.to_pickle('cleaned_data/training_prices.pkl')"
   ]
  }
 ],
 "metadata": {
  "kernelspec": {
   "display_name": "venv",
   "language": "python",
   "name": "venv"
  },
  "language_info": {
   "codemirror_mode": {
    "name": "ipython",
    "version": 3
   },
   "file_extension": ".py",
   "mimetype": "text/x-python",
   "name": "python",
   "nbconvert_exporter": "python",
   "pygments_lexer": "ipython3",
   "version": "3.9.1"
  }
 },
 "nbformat": 4,
 "nbformat_minor": 5
}
