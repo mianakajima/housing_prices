{
 "cells": [
  {
   "cell_type": "markdown",
   "id": "deb9c79f-9f4e-4039-907f-91550cc6a182",
   "metadata": {},
   "source": [
    "# 04_hyperparameter_tuning: Tune the Random Forest Model\n",
    "\n",
    "Date: 2022-06-14"
   ]
  },
  {
   "cell_type": "markdown",
   "id": "29caaec5-8c21-49f7-bd20-9c33c6304675",
   "metadata": {},
   "source": [
    "## Prep Data"
   ]
  },
  {
   "cell_type": "code",
   "execution_count": 44,
   "id": "26acb3cb-f372-4111-af9e-4d6f11af81c9",
   "metadata": {},
   "outputs": [],
   "source": [
    "import os\n",
    "#os.chdir('..')\n",
    "import pandas as pd\n",
    "import numpy as np\n",
    "from sklearn.metrics import mean_squared_error\n",
    "import plotly.express as px\n",
    "import joblib"
   ]
  },
  {
   "cell_type": "code",
   "execution_count": 3,
   "id": "419e5e76-ea84-46e2-a8c4-d5dc84c2afab",
   "metadata": {},
   "outputs": [],
   "source": [
    "# set seed \n",
    "np.random.seed(42)\n",
    "\n",
    "# read in data sets\n",
    "training_cleaned = pd.read_pickle('cleaned_data/training_cleaned.pkl')\n",
    "training_prices = pd.read_pickle('cleaned_data/training_prices.pkl')\n",
    "test_orig = pd.read_csv('data/test.csv')\n",
    "test = pd.read_pickle('cleaned_data/test_cleaned.pkl')"
   ]
  },
  {
   "cell_type": "code",
   "execution_count": 4,
   "id": "3e84ae0b-6686-462d-ba32-f1749f795c41",
   "metadata": {},
   "outputs": [],
   "source": [
    "X = training_cleaned.copy()\n",
    "\n",
    "#log transform the prices\n",
    "y = np.log10(training_prices)"
   ]
  },
  {
   "cell_type": "markdown",
   "id": "77a288ab-c348-4ba8-a8f5-374a7541d163",
   "metadata": {},
   "source": [
    "## Random Forest Regression"
   ]
  },
  {
   "cell_type": "code",
   "execution_count": 5,
   "id": "e13894f3-1522-4cb6-a49e-37363a6a85d6",
   "metadata": {},
   "outputs": [],
   "source": [
    "from sklearn.model_selection import GridSearchCV\n",
    "from sklearn.ensemble import RandomForestRegressor\n",
    "from sklearn.model_selection import cross_val_score"
   ]
  },
  {
   "cell_type": "code",
   "execution_count": 46,
   "id": "7c31cacf-d597-4d12-ae22-1152b4837482",
   "metadata": {},
   "outputs": [
    {
     "data": {
      "text/plain": [
       "['Results/models/rf_baseline.sav']"
      ]
     },
     "execution_count": 46,
     "metadata": {},
     "output_type": "execute_result"
    }
   ],
   "source": [
    "# create baseline model \n",
    "forest_reg = RandomForestRegressor()\n",
    "# cross validation \n",
    "scores = cross_val_score(forest_reg, X, y, scoring = \"neg_mean_squared_error\", cv = 3)\n",
    "rf_rmse_scores = np.sqrt(-scores)\n",
    "baseline_rmse = rf_rmse_scores.mean()\n",
    "baseline_rmse\n",
    "\n",
    "#save model \n",
    "joblib.dump(forest_reg, 'Results/models/rf_baseline.sav')"
   ]
  },
  {
   "cell_type": "code",
   "execution_count": 7,
   "id": "53126cb6-618b-47ac-9116-53a0f9245eaf",
   "metadata": {},
   "outputs": [
    {
     "data": {
      "text/plain": [
       "{'bootstrap': True,\n",
       " 'ccp_alpha': 0.0,\n",
       " 'criterion': 'mse',\n",
       " 'max_depth': None,\n",
       " 'max_features': 'auto',\n",
       " 'max_leaf_nodes': None,\n",
       " 'max_samples': None,\n",
       " 'min_impurity_decrease': 0.0,\n",
       " 'min_impurity_split': None,\n",
       " 'min_samples_leaf': 1,\n",
       " 'min_samples_split': 2,\n",
       " 'min_weight_fraction_leaf': 0.0,\n",
       " 'n_estimators': 100,\n",
       " 'n_jobs': None,\n",
       " 'oob_score': False,\n",
       " 'random_state': None,\n",
       " 'verbose': 0,\n",
       " 'warm_start': False}"
      ]
     },
     "execution_count": 7,
     "metadata": {},
     "output_type": "execute_result"
    }
   ],
   "source": [
    "# see what are default parameters\n",
    "forest_reg.get_params()"
   ]
  },
  {
   "cell_type": "code",
   "execution_count": 33,
   "id": "ff419469-1385-480b-b9fe-32da5908cc96",
   "metadata": {},
   "outputs": [
    {
     "name": "stdout",
     "output_type": "stream",
     "text": [
      "Fitting 3 folds for each of 72 candidates, totalling 216 fits\n",
      "[CV 1/3] END bootstrap=True, max_features=5, min_samples_split=2, n_estimators=5;, score=(train=-0.002, test=-0.006) total time=   0.0s\n",
      "[CV 2/3] END bootstrap=True, max_features=5, min_samples_split=2, n_estimators=5;, score=(train=-0.001, test=-0.009) total time=   0.1s\n",
      "[CV 3/3] END bootstrap=True, max_features=5, min_samples_split=2, n_estimators=5;, score=(train=-0.002, test=-0.006) total time=   0.0s\n",
      "[CV 1/3] END bootstrap=True, max_features=5, min_samples_split=2, n_estimators=10;, score=(train=-0.001, test=-0.006) total time=   0.0s\n",
      "[CV 2/3] END bootstrap=True, max_features=5, min_samples_split=2, n_estimators=10;, score=(train=-0.001, test=-0.007) total time=   0.0s\n",
      "[CV 3/3] END bootstrap=True, max_features=5, min_samples_split=2, n_estimators=10;, score=(train=-0.001, test=-0.005) total time=   0.0s\n",
      "[CV 1/3] END bootstrap=True, max_features=5, min_samples_split=2, n_estimators=100;, score=(train=-0.001, test=-0.005) total time=   0.2s\n",
      "[CV 2/3] END bootstrap=True, max_features=5, min_samples_split=2, n_estimators=100;, score=(train=-0.001, test=-0.007) total time=   0.2s\n",
      "[CV 3/3] END bootstrap=True, max_features=5, min_samples_split=2, n_estimators=100;, score=(train=-0.001, test=-0.004) total time=   0.2s\n",
      "[CV 1/3] END bootstrap=True, max_features=5, min_samples_split=2, n_estimators=400;, score=(train=-0.001, test=-0.005) total time=   0.7s\n",
      "[CV 2/3] END bootstrap=True, max_features=5, min_samples_split=2, n_estimators=400;, score=(train=-0.001, test=-0.006) total time=   0.7s\n",
      "[CV 3/3] END bootstrap=True, max_features=5, min_samples_split=2, n_estimators=400;, score=(train=-0.001, test=-0.004) total time=   0.7s\n",
      "[CV 1/3] END bootstrap=True, max_features=5, min_samples_split=5, n_estimators=5;, score=(train=-0.003, test=-0.007) total time=   0.0s\n",
      "[CV 2/3] END bootstrap=True, max_features=5, min_samples_split=5, n_estimators=5;, score=(train=-0.002, test=-0.007) total time=   0.0s\n",
      "[CV 3/3] END bootstrap=True, max_features=5, min_samples_split=5, n_estimators=5;, score=(train=-0.003, test=-0.007) total time=   0.0s\n",
      "[CV 1/3] END bootstrap=True, max_features=5, min_samples_split=5, n_estimators=10;, score=(train=-0.003, test=-0.006) total time=   0.0s\n",
      "[CV 2/3] END bootstrap=True, max_features=5, min_samples_split=5, n_estimators=10;, score=(train=-0.002, test=-0.007) total time=   0.0s\n",
      "[CV 3/3] END bootstrap=True, max_features=5, min_samples_split=5, n_estimators=10;, score=(train=-0.003, test=-0.006) total time=   0.0s\n",
      "[CV 1/3] END bootstrap=True, max_features=5, min_samples_split=5, n_estimators=100;, score=(train=-0.002, test=-0.005) total time=   0.2s\n",
      "[CV 2/3] END bootstrap=True, max_features=5, min_samples_split=5, n_estimators=100;, score=(train=-0.002, test=-0.006) total time=   0.1s\n",
      "[CV 3/3] END bootstrap=True, max_features=5, min_samples_split=5, n_estimators=100;, score=(train=-0.002, test=-0.005) total time=   0.2s\n",
      "[CV 1/3] END bootstrap=True, max_features=5, min_samples_split=5, n_estimators=400;, score=(train=-0.002, test=-0.005) total time=   0.6s\n",
      "[CV 2/3] END bootstrap=True, max_features=5, min_samples_split=5, n_estimators=400;, score=(train=-0.002, test=-0.006) total time=   0.6s\n",
      "[CV 3/3] END bootstrap=True, max_features=5, min_samples_split=5, n_estimators=400;, score=(train=-0.002, test=-0.005) total time=   0.6s\n",
      "[CV 1/3] END bootstrap=True, max_features=5, min_samples_split=8, n_estimators=5;, score=(train=-0.004, test=-0.007) total time=   0.0s\n",
      "[CV 2/3] END bootstrap=True, max_features=5, min_samples_split=8, n_estimators=5;, score=(train=-0.003, test=-0.008) total time=   0.0s\n",
      "[CV 3/3] END bootstrap=True, max_features=5, min_samples_split=8, n_estimators=5;, score=(train=-0.003, test=-0.006) total time=   0.0s\n",
      "[CV 1/3] END bootstrap=True, max_features=5, min_samples_split=8, n_estimators=10;, score=(train=-0.003, test=-0.006) total time=   0.0s\n",
      "[CV 2/3] END bootstrap=True, max_features=5, min_samples_split=8, n_estimators=10;, score=(train=-0.003, test=-0.007) total time=   0.0s\n",
      "[CV 3/3] END bootstrap=True, max_features=5, min_samples_split=8, n_estimators=10;, score=(train=-0.003, test=-0.005) total time=   0.0s\n",
      "[CV 1/3] END bootstrap=True, max_features=5, min_samples_split=8, n_estimators=100;, score=(train=-0.003, test=-0.005) total time=   0.2s\n",
      "[CV 2/3] END bootstrap=True, max_features=5, min_samples_split=8, n_estimators=100;, score=(train=-0.002, test=-0.007) total time=   0.1s\n",
      "[CV 3/3] END bootstrap=True, max_features=5, min_samples_split=8, n_estimators=100;, score=(train=-0.003, test=-0.005) total time=   0.2s\n",
      "[CV 1/3] END bootstrap=True, max_features=5, min_samples_split=8, n_estimators=400;, score=(train=-0.003, test=-0.005) total time=   0.6s\n",
      "[CV 2/3] END bootstrap=True, max_features=5, min_samples_split=8, n_estimators=400;, score=(train=-0.002, test=-0.007) total time=   0.6s\n",
      "[CV 3/3] END bootstrap=True, max_features=5, min_samples_split=8, n_estimators=400;, score=(train=-0.003, test=-0.005) total time=   0.6s\n",
      "[CV 1/3] END bootstrap=True, max_features=100, min_samples_split=2, n_estimators=5;, score=(train=-0.001, test=-0.004) total time=   0.0s\n",
      "[CV 2/3] END bootstrap=True, max_features=100, min_samples_split=2, n_estimators=5;, score=(train=-0.001, test=-0.006) total time=   0.0s\n",
      "[CV 3/3] END bootstrap=True, max_features=100, min_samples_split=2, n_estimators=5;, score=(train=-0.001, test=-0.004) total time=   0.0s\n",
      "[CV 1/3] END bootstrap=True, max_features=100, min_samples_split=2, n_estimators=10;, score=(train=-0.001, test=-0.004) total time=   0.1s\n",
      "[CV 2/3] END bootstrap=True, max_features=100, min_samples_split=2, n_estimators=10;, score=(train=-0.001, test=-0.005) total time=   0.1s\n",
      "[CV 3/3] END bootstrap=True, max_features=100, min_samples_split=2, n_estimators=10;, score=(train=-0.001, test=-0.004) total time=   0.1s\n",
      "[CV 1/3] END bootstrap=True, max_features=100, min_samples_split=2, n_estimators=100;, score=(train=-0.001, test=-0.003) total time=   0.6s\n",
      "[CV 2/3] END bootstrap=True, max_features=100, min_samples_split=2, n_estimators=100;, score=(train=-0.001, test=-0.005) total time=   0.7s\n",
      "[CV 3/3] END bootstrap=True, max_features=100, min_samples_split=2, n_estimators=100;, score=(train=-0.001, test=-0.003) total time=   0.7s\n",
      "[CV 1/3] END bootstrap=True, max_features=100, min_samples_split=2, n_estimators=400;, score=(train=-0.001, test=-0.003) total time=   2.7s\n",
      "[CV 2/3] END bootstrap=True, max_features=100, min_samples_split=2, n_estimators=400;, score=(train=-0.000, test=-0.005) total time=   2.5s\n",
      "[CV 3/3] END bootstrap=True, max_features=100, min_samples_split=2, n_estimators=400;, score=(train=-0.001, test=-0.003) total time=   2.6s\n",
      "[CV 1/3] END bootstrap=True, max_features=100, min_samples_split=5, n_estimators=5;, score=(train=-0.001, test=-0.005) total time=   0.0s\n",
      "[CV 2/3] END bootstrap=True, max_features=100, min_samples_split=5, n_estimators=5;, score=(train=-0.001, test=-0.006) total time=   0.0s\n",
      "[CV 3/3] END bootstrap=True, max_features=100, min_samples_split=5, n_estimators=5;, score=(train=-0.001, test=-0.005) total time=   0.0s\n",
      "[CV 1/3] END bootstrap=True, max_features=100, min_samples_split=5, n_estimators=10;, score=(train=-0.001, test=-0.004) total time=   0.1s\n",
      "[CV 2/3] END bootstrap=True, max_features=100, min_samples_split=5, n_estimators=10;, score=(train=-0.001, test=-0.005) total time=   0.1s\n",
      "[CV 3/3] END bootstrap=True, max_features=100, min_samples_split=5, n_estimators=10;, score=(train=-0.001, test=-0.004) total time=   0.1s\n",
      "[CV 1/3] END bootstrap=True, max_features=100, min_samples_split=5, n_estimators=100;, score=(train=-0.001, test=-0.003) total time=   0.6s\n",
      "[CV 2/3] END bootstrap=True, max_features=100, min_samples_split=5, n_estimators=100;, score=(train=-0.001, test=-0.005) total time=   0.5s\n",
      "[CV 3/3] END bootstrap=True, max_features=100, min_samples_split=5, n_estimators=100;, score=(train=-0.001, test=-0.003) total time=   0.6s\n",
      "[CV 1/3] END bootstrap=True, max_features=100, min_samples_split=5, n_estimators=400;, score=(train=-0.001, test=-0.003) total time=   2.1s\n",
      "[CV 2/3] END bootstrap=True, max_features=100, min_samples_split=5, n_estimators=400;, score=(train=-0.001, test=-0.005) total time=   2.1s\n",
      "[CV 3/3] END bootstrap=True, max_features=100, min_samples_split=5, n_estimators=400;, score=(train=-0.001, test=-0.003) total time=   2.1s\n",
      "[CV 1/3] END bootstrap=True, max_features=100, min_samples_split=8, n_estimators=5;, score=(train=-0.001, test=-0.005) total time=   0.0s\n",
      "[CV 2/3] END bootstrap=True, max_features=100, min_samples_split=8, n_estimators=5;, score=(train=-0.002, test=-0.005) total time=   0.0s\n",
      "[CV 3/3] END bootstrap=True, max_features=100, min_samples_split=8, n_estimators=5;, score=(train=-0.002, test=-0.004) total time=   0.0s\n",
      "[CV 1/3] END bootstrap=True, max_features=100, min_samples_split=8, n_estimators=10;, score=(train=-0.001, test=-0.004) total time=   0.1s\n",
      "[CV 2/3] END bootstrap=True, max_features=100, min_samples_split=8, n_estimators=10;, score=(train=-0.001, test=-0.005) total time=   0.1s\n",
      "[CV 3/3] END bootstrap=True, max_features=100, min_samples_split=8, n_estimators=10;, score=(train=-0.001, test=-0.004) total time=   0.1s\n",
      "[CV 1/3] END bootstrap=True, max_features=100, min_samples_split=8, n_estimators=100;, score=(train=-0.001, test=-0.003) total time=   0.5s\n",
      "[CV 2/3] END bootstrap=True, max_features=100, min_samples_split=8, n_estimators=100;, score=(train=-0.001, test=-0.005) total time=   0.5s\n",
      "[CV 3/3] END bootstrap=True, max_features=100, min_samples_split=8, n_estimators=100;, score=(train=-0.001, test=-0.003) total time=   0.5s\n",
      "[CV 1/3] END bootstrap=True, max_features=100, min_samples_split=8, n_estimators=400;, score=(train=-0.001, test=-0.003) total time=   1.9s\n",
      "[CV 2/3] END bootstrap=True, max_features=100, min_samples_split=8, n_estimators=400;, score=(train=-0.001, test=-0.005) total time=   2.0s\n",
      "[CV 3/3] END bootstrap=True, max_features=100, min_samples_split=8, n_estimators=400;, score=(train=-0.001, test=-0.003) total time=   2.0s\n",
      "[CV 1/3] END bootstrap=True, max_features=auto, min_samples_split=2, n_estimators=5;, score=(train=-0.001, test=-0.005) total time=   0.1s\n",
      "[CV 2/3] END bootstrap=True, max_features=auto, min_samples_split=2, n_estimators=5;, score=(train=-0.001, test=-0.006) total time=   0.1s\n",
      "[CV 3/3] END bootstrap=True, max_features=auto, min_samples_split=2, n_estimators=5;, score=(train=-0.001, test=-0.005) total time=   0.1s\n",
      "[CV 1/3] END bootstrap=True, max_features=auto, min_samples_split=2, n_estimators=10;, score=(train=-0.001, test=-0.004) total time=   0.2s\n",
      "[CV 2/3] END bootstrap=True, max_features=auto, min_samples_split=2, n_estimators=10;, score=(train=-0.001, test=-0.005) total time=   0.2s\n",
      "[CV 3/3] END bootstrap=True, max_features=auto, min_samples_split=2, n_estimators=10;, score=(train=-0.001, test=-0.004) total time=   0.2s\n",
      "[CV 1/3] END bootstrap=True, max_features=auto, min_samples_split=2, n_estimators=100;, score=(train=-0.001, test=-0.004) total time=   1.6s\n",
      "[CV 2/3] END bootstrap=True, max_features=auto, min_samples_split=2, n_estimators=100;, score=(train=-0.001, test=-0.005) total time=   1.5s\n",
      "[CV 3/3] END bootstrap=True, max_features=auto, min_samples_split=2, n_estimators=100;, score=(train=-0.001, test=-0.004) total time=   1.6s\n",
      "[CV 1/3] END bootstrap=True, max_features=auto, min_samples_split=2, n_estimators=400;, score=(train=-0.001, test=-0.004) total time=   6.1s\n",
      "[CV 2/3] END bootstrap=True, max_features=auto, min_samples_split=2, n_estimators=400;, score=(train=-0.001, test=-0.005) total time=   6.0s\n",
      "[CV 3/3] END bootstrap=True, max_features=auto, min_samples_split=2, n_estimators=400;, score=(train=-0.001, test=-0.004) total time=   6.0s\n",
      "[CV 1/3] END bootstrap=True, max_features=auto, min_samples_split=5, n_estimators=5;, score=(train=-0.001, test=-0.005) total time=   0.1s\n",
      "[CV 2/3] END bootstrap=True, max_features=auto, min_samples_split=5, n_estimators=5;, score=(train=-0.001, test=-0.006) total time=   0.1s\n",
      "[CV 3/3] END bootstrap=True, max_features=auto, min_samples_split=5, n_estimators=5;, score=(train=-0.001, test=-0.005) total time=   0.1s\n",
      "[CV 1/3] END bootstrap=True, max_features=auto, min_samples_split=5, n_estimators=10;, score=(train=-0.001, test=-0.005) total time=   0.1s\n",
      "[CV 2/3] END bootstrap=True, max_features=auto, min_samples_split=5, n_estimators=10;, score=(train=-0.001, test=-0.005) total time=   0.1s\n",
      "[CV 3/3] END bootstrap=True, max_features=auto, min_samples_split=5, n_estimators=10;, score=(train=-0.001, test=-0.005) total time=   0.1s\n",
      "[CV 1/3] END bootstrap=True, max_features=auto, min_samples_split=5, n_estimators=100;, score=(train=-0.001, test=-0.004) total time=   1.3s\n",
      "[CV 2/3] END bootstrap=True, max_features=auto, min_samples_split=5, n_estimators=100;, score=(train=-0.001, test=-0.005) total time=   1.3s\n",
      "[CV 3/3] END bootstrap=True, max_features=auto, min_samples_split=5, n_estimators=100;, score=(train=-0.001, test=-0.004) total time=   1.3s\n",
      "[CV 1/3] END bootstrap=True, max_features=auto, min_samples_split=5, n_estimators=400;, score=(train=-0.001, test=-0.004) total time=   5.0s\n",
      "[CV 2/3] END bootstrap=True, max_features=auto, min_samples_split=5, n_estimators=400;, score=(train=-0.001, test=-0.005) total time=   5.0s\n",
      "[CV 3/3] END bootstrap=True, max_features=auto, min_samples_split=5, n_estimators=400;, score=(train=-0.001, test=-0.004) total time=   4.9s\n",
      "[CV 1/3] END bootstrap=True, max_features=auto, min_samples_split=8, n_estimators=5;, score=(train=-0.002, test=-0.006) total time=   0.1s\n",
      "[CV 2/3] END bootstrap=True, max_features=auto, min_samples_split=8, n_estimators=5;, score=(train=-0.002, test=-0.005) total time=   0.1s\n",
      "[CV 3/3] END bootstrap=True, max_features=auto, min_samples_split=8, n_estimators=5;, score=(train=-0.002, test=-0.004) total time=   0.1s\n",
      "[CV 1/3] END bootstrap=True, max_features=auto, min_samples_split=8, n_estimators=10;, score=(train=-0.001, test=-0.005) total time=   0.1s\n",
      "[CV 2/3] END bootstrap=True, max_features=auto, min_samples_split=8, n_estimators=10;, score=(train=-0.001, test=-0.005) total time=   0.1s\n",
      "[CV 3/3] END bootstrap=True, max_features=auto, min_samples_split=8, n_estimators=10;, score=(train=-0.001, test=-0.004) total time=   0.1s\n",
      "[CV 1/3] END bootstrap=True, max_features=auto, min_samples_split=8, n_estimators=100;, score=(train=-0.001, test=-0.004) total time=   1.2s\n",
      "[CV 2/3] END bootstrap=True, max_features=auto, min_samples_split=8, n_estimators=100;, score=(train=-0.001, test=-0.005) total time=   1.2s\n",
      "[CV 3/3] END bootstrap=True, max_features=auto, min_samples_split=8, n_estimators=100;, score=(train=-0.001, test=-0.004) total time=   1.2s\n",
      "[CV 1/3] END bootstrap=True, max_features=auto, min_samples_split=8, n_estimators=400;, score=(train=-0.001, test=-0.004) total time=   4.6s\n",
      "[CV 2/3] END bootstrap=True, max_features=auto, min_samples_split=8, n_estimators=400;, score=(train=-0.001, test=-0.005) total time=   4.6s\n",
      "[CV 3/3] END bootstrap=True, max_features=auto, min_samples_split=8, n_estimators=400;, score=(train=-0.001, test=-0.004) total time=   4.5s\n",
      "[CV 1/3] END bootstrap=False, max_features=5, min_samples_split=2, n_estimators=5;, score=(train=-0.000, test=-0.006) total time=   0.0s\n",
      "[CV 2/3] END bootstrap=False, max_features=5, min_samples_split=2, n_estimators=5;, score=(train=-0.000, test=-0.007) total time=   0.0s\n",
      "[CV 3/3] END bootstrap=False, max_features=5, min_samples_split=2, n_estimators=5;, score=(train=-0.000, test=-0.006) total time=   0.0s\n",
      "[CV 1/3] END bootstrap=False, max_features=5, min_samples_split=2, n_estimators=10;, score=(train=-0.000, test=-0.005) total time=   0.0s\n",
      "[CV 2/3] END bootstrap=False, max_features=5, min_samples_split=2, n_estimators=10;, score=(train=-0.000, test=-0.006) total time=   0.0s\n",
      "[CV 3/3] END bootstrap=False, max_features=5, min_samples_split=2, n_estimators=10;, score=(train=-0.000, test=-0.005) total time=   0.0s\n",
      "[CV 1/3] END bootstrap=False, max_features=5, min_samples_split=2, n_estimators=100;, score=(train=-0.000, test=-0.004) total time=   0.2s\n",
      "[CV 2/3] END bootstrap=False, max_features=5, min_samples_split=2, n_estimators=100;, score=(train=-0.000, test=-0.006) total time=   0.2s\n",
      "[CV 3/3] END bootstrap=False, max_features=5, min_samples_split=2, n_estimators=100;, score=(train=-0.000, test=-0.004) total time=   0.2s\n",
      "[CV 1/3] END bootstrap=False, max_features=5, min_samples_split=2, n_estimators=400;, score=(train=-0.000, test=-0.004) total time=   0.7s\n",
      "[CV 2/3] END bootstrap=False, max_features=5, min_samples_split=2, n_estimators=400;, score=(train=-0.000, test=-0.006) total time=   0.7s\n",
      "[CV 3/3] END bootstrap=False, max_features=5, min_samples_split=2, n_estimators=400;, score=(train=-0.000, test=-0.004) total time=   0.7s\n",
      "[CV 1/3] END bootstrap=False, max_features=5, min_samples_split=5, n_estimators=5;, score=(train=-0.001, test=-0.006) total time=   0.0s\n",
      "[CV 2/3] END bootstrap=False, max_features=5, min_samples_split=5, n_estimators=5;, score=(train=-0.001, test=-0.007) total time=   0.0s\n",
      "[CV 3/3] END bootstrap=False, max_features=5, min_samples_split=5, n_estimators=5;, score=(train=-0.001, test=-0.005) total time=   0.0s\n",
      "[CV 1/3] END bootstrap=False, max_features=5, min_samples_split=5, n_estimators=10;, score=(train=-0.001, test=-0.005) total time=   0.0s\n",
      "[CV 2/3] END bootstrap=False, max_features=5, min_samples_split=5, n_estimators=10;, score=(train=-0.001, test=-0.007) total time=   0.0s\n",
      "[CV 3/3] END bootstrap=False, max_features=5, min_samples_split=5, n_estimators=10;, score=(train=-0.001, test=-0.005) total time=   0.0s\n",
      "[CV 1/3] END bootstrap=False, max_features=5, min_samples_split=5, n_estimators=100;, score=(train=-0.001, test=-0.005) total time=   0.2s\n",
      "[CV 2/3] END bootstrap=False, max_features=5, min_samples_split=5, n_estimators=100;, score=(train=-0.001, test=-0.006) total time=   0.2s\n",
      "[CV 3/3] END bootstrap=False, max_features=5, min_samples_split=5, n_estimators=100;, score=(train=-0.001, test=-0.004) total time=   0.2s\n",
      "[CV 1/3] END bootstrap=False, max_features=5, min_samples_split=5, n_estimators=400;, score=(train=-0.001, test=-0.004) total time=   0.6s\n",
      "[CV 2/3] END bootstrap=False, max_features=5, min_samples_split=5, n_estimators=400;, score=(train=-0.001, test=-0.006) total time=   0.6s\n",
      "[CV 3/3] END bootstrap=False, max_features=5, min_samples_split=5, n_estimators=400;, score=(train=-0.001, test=-0.004) total time=   0.6s\n",
      "[CV 1/3] END bootstrap=False, max_features=5, min_samples_split=8, n_estimators=5;, score=(train=-0.002, test=-0.007) total time=   0.0s\n",
      "[CV 2/3] END bootstrap=False, max_features=5, min_samples_split=8, n_estimators=5;, score=(train=-0.002, test=-0.008) total time=   0.0s\n",
      "[CV 3/3] END bootstrap=False, max_features=5, min_samples_split=8, n_estimators=5;, score=(train=-0.002, test=-0.006) total time=   0.0s\n",
      "[CV 1/3] END bootstrap=False, max_features=5, min_samples_split=8, n_estimators=10;, score=(train=-0.002, test=-0.005) total time=   0.0s\n",
      "[CV 2/3] END bootstrap=False, max_features=5, min_samples_split=8, n_estimators=10;, score=(train=-0.001, test=-0.007) total time=   0.0s\n",
      "[CV 3/3] END bootstrap=False, max_features=5, min_samples_split=8, n_estimators=10;, score=(train=-0.001, test=-0.005) total time=   0.0s\n",
      "[CV 1/3] END bootstrap=False, max_features=5, min_samples_split=8, n_estimators=100;, score=(train=-0.001, test=-0.005) total time=   0.2s\n",
      "[CV 2/3] END bootstrap=False, max_features=5, min_samples_split=8, n_estimators=100;, score=(train=-0.001, test=-0.006) total time=   0.1s\n",
      "[CV 3/3] END bootstrap=False, max_features=5, min_samples_split=8, n_estimators=100;, score=(train=-0.001, test=-0.004) total time=   0.2s\n",
      "[CV 1/3] END bootstrap=False, max_features=5, min_samples_split=8, n_estimators=400;, score=(train=-0.001, test=-0.005) total time=   0.6s\n",
      "[CV 2/3] END bootstrap=False, max_features=5, min_samples_split=8, n_estimators=400;, score=(train=-0.001, test=-0.006) total time=   0.6s\n",
      "[CV 3/3] END bootstrap=False, max_features=5, min_samples_split=8, n_estimators=400;, score=(train=-0.001, test=-0.004) total time=   0.5s\n",
      "[CV 1/3] END bootstrap=False, max_features=100, min_samples_split=2, n_estimators=5;, score=(train=-0.000, test=-0.004) total time=   0.1s\n",
      "[CV 2/3] END bootstrap=False, max_features=100, min_samples_split=2, n_estimators=5;, score=(train=-0.000, test=-0.005) total time=   0.1s\n",
      "[CV 3/3] END bootstrap=False, max_features=100, min_samples_split=2, n_estimators=5;, score=(train=-0.000, test=-0.004) total time=   0.1s\n",
      "[CV 1/3] END bootstrap=False, max_features=100, min_samples_split=2, n_estimators=10;, score=(train=-0.000, test=-0.004) total time=   0.1s\n",
      "[CV 2/3] END bootstrap=False, max_features=100, min_samples_split=2, n_estimators=10;, score=(train=-0.000, test=-0.005) total time=   0.1s\n",
      "[CV 3/3] END bootstrap=False, max_features=100, min_samples_split=2, n_estimators=10;, score=(train=-0.000, test=-0.004) total time=   0.1s\n",
      "[CV 1/3] END bootstrap=False, max_features=100, min_samples_split=2, n_estimators=100;, score=(train=-0.000, test=-0.003) total time=   0.9s\n",
      "[CV 2/3] END bootstrap=False, max_features=100, min_samples_split=2, n_estimators=100;, score=(train=-0.000, test=-0.004) total time=   1.0s\n",
      "[CV 3/3] END bootstrap=False, max_features=100, min_samples_split=2, n_estimators=100;, score=(train=-0.000, test=-0.003) total time=   1.0s\n",
      "[CV 1/3] END bootstrap=False, max_features=100, min_samples_split=2, n_estimators=400;, score=(train=-0.000, test=-0.003) total time=   4.0s\n",
      "[CV 2/3] END bootstrap=False, max_features=100, min_samples_split=2, n_estimators=400;, score=(train=-0.000, test=-0.004) total time=   4.0s\n",
      "[CV 3/3] END bootstrap=False, max_features=100, min_samples_split=2, n_estimators=400;, score=(train=-0.000, test=-0.003) total time=   4.0s\n",
      "[CV 1/3] END bootstrap=False, max_features=100, min_samples_split=5, n_estimators=5;, score=(train=-0.000, test=-0.005) total time=   0.0s\n",
      "[CV 2/3] END bootstrap=False, max_features=100, min_samples_split=5, n_estimators=5;, score=(train=-0.000, test=-0.005) total time=   0.0s\n",
      "[CV 3/3] END bootstrap=False, max_features=100, min_samples_split=5, n_estimators=5;, score=(train=-0.000, test=-0.005) total time=   0.1s\n",
      "[CV 1/3] END bootstrap=False, max_features=100, min_samples_split=5, n_estimators=10;, score=(train=-0.000, test=-0.004) total time=   0.1s\n",
      "[CV 2/3] END bootstrap=False, max_features=100, min_samples_split=5, n_estimators=10;, score=(train=-0.000, test=-0.005) total time=   0.1s\n",
      "[CV 3/3] END bootstrap=False, max_features=100, min_samples_split=5, n_estimators=10;, score=(train=-0.000, test=-0.003) total time=   0.1s\n",
      "[CV 1/3] END bootstrap=False, max_features=100, min_samples_split=5, n_estimators=100;, score=(train=-0.000, test=-0.003) total time=   0.8s\n",
      "[CV 2/3] END bootstrap=False, max_features=100, min_samples_split=5, n_estimators=100;, score=(train=-0.000, test=-0.004) total time=   0.8s\n",
      "[CV 3/3] END bootstrap=False, max_features=100, min_samples_split=5, n_estimators=100;, score=(train=-0.000, test=-0.003) total time=   0.8s\n",
      "[CV 1/3] END bootstrap=False, max_features=100, min_samples_split=5, n_estimators=400;, score=(train=-0.000, test=-0.003) total time=   3.4s\n",
      "[CV 2/3] END bootstrap=False, max_features=100, min_samples_split=5, n_estimators=400;, score=(train=-0.000, test=-0.004) total time=   3.3s\n",
      "[CV 3/3] END bootstrap=False, max_features=100, min_samples_split=5, n_estimators=400;, score=(train=-0.000, test=-0.003) total time=   3.3s\n",
      "[CV 1/3] END bootstrap=False, max_features=100, min_samples_split=8, n_estimators=5;, score=(train=-0.000, test=-0.004) total time=   0.0s\n",
      "[CV 2/3] END bootstrap=False, max_features=100, min_samples_split=8, n_estimators=5;, score=(train=-0.000, test=-0.005) total time=   0.0s\n",
      "[CV 3/3] END bootstrap=False, max_features=100, min_samples_split=8, n_estimators=5;, score=(train=-0.000, test=-0.004) total time=   0.0s\n",
      "[CV 1/3] END bootstrap=False, max_features=100, min_samples_split=8, n_estimators=10;, score=(train=-0.000, test=-0.004) total time=   0.1s\n",
      "[CV 2/3] END bootstrap=False, max_features=100, min_samples_split=8, n_estimators=10;, score=(train=-0.000, test=-0.004) total time=   0.1s\n",
      "[CV 3/3] END bootstrap=False, max_features=100, min_samples_split=8, n_estimators=10;, score=(train=-0.000, test=-0.003) total time=   0.1s\n",
      "[CV 1/3] END bootstrap=False, max_features=100, min_samples_split=8, n_estimators=100;, score=(train=-0.000, test=-0.003) total time=   0.7s\n",
      "[CV 2/3] END bootstrap=False, max_features=100, min_samples_split=8, n_estimators=100;, score=(train=-0.000, test=-0.004) total time=   0.7s\n",
      "[CV 3/3] END bootstrap=False, max_features=100, min_samples_split=8, n_estimators=100;, score=(train=-0.000, test=-0.003) total time=   0.7s\n",
      "[CV 1/3] END bootstrap=False, max_features=100, min_samples_split=8, n_estimators=400;, score=(train=-0.000, test=-0.003) total time=   2.9s\n",
      "[CV 2/3] END bootstrap=False, max_features=100, min_samples_split=8, n_estimators=400;, score=(train=-0.000, test=-0.004) total time=   3.0s\n",
      "[CV 3/3] END bootstrap=False, max_features=100, min_samples_split=8, n_estimators=400;, score=(train=-0.000, test=-0.003) total time=   3.0s\n",
      "[CV 1/3] END bootstrap=False, max_features=auto, min_samples_split=2, n_estimators=5;, score=(train=-0.000, test=-0.008) total time=   0.1s\n",
      "[CV 2/3] END bootstrap=False, max_features=auto, min_samples_split=2, n_estimators=5;, score=(train=-0.000, test=-0.007) total time=   0.1s\n",
      "[CV 3/3] END bootstrap=False, max_features=auto, min_samples_split=2, n_estimators=5;, score=(train=-0.000, test=-0.008) total time=   0.1s\n",
      "[CV 1/3] END bootstrap=False, max_features=auto, min_samples_split=2, n_estimators=10;, score=(train=-0.000, test=-0.008) total time=   0.3s\n",
      "[CV 2/3] END bootstrap=False, max_features=auto, min_samples_split=2, n_estimators=10;, score=(train=-0.000, test=-0.007) total time=   0.3s\n",
      "[CV 3/3] END bootstrap=False, max_features=auto, min_samples_split=2, n_estimators=10;, score=(train=-0.000, test=-0.007) total time=   0.3s\n",
      "[CV 1/3] END bootstrap=False, max_features=auto, min_samples_split=2, n_estimators=100;, score=(train=-0.000, test=-0.007) total time=   2.5s\n",
      "[CV 2/3] END bootstrap=False, max_features=auto, min_samples_split=2, n_estimators=100;, score=(train=-0.000, test=-0.007) total time=   2.5s\n",
      "[CV 3/3] END bootstrap=False, max_features=auto, min_samples_split=2, n_estimators=100;, score=(train=-0.000, test=-0.007) total time=   2.5s\n",
      "[CV 1/3] END bootstrap=False, max_features=auto, min_samples_split=2, n_estimators=400;, score=(train=-0.000, test=-0.007) total time=  10.0s\n",
      "[CV 2/3] END bootstrap=False, max_features=auto, min_samples_split=2, n_estimators=400;, score=(train=-0.000, test=-0.007) total time=   9.9s\n",
      "[CV 3/3] END bootstrap=False, max_features=auto, min_samples_split=2, n_estimators=400;, score=(train=-0.000, test=-0.007) total time=   9.7s\n",
      "[CV 1/3] END bootstrap=False, max_features=auto, min_samples_split=5, n_estimators=5;, score=(train=-0.000, test=-0.007) total time=   0.1s\n",
      "[CV 2/3] END bootstrap=False, max_features=auto, min_samples_split=5, n_estimators=5;, score=(train=-0.000, test=-0.008) total time=   0.1s\n",
      "[CV 3/3] END bootstrap=False, max_features=auto, min_samples_split=5, n_estimators=5;, score=(train=-0.000, test=-0.008) total time=   0.1s\n",
      "[CV 1/3] END bootstrap=False, max_features=auto, min_samples_split=5, n_estimators=10;, score=(train=-0.000, test=-0.007) total time=   0.2s\n",
      "[CV 2/3] END bootstrap=False, max_features=auto, min_samples_split=5, n_estimators=10;, score=(train=-0.000, test=-0.007) total time=   0.2s\n",
      "[CV 3/3] END bootstrap=False, max_features=auto, min_samples_split=5, n_estimators=10;, score=(train=-0.000, test=-0.007) total time=   0.2s\n",
      "[CV 1/3] END bootstrap=False, max_features=auto, min_samples_split=5, n_estimators=100;, score=(train=-0.000, test=-0.007) total time=   2.0s\n",
      "[CV 2/3] END bootstrap=False, max_features=auto, min_samples_split=5, n_estimators=100;, score=(train=-0.000, test=-0.007) total time=   2.0s\n",
      "[CV 3/3] END bootstrap=False, max_features=auto, min_samples_split=5, n_estimators=100;, score=(train=-0.000, test=-0.007) total time=   2.0s\n",
      "[CV 1/3] END bootstrap=False, max_features=auto, min_samples_split=5, n_estimators=400;, score=(train=-0.000, test=-0.007) total time=   7.9s\n",
      "[CV 2/3] END bootstrap=False, max_features=auto, min_samples_split=5, n_estimators=400;, score=(train=-0.000, test=-0.007) total time=   8.1s\n",
      "[CV 3/3] END bootstrap=False, max_features=auto, min_samples_split=5, n_estimators=400;, score=(train=-0.000, test=-0.007) total time=   7.8s\n",
      "[CV 1/3] END bootstrap=False, max_features=auto, min_samples_split=8, n_estimators=5;, score=(train=-0.001, test=-0.007) total time=   0.1s\n",
      "[CV 2/3] END bootstrap=False, max_features=auto, min_samples_split=8, n_estimators=5;, score=(train=-0.001, test=-0.008) total time=   0.1s\n",
      "[CV 3/3] END bootstrap=False, max_features=auto, min_samples_split=8, n_estimators=5;, score=(train=-0.001, test=-0.008) total time=   0.1s\n",
      "[CV 1/3] END bootstrap=False, max_features=auto, min_samples_split=8, n_estimators=10;, score=(train=-0.001, test=-0.007) total time=   0.2s\n",
      "[CV 2/3] END bootstrap=False, max_features=auto, min_samples_split=8, n_estimators=10;, score=(train=-0.001, test=-0.007) total time=   0.2s\n",
      "[CV 3/3] END bootstrap=False, max_features=auto, min_samples_split=8, n_estimators=10;, score=(train=-0.001, test=-0.007) total time=   0.2s\n",
      "[CV 1/3] END bootstrap=False, max_features=auto, min_samples_split=8, n_estimators=100;, score=(train=-0.001, test=-0.007) total time=   1.8s\n",
      "[CV 2/3] END bootstrap=False, max_features=auto, min_samples_split=8, n_estimators=100;, score=(train=-0.001, test=-0.007) total time=   1.8s\n",
      "[CV 3/3] END bootstrap=False, max_features=auto, min_samples_split=8, n_estimators=100;, score=(train=-0.001, test=-0.007) total time=   1.9s\n",
      "[CV 1/3] END bootstrap=False, max_features=auto, min_samples_split=8, n_estimators=400;, score=(train=-0.001, test=-0.007) total time=   7.5s\n",
      "[CV 2/3] END bootstrap=False, max_features=auto, min_samples_split=8, n_estimators=400;, score=(train=-0.001, test=-0.007) total time=   8.0s\n",
      "[CV 3/3] END bootstrap=False, max_features=auto, min_samples_split=8, n_estimators=400;, score=(train=-0.001, test=-0.007) total time=   7.7s\n"
     ]
    },
    {
     "data": {
      "text/plain": [
       "GridSearchCV(cv=3, estimator=RandomForestRegressor(),\n",
       "             param_grid=[{'bootstrap': [True, False],\n",
       "                          'max_features': [5, 100, 'auto'],\n",
       "                          'min_samples_split': [2, 5, 8],\n",
       "                          'n_estimators': [5, 10, 100, 400]}],\n",
       "             return_train_score=True, scoring='neg_mean_squared_error',\n",
       "             verbose=3)"
      ]
     },
     "execution_count": 33,
     "metadata": {},
     "output_type": "execute_result"
    }
   ],
   "source": [
    "# create grid \n",
    "param_grid = [\n",
    "    {'n_estimators': [5, 10, 100, 400],\n",
    "     'max_features': [5, 100, 'auto'],\n",
    "     'bootstrap': [True, False], \n",
    "     'min_samples_split': [2, 5, 8]}] \n",
    "grid_search = GridSearchCV(forest_reg, param_grid, cv = 3, scoring = 'neg_mean_squared_error', return_train_score = True, verbose = 3)\n",
    "grid_search.fit(X, y)"
   ]
  },
  {
   "cell_type": "code",
   "execution_count": 34,
   "id": "4aca8d5b-b553-49da-9431-d437e02a5113",
   "metadata": {},
   "outputs": [
    {
     "data": {
      "text/plain": [
       "RandomForestRegressor(bootstrap=False, max_features=100, n_estimators=400)"
      ]
     },
     "execution_count": 34,
     "metadata": {},
     "output_type": "execute_result"
    }
   ],
   "source": [
    "# get best estimator\n",
    "grid_search.best_estimator_"
   ]
  },
  {
   "cell_type": "code",
   "execution_count": 35,
   "id": "466db571-99dd-48c9-ad4b-a5bcd05b6cf4",
   "metadata": {},
   "outputs": [],
   "source": [
    "cvres = grid_search.cv_results_"
   ]
  },
  {
   "cell_type": "code",
   "execution_count": 36,
   "id": "b90b4cf1-14e4-48f8-ac21-8ba1e81a1845",
   "metadata": {},
   "outputs": [],
   "source": [
    "# get parameters and results\n",
    "test_rmse = np.sqrt(-cvres['mean_test_score'])\n",
    "train_rmse = np.sqrt(-cvres['mean_train_score'])\n",
    "parameters = cvres['params']\n",
    "bootstrap = [parameters[i]['bootstrap'] for i in range(len(parameters))]\n",
    "max_features = [parameters[i]['max_features'] for i in range(len(parameters))]\n",
    "n_estimators = [parameters[i]['n_estimators'] for i in range(len(parameters))]\n",
    "min_samples_split = [parameters[i]['min_samples_split'] for i in range(len(parameters))]\n",
    "per_improv = [(baseline_rmse-test)/baseline_rmse for test in test_rmse]\n",
    "\n",
    "# combine into dataframe\n",
    "\n",
    "cvrse_df = pd.DataFrame({'test_rmse': test_rmse, \n",
    "                        'train_rmse': train_rmse, \n",
    "                        'percent_improvement': per_improv, \n",
    "                        'bootstrap': bootstrap, \n",
    "                        'max_features': max_features, \n",
    "                        'n_estimators': n_estimators,\n",
    "                        'min_samples_split': min_samples_split})"
   ]
  },
  {
   "cell_type": "code",
   "execution_count": 37,
   "id": "eb64427a-3abf-4061-934f-19d63f21259f",
   "metadata": {},
   "outputs": [
    {
     "data": {
      "text/html": [
       "<div>\n",
       "<style scoped>\n",
       "    .dataframe tbody tr th:only-of-type {\n",
       "        vertical-align: middle;\n",
       "    }\n",
       "\n",
       "    .dataframe tbody tr th {\n",
       "        vertical-align: top;\n",
       "    }\n",
       "\n",
       "    .dataframe thead th {\n",
       "        text-align: right;\n",
       "    }\n",
       "</style>\n",
       "<table border=\"1\" class=\"dataframe\">\n",
       "  <thead>\n",
       "    <tr style=\"text-align: right;\">\n",
       "      <th></th>\n",
       "      <th>test_rmse</th>\n",
       "      <th>train_rmse</th>\n",
       "      <th>percent_improvement</th>\n",
       "      <th>bootstrap</th>\n",
       "      <th>max_features</th>\n",
       "      <th>n_estimators</th>\n",
       "      <th>min_samples_split</th>\n",
       "    </tr>\n",
       "  </thead>\n",
       "  <tbody>\n",
       "    <tr>\n",
       "      <th>51</th>\n",
       "      <td>0.059390</td>\n",
       "      <td>3.093359e-14</td>\n",
       "      <td>0.071816</td>\n",
       "      <td>False</td>\n",
       "      <td>100</td>\n",
       "      <td>400</td>\n",
       "      <td>2</td>\n",
       "    </tr>\n",
       "    <tr>\n",
       "      <th>55</th>\n",
       "      <td>0.059492</td>\n",
       "      <td>6.707912e-03</td>\n",
       "      <td>0.070230</td>\n",
       "      <td>False</td>\n",
       "      <td>100</td>\n",
       "      <td>400</td>\n",
       "      <td>5</td>\n",
       "    </tr>\n",
       "    <tr>\n",
       "      <th>59</th>\n",
       "      <td>0.059690</td>\n",
       "      <td>1.267933e-02</td>\n",
       "      <td>0.067133</td>\n",
       "      <td>False</td>\n",
       "      <td>100</td>\n",
       "      <td>400</td>\n",
       "      <td>8</td>\n",
       "    </tr>\n",
       "    <tr>\n",
       "      <th>54</th>\n",
       "      <td>0.059963</td>\n",
       "      <td>7.070595e-03</td>\n",
       "      <td>0.062869</td>\n",
       "      <td>False</td>\n",
       "      <td>100</td>\n",
       "      <td>100</td>\n",
       "      <td>5</td>\n",
       "    </tr>\n",
       "    <tr>\n",
       "      <th>50</th>\n",
       "      <td>0.060047</td>\n",
       "      <td>7.795554e-15</td>\n",
       "      <td>0.061554</td>\n",
       "      <td>False</td>\n",
       "      <td>100</td>\n",
       "      <td>100</td>\n",
       "      <td>2</td>\n",
       "    </tr>\n",
       "    <tr>\n",
       "      <th>58</th>\n",
       "      <td>0.060315</td>\n",
       "      <td>1.288446e-02</td>\n",
       "      <td>0.057370</td>\n",
       "      <td>False</td>\n",
       "      <td>100</td>\n",
       "      <td>100</td>\n",
       "      <td>8</td>\n",
       "    </tr>\n",
       "    <tr>\n",
       "      <th>18</th>\n",
       "      <td>0.060919</td>\n",
       "      <td>2.675810e-02</td>\n",
       "      <td>0.047925</td>\n",
       "      <td>True</td>\n",
       "      <td>100</td>\n",
       "      <td>100</td>\n",
       "      <td>5</td>\n",
       "    </tr>\n",
       "    <tr>\n",
       "      <th>15</th>\n",
       "      <td>0.060929</td>\n",
       "      <td>2.279545e-02</td>\n",
       "      <td>0.047770</td>\n",
       "      <td>True</td>\n",
       "      <td>100</td>\n",
       "      <td>400</td>\n",
       "      <td>2</td>\n",
       "    </tr>\n",
       "    <tr>\n",
       "      <th>23</th>\n",
       "      <td>0.060962</td>\n",
       "      <td>3.077534e-02</td>\n",
       "      <td>0.047254</td>\n",
       "      <td>True</td>\n",
       "      <td>100</td>\n",
       "      <td>400</td>\n",
       "      <td>8</td>\n",
       "    </tr>\n",
       "    <tr>\n",
       "      <th>14</th>\n",
       "      <td>0.060965</td>\n",
       "      <td>2.382820e-02</td>\n",
       "      <td>0.047201</td>\n",
       "      <td>True</td>\n",
       "      <td>100</td>\n",
       "      <td>100</td>\n",
       "      <td>2</td>\n",
       "    </tr>\n",
       "  </tbody>\n",
       "</table>\n",
       "</div>"
      ],
      "text/plain": [
       "    test_rmse    train_rmse  percent_improvement  bootstrap max_features  \\\n",
       "51   0.059390  3.093359e-14             0.071816      False          100   \n",
       "55   0.059492  6.707912e-03             0.070230      False          100   \n",
       "59   0.059690  1.267933e-02             0.067133      False          100   \n",
       "54   0.059963  7.070595e-03             0.062869      False          100   \n",
       "50   0.060047  7.795554e-15             0.061554      False          100   \n",
       "58   0.060315  1.288446e-02             0.057370      False          100   \n",
       "18   0.060919  2.675810e-02             0.047925       True          100   \n",
       "15   0.060929  2.279545e-02             0.047770       True          100   \n",
       "23   0.060962  3.077534e-02             0.047254       True          100   \n",
       "14   0.060965  2.382820e-02             0.047201       True          100   \n",
       "\n",
       "    n_estimators  min_samples_split  \n",
       "51           400                  2  \n",
       "55           400                  5  \n",
       "59           400                  8  \n",
       "54           100                  5  \n",
       "50           100                  2  \n",
       "58           100                  8  \n",
       "18           100                  5  \n",
       "15           400                  2  \n",
       "23           400                  8  \n",
       "14           100                  2  "
      ]
     },
     "execution_count": 37,
     "metadata": {},
     "output_type": "execute_result"
    }
   ],
   "source": [
    "cvrse_df.sort_values(by = 'percent_improvement', ascending = False).head(10)"
   ]
  },
  {
   "cell_type": "markdown",
   "id": "64677037-7071-4e06-a9f0-007a464fead0",
   "metadata": {},
   "source": [
    "There is a large difference in training and testing RMSE indicating overfitting. The best fit is a 7% improvement over the baseline (using defaults). "
   ]
  },
  {
   "cell_type": "markdown",
   "id": "0c4f7143-19ce-47c0-a585-19d870c292e6",
   "metadata": {},
   "source": [
    "### Parallel Coordinates Plot of Hyperparameters"
   ]
  },
  {
   "cell_type": "code",
   "execution_count": 40,
   "id": "156288f7-91fd-4fab-bc44-ffb66089bc6d",
   "metadata": {},
   "outputs": [
    {
     "data": {
      "application/vnd.plotly.v1+json": {
       "config": {
        "plotlyServerURL": "https://plot.ly"
       },
       "data": [
        {
         "dimensions": [
          {
           "label": "RMSE",
           "values": [
            0.08506720177208779,
            0.07860119931035277,
            0.07244499034038135,
            0.07106946619362171,
            0.08341637222054887,
            0.07872978804467326,
            0.07307501325793077,
            0.07237789690204091,
            0.08392657035624547,
            0.07798574685973605,
            0.07439667719003,
            0.0740920532306612,
            0.0686486482118166,
            0.06670604492453314,
            0.06096544527777551,
            0.060929036266672745,
            0.07021809715790624,
            0.06558403995741395,
            0.06091914568373646,
            0.061132481585723396,
            0.06870205544677929,
            0.06617293605289375,
            0.061361875879891364,
            0.06096209139570533,
            0.07266376700116525,
            0.06755360500925492,
            0.06388414258700506,
            0.0633580951326509,
            0.07096205029007775,
            0.06878195686274634,
            0.06325295426861938,
            0.06374001196322095,
            0.07050166833974456,
            0.06747858578062663,
            0.06390048398593427,
            0.06362916619100728,
            0.08055487416451326,
            0.07554598872264717,
            0.0685963853846164,
            0.06844247765580509,
            0.07771354523178413,
            0.07403213530583619,
            0.0697911108900115,
            0.0700288096116691,
            0.0827545088023818,
            0.07467297283259362,
            0.07187107844954098,
            0.07142784694852436,
            0.06802548651930868,
            0.06303463837126577,
            0.060047064511941986,
            0.059390460365142436,
            0.06859941915227567,
            0.06282250459820693,
            0.059962935058968755,
            0.05949192944963732,
            0.06677320784308417,
            0.06309160598170285,
            0.06031479527509444,
            0.0596901441990769,
            0.0866004016857358,
            0.0857148026535483,
            0.08541704961917918,
            0.08551456988447878,
            0.08670331856065358,
            0.08522890614982145,
            0.08533464493411269,
            0.08529574605108976,
            0.08570604737024787,
            0.0849691923233454,
            0.08419152810430673,
            0.08416682101160877
           ]
          },
          {
           "label": "Train RMSE",
           "values": [
            0.041268752999364264,
            0.033872742666546225,
            0.027597173440752316,
            0.02631872381220841,
            0.0526872830391524,
            0.04931807845309937,
            0.04337439584203572,
            0.042941866604173165,
            0.06035655613207835,
            0.054445868148157085,
            0.05126661337671979,
            0.05048124843581179,
            0.0344953066610973,
            0.02869010464818715,
            0.02382819520538765,
            0.022795448194765342,
            0.03569130016724024,
            0.03138055562775524,
            0.02675809887148812,
            0.026665669865214698,
            0.03886432110472328,
            0.03549075317800759,
            0.03098609893876481,
            0.030775340071697608,
            0.033881706499076625,
            0.028727167152246446,
            0.02409570742280514,
            0.023674777737876032,
            0.03649780411473738,
            0.03153187639781434,
            0.026947913328037247,
            0.026743694232340066,
            0.0397682064829903,
            0.03455704993961841,
            0.03091330644648623,
            0.030445680334820882,
            0,
            6.615581152768209e-16,
            7.795554281031053e-15,
            3.0933593256517735e-14,
            0.03126074691282889,
            0.02828157086425761,
            0.02476076369894708,
            0.024486000525881013,
            0.043530411367215686,
            0.0386651301719936,
            0.035426059716852844,
            0.03505511782503379,
            0,
            6.615581152768209e-16,
            7.795554281031053e-15,
            3.0933593256517735e-14,
            0.010576359360841493,
            0.008748938885003858,
            0.0070705948305458495,
            0.006707912046742519,
            0.01800009651846036,
            0.01552858447254878,
            0.01288445787660608,
            0.012679331677710176,
            0,
            6.615581152768209e-16,
            7.795554281031053e-15,
            3.0933593256517735e-14,
            0.01629882434336374,
            0.016299456537243375,
            0.016298317356003258,
            0.01629811433923397,
            0.025314378850975577,
            0.02531567373357994,
            0.02531488179234952,
            0.0253149273210046
           ]
          },
          {
           "label": "Bootstrap",
           "values": [
            1,
            1,
            1,
            1,
            1,
            1,
            1,
            1,
            1,
            1,
            1,
            1,
            1,
            1,
            1,
            1,
            1,
            1,
            1,
            1,
            1,
            1,
            1,
            1,
            1,
            1,
            1,
            1,
            1,
            1,
            1,
            1,
            1,
            1,
            1,
            1,
            0,
            0,
            0,
            0,
            0,
            0,
            0,
            0,
            0,
            0,
            0,
            0,
            0,
            0,
            0,
            0,
            0,
            0,
            0,
            0,
            0,
            0,
            0,
            0,
            0,
            0,
            0,
            0,
            0,
            0,
            0,
            0,
            0,
            0,
            0,
            0
           ]
          },
          {
           "label": "Max Features",
           "values": [
            5,
            5,
            5,
            5,
            5,
            5,
            5,
            5,
            5,
            5,
            5,
            5,
            100,
            100,
            100,
            100,
            100,
            100,
            100,
            100,
            100,
            100,
            100,
            100,
            317,
            317,
            317,
            317,
            317,
            317,
            317,
            317,
            317,
            317,
            317,
            317,
            5,
            5,
            5,
            5,
            5,
            5,
            5,
            5,
            5,
            5,
            5,
            5,
            100,
            100,
            100,
            100,
            100,
            100,
            100,
            100,
            100,
            100,
            100,
            100,
            317,
            317,
            317,
            317,
            317,
            317,
            317,
            317,
            317,
            317,
            317,
            317
           ]
          },
          {
           "label": "Estimators",
           "values": [
            5,
            10,
            100,
            400,
            5,
            10,
            100,
            400,
            5,
            10,
            100,
            400,
            5,
            10,
            100,
            400,
            5,
            10,
            100,
            400,
            5,
            10,
            100,
            400,
            5,
            10,
            100,
            400,
            5,
            10,
            100,
            400,
            5,
            10,
            100,
            400,
            5,
            10,
            100,
            400,
            5,
            10,
            100,
            400,
            5,
            10,
            100,
            400,
            5,
            10,
            100,
            400,
            5,
            10,
            100,
            400,
            5,
            10,
            100,
            400,
            5,
            10,
            100,
            400,
            5,
            10,
            100,
            400,
            5,
            10,
            100,
            400
           ]
          },
          {
           "label": "Minimum Split",
           "values": [
            2,
            2,
            2,
            2,
            5,
            5,
            5,
            5,
            8,
            8,
            8,
            8,
            2,
            2,
            2,
            2,
            5,
            5,
            5,
            5,
            8,
            8,
            8,
            8,
            2,
            2,
            2,
            2,
            5,
            5,
            5,
            5,
            8,
            8,
            8,
            8,
            2,
            2,
            2,
            2,
            5,
            5,
            5,
            5,
            8,
            8,
            8,
            8,
            2,
            2,
            2,
            2,
            5,
            5,
            5,
            5,
            8,
            8,
            8,
            8,
            2,
            2,
            2,
            2,
            5,
            5,
            5,
            5,
            8,
            8,
            8,
            8
           ]
          }
         ],
         "domain": {
          "x": [
           0,
           1
          ],
          "y": [
           0,
           1
          ]
         },
         "line": {
          "color": [
           0.08506720177208779,
           0.07860119931035277,
           0.07244499034038135,
           0.07106946619362171,
           0.08341637222054887,
           0.07872978804467326,
           0.07307501325793077,
           0.07237789690204091,
           0.08392657035624547,
           0.07798574685973605,
           0.07439667719003,
           0.0740920532306612,
           0.0686486482118166,
           0.06670604492453314,
           0.06096544527777551,
           0.060929036266672745,
           0.07021809715790624,
           0.06558403995741395,
           0.06091914568373646,
           0.061132481585723396,
           0.06870205544677929,
           0.06617293605289375,
           0.061361875879891364,
           0.06096209139570533,
           0.07266376700116525,
           0.06755360500925492,
           0.06388414258700506,
           0.0633580951326509,
           0.07096205029007775,
           0.06878195686274634,
           0.06325295426861938,
           0.06374001196322095,
           0.07050166833974456,
           0.06747858578062663,
           0.06390048398593427,
           0.06362916619100728,
           0.08055487416451326,
           0.07554598872264717,
           0.0685963853846164,
           0.06844247765580509,
           0.07771354523178413,
           0.07403213530583619,
           0.0697911108900115,
           0.0700288096116691,
           0.0827545088023818,
           0.07467297283259362,
           0.07187107844954098,
           0.07142784694852436,
           0.06802548651930868,
           0.06303463837126577,
           0.060047064511941986,
           0.059390460365142436,
           0.06859941915227567,
           0.06282250459820693,
           0.059962935058968755,
           0.05949192944963732,
           0.06677320784308417,
           0.06309160598170285,
           0.06031479527509444,
           0.0596901441990769,
           0.0866004016857358,
           0.0857148026535483,
           0.08541704961917918,
           0.08551456988447878,
           0.08670331856065358,
           0.08522890614982145,
           0.08533464493411269,
           0.08529574605108976,
           0.08570604737024787,
           0.0849691923233454,
           0.08419152810430673,
           0.08416682101160877
          ],
          "coloraxis": "coloraxis"
         },
         "name": "",
         "type": "parcoords"
        }
       ],
       "layout": {
        "autosize": true,
        "coloraxis": {
         "colorbar": {
          "title": {
           "text": "RMSE"
          }
         },
         "colorscale": [
          [
           0,
           "rgb(0, 147, 146)"
          ],
          [
           0.16666666666666666,
           "rgb(114, 170, 161)"
          ],
          [
           0.3333333333333333,
           "rgb(177, 199, 179)"
          ],
          [
           0.5,
           "rgb(241, 234, 200)"
          ],
          [
           0.6666666666666666,
           "rgb(229, 185, 173)"
          ],
          [
           0.8333333333333334,
           "rgb(217, 137, 148)"
          ],
          [
           1,
           "rgb(208, 88, 126)"
          ]
         ]
        },
        "legend": {
         "tracegroupgap": 0
        },
        "margin": {
         "t": 60
        },
        "template": {
         "data": {
          "bar": [
           {
            "error_x": {
             "color": "#2a3f5f"
            },
            "error_y": {
             "color": "#2a3f5f"
            },
            "marker": {
             "line": {
              "color": "#E5ECF6",
              "width": 0.5
             },
             "pattern": {
              "fillmode": "overlay",
              "size": 10,
              "solidity": 0.2
             }
            },
            "type": "bar"
           }
          ],
          "barpolar": [
           {
            "marker": {
             "line": {
              "color": "#E5ECF6",
              "width": 0.5
             },
             "pattern": {
              "fillmode": "overlay",
              "size": 10,
              "solidity": 0.2
             }
            },
            "type": "barpolar"
           }
          ],
          "carpet": [
           {
            "aaxis": {
             "endlinecolor": "#2a3f5f",
             "gridcolor": "white",
             "linecolor": "white",
             "minorgridcolor": "white",
             "startlinecolor": "#2a3f5f"
            },
            "baxis": {
             "endlinecolor": "#2a3f5f",
             "gridcolor": "white",
             "linecolor": "white",
             "minorgridcolor": "white",
             "startlinecolor": "#2a3f5f"
            },
            "type": "carpet"
           }
          ],
          "choropleth": [
           {
            "colorbar": {
             "outlinewidth": 0,
             "ticks": ""
            },
            "type": "choropleth"
           }
          ],
          "contour": [
           {
            "colorbar": {
             "outlinewidth": 0,
             "ticks": ""
            },
            "colorscale": [
             [
              0,
              "#0d0887"
             ],
             [
              0.1111111111111111,
              "#46039f"
             ],
             [
              0.2222222222222222,
              "#7201a8"
             ],
             [
              0.3333333333333333,
              "#9c179e"
             ],
             [
              0.4444444444444444,
              "#bd3786"
             ],
             [
              0.5555555555555556,
              "#d8576b"
             ],
             [
              0.6666666666666666,
              "#ed7953"
             ],
             [
              0.7777777777777778,
              "#fb9f3a"
             ],
             [
              0.8888888888888888,
              "#fdca26"
             ],
             [
              1,
              "#f0f921"
             ]
            ],
            "type": "contour"
           }
          ],
          "contourcarpet": [
           {
            "colorbar": {
             "outlinewidth": 0,
             "ticks": ""
            },
            "type": "contourcarpet"
           }
          ],
          "heatmap": [
           {
            "colorbar": {
             "outlinewidth": 0,
             "ticks": ""
            },
            "colorscale": [
             [
              0,
              "#0d0887"
             ],
             [
              0.1111111111111111,
              "#46039f"
             ],
             [
              0.2222222222222222,
              "#7201a8"
             ],
             [
              0.3333333333333333,
              "#9c179e"
             ],
             [
              0.4444444444444444,
              "#bd3786"
             ],
             [
              0.5555555555555556,
              "#d8576b"
             ],
             [
              0.6666666666666666,
              "#ed7953"
             ],
             [
              0.7777777777777778,
              "#fb9f3a"
             ],
             [
              0.8888888888888888,
              "#fdca26"
             ],
             [
              1,
              "#f0f921"
             ]
            ],
            "type": "heatmap"
           }
          ],
          "heatmapgl": [
           {
            "colorbar": {
             "outlinewidth": 0,
             "ticks": ""
            },
            "colorscale": [
             [
              0,
              "#0d0887"
             ],
             [
              0.1111111111111111,
              "#46039f"
             ],
             [
              0.2222222222222222,
              "#7201a8"
             ],
             [
              0.3333333333333333,
              "#9c179e"
             ],
             [
              0.4444444444444444,
              "#bd3786"
             ],
             [
              0.5555555555555556,
              "#d8576b"
             ],
             [
              0.6666666666666666,
              "#ed7953"
             ],
             [
              0.7777777777777778,
              "#fb9f3a"
             ],
             [
              0.8888888888888888,
              "#fdca26"
             ],
             [
              1,
              "#f0f921"
             ]
            ],
            "type": "heatmapgl"
           }
          ],
          "histogram": [
           {
            "marker": {
             "pattern": {
              "fillmode": "overlay",
              "size": 10,
              "solidity": 0.2
             }
            },
            "type": "histogram"
           }
          ],
          "histogram2d": [
           {
            "colorbar": {
             "outlinewidth": 0,
             "ticks": ""
            },
            "colorscale": [
             [
              0,
              "#0d0887"
             ],
             [
              0.1111111111111111,
              "#46039f"
             ],
             [
              0.2222222222222222,
              "#7201a8"
             ],
             [
              0.3333333333333333,
              "#9c179e"
             ],
             [
              0.4444444444444444,
              "#bd3786"
             ],
             [
              0.5555555555555556,
              "#d8576b"
             ],
             [
              0.6666666666666666,
              "#ed7953"
             ],
             [
              0.7777777777777778,
              "#fb9f3a"
             ],
             [
              0.8888888888888888,
              "#fdca26"
             ],
             [
              1,
              "#f0f921"
             ]
            ],
            "type": "histogram2d"
           }
          ],
          "histogram2dcontour": [
           {
            "colorbar": {
             "outlinewidth": 0,
             "ticks": ""
            },
            "colorscale": [
             [
              0,
              "#0d0887"
             ],
             [
              0.1111111111111111,
              "#46039f"
             ],
             [
              0.2222222222222222,
              "#7201a8"
             ],
             [
              0.3333333333333333,
              "#9c179e"
             ],
             [
              0.4444444444444444,
              "#bd3786"
             ],
             [
              0.5555555555555556,
              "#d8576b"
             ],
             [
              0.6666666666666666,
              "#ed7953"
             ],
             [
              0.7777777777777778,
              "#fb9f3a"
             ],
             [
              0.8888888888888888,
              "#fdca26"
             ],
             [
              1,
              "#f0f921"
             ]
            ],
            "type": "histogram2dcontour"
           }
          ],
          "mesh3d": [
           {
            "colorbar": {
             "outlinewidth": 0,
             "ticks": ""
            },
            "type": "mesh3d"
           }
          ],
          "parcoords": [
           {
            "line": {
             "colorbar": {
              "outlinewidth": 0,
              "ticks": ""
             }
            },
            "type": "parcoords"
           }
          ],
          "pie": [
           {
            "automargin": true,
            "type": "pie"
           }
          ],
          "scatter": [
           {
            "fillpattern": {
             "fillmode": "overlay",
             "size": 10,
             "solidity": 0.2
            },
            "type": "scatter"
           }
          ],
          "scatter3d": [
           {
            "line": {
             "colorbar": {
              "outlinewidth": 0,
              "ticks": ""
             }
            },
            "marker": {
             "colorbar": {
              "outlinewidth": 0,
              "ticks": ""
             }
            },
            "type": "scatter3d"
           }
          ],
          "scattercarpet": [
           {
            "marker": {
             "colorbar": {
              "outlinewidth": 0,
              "ticks": ""
             }
            },
            "type": "scattercarpet"
           }
          ],
          "scattergeo": [
           {
            "marker": {
             "colorbar": {
              "outlinewidth": 0,
              "ticks": ""
             }
            },
            "type": "scattergeo"
           }
          ],
          "scattergl": [
           {
            "marker": {
             "colorbar": {
              "outlinewidth": 0,
              "ticks": ""
             }
            },
            "type": "scattergl"
           }
          ],
          "scattermapbox": [
           {
            "marker": {
             "colorbar": {
              "outlinewidth": 0,
              "ticks": ""
             }
            },
            "type": "scattermapbox"
           }
          ],
          "scatterpolar": [
           {
            "marker": {
             "colorbar": {
              "outlinewidth": 0,
              "ticks": ""
             }
            },
            "type": "scatterpolar"
           }
          ],
          "scatterpolargl": [
           {
            "marker": {
             "colorbar": {
              "outlinewidth": 0,
              "ticks": ""
             }
            },
            "type": "scatterpolargl"
           }
          ],
          "scatterternary": [
           {
            "marker": {
             "colorbar": {
              "outlinewidth": 0,
              "ticks": ""
             }
            },
            "type": "scatterternary"
           }
          ],
          "surface": [
           {
            "colorbar": {
             "outlinewidth": 0,
             "ticks": ""
            },
            "colorscale": [
             [
              0,
              "#0d0887"
             ],
             [
              0.1111111111111111,
              "#46039f"
             ],
             [
              0.2222222222222222,
              "#7201a8"
             ],
             [
              0.3333333333333333,
              "#9c179e"
             ],
             [
              0.4444444444444444,
              "#bd3786"
             ],
             [
              0.5555555555555556,
              "#d8576b"
             ],
             [
              0.6666666666666666,
              "#ed7953"
             ],
             [
              0.7777777777777778,
              "#fb9f3a"
             ],
             [
              0.8888888888888888,
              "#fdca26"
             ],
             [
              1,
              "#f0f921"
             ]
            ],
            "type": "surface"
           }
          ],
          "table": [
           {
            "cells": {
             "fill": {
              "color": "#EBF0F8"
             },
             "line": {
              "color": "white"
             }
            },
            "header": {
             "fill": {
              "color": "#C8D4E3"
             },
             "line": {
              "color": "white"
             }
            },
            "type": "table"
           }
          ]
         },
         "layout": {
          "annotationdefaults": {
           "arrowcolor": "#2a3f5f",
           "arrowhead": 0,
           "arrowwidth": 1
          },
          "autotypenumbers": "strict",
          "coloraxis": {
           "colorbar": {
            "outlinewidth": 0,
            "ticks": ""
           }
          },
          "colorscale": {
           "diverging": [
            [
             0,
             "#8e0152"
            ],
            [
             0.1,
             "#c51b7d"
            ],
            [
             0.2,
             "#de77ae"
            ],
            [
             0.3,
             "#f1b6da"
            ],
            [
             0.4,
             "#fde0ef"
            ],
            [
             0.5,
             "#f7f7f7"
            ],
            [
             0.6,
             "#e6f5d0"
            ],
            [
             0.7,
             "#b8e186"
            ],
            [
             0.8,
             "#7fbc41"
            ],
            [
             0.9,
             "#4d9221"
            ],
            [
             1,
             "#276419"
            ]
           ],
           "sequential": [
            [
             0,
             "#0d0887"
            ],
            [
             0.1111111111111111,
             "#46039f"
            ],
            [
             0.2222222222222222,
             "#7201a8"
            ],
            [
             0.3333333333333333,
             "#9c179e"
            ],
            [
             0.4444444444444444,
             "#bd3786"
            ],
            [
             0.5555555555555556,
             "#d8576b"
            ],
            [
             0.6666666666666666,
             "#ed7953"
            ],
            [
             0.7777777777777778,
             "#fb9f3a"
            ],
            [
             0.8888888888888888,
             "#fdca26"
            ],
            [
             1,
             "#f0f921"
            ]
           ],
           "sequentialminus": [
            [
             0,
             "#0d0887"
            ],
            [
             0.1111111111111111,
             "#46039f"
            ],
            [
             0.2222222222222222,
             "#7201a8"
            ],
            [
             0.3333333333333333,
             "#9c179e"
            ],
            [
             0.4444444444444444,
             "#bd3786"
            ],
            [
             0.5555555555555556,
             "#d8576b"
            ],
            [
             0.6666666666666666,
             "#ed7953"
            ],
            [
             0.7777777777777778,
             "#fb9f3a"
            ],
            [
             0.8888888888888888,
             "#fdca26"
            ],
            [
             1,
             "#f0f921"
            ]
           ]
          },
          "colorway": [
           "#636efa",
           "#EF553B",
           "#00cc96",
           "#ab63fa",
           "#FFA15A",
           "#19d3f3",
           "#FF6692",
           "#B6E880",
           "#FF97FF",
           "#FECB52"
          ],
          "font": {
           "color": "#2a3f5f"
          },
          "geo": {
           "bgcolor": "white",
           "lakecolor": "white",
           "landcolor": "#E5ECF6",
           "showlakes": true,
           "showland": true,
           "subunitcolor": "white"
          },
          "hoverlabel": {
           "align": "left"
          },
          "hovermode": "closest",
          "mapbox": {
           "style": "light"
          },
          "paper_bgcolor": "white",
          "plot_bgcolor": "#E5ECF6",
          "polar": {
           "angularaxis": {
            "gridcolor": "white",
            "linecolor": "white",
            "ticks": ""
           },
           "bgcolor": "#E5ECF6",
           "radialaxis": {
            "gridcolor": "white",
            "linecolor": "white",
            "ticks": ""
           }
          },
          "scene": {
           "xaxis": {
            "backgroundcolor": "#E5ECF6",
            "gridcolor": "white",
            "gridwidth": 2,
            "linecolor": "white",
            "showbackground": true,
            "ticks": "",
            "zerolinecolor": "white"
           },
           "yaxis": {
            "backgroundcolor": "#E5ECF6",
            "gridcolor": "white",
            "gridwidth": 2,
            "linecolor": "white",
            "showbackground": true,
            "ticks": "",
            "zerolinecolor": "white"
           },
           "zaxis": {
            "backgroundcolor": "#E5ECF6",
            "gridcolor": "white",
            "gridwidth": 2,
            "linecolor": "white",
            "showbackground": true,
            "ticks": "",
            "zerolinecolor": "white"
           }
          },
          "shapedefaults": {
           "line": {
            "color": "#2a3f5f"
           }
          },
          "ternary": {
           "aaxis": {
            "gridcolor": "white",
            "linecolor": "white",
            "ticks": ""
           },
           "baxis": {
            "gridcolor": "white",
            "linecolor": "white",
            "ticks": ""
           },
           "bgcolor": "#E5ECF6",
           "caxis": {
            "gridcolor": "white",
            "linecolor": "white",
            "ticks": ""
           }
          },
          "title": {
           "x": 0.05
          },
          "xaxis": {
           "automargin": true,
           "gridcolor": "white",
           "linecolor": "white",
           "ticks": "",
           "title": {
            "standoff": 15
           },
           "zerolinecolor": "white",
           "zerolinewidth": 2
          },
          "yaxis": {
           "automargin": true,
           "gridcolor": "white",
           "linecolor": "white",
           "ticks": "",
           "title": {
            "standoff": 15
           },
           "zerolinecolor": "white",
           "zerolinewidth": 2
          }
         }
        }
       }
      },
      "image/png": "[encoded data removed]",
      "text/html": [
       "<div>                            <div id=\"93c3b43a-314d-4afa-ae94-9a2a4c8d5eeb\" class=\"plotly-graph-div\" style=\"height:525px; width:100%;\"></div>            <script type=\"text/javascript\">                require([\"plotly\"], function(Plotly) {                    window.PLOTLYENV=window.PLOTLYENV || {};                                    if (document.getElementById(\"93c3b43a-314d-4afa-ae94-9a2a4c8d5eeb\")) {                    Plotly.newPlot(                        \"93c3b43a-314d-4afa-ae94-9a2a4c8d5eeb\",                        [{\"dimensions\":[{\"label\":\"RMSE\",\"values\":[0.08506720177208779,0.07860119931035277,0.07244499034038135,0.07106946619362171,0.08341637222054887,0.07872978804467326,0.07307501325793077,0.07237789690204091,0.08392657035624547,0.07798574685973605,0.07439667719003,0.0740920532306612,0.0686486482118166,0.06670604492453314,0.06096544527777551,0.060929036266672745,0.07021809715790624,0.06558403995741395,0.06091914568373646,0.061132481585723396,0.06870205544677929,0.06617293605289375,0.061361875879891364,0.06096209139570533,0.07266376700116525,0.06755360500925492,0.06388414258700506,0.0633580951326509,0.07096205029007775,0.06878195686274634,0.06325295426861938,0.06374001196322095,0.07050166833974456,0.06747858578062663,0.06390048398593427,0.06362916619100728,0.08055487416451326,0.07554598872264717,0.0685963853846164,0.06844247765580509,0.07771354523178413,0.07403213530583619,0.0697911108900115,0.0700288096116691,0.0827545088023818,0.07467297283259362,0.07187107844954098,0.07142784694852436,0.06802548651930868,0.06303463837126577,0.060047064511941986,0.059390460365142436,0.06859941915227567,0.06282250459820693,0.059962935058968755,0.05949192944963732,0.06677320784308417,0.06309160598170285,0.06031479527509444,0.0596901441990769,0.0866004016857358,0.0857148026535483,0.08541704961917918,0.08551456988447878,0.08670331856065358,0.08522890614982145,0.08533464493411269,0.08529574605108976,0.08570604737024787,0.0849691923233454,0.08419152810430673,0.08416682101160877]},{\"label\":\"Train RMSE\",\"values\":[0.041268752999364264,0.033872742666546225,0.027597173440752316,0.02631872381220841,0.0526872830391524,0.04931807845309937,0.04337439584203572,0.042941866604173165,0.06035655613207835,0.054445868148157085,0.05126661337671979,0.05048124843581179,0.0344953066610973,0.02869010464818715,0.02382819520538765,0.022795448194765342,0.03569130016724024,0.03138055562775524,0.02675809887148812,0.026665669865214698,0.03886432110472328,0.03549075317800759,0.03098609893876481,0.030775340071697608,0.033881706499076625,0.028727167152246446,0.02409570742280514,0.023674777737876032,0.03649780411473738,0.03153187639781434,0.026947913328037247,0.026743694232340066,0.0397682064829903,0.03455704993961841,0.03091330644648623,0.030445680334820882,-0.0,6.615581152768209e-16,7.795554281031053e-15,3.0933593256517735e-14,0.03126074691282889,0.02828157086425761,0.02476076369894708,0.024486000525881013,0.043530411367215686,0.0386651301719936,0.035426059716852844,0.03505511782503379,-0.0,6.615581152768209e-16,7.795554281031053e-15,3.0933593256517735e-14,0.010576359360841493,0.008748938885003858,0.0070705948305458495,0.006707912046742519,0.01800009651846036,0.01552858447254878,0.01288445787660608,0.012679331677710176,-0.0,6.615581152768209e-16,7.795554281031053e-15,3.0933593256517735e-14,0.01629882434336374,0.016299456537243375,0.016298317356003258,0.01629811433923397,0.025314378850975577,0.02531567373357994,0.02531488179234952,0.0253149273210046]},{\"label\":\"Bootstrap\",\"values\":[1,1,1,1,1,1,1,1,1,1,1,1,1,1,1,1,1,1,1,1,1,1,1,1,1,1,1,1,1,1,1,1,1,1,1,1,0,0,0,0,0,0,0,0,0,0,0,0,0,0,0,0,0,0,0,0,0,0,0,0,0,0,0,0,0,0,0,0,0,0,0,0]},{\"label\":\"Max Features\",\"values\":[5,5,5,5,5,5,5,5,5,5,5,5,100,100,100,100,100,100,100,100,100,100,100,100,317,317,317,317,317,317,317,317,317,317,317,317,5,5,5,5,5,5,5,5,5,5,5,5,100,100,100,100,100,100,100,100,100,100,100,100,317,317,317,317,317,317,317,317,317,317,317,317]},{\"label\":\"Estimators\",\"values\":[5,10,100,400,5,10,100,400,5,10,100,400,5,10,100,400,5,10,100,400,5,10,100,400,5,10,100,400,5,10,100,400,5,10,100,400,5,10,100,400,5,10,100,400,5,10,100,400,5,10,100,400,5,10,100,400,5,10,100,400,5,10,100,400,5,10,100,400,5,10,100,400]},{\"label\":\"Minimum Split\",\"values\":[2,2,2,2,5,5,5,5,8,8,8,8,2,2,2,2,5,5,5,5,8,8,8,8,2,2,2,2,5,5,5,5,8,8,8,8,2,2,2,2,5,5,5,5,8,8,8,8,2,2,2,2,5,5,5,5,8,8,8,8,2,2,2,2,5,5,5,5,8,8,8,8]}],\"domain\":{\"x\":[0.0,1.0],\"y\":[0.0,1.0]},\"line\":{\"color\":[0.08506720177208779,0.07860119931035277,0.07244499034038135,0.07106946619362171,0.08341637222054887,0.07872978804467326,0.07307501325793077,0.07237789690204091,0.08392657035624547,0.07798574685973605,0.07439667719003,0.0740920532306612,0.0686486482118166,0.06670604492453314,0.06096544527777551,0.060929036266672745,0.07021809715790624,0.06558403995741395,0.06091914568373646,0.061132481585723396,0.06870205544677929,0.06617293605289375,0.061361875879891364,0.06096209139570533,0.07266376700116525,0.06755360500925492,0.06388414258700506,0.0633580951326509,0.07096205029007775,0.06878195686274634,0.06325295426861938,0.06374001196322095,0.07050166833974456,0.06747858578062663,0.06390048398593427,0.06362916619100728,0.08055487416451326,0.07554598872264717,0.0685963853846164,0.06844247765580509,0.07771354523178413,0.07403213530583619,0.0697911108900115,0.0700288096116691,0.0827545088023818,0.07467297283259362,0.07187107844954098,0.07142784694852436,0.06802548651930868,0.06303463837126577,0.060047064511941986,0.059390460365142436,0.06859941915227567,0.06282250459820693,0.059962935058968755,0.05949192944963732,0.06677320784308417,0.06309160598170285,0.06031479527509444,0.0596901441990769,0.0866004016857358,0.0857148026535483,0.08541704961917918,0.08551456988447878,0.08670331856065358,0.08522890614982145,0.08533464493411269,0.08529574605108976,0.08570604737024787,0.0849691923233454,0.08419152810430673,0.08416682101160877],\"coloraxis\":\"coloraxis\"},\"name\":\"\",\"type\":\"parcoords\"}],                        {\"template\":{\"data\":{\"histogram2dcontour\":[{\"type\":\"histogram2dcontour\",\"colorbar\":{\"outlinewidth\":0,\"ticks\":\"\"},\"colorscale\":[[0.0,\"#0d0887\"],[0.1111111111111111,\"#46039f\"],[0.2222222222222222,\"#7201a8\"],[0.3333333333333333,\"#9c179e\"],[0.4444444444444444,\"#bd3786\"],[0.5555555555555556,\"#d8576b\"],[0.6666666666666666,\"#ed7953\"],[0.7777777777777778,\"#fb9f3a\"],[0.8888888888888888,\"#fdca26\"],[1.0,\"#f0f921\"]]}],\"choropleth\":[{\"type\":\"choropleth\",\"colorbar\":{\"outlinewidth\":0,\"ticks\":\"\"}}],\"histogram2d\":[{\"type\":\"histogram2d\",\"colorbar\":{\"outlinewidth\":0,\"ticks\":\"\"},\"colorscale\":[[0.0,\"#0d0887\"],[0.1111111111111111,\"#46039f\"],[0.2222222222222222,\"#7201a8\"],[0.3333333333333333,\"#9c179e\"],[0.4444444444444444,\"#bd3786\"],[0.5555555555555556,\"#d8576b\"],[0.6666666666666666,\"#ed7953\"],[0.7777777777777778,\"#fb9f3a\"],[0.8888888888888888,\"#fdca26\"],[1.0,\"#f0f921\"]]}],\"heatmap\":[{\"type\":\"heatmap\",\"colorbar\":{\"outlinewidth\":0,\"ticks\":\"\"},\"colorscale\":[[0.0,\"#0d0887\"],[0.1111111111111111,\"#46039f\"],[0.2222222222222222,\"#7201a8\"],[0.3333333333333333,\"#9c179e\"],[0.4444444444444444,\"#bd3786\"],[0.5555555555555556,\"#d8576b\"],[0.6666666666666666,\"#ed7953\"],[0.7777777777777778,\"#fb9f3a\"],[0.8888888888888888,\"#fdca26\"],[1.0,\"#f0f921\"]]}],\"heatmapgl\":[{\"type\":\"heatmapgl\",\"colorbar\":{\"outlinewidth\":0,\"ticks\":\"\"},\"colorscale\":[[0.0,\"#0d0887\"],[0.1111111111111111,\"#46039f\"],[0.2222222222222222,\"#7201a8\"],[0.3333333333333333,\"#9c179e\"],[0.4444444444444444,\"#bd3786\"],[0.5555555555555556,\"#d8576b\"],[0.6666666666666666,\"#ed7953\"],[0.7777777777777778,\"#fb9f3a\"],[0.8888888888888888,\"#fdca26\"],[1.0,\"#f0f921\"]]}],\"contourcarpet\":[{\"type\":\"contourcarpet\",\"colorbar\":{\"outlinewidth\":0,\"ticks\":\"\"}}],\"contour\":[{\"type\":\"contour\",\"colorbar\":{\"outlinewidth\":0,\"ticks\":\"\"},\"colorscale\":[[0.0,\"#0d0887\"],[0.1111111111111111,\"#46039f\"],[0.2222222222222222,\"#7201a8\"],[0.3333333333333333,\"#9c179e\"],[0.4444444444444444,\"#bd3786\"],[0.5555555555555556,\"#d8576b\"],[0.6666666666666666,\"#ed7953\"],[0.7777777777777778,\"#fb9f3a\"],[0.8888888888888888,\"#fdca26\"],[1.0,\"#f0f921\"]]}],\"surface\":[{\"type\":\"surface\",\"colorbar\":{\"outlinewidth\":0,\"ticks\":\"\"},\"colorscale\":[[0.0,\"#0d0887\"],[0.1111111111111111,\"#46039f\"],[0.2222222222222222,\"#7201a8\"],[0.3333333333333333,\"#9c179e\"],[0.4444444444444444,\"#bd3786\"],[0.5555555555555556,\"#d8576b\"],[0.6666666666666666,\"#ed7953\"],[0.7777777777777778,\"#fb9f3a\"],[0.8888888888888888,\"#fdca26\"],[1.0,\"#f0f921\"]]}],\"mesh3d\":[{\"type\":\"mesh3d\",\"colorbar\":{\"outlinewidth\":0,\"ticks\":\"\"}}],\"scatter\":[{\"fillpattern\":{\"fillmode\":\"overlay\",\"size\":10,\"solidity\":0.2},\"type\":\"scatter\"}],\"parcoords\":[{\"type\":\"parcoords\",\"line\":{\"colorbar\":{\"outlinewidth\":0,\"ticks\":\"\"}}}],\"scatterpolargl\":[{\"type\":\"scatterpolargl\",\"marker\":{\"colorbar\":{\"outlinewidth\":0,\"ticks\":\"\"}}}],\"bar\":[{\"error_x\":{\"color\":\"#2a3f5f\"},\"error_y\":{\"color\":\"#2a3f5f\"},\"marker\":{\"line\":{\"color\":\"#E5ECF6\",\"width\":0.5},\"pattern\":{\"fillmode\":\"overlay\",\"size\":10,\"solidity\":0.2}},\"type\":\"bar\"}],\"scattergeo\":[{\"type\":\"scattergeo\",\"marker\":{\"colorbar\":{\"outlinewidth\":0,\"ticks\":\"\"}}}],\"scatterpolar\":[{\"type\":\"scatterpolar\",\"marker\":{\"colorbar\":{\"outlinewidth\":0,\"ticks\":\"\"}}}],\"histogram\":[{\"marker\":{\"pattern\":{\"fillmode\":\"overlay\",\"size\":10,\"solidity\":0.2}},\"type\":\"histogram\"}],\"scattergl\":[{\"type\":\"scattergl\",\"marker\":{\"colorbar\":{\"outlinewidth\":0,\"ticks\":\"\"}}}],\"scatter3d\":[{\"type\":\"scatter3d\",\"line\":{\"colorbar\":{\"outlinewidth\":0,\"ticks\":\"\"}},\"marker\":{\"colorbar\":{\"outlinewidth\":0,\"ticks\":\"\"}}}],\"scattermapbox\":[{\"type\":\"scattermapbox\",\"marker\":{\"colorbar\":{\"outlinewidth\":0,\"ticks\":\"\"}}}],\"scatterternary\":[{\"type\":\"scatterternary\",\"marker\":{\"colorbar\":{\"outlinewidth\":0,\"ticks\":\"\"}}}],\"scattercarpet\":[{\"type\":\"scattercarpet\",\"marker\":{\"colorbar\":{\"outlinewidth\":0,\"ticks\":\"\"}}}],\"carpet\":[{\"aaxis\":{\"endlinecolor\":\"#2a3f5f\",\"gridcolor\":\"white\",\"linecolor\":\"white\",\"minorgridcolor\":\"white\",\"startlinecolor\":\"#2a3f5f\"},\"baxis\":{\"endlinecolor\":\"#2a3f5f\",\"gridcolor\":\"white\",\"linecolor\":\"white\",\"minorgridcolor\":\"white\",\"startlinecolor\":\"#2a3f5f\"},\"type\":\"carpet\"}],\"table\":[{\"cells\":{\"fill\":{\"color\":\"#EBF0F8\"},\"line\":{\"color\":\"white\"}},\"header\":{\"fill\":{\"color\":\"#C8D4E3\"},\"line\":{\"color\":\"white\"}},\"type\":\"table\"}],\"barpolar\":[{\"marker\":{\"line\":{\"color\":\"#E5ECF6\",\"width\":0.5},\"pattern\":{\"fillmode\":\"overlay\",\"size\":10,\"solidity\":0.2}},\"type\":\"barpolar\"}],\"pie\":[{\"automargin\":true,\"type\":\"pie\"}]},\"layout\":{\"autotypenumbers\":\"strict\",\"colorway\":[\"#636efa\",\"#EF553B\",\"#00cc96\",\"#ab63fa\",\"#FFA15A\",\"#19d3f3\",\"#FF6692\",\"#B6E880\",\"#FF97FF\",\"#FECB52\"],\"font\":{\"color\":\"#2a3f5f\"},\"hovermode\":\"closest\",\"hoverlabel\":{\"align\":\"left\"},\"paper_bgcolor\":\"white\",\"plot_bgcolor\":\"#E5ECF6\",\"polar\":{\"bgcolor\":\"#E5ECF6\",\"angularaxis\":{\"gridcolor\":\"white\",\"linecolor\":\"white\",\"ticks\":\"\"},\"radialaxis\":{\"gridcolor\":\"white\",\"linecolor\":\"white\",\"ticks\":\"\"}},\"ternary\":{\"bgcolor\":\"#E5ECF6\",\"aaxis\":{\"gridcolor\":\"white\",\"linecolor\":\"white\",\"ticks\":\"\"},\"baxis\":{\"gridcolor\":\"white\",\"linecolor\":\"white\",\"ticks\":\"\"},\"caxis\":{\"gridcolor\":\"white\",\"linecolor\":\"white\",\"ticks\":\"\"}},\"coloraxis\":{\"colorbar\":{\"outlinewidth\":0,\"ticks\":\"\"}},\"colorscale\":{\"sequential\":[[0.0,\"#0d0887\"],[0.1111111111111111,\"#46039f\"],[0.2222222222222222,\"#7201a8\"],[0.3333333333333333,\"#9c179e\"],[0.4444444444444444,\"#bd3786\"],[0.5555555555555556,\"#d8576b\"],[0.6666666666666666,\"#ed7953\"],[0.7777777777777778,\"#fb9f3a\"],[0.8888888888888888,\"#fdca26\"],[1.0,\"#f0f921\"]],\"sequentialminus\":[[0.0,\"#0d0887\"],[0.1111111111111111,\"#46039f\"],[0.2222222222222222,\"#7201a8\"],[0.3333333333333333,\"#9c179e\"],[0.4444444444444444,\"#bd3786\"],[0.5555555555555556,\"#d8576b\"],[0.6666666666666666,\"#ed7953\"],[0.7777777777777778,\"#fb9f3a\"],[0.8888888888888888,\"#fdca26\"],[1.0,\"#f0f921\"]],\"diverging\":[[0,\"#8e0152\"],[0.1,\"#c51b7d\"],[0.2,\"#de77ae\"],[0.3,\"#f1b6da\"],[0.4,\"#fde0ef\"],[0.5,\"#f7f7f7\"],[0.6,\"#e6f5d0\"],[0.7,\"#b8e186\"],[0.8,\"#7fbc41\"],[0.9,\"#4d9221\"],[1,\"#276419\"]]},\"xaxis\":{\"gridcolor\":\"white\",\"linecolor\":\"white\",\"ticks\":\"\",\"title\":{\"standoff\":15},\"zerolinecolor\":\"white\",\"automargin\":true,\"zerolinewidth\":2},\"yaxis\":{\"gridcolor\":\"white\",\"linecolor\":\"white\",\"ticks\":\"\",\"title\":{\"standoff\":15},\"zerolinecolor\":\"white\",\"automargin\":true,\"zerolinewidth\":2},\"scene\":{\"xaxis\":{\"backgroundcolor\":\"#E5ECF6\",\"gridcolor\":\"white\",\"linecolor\":\"white\",\"showbackground\":true,\"ticks\":\"\",\"zerolinecolor\":\"white\",\"gridwidth\":2},\"yaxis\":{\"backgroundcolor\":\"#E5ECF6\",\"gridcolor\":\"white\",\"linecolor\":\"white\",\"showbackground\":true,\"ticks\":\"\",\"zerolinecolor\":\"white\",\"gridwidth\":2},\"zaxis\":{\"backgroundcolor\":\"#E5ECF6\",\"gridcolor\":\"white\",\"linecolor\":\"white\",\"showbackground\":true,\"ticks\":\"\",\"zerolinecolor\":\"white\",\"gridwidth\":2}},\"shapedefaults\":{\"line\":{\"color\":\"#2a3f5f\"}},\"annotationdefaults\":{\"arrowcolor\":\"#2a3f5f\",\"arrowhead\":0,\"arrowwidth\":1},\"geo\":{\"bgcolor\":\"white\",\"landcolor\":\"#E5ECF6\",\"subunitcolor\":\"white\",\"showland\":true,\"showlakes\":true,\"lakecolor\":\"white\"},\"title\":{\"x\":0.05},\"mapbox\":{\"style\":\"light\"}}},\"coloraxis\":{\"colorbar\":{\"title\":{\"text\":\"RMSE\"}},\"colorscale\":[[0.0,\"rgb(0, 147, 146)\"],[0.16666666666666666,\"rgb(114, 170, 161)\"],[0.3333333333333333,\"rgb(177, 199, 179)\"],[0.5,\"rgb(241, 234, 200)\"],[0.6666666666666666,\"rgb(229, 185, 173)\"],[0.8333333333333334,\"rgb(217, 137, 148)\"],[1.0,\"rgb(208, 88, 126)\"]]},\"legend\":{\"tracegroupgap\":0},\"margin\":{\"t\":60}},                        {\"responsive\": true}                    ).then(function(){\n",
       "                            \n",
       "var gd = document.getElementById('93c3b43a-314d-4afa-ae94-9a2a4c8d5eeb');\n",
       "var x = new MutationObserver(function (mutations, observer) {{\n",
       "        var display = window.getComputedStyle(gd).display;\n",
       "        if (!display || display === 'none') {{\n",
       "            console.log([gd, 'removed!']);\n",
       "            Plotly.purge(gd);\n",
       "            observer.disconnect();\n",
       "        }}\n",
       "}});\n",
       "\n",
       "// Listen for the removal of the full notebook cells\n",
       "var notebookContainer = gd.closest('#notebook-container');\n",
       "if (notebookContainer) {{\n",
       "    x.observe(notebookContainer, {childList: true});\n",
       "}}\n",
       "\n",
       "// Listen for the clearing of the current output cell\n",
       "var outputEl = gd.closest('.output');\n",
       "if (outputEl) {{\n",
       "    x.observe(outputEl, {childList: true});\n",
       "}}\n",
       "\n",
       "                        })                };                });            </script>        </div>"
      ]
     },
     "metadata": {},
     "output_type": "display_data"
    }
   ],
   "source": [
    "# had to 'pip install \"notebook>=5.3\" \"ipywidgets>=7.2\"' for this to show up.\n",
    "fit_plot = cvrse_df[['test_rmse', 'train_rmse', 'bootstrap', 'max_features', 'n_estimators', 'min_samples_split']].copy()\n",
    "fit_plot['bootstrap'] = [1 if i else 0 for i in fit_plot['bootstrap']]\n",
    "fit_plot['max_features'] = [317 if i == 'auto' else i for i in fit_plot['max_features']]\n",
    "fig = px.parallel_coordinates(fit_plot, color = 'test_rmse', \n",
    "                              labels = {'test_rmse': 'RMSE', \n",
    "                                        'train_rmse': 'Train RMSE', \n",
    "                                        'bootstrap': 'Bootstrap', \n",
    "                                        'max_features': 'Max Features', \n",
    "                                        'n_estimators': 'Estimators',\n",
    "                                        'min_samples_split': 'Minimum Split'}, \n",
    "                              color_continuous_scale = px.colors.diverging.Tealrose)\n",
    "fig.show()"
   ]
  },
  {
   "cell_type": "markdown",
   "id": "8688587d-7437-4e03-affd-bd258e9b1273",
   "metadata": {},
   "source": [
    "Observations: \n",
    "- Bootstrapping seems to reduce overfitting by a bit (higher Train RMSE, and closer to Test RMSE) \n",
    "- Lower RMSE with ~ 100 maximum features \n",
    "- Lower RMSE with higher number of estimators \n",
    "- Minimum split doesn't really matter"
   ]
  },
  {
   "cell_type": "code",
   "execution_count": 43,
   "id": "b659a717-9b78-404f-81c6-147614334673",
   "metadata": {},
   "outputs": [],
   "source": [
    "# Apply best estimator on test set\n",
    "\n",
    "model_hp = grid_search.best_estimator_\n",
    "predictions = model_hp.predict(test)\n",
    "\n",
    "# function to put predicted data in submission format \n",
    "def submission_format(predictions, test_orig):\n",
    "    \"\"\"\n",
    "    predictions: output of predict() from running model \n",
    "    test_orig: original test data to get ID \n",
    "    \n",
    "    returns: predictions with ID and applied exponential to undo log transform\n",
    "    \"\"\"\n",
    "    # create data frame with id\n",
    "    predictions_df = pd.DataFrame({'Id': test_orig['Id'], \n",
    "                               'SalePrice': predictions.tolist()})\n",
    "    # log transform back the sale price\n",
    "    predictions_df['SalePrice'] = 10**predictions_df['SalePrice']\n",
    "    \n",
    "    return predictions_df\n",
    "\n",
    "predictions_df = submission_format(predictions, test_orig)\n",
    "predictions_df.head()\n",
    "\n",
    "predictions_df.to_csv('results/prediction_rf_hp.csv', index = False)"
   ]
  },
  {
   "cell_type": "code",
   "execution_count": 47,
   "id": "c4c91249-a4a1-4fcd-b6c5-7a18dcc7a29b",
   "metadata": {},
   "outputs": [
    {
     "data": {
      "text/plain": [
       "['Results/models/rf_hp_tuned_1.sav']"
      ]
     },
     "execution_count": 47,
     "metadata": {},
     "output_type": "execute_result"
    }
   ],
   "source": [
    "#save model \n",
    "joblib.dump(model_hp, 'Results/models/rf_hp_tuned_1.sav')"
   ]
  },
  {
   "cell_type": "markdown",
   "id": "53c1da88-7f76-4c88-ba4e-3270b0522083",
   "metadata": {},
   "source": [
    "On Kaggle, this receives a score of 0.13819. From the difference between this score and expected RMSE (0.06), we need to address overfitting. \n",
    "\n",
    "Using a simple decision tree had recieved a score of 0.20352 prior. "
   ]
  }
 ],
 "metadata": {
  "kernelspec": {
   "display_name": "venv",
   "language": "python",
   "name": "venv"
  },
  "language_info": {
   "codemirror_mode": {
    "name": "ipython",
    "version": 3
   },
   "file_extension": ".py",
   "mimetype": "text/x-python",
   "name": "python",
   "nbconvert_exporter": "python",
   "pygments_lexer": "ipython3",
   "version": "3.9.1"
  }
 },
 "nbformat": 4,
 "nbformat_minor": 5
}
