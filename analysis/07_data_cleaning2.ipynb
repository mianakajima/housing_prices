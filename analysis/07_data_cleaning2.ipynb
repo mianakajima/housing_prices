{
 "cells": [
  {
   "cell_type": "markdown",
   "id": "984d3b46-9ef1-4050-beb6-1c58c255ad77",
   "metadata": {},
   "source": [
    "# 07_data_cleaning: Clean Data/Prep for ML combining 02 and 05 notebooks\n",
    "Date: 2022-06-08"
   ]
  },
  {
   "cell_type": "markdown",
   "id": "9653c779-3159-4bdd-a7a9-f215672323c3",
   "metadata": {},
   "source": [
    "## Load Packages and Data"
   ]
  },
  {
   "cell_type": "code",
   "execution_count": 3,
   "id": "e7fe1533-82f2-467e-9edb-7ecdaa2e064a",
   "metadata": {},
   "outputs": [],
   "source": [
    "import os\n",
    "import numpy as np\n",
    "#os.chdir('..')\n",
    "import pandas as pd\n",
    "from sklearn.base import BaseEstimator, TransformerMixin\n",
    "from sklearn.impute import SimpleImputer\n",
    "from sklearn.preprocessing import OrdinalEncoder, MinMaxScaler, OneHotEncoder\n",
    "from sklearn.pipeline import Pipeline\n",
    "from sklearn.compose import ColumnTransformer"
   ]
  },
  {
   "cell_type": "code",
   "execution_count": 4,
   "id": "84d420c2-4505-41a6-a539-43d458c2c674",
   "metadata": {},
   "outputs": [],
   "source": [
    "#read in dataset\n",
    "data = pd.read_csv('data/train.csv')\n",
    "#separate predictors from target values \n",
    "training = data.drop('SalePrice', axis = 1) \n",
    "prices = data['SalePrice'].copy()"
   ]
  },
  {
   "cell_type": "markdown",
   "id": "64dfd252-66c3-4383-80d6-0c03f5f5e625",
   "metadata": {},
   "source": [
    "## Develop Cleaning Plan "
   ]
  },
  {
   "cell_type": "code",
   "execution_count": 5,
   "id": "2c49c7b4-f086-4b65-809c-2e85d493790c",
   "metadata": {},
   "outputs": [
    {
     "data": {
      "text/plain": [
       "LotFrontage     0.177397\n",
       "Alley           0.937671\n",
       "FireplaceQu     0.472603\n",
       "GarageType      0.055479\n",
       "GarageYrBlt     0.055479\n",
       "GarageFinish    0.055479\n",
       "GarageQual      0.055479\n",
       "GarageCond      0.055479\n",
       "PoolQC          0.995205\n",
       "Fence           0.807534\n",
       "MiscFeature     0.963014\n",
       "dtype: float64"
      ]
     },
     "execution_count": 5,
     "metadata": {},
     "output_type": "execute_result"
    }
   ],
   "source": [
    "# see percentage of missing values \n",
    "percent_null = training.isnull().mean()\n",
    "\n",
    "# see columns with more than 5% missing \n",
    "percent_null[percent_null > 0.05]"
   ]
  },
  {
   "cell_type": "markdown",
   "id": "88bc6727-285e-4946-bbcf-6f06ba6670b0",
   "metadata": {},
   "source": [
    "**Review how to process these columns:**\n",
    "\n",
    "Working with NA data: \n",
    "- Drop: \n",
    "    - `GarageYrBlt`: This variable is very correlated with `YearBuilt` and it doesn't make sense to impute NA values with anything. \n",
    "- Needs Imputation: \n",
    "    - `LotFrontage` since it seems like this might be correlated with price (but don't want to drop 18% of data) \n",
    "- Based on the data_description.txt file, it looks like many columns will be fixed if we change NA values to a category (not having that characteristic)\n",
    "    - Garage data sets NA when there is no garage, so we will want to treat NA as a flag for no garage. \n",
    "    - Similarly, `FireplaceQu` only applies for homes with a Fireplace. Add a flag for no fireplace. \n",
    "    - `Alley` - change to flag of no alley\n",
    "    - `Pool` - change to flag of No Pool \n",
    "    - `Fence` - change to flag of No Fence\n",
    "    - `MiscFeature` - Only One Hot Encode non-NA since it other categories indicate having features such as elevator, shed, etc. and NA means there are no extra features."
   ]
  },
  {
   "cell_type": "markdown",
   "id": "f0882da5-0538-4a7f-96df-4a6999c1a9db",
   "metadata": {},
   "source": [
    "Columns to One-Hot Encode that are currently numeric:\n",
    "- `MSSubClass`: Numbers refer to differnt types of construction and should be categorical. \n",
    "- `YearRemodAdd`: Change to Binary if there is a remodel or not. (Based on scatter plots from 01 notebook that if there is no remodel, it seems this is just the same age as the construction year). "
   ]
  },
  {
   "cell_type": "markdown",
   "id": "068f0d10-bff0-4225-91df-196e6ba4fcce",
   "metadata": {},
   "source": [
    "## Clean Data \n",
    "\n",
    "Numeric: \n",
    "- Create a custom transformer for the YearRemodAdd \n",
    "- Use `SimpleImputer()` to impute variables like LotFrontage. Use median (better against outliers). \n",
    "- Scale the data using `MinMaxScaler()` \n",
    "\n",
    "Categorical: \n",
    "- Change numeric variables to categorical where applicable (ie., MSSubClass)\n",
    "- Change NAs to a new category of not having the characteristic \n",
    "- One-hot encode the categorical variables (and remove a column if binary)\n",
    "\n",
    "### Numeric "
   ]
  },
  {
   "cell_type": "code",
   "execution_count": 32,
   "id": "4ac4ed5a-b65d-4be8-bc15-9853ce32a627",
   "metadata": {},
   "outputs": [
    {
     "ename": "KeyError",
     "evalue": "\"['Id' 'GarageYrBlt'] not found in axis\"",
     "output_type": "error",
     "traceback": [
      "\u001b[0;31m---------------------------------------------------------------------------\u001b[0m",
      "\u001b[0;31mKeyError\u001b[0m                                  Traceback (most recent call last)",
      "\u001b[0;32m/var/folders/kt/y6jd1htj2bb5l1rlx1p8gd1m0000gp/T/ipykernel_51815/515614847.py\u001b[0m in \u001b[0;36m<module>\u001b[0;34m\u001b[0m\n\u001b[1;32m      1\u001b[0m \u001b[0;31m#drop these columns from training set\u001b[0m\u001b[0;34m\u001b[0m\u001b[0;34m\u001b[0m\u001b[0;34m\u001b[0m\u001b[0m\n\u001b[1;32m      2\u001b[0m \u001b[0mdrop_columns\u001b[0m \u001b[0;34m=\u001b[0m \u001b[0;34m[\u001b[0m\u001b[0;34m'Id'\u001b[0m\u001b[0;34m,\u001b[0m \u001b[0;34m'GarageYrBlt'\u001b[0m\u001b[0;34m]\u001b[0m\u001b[0;34m\u001b[0m\u001b[0;34m\u001b[0m\u001b[0m\n\u001b[0;32m----> 3\u001b[0;31m \u001b[0mtraining\u001b[0m \u001b[0;34m=\u001b[0m \u001b[0mtraining\u001b[0m\u001b[0;34m.\u001b[0m\u001b[0mdrop\u001b[0m\u001b[0;34m(\u001b[0m\u001b[0mdrop_columns\u001b[0m\u001b[0;34m,\u001b[0m \u001b[0maxis\u001b[0m \u001b[0;34m=\u001b[0m \u001b[0;36m1\u001b[0m\u001b[0;34m)\u001b[0m\u001b[0;34m\u001b[0m\u001b[0;34m\u001b[0m\u001b[0m\n\u001b[0m",
      "\u001b[0;32m~/.pyenv/versions/3.9.1/lib/python3.9/site-packages/pandas/util/_decorators.py\u001b[0m in \u001b[0;36mwrapper\u001b[0;34m(*args, **kwargs)\u001b[0m\n\u001b[1;32m    309\u001b[0m                     \u001b[0mstacklevel\u001b[0m\u001b[0;34m=\u001b[0m\u001b[0mstacklevel\u001b[0m\u001b[0;34m,\u001b[0m\u001b[0;34m\u001b[0m\u001b[0;34m\u001b[0m\u001b[0m\n\u001b[1;32m    310\u001b[0m                 )\n\u001b[0;32m--> 311\u001b[0;31m             \u001b[0;32mreturn\u001b[0m \u001b[0mfunc\u001b[0m\u001b[0;34m(\u001b[0m\u001b[0;34m*\u001b[0m\u001b[0margs\u001b[0m\u001b[0;34m,\u001b[0m \u001b[0;34m**\u001b[0m\u001b[0mkwargs\u001b[0m\u001b[0;34m)\u001b[0m\u001b[0;34m\u001b[0m\u001b[0;34m\u001b[0m\u001b[0m\n\u001b[0m\u001b[1;32m    312\u001b[0m \u001b[0;34m\u001b[0m\u001b[0m\n\u001b[1;32m    313\u001b[0m         \u001b[0;32mreturn\u001b[0m \u001b[0mwrapper\u001b[0m\u001b[0;34m\u001b[0m\u001b[0;34m\u001b[0m\u001b[0m\n",
      "\u001b[0;32m~/.pyenv/versions/3.9.1/lib/python3.9/site-packages/pandas/core/frame.py\u001b[0m in \u001b[0;36mdrop\u001b[0;34m(self, labels, axis, index, columns, level, inplace, errors)\u001b[0m\n\u001b[1;32m   4899\u001b[0m                 \u001b[0mweight\u001b[0m  \u001b[0;36m1.0\u001b[0m     \u001b[0;36m0.8\u001b[0m\u001b[0;34m\u001b[0m\u001b[0;34m\u001b[0m\u001b[0m\n\u001b[1;32m   4900\u001b[0m         \"\"\"\n\u001b[0;32m-> 4901\u001b[0;31m         return super().drop(\n\u001b[0m\u001b[1;32m   4902\u001b[0m             \u001b[0mlabels\u001b[0m\u001b[0;34m=\u001b[0m\u001b[0mlabels\u001b[0m\u001b[0;34m,\u001b[0m\u001b[0;34m\u001b[0m\u001b[0;34m\u001b[0m\u001b[0m\n\u001b[1;32m   4903\u001b[0m             \u001b[0maxis\u001b[0m\u001b[0;34m=\u001b[0m\u001b[0maxis\u001b[0m\u001b[0;34m,\u001b[0m\u001b[0;34m\u001b[0m\u001b[0;34m\u001b[0m\u001b[0m\n",
      "\u001b[0;32m~/.pyenv/versions/3.9.1/lib/python3.9/site-packages/pandas/core/generic.py\u001b[0m in \u001b[0;36mdrop\u001b[0;34m(self, labels, axis, index, columns, level, inplace, errors)\u001b[0m\n\u001b[1;32m   4148\u001b[0m         \u001b[0;32mfor\u001b[0m \u001b[0maxis\u001b[0m\u001b[0;34m,\u001b[0m \u001b[0mlabels\u001b[0m \u001b[0;32min\u001b[0m \u001b[0maxes\u001b[0m\u001b[0;34m.\u001b[0m\u001b[0mitems\u001b[0m\u001b[0;34m(\u001b[0m\u001b[0;34m)\u001b[0m\u001b[0;34m:\u001b[0m\u001b[0;34m\u001b[0m\u001b[0;34m\u001b[0m\u001b[0m\n\u001b[1;32m   4149\u001b[0m             \u001b[0;32mif\u001b[0m \u001b[0mlabels\u001b[0m \u001b[0;32mis\u001b[0m \u001b[0;32mnot\u001b[0m \u001b[0;32mNone\u001b[0m\u001b[0;34m:\u001b[0m\u001b[0;34m\u001b[0m\u001b[0;34m\u001b[0m\u001b[0m\n\u001b[0;32m-> 4150\u001b[0;31m                 \u001b[0mobj\u001b[0m \u001b[0;34m=\u001b[0m \u001b[0mobj\u001b[0m\u001b[0;34m.\u001b[0m\u001b[0m_drop_axis\u001b[0m\u001b[0;34m(\u001b[0m\u001b[0mlabels\u001b[0m\u001b[0;34m,\u001b[0m \u001b[0maxis\u001b[0m\u001b[0;34m,\u001b[0m \u001b[0mlevel\u001b[0m\u001b[0;34m=\u001b[0m\u001b[0mlevel\u001b[0m\u001b[0;34m,\u001b[0m \u001b[0merrors\u001b[0m\u001b[0;34m=\u001b[0m\u001b[0merrors\u001b[0m\u001b[0;34m)\u001b[0m\u001b[0;34m\u001b[0m\u001b[0;34m\u001b[0m\u001b[0m\n\u001b[0m\u001b[1;32m   4151\u001b[0m \u001b[0;34m\u001b[0m\u001b[0m\n\u001b[1;32m   4152\u001b[0m         \u001b[0;32mif\u001b[0m \u001b[0minplace\u001b[0m\u001b[0;34m:\u001b[0m\u001b[0;34m\u001b[0m\u001b[0;34m\u001b[0m\u001b[0m\n",
      "\u001b[0;32m~/.pyenv/versions/3.9.1/lib/python3.9/site-packages/pandas/core/generic.py\u001b[0m in \u001b[0;36m_drop_axis\u001b[0;34m(self, labels, axis, level, errors)\u001b[0m\n\u001b[1;32m   4183\u001b[0m                 \u001b[0mnew_axis\u001b[0m \u001b[0;34m=\u001b[0m \u001b[0maxis\u001b[0m\u001b[0;34m.\u001b[0m\u001b[0mdrop\u001b[0m\u001b[0;34m(\u001b[0m\u001b[0mlabels\u001b[0m\u001b[0;34m,\u001b[0m \u001b[0mlevel\u001b[0m\u001b[0;34m=\u001b[0m\u001b[0mlevel\u001b[0m\u001b[0;34m,\u001b[0m \u001b[0merrors\u001b[0m\u001b[0;34m=\u001b[0m\u001b[0merrors\u001b[0m\u001b[0;34m)\u001b[0m\u001b[0;34m\u001b[0m\u001b[0;34m\u001b[0m\u001b[0m\n\u001b[1;32m   4184\u001b[0m             \u001b[0;32melse\u001b[0m\u001b[0;34m:\u001b[0m\u001b[0;34m\u001b[0m\u001b[0;34m\u001b[0m\u001b[0m\n\u001b[0;32m-> 4185\u001b[0;31m                 \u001b[0mnew_axis\u001b[0m \u001b[0;34m=\u001b[0m \u001b[0maxis\u001b[0m\u001b[0;34m.\u001b[0m\u001b[0mdrop\u001b[0m\u001b[0;34m(\u001b[0m\u001b[0mlabels\u001b[0m\u001b[0;34m,\u001b[0m \u001b[0merrors\u001b[0m\u001b[0;34m=\u001b[0m\u001b[0merrors\u001b[0m\u001b[0;34m)\u001b[0m\u001b[0;34m\u001b[0m\u001b[0;34m\u001b[0m\u001b[0m\n\u001b[0m\u001b[1;32m   4186\u001b[0m             \u001b[0mresult\u001b[0m \u001b[0;34m=\u001b[0m \u001b[0mself\u001b[0m\u001b[0;34m.\u001b[0m\u001b[0mreindex\u001b[0m\u001b[0;34m(\u001b[0m\u001b[0;34m**\u001b[0m\u001b[0;34m{\u001b[0m\u001b[0maxis_name\u001b[0m\u001b[0;34m:\u001b[0m \u001b[0mnew_axis\u001b[0m\u001b[0;34m}\u001b[0m\u001b[0;34m)\u001b[0m\u001b[0;34m\u001b[0m\u001b[0;34m\u001b[0m\u001b[0m\n\u001b[1;32m   4187\u001b[0m \u001b[0;34m\u001b[0m\u001b[0m\n",
      "\u001b[0;32m~/.pyenv/versions/3.9.1/lib/python3.9/site-packages/pandas/core/indexes/base.py\u001b[0m in \u001b[0;36mdrop\u001b[0;34m(self, labels, errors)\u001b[0m\n\u001b[1;32m   6016\u001b[0m         \u001b[0;32mif\u001b[0m \u001b[0mmask\u001b[0m\u001b[0;34m.\u001b[0m\u001b[0many\u001b[0m\u001b[0;34m(\u001b[0m\u001b[0;34m)\u001b[0m\u001b[0;34m:\u001b[0m\u001b[0;34m\u001b[0m\u001b[0;34m\u001b[0m\u001b[0m\n\u001b[1;32m   6017\u001b[0m             \u001b[0;32mif\u001b[0m \u001b[0merrors\u001b[0m \u001b[0;34m!=\u001b[0m \u001b[0;34m\"ignore\"\u001b[0m\u001b[0;34m:\u001b[0m\u001b[0;34m\u001b[0m\u001b[0;34m\u001b[0m\u001b[0m\n\u001b[0;32m-> 6018\u001b[0;31m                 \u001b[0;32mraise\u001b[0m \u001b[0mKeyError\u001b[0m\u001b[0;34m(\u001b[0m\u001b[0;34mf\"{labels[mask]} not found in axis\"\u001b[0m\u001b[0;34m)\u001b[0m\u001b[0;34m\u001b[0m\u001b[0;34m\u001b[0m\u001b[0m\n\u001b[0m\u001b[1;32m   6019\u001b[0m             \u001b[0mindexer\u001b[0m \u001b[0;34m=\u001b[0m \u001b[0mindexer\u001b[0m\u001b[0;34m[\u001b[0m\u001b[0;34m~\u001b[0m\u001b[0mmask\u001b[0m\u001b[0;34m]\u001b[0m\u001b[0;34m\u001b[0m\u001b[0;34m\u001b[0m\u001b[0m\n\u001b[1;32m   6020\u001b[0m         \u001b[0;32mreturn\u001b[0m \u001b[0mself\u001b[0m\u001b[0;34m.\u001b[0m\u001b[0mdelete\u001b[0m\u001b[0;34m(\u001b[0m\u001b[0mindexer\u001b[0m\u001b[0;34m)\u001b[0m\u001b[0;34m\u001b[0m\u001b[0;34m\u001b[0m\u001b[0m\n",
      "\u001b[0;31mKeyError\u001b[0m: \"['Id' 'GarageYrBlt'] not found in axis\""
     ]
    }
   ],
   "source": [
    "#drop these columns from training set \n",
    "drop_columns = ['Id', 'GarageYrBlt'] \n",
    "training = training.drop(drop_columns, axis = 1)"
   ]
  },
  {
   "cell_type": "code",
   "execution_count": 38,
   "id": "6cd47344-f75a-43ca-9913-edb0b6a4ae8b",
   "metadata": {},
   "outputs": [
    {
     "data": {
      "text/html": [
       "<div>\n",
       "<style scoped>\n",
       "    .dataframe tbody tr th:only-of-type {\n",
       "        vertical-align: middle;\n",
       "    }\n",
       "\n",
       "    .dataframe tbody tr th {\n",
       "        vertical-align: top;\n",
       "    }\n",
       "\n",
       "    .dataframe thead th {\n",
       "        text-align: right;\n",
       "    }\n",
       "</style>\n",
       "<table border=\"1\" class=\"dataframe\">\n",
       "  <thead>\n",
       "    <tr style=\"text-align: right;\">\n",
       "      <th></th>\n",
       "      <th>LotFrontage</th>\n",
       "      <th>LotArea</th>\n",
       "      <th>OverallQual</th>\n",
       "      <th>OverallCond</th>\n",
       "      <th>YearBuilt</th>\n",
       "      <th>YearRemodAdd</th>\n",
       "      <th>MasVnrArea</th>\n",
       "      <th>BsmtFinSF1</th>\n",
       "      <th>BsmtFinSF2</th>\n",
       "      <th>BsmtUnfSF</th>\n",
       "      <th>...</th>\n",
       "      <th>GarageArea</th>\n",
       "      <th>WoodDeckSF</th>\n",
       "      <th>OpenPorchSF</th>\n",
       "      <th>EnclosedPorch</th>\n",
       "      <th>3SsnPorch</th>\n",
       "      <th>ScreenPorch</th>\n",
       "      <th>PoolArea</th>\n",
       "      <th>MiscVal</th>\n",
       "      <th>MoSold</th>\n",
       "      <th>YrSold</th>\n",
       "    </tr>\n",
       "  </thead>\n",
       "  <tbody>\n",
       "    <tr>\n",
       "      <th>0</th>\n",
       "      <td>65.0</td>\n",
       "      <td>8450</td>\n",
       "      <td>7</td>\n",
       "      <td>5</td>\n",
       "      <td>2003</td>\n",
       "      <td>2003</td>\n",
       "      <td>196.0</td>\n",
       "      <td>706</td>\n",
       "      <td>0</td>\n",
       "      <td>150</td>\n",
       "      <td>...</td>\n",
       "      <td>548</td>\n",
       "      <td>0</td>\n",
       "      <td>61</td>\n",
       "      <td>0</td>\n",
       "      <td>0</td>\n",
       "      <td>0</td>\n",
       "      <td>0</td>\n",
       "      <td>0</td>\n",
       "      <td>2</td>\n",
       "      <td>2008</td>\n",
       "    </tr>\n",
       "    <tr>\n",
       "      <th>1</th>\n",
       "      <td>80.0</td>\n",
       "      <td>9600</td>\n",
       "      <td>6</td>\n",
       "      <td>8</td>\n",
       "      <td>1976</td>\n",
       "      <td>1976</td>\n",
       "      <td>0.0</td>\n",
       "      <td>978</td>\n",
       "      <td>0</td>\n",
       "      <td>284</td>\n",
       "      <td>...</td>\n",
       "      <td>460</td>\n",
       "      <td>298</td>\n",
       "      <td>0</td>\n",
       "      <td>0</td>\n",
       "      <td>0</td>\n",
       "      <td>0</td>\n",
       "      <td>0</td>\n",
       "      <td>0</td>\n",
       "      <td>5</td>\n",
       "      <td>2007</td>\n",
       "    </tr>\n",
       "    <tr>\n",
       "      <th>2</th>\n",
       "      <td>68.0</td>\n",
       "      <td>11250</td>\n",
       "      <td>7</td>\n",
       "      <td>5</td>\n",
       "      <td>2001</td>\n",
       "      <td>2002</td>\n",
       "      <td>162.0</td>\n",
       "      <td>486</td>\n",
       "      <td>0</td>\n",
       "      <td>434</td>\n",
       "      <td>...</td>\n",
       "      <td>608</td>\n",
       "      <td>0</td>\n",
       "      <td>42</td>\n",
       "      <td>0</td>\n",
       "      <td>0</td>\n",
       "      <td>0</td>\n",
       "      <td>0</td>\n",
       "      <td>0</td>\n",
       "      <td>9</td>\n",
       "      <td>2008</td>\n",
       "    </tr>\n",
       "    <tr>\n",
       "      <th>3</th>\n",
       "      <td>60.0</td>\n",
       "      <td>9550</td>\n",
       "      <td>7</td>\n",
       "      <td>5</td>\n",
       "      <td>1915</td>\n",
       "      <td>1970</td>\n",
       "      <td>0.0</td>\n",
       "      <td>216</td>\n",
       "      <td>0</td>\n",
       "      <td>540</td>\n",
       "      <td>...</td>\n",
       "      <td>642</td>\n",
       "      <td>0</td>\n",
       "      <td>35</td>\n",
       "      <td>272</td>\n",
       "      <td>0</td>\n",
       "      <td>0</td>\n",
       "      <td>0</td>\n",
       "      <td>0</td>\n",
       "      <td>2</td>\n",
       "      <td>2006</td>\n",
       "    </tr>\n",
       "    <tr>\n",
       "      <th>4</th>\n",
       "      <td>84.0</td>\n",
       "      <td>14260</td>\n",
       "      <td>8</td>\n",
       "      <td>5</td>\n",
       "      <td>2000</td>\n",
       "      <td>2000</td>\n",
       "      <td>350.0</td>\n",
       "      <td>655</td>\n",
       "      <td>0</td>\n",
       "      <td>490</td>\n",
       "      <td>...</td>\n",
       "      <td>836</td>\n",
       "      <td>192</td>\n",
       "      <td>84</td>\n",
       "      <td>0</td>\n",
       "      <td>0</td>\n",
       "      <td>0</td>\n",
       "      <td>0</td>\n",
       "      <td>0</td>\n",
       "      <td>12</td>\n",
       "      <td>2008</td>\n",
       "    </tr>\n",
       "  </tbody>\n",
       "</table>\n",
       "<p>5 rows × 34 columns</p>\n",
       "</div>"
      ],
      "text/plain": [
       "   LotFrontage  LotArea  OverallQual  OverallCond  YearBuilt  YearRemodAdd  \\\n",
       "0         65.0     8450            7            5       2003          2003   \n",
       "1         80.0     9600            6            8       1976          1976   \n",
       "2         68.0    11250            7            5       2001          2002   \n",
       "3         60.0     9550            7            5       1915          1970   \n",
       "4         84.0    14260            8            5       2000          2000   \n",
       "\n",
       "   MasVnrArea  BsmtFinSF1  BsmtFinSF2  BsmtUnfSF  ...  GarageArea  WoodDeckSF  \\\n",
       "0       196.0         706           0        150  ...         548           0   \n",
       "1         0.0         978           0        284  ...         460         298   \n",
       "2       162.0         486           0        434  ...         608           0   \n",
       "3         0.0         216           0        540  ...         642           0   \n",
       "4       350.0         655           0        490  ...         836         192   \n",
       "\n",
       "   OpenPorchSF  EnclosedPorch  3SsnPorch  ScreenPorch  PoolArea  MiscVal  \\\n",
       "0           61              0          0            0         0        0   \n",
       "1            0              0          0            0         0        0   \n",
       "2           42              0          0            0         0        0   \n",
       "3           35            272          0            0         0        0   \n",
       "4           84              0          0            0         0        0   \n",
       "\n",
       "   MoSold  YrSold  \n",
       "0       2    2008  \n",
       "1       5    2007  \n",
       "2       9    2008  \n",
       "3       2    2006  \n",
       "4      12    2008  \n",
       "\n",
       "[5 rows x 34 columns]"
      ]
     },
     "execution_count": 38,
     "metadata": {},
     "output_type": "execute_result"
    }
   ],
   "source": [
    "# get only numeric variables (and omit the MSSubClass variable since we'll make it categorical and Id since it's irrelevant)\n",
    "train_num = training.select_dtypes(include = 'number').drop(['MSSubClass'], axis = 1)\n",
    "train_num.head()"
   ]
  },
  {
   "cell_type": "code",
   "execution_count": 39,
   "id": "dcbafdcd-b945-4862-bfc9-d76bbfa3394c",
   "metadata": {},
   "outputs": [],
   "source": [
    "# create transformer to get if there is a remodel or not \n",
    "class CleanRemodels(BaseEstimator, TransformerMixin):\n",
    "    \n",
    "    def fit(self, X, y = None): \n",
    "        return self \n",
    "    \n",
    "    def transform(self, X): \n",
    "        \n",
    "        year_built = X['YearBuilt'].tolist()\n",
    "        year_remodel = X['YearRemodAdd'].tolist()\n",
    "        \n",
    "        # If remodel year is after the built year, than the house was remodeled. \n",
    "        remodel = [1 if year_remodel[i] > year_built[i] else 0 for i in range(X.shape[0])]\n",
    "        \n",
    "        #Add the new binary column for whether there was a remodel\n",
    "        X['Remodeled'] = remodel\n",
    "        \n",
    "        return X\n",
    "\n",
    "# get total home area \n",
    "\n",
    "columns_for_area_calc = ['TotalBsmtSF', '1stFlrSF', '2ndFlrSF', 'WoodDeckSF', 'OpenPorchSF']\n",
    "indexes = np.squeeze([np.where(train_num.columns == col_name) for col_name in columns_for_area_calc]).tolist()\n",
    "\n",
    "class add_home_area(BaseEstimator, TransformerMixin): \n",
    "    \"\"\"\n",
    "    Function to add total home area to numeric variables\n",
    "    \"\"\"\n",
    "   \n",
    "    def fit(self, X, y = None): \n",
    "        return self\n",
    "    \n",
    "    def transform(self, X): \n",
    "        total_area = np.sum(X[:, indexes], axis = 1)\n",
    "        \n",
    "        return np.c_[X, total_area]"
   ]
  },
  {
   "cell_type": "code",
   "execution_count": 40,
   "id": "fa8426e9-ec85-40c0-a2fb-39a598aef423",
   "metadata": {},
   "outputs": [],
   "source": [
    "# create Pipeline for numeric variables \n",
    "# Note: since transfomer function returns array instead of dataframe, had to make CleanRemodel() function run first. \n",
    "\n",
    "numeric_pipeline = Pipeline(steps = [\n",
    "    ('postprocess', CleanRemodels()),\n",
    "    ('impute', SimpleImputer(strategy = 'median')),\n",
    "    ('homearea', add_home_area()), \n",
    "    ('scale', MinMaxScaler())\n",
    "])\n"
   ]
  },
  {
   "cell_type": "code",
   "execution_count": 41,
   "id": "54ad8666-aab3-4324-b8d3-87f06e40a606",
   "metadata": {},
   "outputs": [
    {
     "data": {
      "text/plain": [
       "array([[0.15068493, 0.0334198 , 0.66666667, 0.5       , 0.94927536,\n",
       "        0.88333333, 0.1225    , 0.12508859, 0.        , 0.06421233,\n",
       "        0.1400982 , 0.11977972, 0.41355932, 0.        , 0.25923135,\n",
       "        0.33333333, 0.        , 0.66666667, 0.5       , 0.375     ,\n",
       "        0.33333333, 0.5       , 0.        , 0.5       , 0.3864598 ,\n",
       "        0.        , 0.11151737, 0.        , 0.        , 0.        ,\n",
       "        0.        , 0.        , 0.09090909, 0.5       , 0.        ,\n",
       "        0.19230124],\n",
       "       [0.20205479, 0.03879502, 0.55555556, 0.875     , 0.75362319,\n",
       "        0.43333333, 0.        , 0.17328136, 0.        , 0.12157534,\n",
       "        0.20654664, 0.21294172, 0.        , 0.        , 0.17483044,\n",
       "        0.        , 0.5       , 0.66666667, 0.        , 0.375     ,\n",
       "        0.33333333, 0.33333333, 0.33333333, 0.5       , 0.32440056,\n",
       "        0.34772462, 0.        , 0.        , 0.        , 0.        ,\n",
       "        0.        , 0.        , 0.36363636, 0.25      , 0.        ,\n",
       "        0.20865481]])"
      ]
     },
     "execution_count": 41,
     "metadata": {},
     "output_type": "execute_result"
    }
   ],
   "source": [
    "housing_num = numeric_pipeline.fit_transform(train_num.copy())\n",
    "housing_num[:2]"
   ]
  },
  {
   "cell_type": "markdown",
   "id": "9943bdc0-25e8-4736-b91e-6ec7c7450f49",
   "metadata": {},
   "source": [
    "### Categorical"
   ]
  },
  {
   "cell_type": "code",
   "execution_count": 42,
   "id": "438e8bad-c8d3-4458-91d8-08b99b1e13ec",
   "metadata": {},
   "outputs": [],
   "source": [
    "# get all categorical variables \n",
    "num_columns = train_num.columns.to_list()\n",
    "train_cat = training.drop(num_columns, axis = 1)\n",
    "\n",
    "# change MSSubClass to categorical from numeric\n",
    "train_cat['MSSubClass'] = train_cat['MSSubClass'].apply(str) \n",
    "\n",
    "# change NA values to 'None' for each of columns below\n",
    "columns_to_change_null_values = ['GarageType', 'GarageFinish', 'GarageQual', 'GarageCond', \n",
    "                                 'PoolQC', 'Fence', 'MiscFeature', 'Alley', 'FireplaceQu',\n",
    "                                'MasVnrType', 'BsmtQual', 'BsmtCond', 'BsmtExposure', 'BsmtFinType1',\n",
    "                                'BsmtFinType2', 'Electrical']\n",
    "\n",
    "for column in columns_to_change_null_values: \n",
    "    train_cat.loc[train_cat[column].isnull(), column] = 'None'\n"
   ]
  },
  {
   "cell_type": "code",
   "execution_count": 11,
   "id": "65cf7cdf-49cf-446d-851e-1130ad20287e",
   "metadata": {},
   "outputs": [
    {
     "name": "stdout",
     "output_type": "stream",
     "text": [
      "GarageType\n",
      "['Attchd' 'Detchd' 'BuiltIn' 'CarPort' 'None' 'Basment' '2Types']\n",
      "GarageFinish\n",
      "['RFn' 'Unf' 'Fin' 'None']\n",
      "GarageQual\n",
      "['TA' 'Fa' 'Gd' 'None' 'Ex' 'Po']\n",
      "GarageCond\n",
      "['TA' 'Fa' 'None' 'Gd' 'Po' 'Ex']\n",
      "PoolQC\n",
      "['None' 'Ex' 'Fa' 'Gd']\n",
      "Fence\n",
      "['None' 'MnPrv' 'GdWo' 'GdPrv' 'MnWw']\n",
      "MiscFeature\n",
      "['None' 'Shed' 'Gar2' 'Othr' 'TenC']\n",
      "Alley\n",
      "['None' 'Grvl' 'Pave']\n",
      "FireplaceQu\n",
      "['None' 'TA' 'Gd' 'Fa' 'Ex' 'Po']\n",
      "MasVnrType\n",
      "['BrkFace' 'None' 'Stone' 'BrkCmn']\n",
      "BsmtQual\n",
      "['Gd' 'TA' 'Ex' 'None' 'Fa']\n",
      "BsmtCond\n",
      "['TA' 'Gd' 'None' 'Fa' 'Po']\n",
      "BsmtExposure\n",
      "['No' 'Gd' 'Mn' 'Av' 'None']\n",
      "BsmtFinType1\n",
      "['GLQ' 'ALQ' 'Unf' 'Rec' 'BLQ' 'None' 'LwQ']\n",
      "BsmtFinType2\n",
      "['Unf' 'BLQ' 'None' 'ALQ' 'Rec' 'LwQ' 'GLQ']\n",
      "Electrical\n",
      "['SBrkr' 'FuseF' 'FuseA' 'FuseP' 'Mix' 'None']\n"
     ]
    }
   ],
   "source": [
    "# check that NA values are gone \n",
    "for column in columns_to_change_null_values: \n",
    "    print(column)\n",
    "    print(train_cat[column].unique())"
   ]
  },
  {
   "cell_type": "code",
   "execution_count": 12,
   "id": "32c96e5c-1760-4db6-bb5d-6d4b5f203e48",
   "metadata": {},
   "outputs": [
    {
     "data": {
      "text/plain": [
       "True"
      ]
     },
     "execution_count": 12,
     "metadata": {},
     "output_type": "execute_result"
    }
   ],
   "source": [
    "#check that there are now no null values\n",
    "all(train_cat.isnull().mean() == 0)"
   ]
  },
  {
   "cell_type": "code",
   "execution_count": 15,
   "id": "52739a48-d7e5-46f5-9ed3-31040d78f4e1",
   "metadata": {},
   "outputs": [],
   "source": [
    "train_cat.to_csv('cleaned_data/categorical_cleaned.csv', index = False)"
   ]
  },
  {
   "cell_type": "code",
   "execution_count": 71,
   "id": "98aa629a-3818-4585-978f-e9ad17a521ec",
   "metadata": {},
   "outputs": [],
   "source": [
    "# create a transfomer for the categorical variables \n",
    "\n",
    "class clean_categorical(BaseEstimator, TransformerMixin):\n",
    "    \n",
    "    def fit(self, X, y = None): \n",
    "        return self\n",
    "    \n",
    "    def transform(self, X): \n",
    "        \n",
    "        # change MSSubClass to categorical from numeric\n",
    "        if 'MSSubClass' in X.columns:\n",
    "            X['MSSubClass'] = X['MSSubClass'].apply(str) \n",
    "\n",
    "        # change NA values to 'None' for each of columns below\n",
    "        columns_to_change_null_values = ['GarageType', 'GarageFinish', 'GarageQual', 'GarageCond', \n",
    "                                 'PoolQC', 'Fence', 'MiscFeature', 'Alley', 'FireplaceQu',\n",
    "                                'MasVnrType', 'BsmtQual', 'BsmtCond', 'BsmtExposure', 'BsmtFinType1',\n",
    "                                'BsmtFinType2', 'Electrical']\n",
    "\n",
    "        for column in columns_to_change_null_values: \n",
    "            if column in X.columns:\n",
    "                X.loc[X[column].isnull(), column] = 'None'\n",
    "        \n",
    "        return X\n"
   ]
  },
  {
   "cell_type": "markdown",
   "id": "f2e07fef-ca74-49e3-b689-bc04619712e1",
   "metadata": {},
   "source": [
    "#### See how OneHotEncoder works"
   ]
  },
  {
   "cell_type": "code",
   "execution_count": 47,
   "id": "8b31dc5e-7e38-49b9-89ac-cfe92f1e4788",
   "metadata": {},
   "outputs": [],
   "source": [
    "# test OneHotEncoder()\n",
    "enc = OneHotEncoder(handle_unknown = 'ignore')\n",
    "garage_1hot = enc.fit_transform(train_cat[['GarageType']])\n",
    "\n",
    "pd_1hot = pd.DataFrame(garage_1hot.todense())\n",
    "compare_to_original = pd.concat([train_cat[['GarageType']], pd_1hot], axis = 1)"
   ]
  },
  {
   "cell_type": "code",
   "execution_count": 48,
   "id": "117cf5f7-e6e3-41f1-bd87-e7be1cac84a5",
   "metadata": {},
   "outputs": [
    {
     "data": {
      "text/html": [
       "<div>\n",
       "<style scoped>\n",
       "    .dataframe tbody tr th:only-of-type {\n",
       "        vertical-align: middle;\n",
       "    }\n",
       "\n",
       "    .dataframe tbody tr th {\n",
       "        vertical-align: top;\n",
       "    }\n",
       "\n",
       "    .dataframe thead th {\n",
       "        text-align: right;\n",
       "    }\n",
       "</style>\n",
       "<table border=\"1\" class=\"dataframe\">\n",
       "  <thead>\n",
       "    <tr style=\"text-align: right;\">\n",
       "      <th></th>\n",
       "      <th>GarageType</th>\n",
       "      <th>0</th>\n",
       "      <th>1</th>\n",
       "      <th>2</th>\n",
       "      <th>3</th>\n",
       "      <th>4</th>\n",
       "      <th>5</th>\n",
       "      <th>6</th>\n",
       "    </tr>\n",
       "  </thead>\n",
       "  <tbody>\n",
       "    <tr>\n",
       "      <th>0</th>\n",
       "      <td>Attchd</td>\n",
       "      <td>0.0</td>\n",
       "      <td>1.0</td>\n",
       "      <td>0.0</td>\n",
       "      <td>0.0</td>\n",
       "      <td>0.0</td>\n",
       "      <td>0.0</td>\n",
       "      <td>0.0</td>\n",
       "    </tr>\n",
       "    <tr>\n",
       "      <th>3</th>\n",
       "      <td>Detchd</td>\n",
       "      <td>0.0</td>\n",
       "      <td>0.0</td>\n",
       "      <td>0.0</td>\n",
       "      <td>0.0</td>\n",
       "      <td>0.0</td>\n",
       "      <td>1.0</td>\n",
       "      <td>0.0</td>\n",
       "    </tr>\n",
       "    <tr>\n",
       "      <th>11</th>\n",
       "      <td>BuiltIn</td>\n",
       "      <td>0.0</td>\n",
       "      <td>0.0</td>\n",
       "      <td>0.0</td>\n",
       "      <td>1.0</td>\n",
       "      <td>0.0</td>\n",
       "      <td>0.0</td>\n",
       "      <td>0.0</td>\n",
       "    </tr>\n",
       "    <tr>\n",
       "      <th>17</th>\n",
       "      <td>CarPort</td>\n",
       "      <td>0.0</td>\n",
       "      <td>0.0</td>\n",
       "      <td>0.0</td>\n",
       "      <td>0.0</td>\n",
       "      <td>1.0</td>\n",
       "      <td>0.0</td>\n",
       "      <td>0.0</td>\n",
       "    </tr>\n",
       "    <tr>\n",
       "      <th>39</th>\n",
       "      <td>None</td>\n",
       "      <td>0.0</td>\n",
       "      <td>0.0</td>\n",
       "      <td>0.0</td>\n",
       "      <td>0.0</td>\n",
       "      <td>0.0</td>\n",
       "      <td>0.0</td>\n",
       "      <td>1.0</td>\n",
       "    </tr>\n",
       "    <tr>\n",
       "      <th>98</th>\n",
       "      <td>Basment</td>\n",
       "      <td>0.0</td>\n",
       "      <td>0.0</td>\n",
       "      <td>1.0</td>\n",
       "      <td>0.0</td>\n",
       "      <td>0.0</td>\n",
       "      <td>0.0</td>\n",
       "      <td>0.0</td>\n",
       "    </tr>\n",
       "    <tr>\n",
       "      <th>129</th>\n",
       "      <td>2Types</td>\n",
       "      <td>1.0</td>\n",
       "      <td>0.0</td>\n",
       "      <td>0.0</td>\n",
       "      <td>0.0</td>\n",
       "      <td>0.0</td>\n",
       "      <td>0.0</td>\n",
       "      <td>0.0</td>\n",
       "    </tr>\n",
       "  </tbody>\n",
       "</table>\n",
       "</div>"
      ],
      "text/plain": [
       "    GarageType    0    1    2    3    4    5    6\n",
       "0       Attchd  0.0  1.0  0.0  0.0  0.0  0.0  0.0\n",
       "3       Detchd  0.0  0.0  0.0  0.0  0.0  1.0  0.0\n",
       "11     BuiltIn  0.0  0.0  0.0  1.0  0.0  0.0  0.0\n",
       "17     CarPort  0.0  0.0  0.0  0.0  1.0  0.0  0.0\n",
       "39        None  0.0  0.0  0.0  0.0  0.0  0.0  1.0\n",
       "98     Basment  0.0  0.0  1.0  0.0  0.0  0.0  0.0\n",
       "129     2Types  1.0  0.0  0.0  0.0  0.0  0.0  0.0"
      ]
     },
     "execution_count": 48,
     "metadata": {},
     "output_type": "execute_result"
    }
   ],
   "source": [
    "# see how one hot encoding worked \n",
    "compare_to_original.drop_duplicates()"
   ]
  },
  {
   "cell_type": "code",
   "execution_count": 49,
   "id": "dd755154-0fb3-45da-8ba6-ecc19fa62ba0",
   "metadata": {},
   "outputs": [
    {
     "data": {
      "text/plain": [
       "array(['x0_2Types', 'x0_Attchd', 'x0_Basment', 'x0_BuiltIn', 'x0_CarPort',\n",
       "       'x0_Detchd', 'x0_None'], dtype=object)"
      ]
     },
     "execution_count": 49,
     "metadata": {},
     "output_type": "execute_result"
    }
   ],
   "source": [
    "enc.get_feature_names()"
   ]
  },
  {
   "cell_type": "markdown",
   "id": "d5aeb586-7df8-4de8-b711-e8d18a080c37",
   "metadata": {},
   "source": [
    "### Categorical Transformer"
   ]
  },
  {
   "cell_type": "code",
   "execution_count": 92,
   "id": "200d3ce2-79d7-4995-81df-bfdbc097392c",
   "metadata": {},
   "outputs": [],
   "source": [
    "cat_pipeline = Pipeline(steps = [\n",
    "    ('postprocess', clean_categorical()),\n",
    "    ('onehot', OneHotEncoder(handle_unknown = 'ignore'))\n",
    "])"
   ]
  },
  {
   "cell_type": "markdown",
   "id": "df062a74-f5bc-45e2-8b7c-81918cd61c39",
   "metadata": {},
   "source": [
    "### Full Pipeline - Preprocess Training Data"
   ]
  },
  {
   "cell_type": "code",
   "execution_count": 62,
   "id": "0e56d9e7-040b-4b99-90de-5e66d681b1fc",
   "metadata": {},
   "outputs": [],
   "source": [
    "num_columns = train_num.columns.to_list()\n",
    "ordinal_columns = ['ExterQual', 'BsmtQual', 'KitchenQual', 'FireplaceQu']\n",
    "cat_columns = train_cat.drop(ordinal_columns, axis = 1).columns.to_list()"
   ]
  },
  {
   "cell_type": "code",
   "execution_count": 72,
   "id": "bb0dd513-95ac-45a0-94e4-2fa7cdd0de92",
   "metadata": {},
   "outputs": [],
   "source": [
    "class change_to_ordinal(BaseEstimator, TransformerMixin): \n",
    "    \"\"\"\n",
    "    \n",
    "    Maps qualitative columns to a numeric value. \n",
    "    \n",
    "    \"\"\"\n",
    "    \n",
    "    def fit(self, X, y = None):\n",
    "        return self\n",
    "    \n",
    "    def transform(self, X): \n",
    "        \n",
    "        quality_map = {'Ex': 5,\n",
    "                       'Gd': 4,\n",
    "                       'TA': 3, \n",
    "                       'Fa': 2, \n",
    "                       'Po': 1,\n",
    "                       'None': 0}\n",
    "        \n",
    "        lfunc = lambda x: quality_map[x]\n",
    "        vfunc = np.vectorize(lfunc)\n",
    "        \n",
    "        return vfunc(X)\n",
    "\n",
    "cat_ordinal_pipeline = Pipeline(steps = [\n",
    "    ('postprocess', clean_categorical()), \n",
    "    ('impute', SimpleImputer(strategy = 'most_frequent')),\n",
    "    ('ordinal', change_to_ordinal()),\n",
    "    ('scale', MinMaxScaler())\n",
    "])"
   ]
  },
  {
   "cell_type": "code",
   "execution_count": 93,
   "id": "07d7c5f4-3d32-4683-99b9-e5264b1b8a29",
   "metadata": {},
   "outputs": [],
   "source": [
    "#create full pipeline for numeric and categorical\n",
    "full_pipeline = ColumnTransformer([\n",
    "    (\"cat\", cat_pipeline, cat_columns),\n",
    "    (\"num\", numeric_pipeline, num_columns),\n",
    "    (\"ord\", cat_ordinal_pipeline, ordinal_columns)\n",
    "])"
   ]
  },
  {
   "cell_type": "code",
   "execution_count": 94,
   "id": "49a88db1-56db-4ced-86da-3df223b13cf7",
   "metadata": {},
   "outputs": [
    {
     "data": {
      "text/plain": [
       "<2x303 sparse matrix of type '<class 'numpy.float64'>'\n",
       "\twith 135 stored elements in Compressed Sparse Row format>"
      ]
     },
     "execution_count": 94,
     "metadata": {},
     "output_type": "execute_result"
    }
   ],
   "source": [
    "housing_prepared = full_pipeline.fit_transform(training)\n",
    "#print out first 2 rows\n",
    "housing_prepared[:2]"
   ]
  },
  {
   "cell_type": "code",
   "execution_count": 95,
   "id": "66521ae4-55f8-48ec-a2f6-e9cac41b0118",
   "metadata": {},
   "outputs": [],
   "source": [
    "#https://stackoverflow.com/questions/54646709/sklearn-pipeline-get-feature-names-after-onehotencode-in-columntransformer\n",
    "colnames_after_one_hot = full_pipeline.transformers_[0][1].named_steps['onehot'].get_feature_names().tolist()"
   ]
  },
  {
   "cell_type": "code",
   "execution_count": 96,
   "id": "549c45f1-f5bb-4a33-9167-e816298c6f36",
   "metadata": {},
   "outputs": [],
   "source": [
    "# TO DO: Find a better way to get all column names. \n",
    "all_columns = colnames_after_one_hot + num_columns + ['Remodeled'] + ['TotalArea'] + ordinal_columns"
   ]
  },
  {
   "cell_type": "code",
   "execution_count": 97,
   "id": "5ba287cc-6905-4b25-8397-83c092d6338b",
   "metadata": {},
   "outputs": [
    {
     "data": {
      "text/plain": [
       "303"
      ]
     },
     "execution_count": 97,
     "metadata": {},
     "output_type": "execute_result"
    }
   ],
   "source": [
    "len(all_columns)"
   ]
  },
  {
   "cell_type": "code",
   "execution_count": 98,
   "id": "51324eef-f058-4549-8dd7-98c0a0d5d819",
   "metadata": {},
   "outputs": [
    {
     "data": {
      "text/plain": [
       "(1460, 303)"
      ]
     },
     "execution_count": 98,
     "metadata": {},
     "output_type": "execute_result"
    }
   ],
   "source": [
    "housing_prepared.shape"
   ]
  },
  {
   "cell_type": "code",
   "execution_count": 99,
   "id": "f4f9ed63-8500-471a-96a7-f5c817551666",
   "metadata": {},
   "outputs": [
    {
     "data": {
      "text/html": [
       "<div>\n",
       "<style scoped>\n",
       "    .dataframe tbody tr th:only-of-type {\n",
       "        vertical-align: middle;\n",
       "    }\n",
       "\n",
       "    .dataframe tbody tr th {\n",
       "        vertical-align: top;\n",
       "    }\n",
       "\n",
       "    .dataframe thead th {\n",
       "        text-align: right;\n",
       "    }\n",
       "</style>\n",
       "<table border=\"1\" class=\"dataframe\">\n",
       "  <thead>\n",
       "    <tr style=\"text-align: right;\">\n",
       "      <th></th>\n",
       "      <th>x0_120</th>\n",
       "      <th>x0_160</th>\n",
       "      <th>x0_180</th>\n",
       "      <th>x0_190</th>\n",
       "      <th>x0_20</th>\n",
       "      <th>x0_30</th>\n",
       "      <th>x0_40</th>\n",
       "      <th>x0_45</th>\n",
       "      <th>x0_50</th>\n",
       "      <th>x0_60</th>\n",
       "      <th>...</th>\n",
       "      <th>PoolArea</th>\n",
       "      <th>MiscVal</th>\n",
       "      <th>MoSold</th>\n",
       "      <th>YrSold</th>\n",
       "      <th>Remodeled</th>\n",
       "      <th>TotalArea</th>\n",
       "      <th>ExterQual</th>\n",
       "      <th>BsmtQual</th>\n",
       "      <th>KitchenQual</th>\n",
       "      <th>FireplaceQu</th>\n",
       "    </tr>\n",
       "  </thead>\n",
       "  <tbody>\n",
       "    <tr>\n",
       "      <th>0</th>\n",
       "      <td>0.0</td>\n",
       "      <td>0.0</td>\n",
       "      <td>0.0</td>\n",
       "      <td>0.0</td>\n",
       "      <td>0.0</td>\n",
       "      <td>0.0</td>\n",
       "      <td>0.0</td>\n",
       "      <td>0.0</td>\n",
       "      <td>0.0</td>\n",
       "      <td>1.0</td>\n",
       "      <td>...</td>\n",
       "      <td>0.0</td>\n",
       "      <td>0.0</td>\n",
       "      <td>0.090909</td>\n",
       "      <td>0.50</td>\n",
       "      <td>0.0</td>\n",
       "      <td>0.192301</td>\n",
       "      <td>0.666667</td>\n",
       "      <td>0.8</td>\n",
       "      <td>0.666667</td>\n",
       "      <td>0.0</td>\n",
       "    </tr>\n",
       "    <tr>\n",
       "      <th>1</th>\n",
       "      <td>0.0</td>\n",
       "      <td>0.0</td>\n",
       "      <td>0.0</td>\n",
       "      <td>0.0</td>\n",
       "      <td>1.0</td>\n",
       "      <td>0.0</td>\n",
       "      <td>0.0</td>\n",
       "      <td>0.0</td>\n",
       "      <td>0.0</td>\n",
       "      <td>0.0</td>\n",
       "      <td>...</td>\n",
       "      <td>0.0</td>\n",
       "      <td>0.0</td>\n",
       "      <td>0.363636</td>\n",
       "      <td>0.25</td>\n",
       "      <td>0.0</td>\n",
       "      <td>0.208655</td>\n",
       "      <td>0.333333</td>\n",
       "      <td>0.8</td>\n",
       "      <td>0.333333</td>\n",
       "      <td>0.6</td>\n",
       "    </tr>\n",
       "    <tr>\n",
       "      <th>2</th>\n",
       "      <td>0.0</td>\n",
       "      <td>0.0</td>\n",
       "      <td>0.0</td>\n",
       "      <td>0.0</td>\n",
       "      <td>0.0</td>\n",
       "      <td>0.0</td>\n",
       "      <td>0.0</td>\n",
       "      <td>0.0</td>\n",
       "      <td>0.0</td>\n",
       "      <td>1.0</td>\n",
       "      <td>...</td>\n",
       "      <td>0.0</td>\n",
       "      <td>0.0</td>\n",
       "      <td>0.727273</td>\n",
       "      <td>0.50</td>\n",
       "      <td>1.0</td>\n",
       "      <td>0.202449</td>\n",
       "      <td>0.666667</td>\n",
       "      <td>0.8</td>\n",
       "      <td>0.666667</td>\n",
       "      <td>0.6</td>\n",
       "    </tr>\n",
       "    <tr>\n",
       "      <th>3</th>\n",
       "      <td>0.0</td>\n",
       "      <td>0.0</td>\n",
       "      <td>0.0</td>\n",
       "      <td>0.0</td>\n",
       "      <td>0.0</td>\n",
       "      <td>0.0</td>\n",
       "      <td>0.0</td>\n",
       "      <td>0.0</td>\n",
       "      <td>0.0</td>\n",
       "      <td>0.0</td>\n",
       "      <td>...</td>\n",
       "      <td>0.0</td>\n",
       "      <td>0.0</td>\n",
       "      <td>0.090909</td>\n",
       "      <td>0.00</td>\n",
       "      <td>1.0</td>\n",
       "      <td>0.182321</td>\n",
       "      <td>0.333333</td>\n",
       "      <td>0.6</td>\n",
       "      <td>0.666667</td>\n",
       "      <td>0.8</td>\n",
       "    </tr>\n",
       "    <tr>\n",
       "      <th>4</th>\n",
       "      <td>0.0</td>\n",
       "      <td>0.0</td>\n",
       "      <td>0.0</td>\n",
       "      <td>0.0</td>\n",
       "      <td>0.0</td>\n",
       "      <td>0.0</td>\n",
       "      <td>0.0</td>\n",
       "      <td>0.0</td>\n",
       "      <td>0.0</td>\n",
       "      <td>1.0</td>\n",
       "      <td>...</td>\n",
       "      <td>0.0</td>\n",
       "      <td>0.0</td>\n",
       "      <td>1.000000</td>\n",
       "      <td>0.50</td>\n",
       "      <td>0.0</td>\n",
       "      <td>0.275495</td>\n",
       "      <td>0.666667</td>\n",
       "      <td>0.8</td>\n",
       "      <td>0.666667</td>\n",
       "      <td>0.6</td>\n",
       "    </tr>\n",
       "  </tbody>\n",
       "</table>\n",
       "<p>5 rows × 303 columns</p>\n",
       "</div>"
      ],
      "text/plain": [
       "   x0_120  x0_160  x0_180  x0_190  x0_20  x0_30  x0_40  x0_45  x0_50  x0_60  \\\n",
       "0     0.0     0.0     0.0     0.0    0.0    0.0    0.0    0.0    0.0    1.0   \n",
       "1     0.0     0.0     0.0     0.0    1.0    0.0    0.0    0.0    0.0    0.0   \n",
       "2     0.0     0.0     0.0     0.0    0.0    0.0    0.0    0.0    0.0    1.0   \n",
       "3     0.0     0.0     0.0     0.0    0.0    0.0    0.0    0.0    0.0    0.0   \n",
       "4     0.0     0.0     0.0     0.0    0.0    0.0    0.0    0.0    0.0    1.0   \n",
       "\n",
       "   ...  PoolArea  MiscVal    MoSold  YrSold  Remodeled  TotalArea  ExterQual  \\\n",
       "0  ...       0.0      0.0  0.090909    0.50        0.0   0.192301   0.666667   \n",
       "1  ...       0.0      0.0  0.363636    0.25        0.0   0.208655   0.333333   \n",
       "2  ...       0.0      0.0  0.727273    0.50        1.0   0.202449   0.666667   \n",
       "3  ...       0.0      0.0  0.090909    0.00        1.0   0.182321   0.333333   \n",
       "4  ...       0.0      0.0  1.000000    0.50        0.0   0.275495   0.666667   \n",
       "\n",
       "   BsmtQual  KitchenQual  FireplaceQu  \n",
       "0       0.8     0.666667          0.0  \n",
       "1       0.8     0.333333          0.6  \n",
       "2       0.8     0.666667          0.6  \n",
       "3       0.6     0.666667          0.8  \n",
       "4       0.8     0.666667          0.6  \n",
       "\n",
       "[5 rows x 303 columns]"
      ]
     },
     "execution_count": 99,
     "metadata": {},
     "output_type": "execute_result"
    }
   ],
   "source": [
    "# add back column names and change into dataframe\n",
    "housing_df = pd.DataFrame(housing_prepared.todense(), columns = all_columns)\n",
    "housing_df.head()"
   ]
  },
  {
   "cell_type": "code",
   "execution_count": 100,
   "id": "9d569f62-30b0-47b7-aa4c-7649bc77838c",
   "metadata": {},
   "outputs": [],
   "source": [
    "#save data\n",
    "housing_df.to_pickle('cleaned_data/training_cleaned.pkl')\n",
    "housing_df.to_csv('cleaned_data/training_cleaned.csv')"
   ]
  },
  {
   "cell_type": "code",
   "execution_count": 101,
   "id": "ac45adda-8f22-4ecd-aa29-2a21f4d25662",
   "metadata": {},
   "outputs": [],
   "source": [
    "prices.to_pickle('cleaned_data/training_prices.pkl')"
   ]
  },
  {
   "cell_type": "markdown",
   "id": "74e76084-717d-4255-9af1-2a3482c65d1b",
   "metadata": {},
   "source": [
    "### Full Pipeline - Preprocess Test Data"
   ]
  },
  {
   "cell_type": "code",
   "execution_count": 102,
   "id": "a9e963c4-a575-466d-af7a-22677f4c9707",
   "metadata": {},
   "outputs": [],
   "source": [
    "#read in dataset\n",
    "test = pd.read_csv('data/test.csv')\n",
    "test.head()\n",
    "\n",
    "#drop these columns from test set \n",
    "drop_columns = ['Id', 'GarageYrBlt'] \n",
    "test = test.drop(drop_columns, axis = 1)"
   ]
  },
  {
   "cell_type": "code",
   "execution_count": 103,
   "id": "5d71a906-97e4-4737-b42b-9b825f908487",
   "metadata": {},
   "outputs": [
    {
     "data": {
      "text/plain": [
       "(1459, 78)"
      ]
     },
     "execution_count": 103,
     "metadata": {},
     "output_type": "execute_result"
    }
   ],
   "source": [
    "test.shape"
   ]
  },
  {
   "cell_type": "code",
   "execution_count": 104,
   "id": "a4e960b4-7c78-4c35-a61a-0e6beeb8de0e",
   "metadata": {},
   "outputs": [
    {
     "data": {
      "text/plain": [
       "<2x303 sparse matrix of type '<class 'numpy.float64'>'\n",
       "\twith 134 stored elements in Compressed Sparse Row format>"
      ]
     },
     "execution_count": 104,
     "metadata": {},
     "output_type": "execute_result"
    }
   ],
   "source": [
    "#run test data through pipeline\n",
    "test_prepared = full_pipeline.transform(test)\n",
    "#print out first 2 rows\n",
    "test_prepared[:2]"
   ]
  },
  {
   "cell_type": "code",
   "execution_count": 105,
   "id": "60799dca-a074-407c-87a4-9aea3379b3c5",
   "metadata": {},
   "outputs": [
    {
     "data": {
      "text/html": [
       "<div>\n",
       "<style scoped>\n",
       "    .dataframe tbody tr th:only-of-type {\n",
       "        vertical-align: middle;\n",
       "    }\n",
       "\n",
       "    .dataframe tbody tr th {\n",
       "        vertical-align: top;\n",
       "    }\n",
       "\n",
       "    .dataframe thead th {\n",
       "        text-align: right;\n",
       "    }\n",
       "</style>\n",
       "<table border=\"1\" class=\"dataframe\">\n",
       "  <thead>\n",
       "    <tr style=\"text-align: right;\">\n",
       "      <th></th>\n",
       "      <th>x0_120</th>\n",
       "      <th>x0_160</th>\n",
       "      <th>x0_180</th>\n",
       "      <th>x0_190</th>\n",
       "      <th>x0_20</th>\n",
       "      <th>x0_30</th>\n",
       "      <th>x0_40</th>\n",
       "      <th>x0_45</th>\n",
       "      <th>x0_50</th>\n",
       "      <th>x0_60</th>\n",
       "      <th>...</th>\n",
       "      <th>PoolArea</th>\n",
       "      <th>MiscVal</th>\n",
       "      <th>MoSold</th>\n",
       "      <th>YrSold</th>\n",
       "      <th>Remodeled</th>\n",
       "      <th>TotalArea</th>\n",
       "      <th>ExterQual</th>\n",
       "      <th>BsmtQual</th>\n",
       "      <th>KitchenQual</th>\n",
       "      <th>FireplaceQu</th>\n",
       "    </tr>\n",
       "  </thead>\n",
       "  <tbody>\n",
       "    <tr>\n",
       "      <th>0</th>\n",
       "      <td>0.0</td>\n",
       "      <td>0.0</td>\n",
       "      <td>0.0</td>\n",
       "      <td>0.0</td>\n",
       "      <td>1.0</td>\n",
       "      <td>0.0</td>\n",
       "      <td>0.0</td>\n",
       "      <td>0.0</td>\n",
       "      <td>0.0</td>\n",
       "      <td>0.0</td>\n",
       "      <td>...</td>\n",
       "      <td>0.0</td>\n",
       "      <td>0.000000</td>\n",
       "      <td>0.454545</td>\n",
       "      <td>1.0</td>\n",
       "      <td>0.0</td>\n",
       "      <td>0.132841</td>\n",
       "      <td>0.333333</td>\n",
       "      <td>0.6</td>\n",
       "      <td>0.333333</td>\n",
       "      <td>0.0</td>\n",
       "    </tr>\n",
       "    <tr>\n",
       "      <th>1</th>\n",
       "      <td>0.0</td>\n",
       "      <td>0.0</td>\n",
       "      <td>0.0</td>\n",
       "      <td>0.0</td>\n",
       "      <td>1.0</td>\n",
       "      <td>0.0</td>\n",
       "      <td>0.0</td>\n",
       "      <td>0.0</td>\n",
       "      <td>0.0</td>\n",
       "      <td>0.0</td>\n",
       "      <td>...</td>\n",
       "      <td>0.0</td>\n",
       "      <td>0.806452</td>\n",
       "      <td>0.454545</td>\n",
       "      <td>1.0</td>\n",
       "      <td>0.0</td>\n",
       "      <td>0.230879</td>\n",
       "      <td>0.333333</td>\n",
       "      <td>0.6</td>\n",
       "      <td>0.666667</td>\n",
       "      <td>0.0</td>\n",
       "    </tr>\n",
       "    <tr>\n",
       "      <th>2</th>\n",
       "      <td>0.0</td>\n",
       "      <td>0.0</td>\n",
       "      <td>0.0</td>\n",
       "      <td>0.0</td>\n",
       "      <td>0.0</td>\n",
       "      <td>0.0</td>\n",
       "      <td>0.0</td>\n",
       "      <td>0.0</td>\n",
       "      <td>0.0</td>\n",
       "      <td>1.0</td>\n",
       "      <td>...</td>\n",
       "      <td>0.0</td>\n",
       "      <td>0.000000</td>\n",
       "      <td>0.181818</td>\n",
       "      <td>1.0</td>\n",
       "      <td>1.0</td>\n",
       "      <td>0.207061</td>\n",
       "      <td>0.333333</td>\n",
       "      <td>0.8</td>\n",
       "      <td>0.333333</td>\n",
       "      <td>0.6</td>\n",
       "    </tr>\n",
       "    <tr>\n",
       "      <th>3</th>\n",
       "      <td>0.0</td>\n",
       "      <td>0.0</td>\n",
       "      <td>0.0</td>\n",
       "      <td>0.0</td>\n",
       "      <td>0.0</td>\n",
       "      <td>0.0</td>\n",
       "      <td>0.0</td>\n",
       "      <td>0.0</td>\n",
       "      <td>0.0</td>\n",
       "      <td>1.0</td>\n",
       "      <td>...</td>\n",
       "      <td>0.0</td>\n",
       "      <td>0.000000</td>\n",
       "      <td>0.454545</td>\n",
       "      <td>1.0</td>\n",
       "      <td>0.0</td>\n",
       "      <td>0.217377</td>\n",
       "      <td>0.333333</td>\n",
       "      <td>0.6</td>\n",
       "      <td>0.666667</td>\n",
       "      <td>0.8</td>\n",
       "    </tr>\n",
       "    <tr>\n",
       "      <th>4</th>\n",
       "      <td>1.0</td>\n",
       "      <td>0.0</td>\n",
       "      <td>0.0</td>\n",
       "      <td>0.0</td>\n",
       "      <td>0.0</td>\n",
       "      <td>0.0</td>\n",
       "      <td>0.0</td>\n",
       "      <td>0.0</td>\n",
       "      <td>0.0</td>\n",
       "      <td>0.0</td>\n",
       "      <td>...</td>\n",
       "      <td>0.0</td>\n",
       "      <td>0.000000</td>\n",
       "      <td>0.000000</td>\n",
       "      <td>1.0</td>\n",
       "      <td>0.0</td>\n",
       "      <td>0.193559</td>\n",
       "      <td>0.666667</td>\n",
       "      <td>0.8</td>\n",
       "      <td>0.666667</td>\n",
       "      <td>0.0</td>\n",
       "    </tr>\n",
       "  </tbody>\n",
       "</table>\n",
       "<p>5 rows × 303 columns</p>\n",
       "</div>"
      ],
      "text/plain": [
       "   x0_120  x0_160  x0_180  x0_190  x0_20  x0_30  x0_40  x0_45  x0_50  x0_60  \\\n",
       "0     0.0     0.0     0.0     0.0    1.0    0.0    0.0    0.0    0.0    0.0   \n",
       "1     0.0     0.0     0.0     0.0    1.0    0.0    0.0    0.0    0.0    0.0   \n",
       "2     0.0     0.0     0.0     0.0    0.0    0.0    0.0    0.0    0.0    1.0   \n",
       "3     0.0     0.0     0.0     0.0    0.0    0.0    0.0    0.0    0.0    1.0   \n",
       "4     1.0     0.0     0.0     0.0    0.0    0.0    0.0    0.0    0.0    0.0   \n",
       "\n",
       "   ...  PoolArea   MiscVal    MoSold  YrSold  Remodeled  TotalArea  ExterQual  \\\n",
       "0  ...       0.0  0.000000  0.454545     1.0        0.0   0.132841   0.333333   \n",
       "1  ...       0.0  0.806452  0.454545     1.0        0.0   0.230879   0.333333   \n",
       "2  ...       0.0  0.000000  0.181818     1.0        1.0   0.207061   0.333333   \n",
       "3  ...       0.0  0.000000  0.454545     1.0        0.0   0.217377   0.333333   \n",
       "4  ...       0.0  0.000000  0.000000     1.0        0.0   0.193559   0.666667   \n",
       "\n",
       "   BsmtQual  KitchenQual  FireplaceQu  \n",
       "0       0.6     0.333333          0.0  \n",
       "1       0.6     0.666667          0.0  \n",
       "2       0.8     0.333333          0.6  \n",
       "3       0.6     0.666667          0.8  \n",
       "4       0.8     0.666667          0.0  \n",
       "\n",
       "[5 rows x 303 columns]"
      ]
     },
     "execution_count": 105,
     "metadata": {},
     "output_type": "execute_result"
    }
   ],
   "source": [
    "# add back column names and change into dataframe\n",
    "test_df = pd.DataFrame(test_prepared.todense(), columns = all_columns)\n",
    "test_df.head()"
   ]
  },
  {
   "cell_type": "code",
   "execution_count": 106,
   "id": "77af5413-0d4f-40e2-93e2-dd92b13c97b2",
   "metadata": {},
   "outputs": [
    {
     "data": {
      "text/plain": [
       "(1459, 303)"
      ]
     },
     "execution_count": 106,
     "metadata": {},
     "output_type": "execute_result"
    }
   ],
   "source": [
    "test_df.shape"
   ]
  },
  {
   "cell_type": "code",
   "execution_count": 107,
   "id": "dc8ea788-ce4b-4266-ba82-42080887254c",
   "metadata": {},
   "outputs": [],
   "source": [
    "#save data\n",
    "test_df.to_pickle('cleaned_data/test_cleaned.pkl')\n",
    "test_df.to_csv('cleaned_data/test_cleaned.csv')"
   ]
  },
  {
   "cell_type": "code",
   "execution_count": null,
   "id": "0bab196d-21b9-4de9-91f9-ff1fb5aaff58",
   "metadata": {},
   "outputs": [],
   "source": []
  }
 ],
 "metadata": {
  "kernelspec": {
   "display_name": "venv",
   "language": "python",
   "name": "venv"
  },
  "language_info": {
   "codemirror_mode": {
    "name": "ipython",
    "version": 3
   },
   "file_extension": ".py",
   "mimetype": "text/x-python",
   "name": "python",
   "nbconvert_exporter": "python",
   "pygments_lexer": "ipython3",
   "version": "3.9.1"
  }
 },
 "nbformat": 4,
 "nbformat_minor": 5
}
